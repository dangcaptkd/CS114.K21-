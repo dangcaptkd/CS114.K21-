{
  "nbformat": 4,
  "nbformat_minor": 0,
  "metadata": {
    "colab": {
      "name": "18521322-kiem tra gia ky cs114.ipynb",
      "provenance": [],
      "authorship_tag": "ABX9TyNPt5DUjNAekRdN8zu3QQhv",
      "include_colab_link": true
    },
    "kernelspec": {
      "name": "python3",
      "display_name": "Python 3"
    }
  },
  "cells": [
    {
      "cell_type": "markdown",
      "metadata": {
        "id": "view-in-github",
        "colab_type": "text"
      },
      "source": [
        "<a href=\"https://colab.research.google.com/github/dangcaptkd/CS114.K21-/blob/master/18521322_kiem_tra_gia_ky_cs114.ipynb\" target=\"_parent\"><img src=\"https://colab.research.google.com/assets/colab-badge.svg\" alt=\"Open In Colab\"/></a>"
      ]
    },
    {
      "cell_type": "code",
      "metadata": {
        "id": "TVZ1TDpBs2DP",
        "colab_type": "code",
        "colab": {}
      },
      "source": [
        "import pandas as pd\n",
        "import numpy as np"
      ],
      "execution_count": 0,
      "outputs": []
    },
    {
      "cell_type": "markdown",
      "metadata": {
        "id": "6Spphvkwvi7W",
        "colab_type": "text"
      },
      "source": [
        "Read data"
      ]
    },
    {
      "cell_type": "code",
      "metadata": {
        "id": "ENLDoslKtLs6",
        "colab_type": "code",
        "colab": {
          "base_uri": "https://localhost:8080/",
          "height": 204
        },
        "outputId": "41371860-4f1d-4acc-9f80-9a8219ccf26b"
      },
      "source": [
        "url = 'http://cs.uit.edu.vn/data2.txt'\n",
        "names = ['size', 'time']\n",
        "dataset = pd.read_csv(url, names=names)\n",
        "dataset.head()"
      ],
      "execution_count": 2,
      "outputs": [
        {
          "output_type": "execute_result",
          "data": {
            "text/html": [
              "<div>\n",
              "<style scoped>\n",
              "    .dataframe tbody tr th:only-of-type {\n",
              "        vertical-align: middle;\n",
              "    }\n",
              "\n",
              "    .dataframe tbody tr th {\n",
              "        vertical-align: top;\n",
              "    }\n",
              "\n",
              "    .dataframe thead th {\n",
              "        text-align: right;\n",
              "    }\n",
              "</style>\n",
              "<table border=\"1\" class=\"dataframe\">\n",
              "  <thead>\n",
              "    <tr style=\"text-align: right;\">\n",
              "      <th></th>\n",
              "      <th>size</th>\n",
              "      <th>time</th>\n",
              "    </tr>\n",
              "  </thead>\n",
              "  <tbody>\n",
              "    <tr>\n",
              "      <th>0</th>\n",
              "      <td>6083695</td>\n",
              "      <td>0.521842</td>\n",
              "    </tr>\n",
              "    <tr>\n",
              "      <th>1</th>\n",
              "      <td>1954367</td>\n",
              "      <td>0.152648</td>\n",
              "    </tr>\n",
              "    <tr>\n",
              "      <th>2</th>\n",
              "      <td>3734185</td>\n",
              "      <td>0.298548</td>\n",
              "    </tr>\n",
              "    <tr>\n",
              "      <th>3</th>\n",
              "      <td>5839301</td>\n",
              "      <td>0.460480</td>\n",
              "    </tr>\n",
              "    <tr>\n",
              "      <th>4</th>\n",
              "      <td>6343427</td>\n",
              "      <td>0.527977</td>\n",
              "    </tr>\n",
              "  </tbody>\n",
              "</table>\n",
              "</div>"
            ],
            "text/plain": [
              "      size      time\n",
              "0  6083695  0.521842\n",
              "1  1954367  0.152648\n",
              "2  3734185  0.298548\n",
              "3  5839301  0.460480\n",
              "4  6343427  0.527977"
            ]
          },
          "metadata": {
            "tags": []
          },
          "execution_count": 2
        }
      ]
    },
    {
      "cell_type": "markdown",
      "metadata": {
        "id": "NRo8wnN2v-75",
        "colab_type": "text"
      },
      "source": [
        "split feature and label"
      ]
    },
    {
      "cell_type": "code",
      "metadata": {
        "id": "74yf_vvUtTjf",
        "colab_type": "code",
        "colab": {}
      },
      "source": [
        "data = dataset.values\n",
        "x= data[:,0]\n",
        "y = data[:,1]"
      ],
      "execution_count": 0,
      "outputs": []
    },
    {
      "cell_type": "code",
      "metadata": {
        "id": "7m8vzR9eu9KA",
        "colab_type": "code",
        "colab": {
          "base_uri": "https://localhost:8080/",
          "height": 34
        },
        "outputId": "e849c762-8ded-42d8-edfc-7b76f720afb7"
      },
      "source": [
        ""
      ],
      "execution_count": 14,
      "outputs": [
        {
          "output_type": "execute_result",
          "data": {
            "text/plain": [
              "array([6083695., 1954367., 3734185., ..., 9837364., 9466593., 4080801.])"
            ]
          },
          "metadata": {
            "tags": []
          },
          "execution_count": 14
        }
      ]
    },
    {
      "cell_type": "code",
      "metadata": {
        "id": "NTeA4dF0tnyF",
        "colab_type": "code",
        "colab": {}
      },
      "source": [
        "from sklearn.linear_model import LinearRegression\n",
        "from sklearn.metrics import mean_absolute_error\n",
        "from sklearn.model_selection import train_test_split"
      ],
      "execution_count": 0,
      "outputs": []
    },
    {
      "cell_type": "markdown",
      "metadata": {
        "id": "oFz_FB68vnJ6",
        "colab_type": "text"
      },
      "source": [
        "split data"
      ]
    },
    {
      "cell_type": "code",
      "metadata": {
        "id": "5x2R7tYXt27_",
        "colab_type": "code",
        "colab": {}
      },
      "source": [
        "x_train, x_test, y_train, y_test = train_test_split(x, y, test_size=0.2)"
      ],
      "execution_count": 0,
      "outputs": []
    },
    {
      "cell_type": "markdown",
      "metadata": {
        "id": "06do2qpSvsqO",
        "colab_type": "text"
      },
      "source": [
        "reshape "
      ]
    },
    {
      "cell_type": "code",
      "metadata": {
        "id": "yaqZUBCCvD9z",
        "colab_type": "code",
        "colab": {}
      },
      "source": [
        "x_train = x_train.reshape(-1, 1)\n",
        "x_test = x_test.reshape(-1, 1)\n",
        "y_train = y_train.reshape(-1, 1)\n",
        "y_test = y_test.reshape(-1, 1)"
      ],
      "execution_count": 0,
      "outputs": []
    },
    {
      "cell_type": "markdown",
      "metadata": {
        "id": "_yOEa6Y4vxXg",
        "colab_type": "text"
      },
      "source": [
        "show shape"
      ]
    },
    {
      "cell_type": "code",
      "metadata": {
        "id": "lH_IUHLUuSJk",
        "colab_type": "code",
        "colab": {
          "base_uri": "https://localhost:8080/",
          "height": 85
        },
        "outputId": "5a0c2b6c-a5d9-4261-c493-95957f94e33e"
      },
      "source": [
        "print(x_train.shape)\n",
        "print(y_train.shape)\n",
        "print(x_test.shape)\n",
        "print(y_test.shape)"
      ],
      "execution_count": 17,
      "outputs": [
        {
          "output_type": "stream",
          "text": [
            "(56892, 1)\n",
            "(56892, 1)\n",
            "(14223, 1)\n",
            "(14223, 1)\n"
          ],
          "name": "stdout"
        }
      ]
    },
    {
      "cell_type": "markdown",
      "metadata": {
        "id": "mfeHDvIcv1_f",
        "colab_type": "text"
      },
      "source": [
        "train model and show mae"
      ]
    },
    {
      "cell_type": "code",
      "metadata": {
        "id": "aHdXif0qt-RI",
        "colab_type": "code",
        "colab": {
          "base_uri": "https://localhost:8080/",
          "height": 34
        },
        "outputId": "cbbd4aef-f756-4726-e4af-3c39f1df5a39"
      },
      "source": [
        "model = LinearRegression()\n",
        "model.fit(x_train, y_train)\n",
        "pred = model.predict(x_test)\n",
        "mae = mean_absolute_error(y_test, pred)\n",
        "print(mae)"
      ],
      "execution_count": 18,
      "outputs": [
        {
          "output_type": "stream",
          "text": [
            "0.00825595506569769\n"
          ],
          "name": "stdout"
        }
      ]
    },
    {
      "cell_type": "markdown",
      "metadata": {
        "id": "9JODm1KjwYR8",
        "colab_type": "text"
      },
      "source": [
        "**Trả lời câu hỏi**"
      ]
    },
    {
      "cell_type": "markdown",
      "metadata": {
        "id": "wF5MEHJHwcBA",
        "colab_type": "text"
      },
      "source": [
        "1. lấy model, dùng pd.read_csv\n",
        "2. Chọn model: thầy bảo dùng LinearRegression\n",
        "   train: model.fit(x_train, y_train)\n",
        "3. predict model thế nào: model.predict\n",
        "4. Theo em thì thấy tốt ạ, bài này e đã làm bằng cách add thêm các cột size^2, size*log(size) nhưng mae chỉ bằng 0.02, ở bài này em dc mae=0.008. tức là tốt hơn rồi ạ!"
      ]
    }
  ]
}
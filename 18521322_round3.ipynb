{
  "nbformat": 4,
  "nbformat_minor": 0,
  "metadata": {
    "colab": {
      "name": "18521322-round3.ipynb",
      "provenance": [],
      "authorship_tag": "ABX9TyNdfFfO9aonwXGCx/9gwGMo",
      "include_colab_link": true
    },
    "kernelspec": {
      "name": "python3",
      "display_name": "Python 3"
    }
  },
  "cells": [
    {
      "cell_type": "markdown",
      "metadata": {
        "id": "view-in-github",
        "colab_type": "text"
      },
      "source": [
        "<a href=\"https://colab.research.google.com/github/dangcaptkd/CS114.K21-/blob/master/18521322_round3.ipynb\" target=\"_parent\"><img src=\"https://colab.research.google.com/assets/colab-badge.svg\" alt=\"Open In Colab\"/></a>"
      ]
    },
    {
      "cell_type": "code",
      "metadata": {
        "id": "e-sTJc9n2Dws",
        "colab_type": "code",
        "colab": {
          "base_uri": "https://localhost:8080/",
          "height": 34
        },
        "outputId": "e94ed581-6e30-4382-a12b-e6652fc10dfd"
      },
      "source": [
        "import pandas as pd\n",
        "import numpy as np\n",
        "url = 'http://cs.uit.edu.vn/data3.txt'\n",
        "names = ['size', 'time']\n",
        "dataset = pd.read_csv(url, names=names)\n",
        "dataset.head()\n",
        "data = dataset.values\n",
        "x= data[:,0]\n",
        "y = data[:,1]\n",
        "from sklearn.linear_model import LinearRegression\n",
        "from sklearn.metrics import mean_absolute_error\n",
        "from sklearn.model_selection import train_test_split\n",
        "x_train, x_test, y_train, y_test = train_test_split(x, y, test_size=0.2)\n",
        "x_train = x_train.reshape(-1, 1)\n",
        "x_test = x_test.reshape(-1, 1)\n",
        "y_train = y_train.reshape(-1, 1)\n",
        "y_test = y_test.reshape(-1, 1)\n",
        "model = LinearRegression()\n",
        "model.fit(x_train, y_train)\n",
        "pred = model.predict(x_test)\n",
        "mae = mean_absolute_error(y_test, pred)\n",
        "print(mae)"
      ],
      "execution_count": 11,
      "outputs": [
        {
          "output_type": "stream",
          "text": [
            "0.042377986732462146\n"
          ],
          "name": "stdout"
        }
      ]
    },
    {
      "cell_type": "code",
      "metadata": {
        "id": "MtAcruPsz2l8",
        "colab_type": "code",
        "colab": {
          "base_uri": "https://localhost:8080/",
          "height": 419
        },
        "outputId": "e129dd3a-4494-4409-ff29-b06128117ca7"
      },
      "source": [
        "dataset['size2'] = dataset['size']*dataset['size']\n",
        "dataset['sizeLogsize'] = dataset['size']*np.log10(dataset['size'])\n",
        "dataset "
      ],
      "execution_count": 12,
      "outputs": [
        {
          "output_type": "execute_result",
          "data": {
            "text/html": [
              "<div>\n",
              "<style scoped>\n",
              "    .dataframe tbody tr th:only-of-type {\n",
              "        vertical-align: middle;\n",
              "    }\n",
              "\n",
              "    .dataframe tbody tr th {\n",
              "        vertical-align: top;\n",
              "    }\n",
              "\n",
              "    .dataframe thead th {\n",
              "        text-align: right;\n",
              "    }\n",
              "</style>\n",
              "<table border=\"1\" class=\"dataframe\">\n",
              "  <thead>\n",
              "    <tr style=\"text-align: right;\">\n",
              "      <th></th>\n",
              "      <th>size</th>\n",
              "      <th>time</th>\n",
              "      <th>size2</th>\n",
              "      <th>sizeLogsize</th>\n",
              "    </tr>\n",
              "  </thead>\n",
              "  <tbody>\n",
              "    <tr>\n",
              "      <th>0</th>\n",
              "      <td>37837612</td>\n",
              "      <td>4.12166</td>\n",
              "      <td>1431684881862544</td>\n",
              "      <td>2.867305e+08</td>\n",
              "    </tr>\n",
              "    <tr>\n",
              "      <th>1</th>\n",
              "      <td>37395246</td>\n",
              "      <td>3.92089</td>\n",
              "      <td>1398404423400516</td>\n",
              "      <td>2.831873e+08</td>\n",
              "    </tr>\n",
              "    <tr>\n",
              "      <th>2</th>\n",
              "      <td>36610827</td>\n",
              "      <td>3.21540</td>\n",
              "      <td>1340352653623929</td>\n",
              "      <td>2.769100e+08</td>\n",
              "    </tr>\n",
              "    <tr>\n",
              "      <th>3</th>\n",
              "      <td>29555651</td>\n",
              "      <td>2.54506</td>\n",
              "      <td>873536506033801</td>\n",
              "      <td>2.207996e+08</td>\n",
              "    </tr>\n",
              "    <tr>\n",
              "      <th>4</th>\n",
              "      <td>25928216</td>\n",
              "      <td>2.21831</td>\n",
              "      <td>672272384942656</td>\n",
              "      <td>1.922259e+08</td>\n",
              "    </tr>\n",
              "    <tr>\n",
              "      <th>...</th>\n",
              "      <td>...</td>\n",
              "      <td>...</td>\n",
              "      <td>...</td>\n",
              "      <td>...</td>\n",
              "    </tr>\n",
              "    <tr>\n",
              "      <th>10585</th>\n",
              "      <td>26872494</td>\n",
              "      <td>2.35117</td>\n",
              "      <td>722130933780036</td>\n",
              "      <td>1.996440e+08</td>\n",
              "    </tr>\n",
              "    <tr>\n",
              "      <th>10586</th>\n",
              "      <td>20753811</td>\n",
              "      <td>1.79155</td>\n",
              "      <td>430720671023721</td>\n",
              "      <td>1.518577e+08</td>\n",
              "    </tr>\n",
              "    <tr>\n",
              "      <th>10587</th>\n",
              "      <td>33520323</td>\n",
              "      <td>2.90918</td>\n",
              "      <td>1123612054024329</td>\n",
              "      <td>2.522508e+08</td>\n",
              "    </tr>\n",
              "    <tr>\n",
              "      <th>10588</th>\n",
              "      <td>21243264</td>\n",
              "      <td>1.80292</td>\n",
              "      <td>451276265373696</td>\n",
              "      <td>1.556541e+08</td>\n",
              "    </tr>\n",
              "    <tr>\n",
              "      <th>10589</th>\n",
              "      <td>21380484</td>\n",
              "      <td>1.82795</td>\n",
              "      <td>457125096074256</td>\n",
              "      <td>1.567193e+08</td>\n",
              "    </tr>\n",
              "  </tbody>\n",
              "</table>\n",
              "<p>10590 rows × 4 columns</p>\n",
              "</div>"
            ],
            "text/plain": [
              "           size     time             size2   sizeLogsize\n",
              "0      37837612  4.12166  1431684881862544  2.867305e+08\n",
              "1      37395246  3.92089  1398404423400516  2.831873e+08\n",
              "2      36610827  3.21540  1340352653623929  2.769100e+08\n",
              "3      29555651  2.54506   873536506033801  2.207996e+08\n",
              "4      25928216  2.21831   672272384942656  1.922259e+08\n",
              "...         ...      ...               ...           ...\n",
              "10585  26872494  2.35117   722130933780036  1.996440e+08\n",
              "10586  20753811  1.79155   430720671023721  1.518577e+08\n",
              "10587  33520323  2.90918  1123612054024329  2.522508e+08\n",
              "10588  21243264  1.80292   451276265373696  1.556541e+08\n",
              "10589  21380484  1.82795   457125096074256  1.567193e+08\n",
              "\n",
              "[10590 rows x 4 columns]"
            ]
          },
          "metadata": {
            "tags": []
          },
          "execution_count": 12
        }
      ]
    },
    {
      "cell_type": "code",
      "metadata": {
        "id": "MK7BtOCz0I_r",
        "colab_type": "code",
        "colab": {
          "base_uri": "https://localhost:8080/",
          "height": 419
        },
        "outputId": "e52e7098-71bc-4039-cfb8-da321ac9ec26"
      },
      "source": [
        "dataset = pd.DataFrame(dataset, columns=['size2', 'sizeLogsize', 'size', 'time'])\n",
        "dataset"
      ],
      "execution_count": 13,
      "outputs": [
        {
          "output_type": "execute_result",
          "data": {
            "text/html": [
              "<div>\n",
              "<style scoped>\n",
              "    .dataframe tbody tr th:only-of-type {\n",
              "        vertical-align: middle;\n",
              "    }\n",
              "\n",
              "    .dataframe tbody tr th {\n",
              "        vertical-align: top;\n",
              "    }\n",
              "\n",
              "    .dataframe thead th {\n",
              "        text-align: right;\n",
              "    }\n",
              "</style>\n",
              "<table border=\"1\" class=\"dataframe\">\n",
              "  <thead>\n",
              "    <tr style=\"text-align: right;\">\n",
              "      <th></th>\n",
              "      <th>size2</th>\n",
              "      <th>sizeLogsize</th>\n",
              "      <th>size</th>\n",
              "      <th>time</th>\n",
              "    </tr>\n",
              "  </thead>\n",
              "  <tbody>\n",
              "    <tr>\n",
              "      <th>0</th>\n",
              "      <td>1431684881862544</td>\n",
              "      <td>2.867305e+08</td>\n",
              "      <td>37837612</td>\n",
              "      <td>4.12166</td>\n",
              "    </tr>\n",
              "    <tr>\n",
              "      <th>1</th>\n",
              "      <td>1398404423400516</td>\n",
              "      <td>2.831873e+08</td>\n",
              "      <td>37395246</td>\n",
              "      <td>3.92089</td>\n",
              "    </tr>\n",
              "    <tr>\n",
              "      <th>2</th>\n",
              "      <td>1340352653623929</td>\n",
              "      <td>2.769100e+08</td>\n",
              "      <td>36610827</td>\n",
              "      <td>3.21540</td>\n",
              "    </tr>\n",
              "    <tr>\n",
              "      <th>3</th>\n",
              "      <td>873536506033801</td>\n",
              "      <td>2.207996e+08</td>\n",
              "      <td>29555651</td>\n",
              "      <td>2.54506</td>\n",
              "    </tr>\n",
              "    <tr>\n",
              "      <th>4</th>\n",
              "      <td>672272384942656</td>\n",
              "      <td>1.922259e+08</td>\n",
              "      <td>25928216</td>\n",
              "      <td>2.21831</td>\n",
              "    </tr>\n",
              "    <tr>\n",
              "      <th>...</th>\n",
              "      <td>...</td>\n",
              "      <td>...</td>\n",
              "      <td>...</td>\n",
              "      <td>...</td>\n",
              "    </tr>\n",
              "    <tr>\n",
              "      <th>10585</th>\n",
              "      <td>722130933780036</td>\n",
              "      <td>1.996440e+08</td>\n",
              "      <td>26872494</td>\n",
              "      <td>2.35117</td>\n",
              "    </tr>\n",
              "    <tr>\n",
              "      <th>10586</th>\n",
              "      <td>430720671023721</td>\n",
              "      <td>1.518577e+08</td>\n",
              "      <td>20753811</td>\n",
              "      <td>1.79155</td>\n",
              "    </tr>\n",
              "    <tr>\n",
              "      <th>10587</th>\n",
              "      <td>1123612054024329</td>\n",
              "      <td>2.522508e+08</td>\n",
              "      <td>33520323</td>\n",
              "      <td>2.90918</td>\n",
              "    </tr>\n",
              "    <tr>\n",
              "      <th>10588</th>\n",
              "      <td>451276265373696</td>\n",
              "      <td>1.556541e+08</td>\n",
              "      <td>21243264</td>\n",
              "      <td>1.80292</td>\n",
              "    </tr>\n",
              "    <tr>\n",
              "      <th>10589</th>\n",
              "      <td>457125096074256</td>\n",
              "      <td>1.567193e+08</td>\n",
              "      <td>21380484</td>\n",
              "      <td>1.82795</td>\n",
              "    </tr>\n",
              "  </tbody>\n",
              "</table>\n",
              "<p>10590 rows × 4 columns</p>\n",
              "</div>"
            ],
            "text/plain": [
              "                  size2   sizeLogsize      size     time\n",
              "0      1431684881862544  2.867305e+08  37837612  4.12166\n",
              "1      1398404423400516  2.831873e+08  37395246  3.92089\n",
              "2      1340352653623929  2.769100e+08  36610827  3.21540\n",
              "3       873536506033801  2.207996e+08  29555651  2.54506\n",
              "4       672272384942656  1.922259e+08  25928216  2.21831\n",
              "...                 ...           ...       ...      ...\n",
              "10585   722130933780036  1.996440e+08  26872494  2.35117\n",
              "10586   430720671023721  1.518577e+08  20753811  1.79155\n",
              "10587  1123612054024329  2.522508e+08  33520323  2.90918\n",
              "10588   451276265373696  1.556541e+08  21243264  1.80292\n",
              "10589   457125096074256  1.567193e+08  21380484  1.82795\n",
              "\n",
              "[10590 rows x 4 columns]"
            ]
          },
          "metadata": {
            "tags": []
          },
          "execution_count": 13
        }
      ]
    },
    {
      "cell_type": "code",
      "metadata": {
        "id": "vQPsm2Zm0Q6s",
        "colab_type": "code",
        "colab": {
          "base_uri": "https://localhost:8080/",
          "height": 51
        },
        "outputId": "ee2a6ac6-512f-4400-8586-4ba2d03a38e4"
      },
      "source": [
        "data = dataset.values\n",
        "x = data[:,:3]\n",
        "y = data[:,3]\n",
        "print(x.shape)\n",
        "print(y.shape)"
      ],
      "execution_count": 14,
      "outputs": [
        {
          "output_type": "stream",
          "text": [
            "(10590, 3)\n",
            "(10590,)\n"
          ],
          "name": "stdout"
        }
      ]
    },
    {
      "cell_type": "code",
      "metadata": {
        "id": "C7gXcsS-0dg3",
        "colab_type": "code",
        "colab": {}
      },
      "source": [
        "from sklearn.model_selection import train_test_split\n",
        "from sklearn.metrics import mean_absolute_error\n",
        "from sklearn.linear_model import LinearRegression"
      ],
      "execution_count": 0,
      "outputs": []
    },
    {
      "cell_type": "code",
      "metadata": {
        "id": "IcbHOUwH0o-w",
        "colab_type": "code",
        "colab": {}
      },
      "source": [
        "x_train, x_test, y_train, y_test = train_test_split(x, y, test_size=0.2)"
      ],
      "execution_count": 0,
      "outputs": []
    },
    {
      "cell_type": "code",
      "metadata": {
        "id": "FwCX53EO0z1A",
        "colab_type": "code",
        "colab": {
          "base_uri": "https://localhost:8080/",
          "height": 34
        },
        "outputId": "a5327d1f-0645-415b-8b84-c0776a9b4683"
      },
      "source": [
        "model = LinearRegression()\n",
        "model.fit(x_train, y_train)\n",
        "pred = model.predict(x_test)\n",
        "mae = mean_absolute_error(y_test, pred)\n",
        "print(mae)"
      ],
      "execution_count": 17,
      "outputs": [
        {
          "output_type": "stream",
          "text": [
            "0.043060170861103864\n"
          ],
          "name": "stdout"
        }
      ]
    },
    {
      "cell_type": "markdown",
      "metadata": {
        "id": "5Dc92CZH2_Ov",
        "colab_type": "text"
      },
      "source": [
        "**trả lời câu hỏi**"
      ]
    },
    {
      "cell_type": "markdown",
      "metadata": {
        "id": "Qdk_QPW733Vg",
        "colab_type": "text"
      },
      "source": [
        "1. Vấn đề gặp phải tệ hơn là gì? giải thích? Không thấy đc vấn đề tệ hơn ạ :)), chỉ thấy đc mae cùng 1 bài nhưng cao hơn ạ\n",
        "2. Đã thêm feature và mae thập chí còn cao hơn cái cũ(e cũng không hiểu luôn :( )\n",
        "3. model mới tệ hơn ạ :)) "
      ]
    }
  ]
}
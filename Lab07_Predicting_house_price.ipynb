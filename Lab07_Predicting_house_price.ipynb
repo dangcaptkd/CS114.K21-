{
  "nbformat": 4,
  "nbformat_minor": 0,
  "metadata": {
    "colab": {
      "name": "Lab07-Predicting-house-price.ipynb",
      "provenance": [],
      "mount_file_id": "1Quslff4l4IFw_TJJtn5LSXZYH4vSMo61",
      "authorship_tag": "ABX9TyPj0kPddikBjH0H4iJlQ8YG",
      "include_colab_link": true
    },
    "kernelspec": {
      "name": "python3",
      "display_name": "Python 3"
    }
  },
  "cells": [
    {
      "cell_type": "markdown",
      "metadata": {
        "id": "view-in-github",
        "colab_type": "text"
      },
      "source": [
        "<a href=\"https://colab.research.google.com/github/dangcaptkd/CS114.K21-/blob/master/Lab07_Predicting_house_price.ipynb\" target=\"_parent\"><img src=\"https://colab.research.google.com/assets/colab-badge.svg\" alt=\"Open In Colab\"/></a>"
      ]
    },
    {
      "cell_type": "markdown",
      "metadata": {
        "id": "3tz4FgSqQ8Oz",
        "colab_type": "text"
      },
      "source": [
        "Sử dụng data từ 1 competition của kaggle có tên là House Prices: Advanced Regression Techniques. "
      ]
    },
    {
      "cell_type": "markdown",
      "metadata": {
        "id": "fRRHX6nfd4dO",
        "colab_type": "text"
      },
      "source": [
        "Gọi các thư viện cần thiết"
      ]
    },
    {
      "cell_type": "code",
      "metadata": {
        "id": "kMMZNgm3aNGk",
        "colab_type": "code",
        "colab": {}
      },
      "source": [
        "import pandas as pd \n",
        "from sklearn.model_selection import train_test_split\n",
        "from sklearn.linear_model import LinearRegression\n",
        "from sklearn.metrics import mean_absolute_error"
      ],
      "execution_count": 0,
      "outputs": []
    },
    {
      "cell_type": "markdown",
      "metadata": {
        "id": "2HhvDgE7eC7i",
        "colab_type": "text"
      },
      "source": [
        "Đọc và show ra shape của data"
      ]
    },
    {
      "cell_type": "code",
      "metadata": {
        "id": "Y_GzIMPcPrdf",
        "colab_type": "code",
        "outputId": "19efdb2a-b2cf-4a17-91b4-f9220f57177e",
        "colab": {
          "base_uri": "https://localhost:8080/",
          "height": 34
        }
      },
      "source": [
        "data = pd.read_csv('/content/drive/My Drive/Colab Notebooks/predciting house price/train.csv')\n",
        "print(data.shape)"
      ],
      "execution_count": 2,
      "outputs": [
        {
          "output_type": "stream",
          "text": [
            "(1460, 81)\n"
          ],
          "name": "stdout"
        }
      ]
    },
    {
      "cell_type": "markdown",
      "metadata": {
        "id": "5R2ivzE7eIIR",
        "colab_type": "text"
      },
      "source": [
        "Show số cột của data và show từng cột"
      ]
    },
    {
      "cell_type": "code",
      "metadata": {
        "id": "m-nCkuxoRApI",
        "colab_type": "code",
        "outputId": "24fbab85-7fed-4b5c-ebd9-daf4be9c6b08",
        "colab": {
          "base_uri": "https://localhost:8080/",
          "height": 340
        }
      },
      "source": [
        "print(len(data.columns))\n",
        "data.columns"
      ],
      "execution_count": 3,
      "outputs": [
        {
          "output_type": "stream",
          "text": [
            "81\n"
          ],
          "name": "stdout"
        },
        {
          "output_type": "execute_result",
          "data": {
            "text/plain": [
              "Index(['Id', 'MSSubClass', 'MSZoning', 'LotFrontage', 'LotArea', 'Street',\n",
              "       'Alley', 'LotShape', 'LandContour', 'Utilities', 'LotConfig',\n",
              "       'LandSlope', 'Neighborhood', 'Condition1', 'Condition2', 'BldgType',\n",
              "       'HouseStyle', 'OverallQual', 'OverallCond', 'YearBuilt', 'YearRemodAdd',\n",
              "       'RoofStyle', 'RoofMatl', 'Exterior1st', 'Exterior2nd', 'MasVnrType',\n",
              "       'MasVnrArea', 'ExterQual', 'ExterCond', 'Foundation', 'BsmtQual',\n",
              "       'BsmtCond', 'BsmtExposure', 'BsmtFinType1', 'BsmtFinSF1',\n",
              "       'BsmtFinType2', 'BsmtFinSF2', 'BsmtUnfSF', 'TotalBsmtSF', 'Heating',\n",
              "       'HeatingQC', 'CentralAir', 'Electrical', '1stFlrSF', '2ndFlrSF',\n",
              "       'LowQualFinSF', 'GrLivArea', 'BsmtFullBath', 'BsmtHalfBath', 'FullBath',\n",
              "       'HalfBath', 'BedroomAbvGr', 'KitchenAbvGr', 'KitchenQual',\n",
              "       'TotRmsAbvGrd', 'Functional', 'Fireplaces', 'FireplaceQu', 'GarageType',\n",
              "       'GarageYrBlt', 'GarageFinish', 'GarageCars', 'GarageArea', 'GarageQual',\n",
              "       'GarageCond', 'PavedDrive', 'WoodDeckSF', 'OpenPorchSF',\n",
              "       'EnclosedPorch', '3SsnPorch', 'ScreenPorch', 'PoolArea', 'PoolQC',\n",
              "       'Fence', 'MiscFeature', 'MiscVal', 'MoSold', 'YrSold', 'SaleType',\n",
              "       'SaleCondition', 'SalePrice'],\n",
              "      dtype='object')"
            ]
          },
          "metadata": {
            "tags": []
          },
          "execution_count": 3
        }
      ]
    },
    {
      "cell_type": "markdown",
      "metadata": {
        "id": "etb7q8YpePkK",
        "colab_type": "text"
      },
      "source": [
        "Có 81 cột nhưng ở bài này e chỉ lấy 1 vài cột quan trọng làm feature, và label chắc chắn sẽ là giá nhà: SalePrice\n",
        "- LotArea: diện tích của lô đất\n",
        "- YearBuilt: năm xây nhà\n",
        "- 1stFlrSF: diện tích lầu 1\n",
        "- 2ndFlrSF: diện tích lầu 2\n",
        "- FullBath: số phòng tắm\n",
        "- BedroomAbvGr: số phòng ngủ\n",
        "- TotRmsAbvGrd: tổng số phòng (không bao gồm phòng tắm)"
      ]
    },
    {
      "cell_type": "code",
      "metadata": {
        "id": "7h5wnIDSRVMP",
        "colab_type": "code",
        "colab": {}
      },
      "source": [
        "names = ['LotArea', 'YearBuilt', '1stFlrSF', '2ndFlrSF', 'FullBath', 'BedroomAbvGr', 'TotRmsAbvGrd']\n",
        "features = data[names]\n",
        "labels = data.SalePrice"
      ],
      "execution_count": 0,
      "outputs": []
    },
    {
      "cell_type": "markdown",
      "metadata": {
        "id": "HUGv1razecoQ",
        "colab_type": "text"
      },
      "source": [
        "Split train test data với tỉ lệ 2/8 (2 test 8 train)"
      ]
    },
    {
      "cell_type": "code",
      "metadata": {
        "id": "38DolTC6efla",
        "colab_type": "code",
        "colab": {}
      },
      "source": [
        "x_train, x_test, y_train, y_test = train_test_split(features, labels, test_size=0.2)"
      ],
      "execution_count": 0,
      "outputs": []
    },
    {
      "cell_type": "markdown",
      "metadata": {
        "id": "RW1MXRi9eht5",
        "colab_type": "text"
      },
      "source": [
        "Show shape của từng phần train test"
      ]
    },
    {
      "cell_type": "code",
      "metadata": {
        "id": "N-OUWKKIa3YO",
        "colab_type": "code",
        "outputId": "3c9af433-ab3b-4e54-9c69-2ed40bf0da5e",
        "colab": {
          "base_uri": "https://localhost:8080/",
          "height": 85
        }
      },
      "source": [
        "print(x_train.shape)\n",
        "print(x_test.shape)\n",
        "print(y_train.shape)\n",
        "print(y_test.shape)"
      ],
      "execution_count": 6,
      "outputs": [
        {
          "output_type": "stream",
          "text": [
            "(1168, 7)\n",
            "(292, 7)\n",
            "(1168,)\n",
            "(292,)\n"
          ],
          "name": "stdout"
        }
      ]
    },
    {
      "cell_type": "markdown",
      "metadata": {
        "id": "caUAe8dNeotf",
        "colab_type": "text"
      },
      "source": [
        "Gọi model và train"
      ]
    },
    {
      "cell_type": "code",
      "metadata": {
        "id": "CGzad2_Je1F-",
        "colab_type": "code",
        "colab": {
          "base_uri": "https://localhost:8080/",
          "height": 34
        },
        "outputId": "7ce431dc-36f7-4451-a24d-a3ea875d0f47"
      },
      "source": [
        "model = LinearRegression() \n",
        "model.fit(x_train, y_train)"
      ],
      "execution_count": 7,
      "outputs": [
        {
          "output_type": "execute_result",
          "data": {
            "text/plain": [
              "LinearRegression(copy_X=True, fit_intercept=True, n_jobs=None, normalize=False)"
            ]
          },
          "metadata": {
            "tags": []
          },
          "execution_count": 7
        }
      ]
    },
    {
      "cell_type": "markdown",
      "metadata": {
        "id": "429-GFFPe2iS",
        "colab_type": "text"
      },
      "source": [
        "Đưa ra predict"
      ]
    },
    {
      "cell_type": "code",
      "metadata": {
        "id": "4c1SETxPesPW",
        "colab_type": "code",
        "colab": {}
      },
      "source": [
        "pred = model.predict(x_test)"
      ],
      "execution_count": 0,
      "outputs": []
    },
    {
      "cell_type": "markdown",
      "metadata": {
        "id": "6SNjJb5be9SP",
        "colab_type": "text"
      },
      "source": [
        "Đánh giá độ chính xác bằng phương pháp MAE (mean absolute erorr)\n",
        "\n",
        "MAE là phương pháp đánh giá bằng .... (em hiểu là trung bình của tổng trị tuyệt đối của hiệu giá trị dự đoán với giá trị thực. Nghe hơi khó hiểu, nói chung khá giống với phương pháp MSE(mean square error) mà e đã được học, khác cái là MSE dùng bình phương còn MAE dùng trị tuyệt đối ạ)"
      ]
    },
    {
      "cell_type": "code",
      "metadata": {
        "id": "c9wmPSlle6r1",
        "colab_type": "code",
        "colab": {
          "base_uri": "https://localhost:8080/",
          "height": 34
        },
        "outputId": "fc0d26fb-6a3a-4fc7-e8db-c55c412b6561"
      },
      "source": [
        "print('MAE', mean_absolute_error(y_test, pred))"
      ],
      "execution_count": 9,
      "outputs": [
        {
          "output_type": "stream",
          "text": [
            "MAE 28633.649130241778\n"
          ],
          "name": "stdout"
        }
      ]
    },
    {
      "cell_type": "markdown",
      "metadata": {
        "id": "DlB3x1VghEqO",
        "colab_type": "text"
      },
      "source": [
        "#Ta daaaaa!\n",
        "#Thanks for reading :) "
      ]
    }
  ]
}
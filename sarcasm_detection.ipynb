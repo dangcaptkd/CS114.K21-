{
  "nbformat": 4,
  "nbformat_minor": 0,
  "metadata": {
    "colab": {
      "name": "sarcasm detection.ipynb",
      "provenance": [],
      "authorship_tag": "ABX9TyPk3uAEEk0G4fS7Xp0Cs8Jx",
      "include_colab_link": true
    },
    "kernelspec": {
      "name": "python3",
      "display_name": "Python 3"
    }
  },
  "cells": [
    {
      "cell_type": "markdown",
      "metadata": {
        "id": "view-in-github",
        "colab_type": "text"
      },
      "source": [
        "<a href=\"https://colab.research.google.com/github/dangcaptkd/CS114.K21-/blob/master/sarcasm_detection.ipynb\" target=\"_parent\"><img src=\"https://colab.research.google.com/assets/colab-badge.svg\" alt=\"Open In Colab\"/></a>"
      ]
    },
    {
      "cell_type": "markdown",
      "metadata": {
        "id": "hAL1RKfd5j15",
        "colab_type": "text"
      },
      "source": [
        "# Lấy data từ kaggle!\n",
        "\n"
      ]
    },
    {
      "cell_type": "code",
      "metadata": {
        "id": "Y03UP2vU0N4u",
        "colab_type": "code",
        "outputId": "d85beaa5-618b-4d70-ae7c-db247ce1d0e3",
        "colab": {
          "resources": {
            "http://localhost:8080/nbextensions/google.colab/files.js": {
              "data": "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",
              "ok": true,
              "headers": [
                [
                  "content-type",
                  "application/javascript"
                ]
              ],
              "status": 200,
              "status_text": ""
            }
          },
          "base_uri": "https://localhost:8080/",
          "height": 93
        }
      },
      "source": [
        "from google.colab import files\n",
        "files.upload()"
      ],
      "execution_count": 0,
      "outputs": [
        {
          "output_type": "display_data",
          "data": {
            "text/html": [
              "\n",
              "     <input type=\"file\" id=\"files-e32ef444-4b2a-4661-8223-9bb0b7775dd6\" name=\"files[]\" multiple disabled />\n",
              "     <output id=\"result-e32ef444-4b2a-4661-8223-9bb0b7775dd6\">\n",
              "      Upload widget is only available when the cell has been executed in the\n",
              "      current browser session. Please rerun this cell to enable.\n",
              "      </output>\n",
              "      <script src=\"/nbextensions/google.colab/files.js\"></script> "
            ],
            "text/plain": [
              "<IPython.core.display.HTML object>"
            ]
          },
          "metadata": {
            "tags": []
          }
        },
        {
          "output_type": "stream",
          "text": [
            "Saving kaggle.json to kaggle.json\n"
          ],
          "name": "stdout"
        },
        {
          "output_type": "execute_result",
          "data": {
            "text/plain": [
              "{'kaggle.json': b'{\"username\":\"quyennguyenthinh\",\"key\":\"78c6c8efa90a3136ef03e49e71fb5d9b\"}'}"
            ]
          },
          "metadata": {
            "tags": []
          },
          "execution_count": 2
        }
      ]
    },
    {
      "cell_type": "code",
      "metadata": {
        "id": "EuH8QBhq1Rd3",
        "colab_type": "code",
        "outputId": "5a3d65b6-d0de-4ad5-b1af-9f305c3fbd32",
        "colab": {
          "base_uri": "https://localhost:8080/",
          "height": 35
        }
      },
      "source": [
        "!ls -lha kaggle.json\n",
        "!pip install -q kaggle\n",
        "!mkdir -p ~/.kaggle\n",
        "!cp kaggle.json ~/.kaggle/\n",
        "!chmod 600 ~/.kaggle/kaggle.json"
      ],
      "execution_count": 0,
      "outputs": [
        {
          "output_type": "stream",
          "text": [
            "-rw-r--r-- 1 root root 72 May  8 09:45 kaggle.json\n"
          ],
          "name": "stdout"
        }
      ]
    },
    {
      "cell_type": "code",
      "metadata": {
        "id": "5-y8b1oh1ixW",
        "colab_type": "code",
        "outputId": "0ff29ba9-5f55-4891-ce65-1dbe8c91bb42",
        "colab": {
          "base_uri": "https://localhost:8080/",
          "height": 72
        }
      },
      "source": [
        "!kaggle datasets download -d rmisra/news-headlines-dataset-for-sarcasm-detection"
      ],
      "execution_count": 0,
      "outputs": [
        {
          "output_type": "stream",
          "text": [
            "Downloading news-headlines-dataset-for-sarcasm-detection.zip to /content\n",
            "\r  0% 0.00/3.30M [00:00<?, ?B/s]\n",
            "\r100% 3.30M/3.30M [00:00<00:00, 111MB/s]\n"
          ],
          "name": "stdout"
        }
      ]
    },
    {
      "cell_type": "code",
      "metadata": {
        "id": "DeGFLsYL2Jb4",
        "colab_type": "code",
        "outputId": "c949189a-0fd4-4c94-dace-a7f8a4131c8d",
        "colab": {
          "base_uri": "https://localhost:8080/",
          "height": 72
        }
      },
      "source": [
        "!unzip news-headlines-dataset-for-sarcasm-detection"
      ],
      "execution_count": 0,
      "outputs": [
        {
          "output_type": "stream",
          "text": [
            "Archive:  news-headlines-dataset-for-sarcasm-detection.zip\n",
            "  inflating: Sarcasm_Headlines_Dataset.json  \n",
            "  inflating: Sarcasm_Headlines_Dataset_v2.json  \n"
          ],
          "name": "stdout"
        }
      ]
    },
    {
      "cell_type": "markdown",
      "metadata": {
        "id": "sY81MWFRNPQB",
        "colab_type": "text"
      },
      "source": [
        "# load, check data"
      ]
    },
    {
      "cell_type": "code",
      "metadata": {
        "id": "GlZtMitl2VES",
        "colab_type": "code",
        "colab": {}
      },
      "source": [
        "import pandas as pd, numpy as np, re, time\n",
        "from nltk.stem.porter import PorterStemmer"
      ],
      "execution_count": 0,
      "outputs": []
    },
    {
      "cell_type": "markdown",
      "metadata": {
        "id": "6IrkOHDKNW0F",
        "colab_type": "text"
      },
      "source": [
        "\n"
      ]
    },
    {
      "cell_type": "code",
      "metadata": {
        "id": "ixAGsowx2lyl",
        "colab_type": "code",
        "colab": {}
      },
      "source": [
        "# Loading data from json file\n",
        "data = pd.read_json('Sarcasm_Headlines_Dataset.json', lines = True)"
      ],
      "execution_count": 0,
      "outputs": []
    },
    {
      "cell_type": "markdown",
      "metadata": {
        "id": "_-1Y6I5U56L-",
        "colab_type": "text"
      },
      "source": [
        "Xem thử 5 hàng đầu của dataset "
      ]
    },
    {
      "cell_type": "code",
      "metadata": {
        "id": "DTEVqLRw2_Fy",
        "colab_type": "code",
        "outputId": "ebefc4c5-ebe1-408f-fc53-e51197b1a357",
        "colab": {
          "base_uri": "https://localhost:8080/",
          "height": 198
        }
      },
      "source": [
        "data.head()"
      ],
      "execution_count": 32,
      "outputs": [
        {
          "output_type": "execute_result",
          "data": {
            "text/html": [
              "<div>\n",
              "<style scoped>\n",
              "    .dataframe tbody tr th:only-of-type {\n",
              "        vertical-align: middle;\n",
              "    }\n",
              "\n",
              "    .dataframe tbody tr th {\n",
              "        vertical-align: top;\n",
              "    }\n",
              "\n",
              "    .dataframe thead th {\n",
              "        text-align: right;\n",
              "    }\n",
              "</style>\n",
              "<table border=\"1\" class=\"dataframe\">\n",
              "  <thead>\n",
              "    <tr style=\"text-align: right;\">\n",
              "      <th></th>\n",
              "      <th>article_link</th>\n",
              "      <th>headline</th>\n",
              "      <th>is_sarcastic</th>\n",
              "    </tr>\n",
              "  </thead>\n",
              "  <tbody>\n",
              "    <tr>\n",
              "      <th>0</th>\n",
              "      <td>https://www.huffingtonpost.com/entry/versace-b...</td>\n",
              "      <td>former versace store clerk sues over secret 'b...</td>\n",
              "      <td>0</td>\n",
              "    </tr>\n",
              "    <tr>\n",
              "      <th>1</th>\n",
              "      <td>https://www.huffingtonpost.com/entry/roseanne-...</td>\n",
              "      <td>the 'roseanne' revival catches up to our thorn...</td>\n",
              "      <td>0</td>\n",
              "    </tr>\n",
              "    <tr>\n",
              "      <th>2</th>\n",
              "      <td>https://local.theonion.com/mom-starting-to-fea...</td>\n",
              "      <td>mom starting to fear son's web series closest ...</td>\n",
              "      <td>1</td>\n",
              "    </tr>\n",
              "    <tr>\n",
              "      <th>3</th>\n",
              "      <td>https://politics.theonion.com/boehner-just-wan...</td>\n",
              "      <td>boehner just wants wife to listen, not come up...</td>\n",
              "      <td>1</td>\n",
              "    </tr>\n",
              "    <tr>\n",
              "      <th>4</th>\n",
              "      <td>https://www.huffingtonpost.com/entry/jk-rowlin...</td>\n",
              "      <td>j.k. rowling wishes snape happy birthday in th...</td>\n",
              "      <td>0</td>\n",
              "    </tr>\n",
              "  </tbody>\n",
              "</table>\n",
              "</div>"
            ],
            "text/plain": [
              "                                        article_link  ... is_sarcastic\n",
              "0  https://www.huffingtonpost.com/entry/versace-b...  ...            0\n",
              "1  https://www.huffingtonpost.com/entry/roseanne-...  ...            0\n",
              "2  https://local.theonion.com/mom-starting-to-fea...  ...            1\n",
              "3  https://politics.theonion.com/boehner-just-wan...  ...            1\n",
              "4  https://www.huffingtonpost.com/entry/jk-rowlin...  ...            0\n",
              "\n",
              "[5 rows x 3 columns]"
            ]
          },
          "metadata": {
            "tags": []
          },
          "execution_count": 32
        }
      ]
    },
    {
      "cell_type": "markdown",
      "metadata": {
        "id": "r6HJWVKO6EFp",
        "colab_type": "text"
      },
      "source": [
        "Check the null value"
      ]
    },
    {
      "cell_type": "code",
      "metadata": {
        "id": "92tlnOzQ3Pb-",
        "colab_type": "code",
        "outputId": "2ee0c403-6aa2-4cf8-fed7-8b5c10446d35",
        "colab": {
          "base_uri": "https://localhost:8080/",
          "height": 90
        }
      },
      "source": [
        "print(data.isnull().any(axis = 0))"
      ],
      "execution_count": 0,
      "outputs": [
        {
          "output_type": "stream",
          "text": [
            "article_link    False\n",
            "headline        False\n",
            "is_sarcastic    False\n",
            "dtype: bool\n"
          ],
          "name": "stdout"
        }
      ]
    },
    {
      "cell_type": "markdown",
      "metadata": {
        "id": "CPMGZsDKYu40",
        "colab_type": "text"
      },
      "source": [
        "# Using linear support vector classifier, Gaussuan Naive Bayes,  Logistic Regression, Random Forest Classifier"
      ]
    },
    {
      "cell_type": "code",
      "metadata": {
        "id": "_cNH7YDg2hHI",
        "colab_type": "code",
        "colab": {}
      },
      "source": [
        "from sklearn.model_selection import train_test_split\n",
        "from sklearn.metrics import confusion_matrix\n",
        "from sklearn.svm import LinearSVC\n",
        "from sklearn.model_selection import cross_val_score\n",
        "from sklearn.naive_bayes import GaussianNB\n",
        "from sklearn.linear_model import LogisticRegression\n",
        "from sklearn.ensemble import RandomForestClassifier"
      ],
      "execution_count": 0,
      "outputs": []
    },
    {
      "cell_type": "markdown",
      "metadata": {
        "id": "_m10y4KGclZG",
        "colab_type": "text"
      },
      "source": [
        "**clean data**"
      ]
    },
    {
      "cell_type": "markdown",
      "metadata": {
        "id": "dkmM6kES9H8K",
        "colab_type": "text"
      },
      "source": [
        "Ở cột headline sẽ có 1 vài kí tự cần được loại bỏ, dùng regular expression để loại bỏ các kí tự này"
      ]
    },
    {
      "cell_type": "code",
      "metadata": {
        "id": "ivSbhUgI3SVw",
        "colab_type": "code",
        "colab": {}
      },
      "source": [
        "data['headline'] = data['headline'].apply(lambda s : re.sub('[^a-zA-Z]', ' ', s))"
      ],
      "execution_count": 0,
      "outputs": []
    },
    {
      "cell_type": "markdown",
      "metadata": {
        "id": "jyCLvGEB9iqP",
        "colab_type": "text"
      },
      "source": [
        "Gán feature và label "
      ]
    },
    {
      "cell_type": "code",
      "metadata": {
        "id": "_GIcJ4hv3gcb",
        "colab_type": "code",
        "colab": {}
      },
      "source": [
        "features = data['headline']\n",
        "labels = data['is_sarcastic']"
      ],
      "execution_count": 0,
      "outputs": []
    },
    {
      "cell_type": "markdown",
      "metadata": {
        "id": "odl24x9S-BrX",
        "colab_type": "text"
      },
      "source": [
        "Steaming data"
      ]
    },
    {
      "cell_type": "code",
      "metadata": {
        "id": "rVfkF6hE3o3b",
        "colab_type": "code",
        "colab": {
          "base_uri": "https://localhost:8080/",
          "height": 54
        },
        "outputId": "eceddb06-3aac-4350-e891-4eb884841a66"
      },
      "source": [
        "print('before steaming:', features[0])\n",
        "ps = PorterStemmer()\n",
        "features = features.apply(lambda x: x.split())\n",
        "features = features.apply(lambda x : ' '.join([ps.stem(word) for word in x]))\n",
        "print('after steaming:', features[0])"
      ],
      "execution_count": 65,
      "outputs": [
        {
          "output_type": "stream",
          "text": [
            "before steaming: former versace store clerk sues over secret  black code  for minority shoppers\n",
            "after steaming: former versac store clerk sue over secret black code for minor shopper\n"
          ],
          "name": "stdout"
        }
      ]
    },
    {
      "cell_type": "markdown",
      "metadata": {
        "id": "37XX6v8CX4Qw",
        "colab_type": "text"
      },
      "source": [
        "What is nltk.stem.porter.PorterStemmer() using for? Watch here: https://www.nltk.org/howto/stem.html"
      ]
    },
    {
      "cell_type": "markdown",
      "metadata": {
        "id": "zrj1Xk9G-_9D",
        "colab_type": "text"
      },
      "source": [
        "Vector hóa các tính năng bằng cách sử dụng TF-IDF Vectorizer (chỗ này để làm gì ta??)"
      ]
    },
    {
      "cell_type": "code",
      "metadata": {
        "id": "iMolIrPc6RH3",
        "colab_type": "code",
        "colab": {}
      },
      "source": [
        "from sklearn.feature_extraction.text import TfidfVectorizer\n",
        "tv = TfidfVectorizer(max_features = 5000)\n",
        "features = list(features)\n",
        "features = tv.fit_transform(features).toarray()"
      ],
      "execution_count": 0,
      "outputs": []
    },
    {
      "cell_type": "markdown",
      "metadata": {
        "id": "eOZIH3JAdnb9",
        "colab_type": "text"
      },
      "source": [
        "https://en.wikipedia.org/wiki/Tf%E2%80%93idf\n",
        "https://scikit-learn.org/stable/modules/generated/sklearn.feature_extraction.text.TfidfVectorizer.html"
      ]
    },
    {
      "cell_type": "markdown",
      "metadata": {
        "id": "nlCvi_gg_dqj",
        "colab_type": "text"
      },
      "source": [
        "\n",
        "\n",
        "```\n",
        "`# This is formatted as code`\n",
        "```\n",
        "\n",
        "**split data** (1/9)"
      ]
    },
    {
      "cell_type": "code",
      "metadata": {
        "id": "kGtW3h1c6aOv",
        "colab_type": "code",
        "colab": {
          "base_uri": "https://localhost:8080/",
          "height": 90
        },
        "outputId": "fef0c509-49f6-408b-faa4-b640df5010cf"
      },
      "source": [
        "features_train, features_test, labels_train, labels_test = train_test_split(features, labels, test_size = 0.1, random_state = 0)\n",
        "print('features_train:', features_train.shape)\n",
        "print('labels_train:', labels_train.shape)\n",
        "print('features_test', features_test.shape)\n",
        "print('labels_test:', labels_test.shape)"
      ],
      "execution_count": 58,
      "outputs": [
        {
          "output_type": "stream",
          "text": [
            "features_train: (24038, 5000)\n",
            "labels_train: (24038,)\n",
            "features_test (2671, 5000)\n",
            "labels_test: (2671,)\n"
          ],
          "name": "stdout"
        }
      ]
    },
    {
      "cell_type": "markdown",
      "metadata": {
        "id": "-9ZsmOEvdgaY",
        "colab_type": "text"
      },
      "source": [
        "**training and testing data**"
      ]
    },
    {
      "cell_type": "markdown",
      "metadata": {
        "id": "m2eozIekAZG0",
        "colab_type": "text"
      },
      "source": [
        "model 1: Using linear support vector classifier"
      ]
    },
    {
      "cell_type": "code",
      "metadata": {
        "id": "RGF7xPPGAf7y",
        "colab_type": "code",
        "outputId": "8dc7d244-3160-4047-8cd8-085385b979cc",
        "colab": {
          "base_uri": "https://localhost:8080/",
          "height": 54
        }
      },
      "source": [
        "lsvc = LinearSVC()\n",
        "# training the model\n",
        "lsvc.fit(features_train, labels_train)\n",
        "# getting the score of train and test data\n",
        "#print('train:', lsvc.loss(features_train, labels_train))\n",
        "#core = lsvc.evaluate(features_test, labels_test) \n",
        "print('train:', lsvc.score(features_train, labels_train)) \n",
        "print('test:', lsvc.score(features_test, labels_test))   "
      ],
      "execution_count": 67,
      "outputs": [
        {
          "output_type": "stream",
          "text": [
            "train: 0.9110574923038522\n",
            "test: 0.8360164732309996\n"
          ],
          "name": "stdout"
        }
      ]
    },
    {
      "cell_type": "markdown",
      "metadata": {
        "id": "2vYkb1T0Anmv",
        "colab_type": "text"
      },
      "source": [
        "model 2: Using Gaussuan Naive Bayes"
      ]
    },
    {
      "cell_type": "code",
      "metadata": {
        "id": "KPns77WiAsir",
        "colab_type": "code",
        "outputId": "06e35679-53c7-477f-d59a-1399560a6daf",
        "colab": {
          "base_uri": "https://localhost:8080/",
          "height": 54
        }
      },
      "source": [
        "gnb = GaussianNB()\n",
        "gnb.fit(features_train, labels_train)\n",
        "print('train:', gnb.score(features_train, labels_train))  \n",
        "print('test:', gnb.score(features_test, labels_test))    "
      ],
      "execution_count": 60,
      "outputs": [
        {
          "output_type": "stream",
          "text": [
            "train: 0.7826358266078709\n",
            "test: 0.7162111568700861\n"
          ],
          "name": "stdout"
        }
      ]
    },
    {
      "cell_type": "markdown",
      "metadata": {
        "id": "E7fS_U8jAy1l",
        "colab_type": "text"
      },
      "source": [
        "model 3: Logistic Regression"
      ]
    },
    {
      "cell_type": "code",
      "metadata": {
        "id": "rhxr5ifaA3Vy",
        "colab_type": "code",
        "outputId": "16ed7e6d-c21b-4709-9eac-5012620f38fe",
        "colab": {
          "base_uri": "https://localhost:8080/",
          "height": 54
        }
      },
      "source": [
        "lr = LogisticRegression()\n",
        "lr.fit(features_train, labels_train)\n",
        "print('train:', lr.score(features_train, labels_train))   \n",
        "print('test:', lr.score(features_test, labels_test))     "
      ],
      "execution_count": 61,
      "outputs": [
        {
          "output_type": "stream",
          "text": [
            "train: 0.8824777435726766\n",
            "test: 0.8375140396855111\n"
          ],
          "name": "stdout"
        }
      ]
    },
    {
      "cell_type": "markdown",
      "metadata": {
        "id": "-M6bvyTLA7yk",
        "colab_type": "text"
      },
      "source": [
        "model 4: Random Forest Classifier"
      ]
    },
    {
      "cell_type": "code",
      "metadata": {
        "id": "_TODcYX_A_mx",
        "colab_type": "code",
        "outputId": "1e8c4031-08ab-4535-fe5b-8876a7182e3f",
        "colab": {
          "base_uri": "https://localhost:8080/",
          "height": 54
        }
      },
      "source": [
        "rfc = RandomForestClassifier(n_estimators = 10, random_state = 0)\n",
        "rfc.fit(features_train, labels_train)\n",
        "print('train:', rfc.score(features_train, labels_train)) \n",
        "print('test:', rfc.score(features_test, labels_test))    "
      ],
      "execution_count": 62,
      "outputs": [
        {
          "output_type": "stream",
          "text": [
            "train: 0.9895998003161661\n",
            "test: 0.7963309621864471\n"
          ],
          "name": "stdout"
        }
      ]
    },
    {
      "cell_type": "markdown",
      "metadata": {
        "id": "coX_zJoiMxK2",
        "colab_type": "text"
      },
      "source": [
        "# LSTM, GRU, Conv1d model (Sequential)"
      ]
    },
    {
      "cell_type": "code",
      "metadata": {
        "id": "yyDmM8wPSHBN",
        "colab_type": "code",
        "colab": {
          "base_uri": "https://localhost:8080/",
          "height": 35
        },
        "outputId": "9c7255be-ceca-4b82-e30b-fe98ad931490"
      },
      "source": [
        "from keras.preprocessing.sequence import pad_sequences\n",
        "from keras.models import Sequential\n",
        "from keras.layers import Embedding, Flatten, Dense, LSTM, Bidirectional, Dropout, Conv1D, MaxPool1D\n",
        "from keras.preprocessing.text import Tokenizer\n",
        "from keras.layers import GlobalMaxPool1D, GRU\n",
        "from keras import optimizers"
      ],
      "execution_count": 68,
      "outputs": [
        {
          "output_type": "stream",
          "text": [
            "Using TensorFlow backend.\n"
          ],
          "name": "stderr"
        }
      ]
    },
    {
      "cell_type": "code",
      "metadata": {
        "id": "-Ushu4UeSIOI",
        "colab_type": "code",
        "colab": {}
      },
      "source": [
        "MAX_SEQ_LENGTH = 40\n",
        "MAX_WORDS = 20000"
      ],
      "execution_count": 0,
      "outputs": []
    },
    {
      "cell_type": "code",
      "metadata": {
        "id": "u7ejJAGVeqcK",
        "colab_type": "code",
        "colab": {}
      },
      "source": [
        "tok = Tokenizer(num_words = MAX_WORDS) # keeping 10000 now for first iteration\n",
        "tok.fit_on_texts(data.headline)\n",
        "seqs = tok.texts_to_sequences(data.headline)"
      ],
      "execution_count": 0,
      "outputs": []
    },
    {
      "cell_type": "markdown",
      "metadata": {
        "id": "XVwN7YhFs6ml",
        "colab_type": "text"
      },
      "source": [
        "What is from keras.preprocessing.text import Tokenizer using for? Watch here: https://www.tensorflow.org/api_docs/python/tf/keras/preprocessing/text/Tokenizer"
      ]
    },
    {
      "cell_type": "code",
      "metadata": {
        "id": "WDD2xLOFeWRi",
        "colab_type": "code",
        "colab": {}
      },
      "source": [
        "features = pad_sequences(seqs, MAX_SEQ_LENGTH)\n",
        "labels = np.asarray(data.is_sarcastic)"
      ],
      "execution_count": 0,
      "outputs": []
    },
    {
      "cell_type": "markdown",
      "metadata": {
        "id": "R6SrMHl6tRqr",
        "colab_type": "text"
      },
      "source": [
        "What's pad_sequences using for? https://www.tensorflow.org/api_docs/python/tf/keras/preprocessing/text/Tokenizer"
      ]
    },
    {
      "cell_type": "code",
      "metadata": {
        "id": "KkxPXASnUFIp",
        "colab_type": "code",
        "outputId": "62543d03-ec06-4546-c753-972257690128",
        "colab": {
          "base_uri": "https://localhost:8080/",
          "height": 54
        }
      },
      "source": [
        "print('features.shape:', features.shape)\n",
        "print('lables.shape:', labels.shape)"
      ],
      "execution_count": 74,
      "outputs": [
        {
          "output_type": "stream",
          "text": [
            "features.shape: (26709, 40)\n",
            "lables.shape: (26709,)\n"
          ],
          "name": "stdout"
        }
      ]
    },
    {
      "cell_type": "code",
      "metadata": {
        "id": "CBGxaKuTtmQ2",
        "colab_type": "code",
        "colab": {}
      },
      "source": [
        "features_train, features_test, labels_train, labels_test = train_test_split(features, labels, test_size = 0.1, random_state = 0)"
      ],
      "execution_count": 0,
      "outputs": []
    },
    {
      "cell_type": "code",
      "metadata": {
        "id": "PKkyruhYYeLw",
        "colab_type": "code",
        "outputId": "b46998af-93d0-4c17-d342-530adc83b007",
        "colab": {
          "base_uri": "https://localhost:8080/",
          "height": 90
        }
      },
      "source": [
        "print('features_train:', features_train.shape)\n",
        "print('labels_train:', labels_train.shape)\n",
        "print('features_test:', features_test.shape)\n",
        "print('labels_test:', labels_test.shape)"
      ],
      "execution_count": 76,
      "outputs": [
        {
          "output_type": "stream",
          "text": [
            "features_train: (24038, 40)\n",
            "labels_train: (24038,)\n",
            "features_test: (2671, 40)\n",
            "labels_test: (2671,)\n"
          ],
          "name": "stdout"
        }
      ]
    },
    {
      "cell_type": "code",
      "metadata": {
        "id": "eT06ITIWzL6O",
        "colab_type": "code",
        "colab": {}
      },
      "source": [
        "EMB_DIM = 6"
      ],
      "execution_count": 0,
      "outputs": []
    },
    {
      "cell_type": "code",
      "metadata": {
        "id": "yFPwytKNZ4oA",
        "colab_type": "code",
        "colab": {}
      },
      "source": [
        "EPOCHS = 9\n",
        "BATCH_SIZE =512"
      ],
      "execution_count": 0,
      "outputs": []
    },
    {
      "cell_type": "markdown",
      "metadata": {
        "id": "ce4yV5D_zQWc",
        "colab_type": "text"
      },
      "source": [
        "**Build and Train a Fully Connected model**"
      ]
    },
    {
      "cell_type": "code",
      "metadata": {
        "id": "xbaHNiJlYi0Z",
        "colab_type": "code",
        "colab": {}
      },
      "source": [
        "def fcmodel():\n",
        "    model = Sequential()\n",
        "    model.add(Embedding(input_dim=MAX_WORDS, output_dim= EMB_DIM, input_length=MAX_SEQ_LENGTH))    \n",
        "    \n",
        "    # Flatten Layer\n",
        "    model.add(Flatten())\n",
        "    \n",
        "    # FC1\n",
        "    model.add(Dense(64, activation='relu'))\n",
        "    \n",
        "    # Output layer\n",
        "    model.add(Dense(1, activation='sigmoid'))\n",
        "    \n",
        "    # print model summary\n",
        "    #model.summary()\n",
        "    \n",
        "    # When using pretrained embeddings\n",
        "    #model.layers[0].set_weights([embedding_matrix])\n",
        "    #model.layers[0].trainable = False\n",
        "              \n",
        "    # Compile the model\n",
        "    model.compile(optimizer = 'rmsprop',\n",
        "                 loss = 'binary_crossentropy',\n",
        "                 metrics = ['acc'])\n",
        "    return model\n",
        "\n",
        "fcmod = fcmodel()"
      ],
      "execution_count": 0,
      "outputs": []
    },
    {
      "cell_type": "code",
      "metadata": {
        "id": "NOSFfshBZ8Ae",
        "colab_type": "code",
        "outputId": "49c7e165-036b-42a9-de3b-16bbe2fb1e2b",
        "colab": {
          "base_uri": "https://localhost:8080/",
          "height": 419
        }
      },
      "source": [
        "fchist = fcmod.fit(features_train, labels_train,\n",
        "                   epochs = EPOCHS,\n",
        "                   batch_size = BATCH_SIZE,\n",
        "                   validation_data = (features_test, labels_test))"
      ],
      "execution_count": 91,
      "outputs": [
        {
          "output_type": "stream",
          "text": [
            "/usr/local/lib/python3.6/dist-packages/tensorflow/python/framework/indexed_slices.py:434: UserWarning: Converting sparse IndexedSlices to a dense Tensor of unknown shape. This may consume a large amount of memory.\n",
            "  \"Converting sparse IndexedSlices to a dense Tensor of unknown shape. \"\n"
          ],
          "name": "stderr"
        },
        {
          "output_type": "stream",
          "text": [
            "Train on 24038 samples, validate on 2671 samples\n",
            "Epoch 1/9\n",
            "24038/24038 [==============================] - 0s 14us/step - loss: 0.6647 - acc: 0.5911 - val_loss: 0.6160 - val_acc: 0.6949\n",
            "Epoch 2/9\n",
            "24038/24038 [==============================] - 0s 10us/step - loss: 0.5216 - acc: 0.7985 - val_loss: 0.4611 - val_acc: 0.8098\n",
            "Epoch 3/9\n",
            "24038/24038 [==============================] - 0s 10us/step - loss: 0.3685 - acc: 0.8628 - val_loss: 0.3751 - val_acc: 0.8405\n",
            "Epoch 4/9\n",
            "24038/24038 [==============================] - 0s 10us/step - loss: 0.2861 - acc: 0.8900 - val_loss: 0.3468 - val_acc: 0.8514\n",
            "Epoch 5/9\n",
            "24038/24038 [==============================] - 0s 9us/step - loss: 0.2391 - acc: 0.9078 - val_loss: 0.3370 - val_acc: 0.8559\n",
            "Epoch 6/9\n",
            "24038/24038 [==============================] - 0s 10us/step - loss: 0.2054 - acc: 0.9215 - val_loss: 0.3457 - val_acc: 0.8529\n",
            "Epoch 7/9\n",
            "24038/24038 [==============================] - 0s 10us/step - loss: 0.1789 - acc: 0.9339 - val_loss: 0.3395 - val_acc: 0.8592\n",
            "Epoch 8/9\n",
            "24038/24038 [==============================] - 0s 9us/step - loss: 0.1583 - acc: 0.9423 - val_loss: 0.3463 - val_acc: 0.8592\n",
            "Epoch 9/9\n",
            "24038/24038 [==============================] - 0s 9us/step - loss: 0.1392 - acc: 0.9487 - val_loss: 0.3567 - val_acc: 0.8585\n"
          ],
          "name": "stdout"
        }
      ]
    },
    {
      "cell_type": "code",
      "metadata": {
        "id": "hPf3nyBUzlim",
        "colab_type": "code",
        "colab": {
          "base_uri": "https://localhost:8080/",
          "height": 72
        },
        "outputId": "d23afee0-a0e1-41d7-b169-77ac6214dffd"
      },
      "source": [
        "scores = fcmod.evaluate(features_test, labels_test)\n",
        "print('loss: {}\\nacc: {}'.format(scores[0], scores[1]))"
      ],
      "execution_count": 92,
      "outputs": [
        {
          "output_type": "stream",
          "text": [
            "2671/2671 [==============================] - 0s 27us/step\n",
            "loss: 0.3567418198445369\n",
            "acc: 0.8584799766540527\n"
          ],
          "name": "stdout"
        }
      ]
    },
    {
      "cell_type": "markdown",
      "metadata": {
        "id": "XsqxIBWm0SsO",
        "colab_type": "text"
      },
      "source": [
        "**Build and Train LSTM model**"
      ]
    },
    {
      "cell_type": "code",
      "metadata": {
        "id": "XZJMxyaJa4dF",
        "colab_type": "code",
        "colab": {}
      },
      "source": [
        "def lstm():\n",
        "    model = Sequential()\n",
        "    \n",
        "    model.add(Embedding(input_dim=MAX_WORDS, output_dim=EMB_DIM, input_length=MAX_SEQ_LENGTH))\n",
        "    \n",
        "    model.add(Bidirectional(LSTM(16, return_sequences=True, recurrent_dropout=0.1, dropout=0.1)))\n",
        "    \n",
        "    model.add(Bidirectional(LSTM(32, recurrent_dropout=0.1, dropout=0.1)))\n",
        "    \n",
        "    model.add(Dense(1, activation='sigmoid'))\n",
        "    \n",
        "    # Compile the model\n",
        "    model.compile(optimizer = 'rmsprop',\n",
        "                  loss = 'binary_crossentropy',\n",
        "                  metrics = ['acc'])\n",
        "    \n",
        "    return model\n",
        "\n",
        "lsmod = lstm()"
      ],
      "execution_count": 0,
      "outputs": []
    },
    {
      "cell_type": "code",
      "metadata": {
        "id": "JCiOxU1sa7sH",
        "colab_type": "code",
        "outputId": "35c3e4b4-214d-4d22-f297-4d62a0a88bb5",
        "colab": {
          "base_uri": "https://localhost:8080/",
          "height": 419
        }
      },
      "source": [
        "lshist = lsmod.fit(features_train, labels_train,\n",
        "         epochs = EPOCHS,\n",
        "         batch_size = BATCH_SIZE,\n",
        "         validation_data = (features_test, labels_test))"
      ],
      "execution_count": 94,
      "outputs": [
        {
          "output_type": "stream",
          "text": [
            "/usr/local/lib/python3.6/dist-packages/tensorflow/python/framework/indexed_slices.py:434: UserWarning: Converting sparse IndexedSlices to a dense Tensor of unknown shape. This may consume a large amount of memory.\n",
            "  \"Converting sparse IndexedSlices to a dense Tensor of unknown shape. \"\n"
          ],
          "name": "stderr"
        },
        {
          "output_type": "stream",
          "text": [
            "Train on 24038 samples, validate on 2671 samples\n",
            "Epoch 1/9\n",
            "24038/24038 [==============================] - 14s 591us/step - loss: 0.6342 - acc: 0.6255 - val_loss: 0.4664 - val_acc: 0.7806\n",
            "Epoch 2/9\n",
            "24038/24038 [==============================] - 13s 523us/step - loss: 0.3902 - acc: 0.8354 - val_loss: 0.3767 - val_acc: 0.8383\n",
            "Epoch 3/9\n",
            "24038/24038 [==============================] - 13s 524us/step - loss: 0.3083 - acc: 0.8783 - val_loss: 0.3579 - val_acc: 0.8450\n",
            "Epoch 4/9\n",
            "24038/24038 [==============================] - 13s 523us/step - loss: 0.2542 - acc: 0.9035 - val_loss: 0.3470 - val_acc: 0.8469\n",
            "Epoch 5/9\n",
            "24038/24038 [==============================] - 13s 525us/step - loss: 0.2113 - acc: 0.9229 - val_loss: 0.3590 - val_acc: 0.8521\n",
            "Epoch 6/9\n",
            "24038/24038 [==============================] - 13s 525us/step - loss: 0.1816 - acc: 0.9342 - val_loss: 0.3621 - val_acc: 0.8525\n",
            "Epoch 7/9\n",
            "24038/24038 [==============================] - 13s 520us/step - loss: 0.1547 - acc: 0.9457 - val_loss: 0.3644 - val_acc: 0.8495\n",
            "Epoch 8/9\n",
            "24038/24038 [==============================] - 14s 590us/step - loss: 0.1381 - acc: 0.9528 - val_loss: 0.4199 - val_acc: 0.8484\n",
            "Epoch 9/9\n",
            "24038/24038 [==============================] - 13s 521us/step - loss: 0.1211 - acc: 0.9586 - val_loss: 0.4416 - val_acc: 0.8484\n"
          ],
          "name": "stdout"
        }
      ]
    },
    {
      "cell_type": "markdown",
      "metadata": {
        "id": "_AKfRFLD0wN0",
        "colab_type": "text"
      },
      "source": [
        "**Build and Train Conv1D model**"
      ]
    },
    {
      "cell_type": "code",
      "metadata": {
        "id": "kE9_GtYKZqZq",
        "colab_type": "code",
        "colab": {}
      },
      "source": [
        "def conv1d():\n",
        "    \n",
        "    model = Sequential()\n",
        "    \n",
        "    model.add(Embedding(input_dim=MAX_WORDS,output_dim=EMB_DIM, input_length=MAX_SEQ_LENGTH))\n",
        "    \n",
        "    model.add(Conv1D(filters=32, kernel_size=7, activation='relu'))\n",
        "    \n",
        "    model.add(MaxPool1D(pool_size=5))\n",
        "    \n",
        "    model.add(Conv1D(filters=32, kernel_size=3, activation='relu'))\n",
        "    \n",
        "    model.add(Dropout(0.1))\n",
        "    \n",
        "    model.add(GlobalMaxPool1D())\n",
        "    \n",
        "    model.add(Dense(1, activation='sigmoid'))\n",
        "    \n",
        "    model.compile(optimizer='rmsprop',\n",
        "                  loss='binary_crossentropy',\n",
        "                  metrics= ['acc'])\n",
        "    \n",
        "    return model\n",
        "\n",
        "convmod = conv1d()"
      ],
      "execution_count": 0,
      "outputs": []
    },
    {
      "cell_type": "code",
      "metadata": {
        "id": "BhZUhuhNbrQO",
        "colab_type": "code",
        "outputId": "48aff201-e298-4576-d37d-f3627c7a5ba6",
        "colab": {
          "base_uri": "https://localhost:8080/",
          "height": 419
        }
      },
      "source": [
        "convhist = convmod.fit(features_train, labels_train,\n",
        "                      epochs = EPOCHS,\n",
        "                      batch_size = BATCH_SIZE,\n",
        "                      validation_data = (features_test, labels_test))"
      ],
      "execution_count": 96,
      "outputs": [
        {
          "output_type": "stream",
          "text": [
            "/usr/local/lib/python3.6/dist-packages/tensorflow/python/framework/indexed_slices.py:434: UserWarning: Converting sparse IndexedSlices to a dense Tensor of unknown shape. This may consume a large amount of memory.\n",
            "  \"Converting sparse IndexedSlices to a dense Tensor of unknown shape. \"\n"
          ],
          "name": "stderr"
        },
        {
          "output_type": "stream",
          "text": [
            "Train on 24038 samples, validate on 2671 samples\n",
            "Epoch 1/9\n",
            "24038/24038 [==============================] - 1s 50us/step - loss: 0.6791 - acc: 0.5594 - val_loss: 0.6606 - val_acc: 0.5601\n",
            "Epoch 2/9\n",
            "24038/24038 [==============================] - 1s 39us/step - loss: 0.6023 - acc: 0.6771 - val_loss: 0.5462 - val_acc: 0.7649\n",
            "Epoch 3/9\n",
            "24038/24038 [==============================] - 1s 38us/step - loss: 0.4647 - acc: 0.8143 - val_loss: 0.4525 - val_acc: 0.7847\n",
            "Epoch 4/9\n",
            "24038/24038 [==============================] - 1s 38us/step - loss: 0.3685 - acc: 0.8454 - val_loss: 0.4170 - val_acc: 0.8008\n",
            "Epoch 5/9\n",
            "24038/24038 [==============================] - 1s 38us/step - loss: 0.3145 - acc: 0.8638 - val_loss: 0.4061 - val_acc: 0.8057\n",
            "Epoch 6/9\n",
            "24038/24038 [==============================] - 1s 39us/step - loss: 0.2786 - acc: 0.8789 - val_loss: 0.4065 - val_acc: 0.8109\n",
            "Epoch 7/9\n",
            "24038/24038 [==============================] - 1s 39us/step - loss: 0.2517 - acc: 0.8900 - val_loss: 0.4161 - val_acc: 0.8076\n",
            "Epoch 8/9\n",
            "24038/24038 [==============================] - 1s 39us/step - loss: 0.2302 - acc: 0.8989 - val_loss: 0.4244 - val_acc: 0.8098\n",
            "Epoch 9/9\n",
            "24038/24038 [==============================] - 1s 39us/step - loss: 0.2112 - acc: 0.9076 - val_loss: 0.4387 - val_acc: 0.8061\n"
          ],
          "name": "stdout"
        }
      ]
    },
    {
      "cell_type": "markdown",
      "metadata": {
        "id": "iCV0u_ec1Aef",
        "colab_type": "text"
      },
      "source": [
        "**Build and Train Conv1D + GRU modelt**"
      ]
    },
    {
      "cell_type": "code",
      "metadata": {
        "id": "kMrWXZdFal6_",
        "colab_type": "code",
        "colab": {}
      },
      "source": [
        "def convgru():\n",
        "    \n",
        "    model = Sequential()\n",
        "    \n",
        "    model.add(Embedding(input_dim=MAX_WORDS,output_dim=EMB_DIM, input_length=MAX_SEQ_LENGTH))\n",
        "    \n",
        "    model.add(Conv1D(filters=32, kernel_size=7, activation='relu'))\n",
        "    \n",
        "    model.add(MaxPool1D(pool_size=5))\n",
        "    \n",
        "    model.add(Conv1D(filters=32, kernel_size=3, activation='relu'))\n",
        "    \n",
        "    model.add(GRU(32, dropout=0.1, recurrent_dropout=0.5))\n",
        "    \n",
        "    model.add(Dense(1, activation='sigmoid'))\n",
        "    \n",
        "    model.compile(optimizer='rmsprop',\n",
        "                  loss='binary_crossentropy',\n",
        "                  metrics= ['acc'])\n",
        "    \n",
        "    return model\n",
        "\n",
        "convgrumod = convgru()"
      ],
      "execution_count": 0,
      "outputs": []
    },
    {
      "cell_type": "code",
      "metadata": {
        "id": "4WvIAyI-b82N",
        "colab_type": "code",
        "outputId": "b721858d-4a7d-4a19-a6c1-8b9d9534f4c1",
        "colab": {
          "base_uri": "https://localhost:8080/",
          "height": 419
        }
      },
      "source": [
        "convgruhist = convgrumod.fit(features_train, labels_train, \n",
        "                           epochs = EPOCHS,\n",
        "                           batch_size=BATCH_SIZE,\n",
        "                           validation_data = (features_test, labels_test))"
      ],
      "execution_count": 98,
      "outputs": [
        {
          "output_type": "stream",
          "text": [
            "/usr/local/lib/python3.6/dist-packages/tensorflow/python/framework/indexed_slices.py:434: UserWarning: Converting sparse IndexedSlices to a dense Tensor of unknown shape. This may consume a large amount of memory.\n",
            "  \"Converting sparse IndexedSlices to a dense Tensor of unknown shape. \"\n"
          ],
          "name": "stderr"
        },
        {
          "output_type": "stream",
          "text": [
            "Train on 24038 samples, validate on 2671 samples\n",
            "Epoch 1/9\n",
            "24038/24038 [==============================] - 2s 77us/step - loss: 0.6716 - acc: 0.5884 - val_loss: 0.6312 - val_acc: 0.7005\n",
            "Epoch 2/9\n",
            "24038/24038 [==============================] - 1s 57us/step - loss: 0.5237 - acc: 0.7506 - val_loss: 0.4594 - val_acc: 0.7885\n",
            "Epoch 3/9\n",
            "24038/24038 [==============================] - 1s 58us/step - loss: 0.3773 - acc: 0.8295 - val_loss: 0.4086 - val_acc: 0.8087\n",
            "Epoch 4/9\n",
            "24038/24038 [==============================] - 1s 57us/step - loss: 0.3110 - acc: 0.8638 - val_loss: 0.4025 - val_acc: 0.8169\n",
            "Epoch 5/9\n",
            "24038/24038 [==============================] - 1s 57us/step - loss: 0.2713 - acc: 0.8837 - val_loss: 0.4134 - val_acc: 0.8121\n",
            "Epoch 6/9\n",
            "24038/24038 [==============================] - 1s 58us/step - loss: 0.2447 - acc: 0.8969 - val_loss: 0.4130 - val_acc: 0.8165\n",
            "Epoch 7/9\n",
            "24038/24038 [==============================] - 1s 57us/step - loss: 0.2193 - acc: 0.9086 - val_loss: 0.4327 - val_acc: 0.8132\n",
            "Epoch 8/9\n",
            "24038/24038 [==============================] - 1s 59us/step - loss: 0.1982 - acc: 0.9186 - val_loss: 0.4516 - val_acc: 0.8139\n",
            "Epoch 9/9\n",
            "24038/24038 [==============================] - 1s 56us/step - loss: 0.1819 - acc: 0.9251 - val_loss: 0.4742 - val_acc: 0.8136\n"
          ],
          "name": "stdout"
        }
      ]
    }
  ]
}
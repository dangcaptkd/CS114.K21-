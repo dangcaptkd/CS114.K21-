{
  "nbformat": 4,
  "nbformat_minor": 0,
  "metadata": {
    "colab": {
      "name": "sarcasm detection.ipynb",
      "provenance": [],
      "toc_visible": true,
      "authorship_tag": "ABX9TyPnxT6OnjBAE7yJTy60fAXx",
      "include_colab_link": true
    },
    "kernelspec": {
      "name": "python3",
      "display_name": "Python 3"
    },
    "accelerator": "GPU"
  },
  "cells": [
    {
      "cell_type": "markdown",
      "metadata": {
        "id": "view-in-github",
        "colab_type": "text"
      },
      "source": [
        "<a href=\"https://colab.research.google.com/github/dangcaptkd/CS114.K21-/blob/master/sarcasm_detection.ipynb\" target=\"_parent\"><img src=\"https://colab.research.google.com/assets/colab-badge.svg\" alt=\"Open In Colab\"/></a>"
      ]
    },
    {
      "cell_type": "markdown",
      "metadata": {
        "id": "KX_2DDpenlIY",
        "colab_type": "text"
      },
      "source": [
        "**Sarcasm detection**\n",
        "\n",
        "**Data**\n",
        "  *   Data train được lấy từ kaggle: News Headlines Dataset For Sarcasm Detection\n",
        "  *   Dataset-train gồm:\n",
        "    *   is_sarcastic: là 1 nếu là sarcasm ngược lại là 0\n",
        "    *   headline: tiêu đề\n",
        "    *   article_link: link của article\n",
        "\n",
        "\n",
        "**Các kĩ thuật xử lý data**\n",
        "\n",
        "  * Regular Expression: loại bỏ các kí tự không cần thiết. Ex: don't ---> don t\n",
        "  * Stemming data: đưa các từ về hình thức gốc của nó. Ex: loved---> love\n",
        "  * TF-IDF (Term frequency-Document term frequency): \n",
        "    * TF: là số lần xuất hiện của từ đó trong văn bản\n",
        "    * IDF: Tần số nghịch của 1 từ trong tập văn bản \n",
        "    * tfidf = TF*IDF, những từ có tần số ifidf cao là những từ xuất hiện nhiều trong văn bản này, và xuất hiện ít trong các văn bản khác. Việc này giúp lọc ra những từ phổ biến và giữ lại những từ có giá trị cao (từ khoá của văn bản đó).\n",
        "\n",
        "\n",
        "\n",
        "\n",
        "\n",
        "\n",
        "\n",
        "\n"
      ]
    },
    {
      "cell_type": "markdown",
      "metadata": {
        "id": "hAL1RKfd5j15",
        "colab_type": "text"
      },
      "source": [
        "Lấy data từ kaggle!\n",
        "\n"
      ]
    },
    {
      "cell_type": "code",
      "metadata": {
        "id": "Y03UP2vU0N4u",
        "colab_type": "code",
        "colab": {
          "resources": {
            "http://localhost:8080/nbextensions/google.colab/files.js": {
              "data": "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",
              "ok": true,
              "headers": [
                [
                  "content-type",
                  "application/javascript"
                ]
              ],
              "status": 200,
              "status_text": ""
            }
          },
          "base_uri": "https://localhost:8080/",
          "height": 89
        },
        "outputId": "56057131-4762-440b-9d06-8dee32cf1728"
      },
      "source": [
        "from google.colab import files\n",
        "files.upload()"
      ],
      "execution_count": null,
      "outputs": [
        {
          "output_type": "display_data",
          "data": {
            "text/html": [
              "\n",
              "     <input type=\"file\" id=\"files-24777f77-19ff-4971-a2f5-06d00ae831ac\" name=\"files[]\" multiple disabled\n",
              "        style=\"border:none\" />\n",
              "     <output id=\"result-24777f77-19ff-4971-a2f5-06d00ae831ac\">\n",
              "      Upload widget is only available when the cell has been executed in the\n",
              "      current browser session. Please rerun this cell to enable.\n",
              "      </output>\n",
              "      <script src=\"/nbextensions/google.colab/files.js\"></script> "
            ],
            "text/plain": [
              "<IPython.core.display.HTML object>"
            ]
          },
          "metadata": {
            "tags": []
          }
        },
        {
          "output_type": "stream",
          "text": [
            "Saving kaggle.json to kaggle.json\n"
          ],
          "name": "stdout"
        },
        {
          "output_type": "execute_result",
          "data": {
            "text/plain": [
              "{'kaggle.json': b'{\"username\":\"quyennguyenthinh\",\"key\":\"52c200c7cee98c6a1dd7c6433c61afd8\"}'}"
            ]
          },
          "metadata": {
            "tags": []
          },
          "execution_count": 1
        }
      ]
    },
    {
      "cell_type": "code",
      "metadata": {
        "id": "EuH8QBhq1Rd3",
        "colab_type": "code",
        "colab": {}
      },
      "source": [
        "#!ls -lha kaggle.json\n",
        "!pip install -q kaggle\n",
        "!mkdir -p ~/.kaggle\n",
        "!cp kaggle.json ~/.kaggle/\n",
        "!chmod 600 ~/.kaggle/kaggle.json"
      ],
      "execution_count": null,
      "outputs": []
    },
    {
      "cell_type": "code",
      "metadata": {
        "id": "5-y8b1oh1ixW",
        "colab_type": "code",
        "colab": {
          "base_uri": "https://localhost:8080/",
          "height": 68
        },
        "outputId": "9e8e67f2-c640-4944-ce21-d7466acb5000"
      },
      "source": [
        "!kaggle datasets download -d rmisra/news-headlines-dataset-for-sarcasm-detection"
      ],
      "execution_count": null,
      "outputs": [
        {
          "output_type": "stream",
          "text": [
            "Downloading news-headlines-dataset-for-sarcasm-detection.zip to /content\n",
            "\r  0% 0.00/3.30M [00:00<?, ?B/s]\n",
            "\r100% 3.30M/3.30M [00:00<00:00, 111MB/s]\n"
          ],
          "name": "stdout"
        }
      ]
    },
    {
      "cell_type": "code",
      "metadata": {
        "id": "DeGFLsYL2Jb4",
        "colab_type": "code",
        "colab": {
          "base_uri": "https://localhost:8080/",
          "height": 68
        },
        "outputId": "e8f49f85-b860-43ae-d6a6-bc2f90952128"
      },
      "source": [
        "!unzip news-headlines-dataset-for-sarcasm-detection"
      ],
      "execution_count": null,
      "outputs": [
        {
          "output_type": "stream",
          "text": [
            "Archive:  news-headlines-dataset-for-sarcasm-detection.zip\n",
            "  inflating: Sarcasm_Headlines_Dataset.json  \n",
            "  inflating: Sarcasm_Headlines_Dataset_v2.json  \n"
          ],
          "name": "stdout"
        }
      ]
    },
    {
      "cell_type": "markdown",
      "metadata": {
        "id": "n6tsgE_R6PgV",
        "colab_type": "text"
      },
      "source": [
        "# Load,show, check, pre-processing, training and testing data\n",
        "#(regular expression, steming, TF-IDF Vectorizer)"
      ]
    },
    {
      "cell_type": "code",
      "metadata": {
        "id": "GlZtMitl2VES",
        "colab_type": "code",
        "colab": {}
      },
      "source": [
        "import pandas as pd\n",
        "import numpy as np\n",
        "import re\n",
        "from nltk.stem.porter import PorterStemmer\n",
        "from sklearn.feature_extraction.text import TfidfVectorizer"
      ],
      "execution_count": 20,
      "outputs": []
    },
    {
      "cell_type": "markdown",
      "metadata": {
        "id": "53PN0dBQ7zl_",
        "colab_type": "text"
      },
      "source": [
        "load data from jason file"
      ]
    },
    {
      "cell_type": "code",
      "metadata": {
        "id": "ixAGsowx2lyl",
        "colab_type": "code",
        "colab": {}
      },
      "source": [
        "data = pd.read_json('Sarcasm_Headlines_Dataset.json', lines = True)"
      ],
      "execution_count": null,
      "outputs": []
    },
    {
      "cell_type": "markdown",
      "metadata": {
        "id": "YE6e02-u76iA",
        "colab_type": "text"
      },
      "source": [
        "show data"
      ]
    },
    {
      "cell_type": "code",
      "metadata": {
        "id": "DTEVqLRw2_Fy",
        "colab_type": "code",
        "colab": {
          "base_uri": "https://localhost:8080/",
          "height": 419
        },
        "outputId": "c0ae4e7d-322f-4271-ef3f-342afbd789c9"
      },
      "source": [
        "data"
      ],
      "execution_count": null,
      "outputs": [
        {
          "output_type": "execute_result",
          "data": {
            "text/html": [
              "<div>\n",
              "<style scoped>\n",
              "    .dataframe tbody tr th:only-of-type {\n",
              "        vertical-align: middle;\n",
              "    }\n",
              "\n",
              "    .dataframe tbody tr th {\n",
              "        vertical-align: top;\n",
              "    }\n",
              "\n",
              "    .dataframe thead th {\n",
              "        text-align: right;\n",
              "    }\n",
              "</style>\n",
              "<table border=\"1\" class=\"dataframe\">\n",
              "  <thead>\n",
              "    <tr style=\"text-align: right;\">\n",
              "      <th></th>\n",
              "      <th>article_link</th>\n",
              "      <th>headline</th>\n",
              "      <th>is_sarcastic</th>\n",
              "    </tr>\n",
              "  </thead>\n",
              "  <tbody>\n",
              "    <tr>\n",
              "      <th>0</th>\n",
              "      <td>https://www.huffingtonpost.com/entry/versace-b...</td>\n",
              "      <td>former versace store clerk sues over secret 'b...</td>\n",
              "      <td>0</td>\n",
              "    </tr>\n",
              "    <tr>\n",
              "      <th>1</th>\n",
              "      <td>https://www.huffingtonpost.com/entry/roseanne-...</td>\n",
              "      <td>the 'roseanne' revival catches up to our thorn...</td>\n",
              "      <td>0</td>\n",
              "    </tr>\n",
              "    <tr>\n",
              "      <th>2</th>\n",
              "      <td>https://local.theonion.com/mom-starting-to-fea...</td>\n",
              "      <td>mom starting to fear son's web series closest ...</td>\n",
              "      <td>1</td>\n",
              "    </tr>\n",
              "    <tr>\n",
              "      <th>3</th>\n",
              "      <td>https://politics.theonion.com/boehner-just-wan...</td>\n",
              "      <td>boehner just wants wife to listen, not come up...</td>\n",
              "      <td>1</td>\n",
              "    </tr>\n",
              "    <tr>\n",
              "      <th>4</th>\n",
              "      <td>https://www.huffingtonpost.com/entry/jk-rowlin...</td>\n",
              "      <td>j.k. rowling wishes snape happy birthday in th...</td>\n",
              "      <td>0</td>\n",
              "    </tr>\n",
              "    <tr>\n",
              "      <th>...</th>\n",
              "      <td>...</td>\n",
              "      <td>...</td>\n",
              "      <td>...</td>\n",
              "    </tr>\n",
              "    <tr>\n",
              "      <th>26704</th>\n",
              "      <td>https://www.huffingtonpost.com/entry/american-...</td>\n",
              "      <td>american politics in moral free-fall</td>\n",
              "      <td>0</td>\n",
              "    </tr>\n",
              "    <tr>\n",
              "      <th>26705</th>\n",
              "      <td>https://www.huffingtonpost.com/entry/americas-...</td>\n",
              "      <td>america's best 20 hikes</td>\n",
              "      <td>0</td>\n",
              "    </tr>\n",
              "    <tr>\n",
              "      <th>26706</th>\n",
              "      <td>https://www.huffingtonpost.com/entry/reparatio...</td>\n",
              "      <td>reparations and obama</td>\n",
              "      <td>0</td>\n",
              "    </tr>\n",
              "    <tr>\n",
              "      <th>26707</th>\n",
              "      <td>https://www.huffingtonpost.com/entry/israeli-b...</td>\n",
              "      <td>israeli ban targeting boycott supporters raise...</td>\n",
              "      <td>0</td>\n",
              "    </tr>\n",
              "    <tr>\n",
              "      <th>26708</th>\n",
              "      <td>https://www.huffingtonpost.com/entry/gourmet-g...</td>\n",
              "      <td>gourmet gifts for the foodie 2014</td>\n",
              "      <td>0</td>\n",
              "    </tr>\n",
              "  </tbody>\n",
              "</table>\n",
              "<p>26709 rows × 3 columns</p>\n",
              "</div>"
            ],
            "text/plain": [
              "                                            article_link  ... is_sarcastic\n",
              "0      https://www.huffingtonpost.com/entry/versace-b...  ...            0\n",
              "1      https://www.huffingtonpost.com/entry/roseanne-...  ...            0\n",
              "2      https://local.theonion.com/mom-starting-to-fea...  ...            1\n",
              "3      https://politics.theonion.com/boehner-just-wan...  ...            1\n",
              "4      https://www.huffingtonpost.com/entry/jk-rowlin...  ...            0\n",
              "...                                                  ...  ...          ...\n",
              "26704  https://www.huffingtonpost.com/entry/american-...  ...            0\n",
              "26705  https://www.huffingtonpost.com/entry/americas-...  ...            0\n",
              "26706  https://www.huffingtonpost.com/entry/reparatio...  ...            0\n",
              "26707  https://www.huffingtonpost.com/entry/israeli-b...  ...            0\n",
              "26708  https://www.huffingtonpost.com/entry/gourmet-g...  ...            0\n",
              "\n",
              "[26709 rows x 3 columns]"
            ]
          },
          "metadata": {
            "tags": []
          },
          "execution_count": 7
        }
      ]
    },
    {
      "cell_type": "markdown",
      "metadata": {
        "id": "r6HJWVKO6EFp",
        "colab_type": "text"
      },
      "source": [
        "Check the null value"
      ]
    },
    {
      "cell_type": "code",
      "metadata": {
        "id": "92tlnOzQ3Pb-",
        "colab_type": "code",
        "colab": {
          "base_uri": "https://localhost:8080/",
          "height": 85
        },
        "outputId": "72262262-b305-4a66-a111-8107b47153d4"
      },
      "source": [
        "print(data.isnull().any(axis = 0))"
      ],
      "execution_count": null,
      "outputs": [
        {
          "output_type": "stream",
          "text": [
            "article_link    False\n",
            "headline        False\n",
            "is_sarcastic    False\n",
            "dtype: bool\n"
          ],
          "name": "stdout"
        }
      ]
    },
    {
      "cell_type": "markdown",
      "metadata": {
        "id": "_m10y4KGclZG",
        "colab_type": "text"
      },
      "source": [
        "**pre-processing data**"
      ]
    },
    {
      "cell_type": "markdown",
      "metadata": {
        "id": "dkmM6kES9H8K",
        "colab_type": "text"
      },
      "source": [
        "Ở cột headline sẽ có 1 vài kí tự cần được loại bỏ('?.+-=\"/...), dùng regular expression để loại bỏ các kí tự này"
      ]
    },
    {
      "cell_type": "code",
      "metadata": {
        "id": "ivSbhUgI3SVw",
        "colab_type": "code",
        "colab": {
          "base_uri": "https://localhost:8080/",
          "height": 68
        },
        "outputId": "1540fa0a-25d4-4974-c801-eb34e7373a12"
      },
      "source": [
        "print('Example')\n",
        "print('before:',data['headline'][0])\n",
        "data['headline'] = data['headline'].apply(lambda s : re.sub('[^a-zA-Z]', ' ', s))\n",
        "print('after: {}'.format(data['headline'][0]))"
      ],
      "execution_count": null,
      "outputs": [
        {
          "output_type": "stream",
          "text": [
            "Example\n",
            "before: former versace store clerk sues over secret 'black code' for minority shoppers\n",
            "after: former versace store clerk sues over secret  black code  for minority shoppers\n"
          ],
          "name": "stdout"
        }
      ]
    },
    {
      "cell_type": "markdown",
      "metadata": {
        "id": "jyCLvGEB9iqP",
        "colab_type": "text"
      },
      "source": [
        "Gán feature và label "
      ]
    },
    {
      "cell_type": "code",
      "metadata": {
        "id": "_GIcJ4hv3gcb",
        "colab_type": "code",
        "colab": {}
      },
      "source": [
        "features = data['headline']\n",
        "labels = data['is_sarcastic']"
      ],
      "execution_count": null,
      "outputs": []
    },
    {
      "cell_type": "markdown",
      "metadata": {
        "id": "odl24x9S-BrX",
        "colab_type": "text"
      },
      "source": [
        "**Stemming**"
      ]
    },
    {
      "cell_type": "markdown",
      "metadata": {
        "id": "NbPCT5_1-bvb",
        "colab_type": "text"
      },
      "source": [
        "Stemming là 1 kĩ thuật đưa các từ về hình thức gốc của nó, ex: loved-->love"
      ]
    },
    {
      "cell_type": "code",
      "metadata": {
        "id": "rVfkF6hE3o3b",
        "colab_type": "code",
        "colab": {
          "base_uri": "https://localhost:8080/",
          "height": 68
        },
        "outputId": "7ab23974-f75b-4e3e-de08-df1e6bd12215"
      },
      "source": [
        "print('Example')\n",
        "print('before steaming:', features[0])\n",
        "ps = PorterStemmer()\n",
        "features = features.apply(lambda x: x.split())\n",
        "features = features.apply(lambda x : ' '.join([ps.stem(word) for word in x]))\n",
        "print('after steaming:', features[0])"
      ],
      "execution_count": null,
      "outputs": [
        {
          "output_type": "stream",
          "text": [
            "Example\n",
            "before steaming: former versace store clerk sues over secret  black code  for minority shoppers\n",
            "after steaming: former versac store clerk sue over secret black code for minor shopper\n"
          ],
          "name": "stdout"
        }
      ]
    },
    {
      "cell_type": "markdown",
      "metadata": {
        "id": "zrj1Xk9G-_9D",
        "colab_type": "text"
      },
      "source": [
        "**TF-IDF Vectorizer**"
      ]
    },
    {
      "cell_type": "markdown",
      "metadata": {
        "id": "tcuQXcE3gUqO",
        "colab_type": "text"
      },
      "source": [
        "*   TfidfVectorizer(): \"Convert a collection of raw documents to a matrix of TF-IDF features.\"\n",
        "*   TfidfVectorizer.fit_transform(): \"Learn vocabulary and idf, return **document-term matrix**\"\n",
        "\n",
        "Document-term matrix là ma trận có các hàng tương ứng với văn bản, các cột tương ứng với từng từ\n",
        "\n",
        "Ex:\n",
        " \n",
        "![alt text](https://www.researchgate.net/profile/Khawar_Mehmood/publication/342027900/figure/tbl2/AS:900374928031745@1591677519266/Example-of-document-term-matrix-Unigram.png)\n",
        "\n",
        "\n",
        "\n",
        "\n"
      ]
    },
    {
      "cell_type": "code",
      "metadata": {
        "id": "iMolIrPc6RH3",
        "colab_type": "code",
        "colab": {}
      },
      "source": [
        "tv = TfidfVectorizer(max_features = 5000)\n",
        "features = list(features)\n",
        "features = tv.fit_transform(features).toarray()"
      ],
      "execution_count": null,
      "outputs": []
    },
    {
      "cell_type": "markdown",
      "metadata": {
        "id": "7ljFSvC1KBzR",
        "colab_type": "text"
      },
      "source": [
        "Import thư viện cần thiết"
      ]
    },
    {
      "cell_type": "code",
      "metadata": {
        "id": "_cNH7YDg2hHI",
        "colab_type": "code",
        "colab": {}
      },
      "source": [
        "from sklearn.model_selection import train_test_split\n",
        "from sklearn.model_selection import cross_val_score\n",
        "from sklearn.metrics import confusion_matrix\n",
        "\n",
        "from sklearn.svm import LinearSVC\n",
        "from sklearn.naive_bayes import GaussianNB\n",
        "from sklearn.linear_model import LogisticRegression\n",
        "from sklearn.ensemble import RandomForestClassifier\n",
        "from sklearn.tree import DecisionTreeClassifier\n",
        "from sklearn.neighbors import KNeighborsClassifier"
      ],
      "execution_count": null,
      "outputs": []
    },
    {
      "cell_type": "markdown",
      "metadata": {
        "id": "OcX4aTFZKG73",
        "colab_type": "text"
      },
      "source": [
        "split và show shape data"
      ]
    },
    {
      "cell_type": "code",
      "metadata": {
        "id": "kGtW3h1c6aOv",
        "colab_type": "code",
        "colab": {
          "base_uri": "https://localhost:8080/",
          "height": 85
        },
        "outputId": "c8ce86b9-bb88-4d34-a3e8-7ee3e61855cf"
      },
      "source": [
        "features_train, features_test, labels_train, labels_test = train_test_split(features, labels, test_size = 0.1, random_state = 0)\n",
        "print('features_train:', features_train.shape)\n",
        "print('labels_train:', labels_train.shape)\n",
        "print('features_test', features_test.shape)\n",
        "print('labels_test:', labels_test.shape)"
      ],
      "execution_count": null,
      "outputs": [
        {
          "output_type": "stream",
          "text": [
            "features_train: (24038, 5000)\n",
            "labels_train: (24038,)\n",
            "features_test (2671, 5000)\n",
            "labels_test: (2671,)\n"
          ],
          "name": "stdout"
        }
      ]
    },
    {
      "cell_type": "markdown",
      "metadata": {
        "id": "-9ZsmOEvdgaY",
        "colab_type": "text"
      },
      "source": [
        "**training and testing data**"
      ]
    },
    {
      "cell_type": "markdown",
      "metadata": {
        "id": "ARv7KP2lKOev",
        "colab_type": "text"
      },
      "source": [
        "Sử dụng các model để train: LinearSVC, GausinanNB, LogisticRegression, DecisionTreeClassifier, RandomForestClassifier"
      ]
    },
    {
      "cell_type": "code",
      "metadata": {
        "id": "jAA9FDTT3DM2",
        "colab_type": "code",
        "colab": {}
      },
      "source": [
        "models = []\n",
        "models.append(('LinearSVC', LinearSVC()))\n",
        "models.append(('GaussianNB', GaussianNB()))\n",
        "models.append(('LogisticRegression', LogisticRegression()))\n",
        "models.append(('DecisionTreeClassifier', DecisionTreeClassifier()))\n",
        "models.append(('RandomForestClassifier', RandomForestClassifier()))"
      ],
      "execution_count": null,
      "outputs": []
    },
    {
      "cell_type": "code",
      "metadata": {
        "id": "BO2nwl4231DN",
        "colab_type": "code",
        "colab": {
          "base_uri": "https://localhost:8080/",
          "height": 272
        },
        "outputId": "7f4902d7-795b-4800-bdf1-9984232f3562"
      },
      "source": [
        "for name, model in models:\n",
        "  model.fit(features_train, labels_train)\n",
        "  print(name)\n",
        "  print('\\tscore train:', model.score(features_train, labels_train))\n",
        "  print('\\tscore test:', model.score(features_test, labels_test))"
      ],
      "execution_count": null,
      "outputs": [
        {
          "output_type": "stream",
          "text": [
            "LinearSVC\n",
            "\tscore train: 0.9110574923038522\n",
            "\tscore test: 0.8360164732309996\n",
            "GaussianNB\n",
            "\tscore train: 0.7826358266078709\n",
            "\tscore test: 0.7162111568700861\n",
            "LogisticRegression\n",
            "\tscore train: 0.8824777435726766\n",
            "\tscore test: 0.8375140396855111\n",
            "DecisionTreeClassifier\n",
            "\tscore train: 0.999875197603794\n",
            "\tscore test: 0.7487832272557094\n",
            "RandomForestClassifier\n",
            "\tscore train: 0.999875197603794\n",
            "\tscore test: 0.8124298015724448\n"
          ],
          "name": "stdout"
        }
      ]
    },
    {
      "cell_type": "markdown",
      "metadata": {
        "id": "fu_w7ZGYvNoO",
        "colab_type": "text"
      },
      "source": [
        "# Crawl data"
      ]
    },
    {
      "cell_type": "code",
      "metadata": {
        "id": "xlJXmn-vvWCC",
        "colab_type": "code",
        "colab": {}
      },
      "source": [
        "import requests\n",
        "from bs4 import BeautifulSoup\n",
        "import numpy as np"
      ],
      "execution_count": null,
      "outputs": []
    },
    {
      "cell_type": "code",
      "metadata": {
        "id": "-EpEdIUi6voy",
        "colab_type": "code",
        "colab": {}
      },
      "source": [
        "def crawl(url, data):\n",
        "  r1 = requests.get(url)\n",
        "  coverpage = r1.content\n",
        "  soup1 = BeautifulSoup(coverpage, 'html5lib')\n",
        "  coverpage_news = soup1.find_all(\"h2\", class_=\"sc-759qgu-0 cYlVdn cw4lnv-6 eXwNRE\")\n",
        "  for i in coverpage_news:\n",
        "    data.append(i.get_text())\n",
        "  "
      ],
      "execution_count": null,
      "outputs": []
    },
    {
      "cell_type": "code",
      "metadata": {
        "id": "WDKf9jXF8ckU",
        "colab_type": "code",
        "colab": {}
      },
      "source": [
        "url = \"https://www.theonion.com/latest\"\n",
        "more_stories = ''\n",
        "data= []\n",
        "while len(data)<2000:\n",
        "  crawl(url+more_stories, data)\n",
        "  r1 = requests.get(url)\n",
        "  coverpage = r1.content\n",
        "  soup1 = BeautifulSoup(coverpage, 'html5lib')\n",
        "  t = soup1.find_all(\"a\", class_=\"sc-1out364-0 hMndXN js_link\")\n",
        "  more_stories = t[-1].get('href')\n"
      ],
      "execution_count": null,
      "outputs": []
    },
    {
      "cell_type": "code",
      "metadata": {
        "id": "ywpPxb00-ILK",
        "colab_type": "code",
        "colab": {
          "base_uri": "https://localhost:8080/",
          "height": 34
        },
        "outputId": "f1953da7-6475-48c8-a4b3-a68326bd220f"
      },
      "source": [
        "len(data)"
      ],
      "execution_count": null,
      "outputs": [
        {
          "output_type": "execute_result",
          "data": {
            "text/plain": [
              "2000"
            ]
          },
          "metadata": {
            "tags": []
          },
          "execution_count": 104
        }
      ]
    },
    {
      "cell_type": "code",
      "metadata": {
        "id": "7-3sr9jFAsc6",
        "colab_type": "code",
        "colab": {
          "base_uri": "https://localhost:8080/",
          "height": 54
        },
        "outputId": "5b2dc378-3730-42e5-ffed-363c2e8e7ba9"
      },
      "source": [
        "is_sarcasm = [1]*2000\n",
        "print(is_sarcasm)"
      ],
      "execution_count": null,
      "outputs": [
        {
          "output_type": "stream",
          "text": [
            "[1, 1, 1, 1, 1, 1, 1, 1, 1, 1, 1, 1, 1, 1, 1, 1, 1, 1, 1, 1, 1, 1, 1, 1, 1, 1, 1, 1, 1, 1, 1, 1, 1, 1, 1, 1, 1, 1, 1, 1, 1, 1, 1, 1, 1, 1, 1, 1, 1, 1, 1, 1, 1, 1, 1, 1, 1, 1, 1, 1, 1, 1, 1, 1, 1, 1, 1, 1, 1, 1, 1, 1, 1, 1, 1, 1, 1, 1, 1, 1, 1, 1, 1, 1, 1, 1, 1, 1, 1, 1, 1, 1, 1, 1, 1, 1, 1, 1, 1, 1, 1, 1, 1, 1, 1, 1, 1, 1, 1, 1, 1, 1, 1, 1, 1, 1, 1, 1, 1, 1, 1, 1, 1, 1, 1, 1, 1, 1, 1, 1, 1, 1, 1, 1, 1, 1, 1, 1, 1, 1, 1, 1, 1, 1, 1, 1, 1, 1, 1, 1, 1, 1, 1, 1, 1, 1, 1, 1, 1, 1, 1, 1, 1, 1, 1, 1, 1, 1, 1, 1, 1, 1, 1, 1, 1, 1, 1, 1, 1, 1, 1, 1, 1, 1, 1, 1, 1, 1, 1, 1, 1, 1, 1, 1, 1, 1, 1, 1, 1, 1, 1, 1, 1, 1, 1, 1, 1, 1, 1, 1, 1, 1, 1, 1, 1, 1, 1, 1, 1, 1, 1, 1, 1, 1, 1, 1, 1, 1, 1, 1, 1, 1, 1, 1, 1, 1, 1, 1, 1, 1, 1, 1, 1, 1, 1, 1, 1, 1, 1, 1, 1, 1, 1, 1, 1, 1, 1, 1, 1, 1, 1, 1, 1, 1, 1, 1, 1, 1, 1, 1, 1, 1, 1, 1, 1, 1, 1, 1, 1, 1, 1, 1, 1, 1, 1, 1, 1, 1, 1, 1, 1, 1, 1, 1, 1, 1, 1, 1, 1, 1, 1, 1, 1, 1, 1, 1, 1, 1, 1, 1, 1, 1, 1, 1, 1, 1, 1, 1, 1, 1, 1, 1, 1, 1, 1, 1, 1, 1, 1, 1, 1, 1, 1, 1, 1, 1, 1, 1, 1, 1, 1, 1, 1, 1, 1, 1, 1, 1, 1, 1, 1, 1, 1, 1, 1, 1, 1, 1, 1, 1, 1, 1, 1, 1, 1, 1, 1, 1, 1, 1, 1, 1, 1, 1, 1, 1, 1, 1, 1, 1, 1, 1, 1, 1, 1, 1, 1, 1, 1, 1, 1, 1, 1, 1, 1, 1, 1, 1, 1, 1, 1, 1, 1, 1, 1, 1, 1, 1, 1, 1, 1, 1, 1, 1, 1, 1, 1, 1, 1, 1, 1, 1, 1, 1, 1, 1, 1, 1, 1, 1, 1, 1, 1, 1, 1, 1, 1, 1, 1, 1, 1, 1, 1, 1, 1, 1, 1, 1, 1, 1, 1, 1, 1, 1, 1, 1, 1, 1, 1, 1, 1, 1, 1, 1, 1, 1, 1, 1, 1, 1, 1, 1, 1, 1, 1, 1, 1, 1, 1, 1, 1, 1, 1, 1, 1, 1, 1, 1, 1, 1, 1, 1, 1, 1, 1, 1, 1, 1, 1, 1, 1, 1, 1, 1, 1, 1, 1, 1, 1, 1, 1, 1, 1, 1, 1, 1, 1, 1, 1, 1, 1, 1, 1, 1, 1, 1, 1, 1, 1, 1, 1, 1, 1, 1, 1, 1, 1, 1, 1, 1, 1, 1, 1, 1, 1, 1, 1, 1, 1, 1, 1, 1, 1, 1, 1, 1, 1, 1, 1, 1, 1, 1, 1, 1, 1, 1, 1, 1, 1, 1, 1, 1, 1, 1, 1, 1, 1, 1, 1, 1, 1, 1, 1, 1, 1, 1, 1, 1, 1, 1, 1, 1, 1, 1, 1, 1, 1, 1, 1, 1, 1, 1, 1, 1, 1, 1, 1, 1, 1, 1, 1, 1, 1, 1, 1, 1, 1, 1, 1, 1, 1, 1, 1, 1, 1, 1, 1, 1, 1, 1, 1, 1, 1, 1, 1, 1, 1, 1, 1, 1, 1, 1, 1, 1, 1, 1, 1, 1, 1, 1, 1, 1, 1, 1, 1, 1, 1, 1, 1, 1, 1, 1, 1, 1, 1, 1, 1, 1, 1, 1, 1, 1, 1, 1, 1, 1, 1, 1, 1, 1, 1, 1, 1, 1, 1, 1, 1, 1, 1, 1, 1, 1, 1, 1, 1, 1, 1, 1, 1, 1, 1, 1, 1, 1, 1, 1, 1, 1, 1, 1, 1, 1, 1, 1, 1, 1, 1, 1, 1, 1, 1, 1, 1, 1, 1, 1, 1, 1, 1, 1, 1, 1, 1, 1, 1, 1, 1, 1, 1, 1, 1, 1, 1, 1, 1, 1, 1, 1, 1, 1, 1, 1, 1, 1, 1, 1, 1, 1, 1, 1, 1, 1, 1, 1, 1, 1, 1, 1, 1, 1, 1, 1, 1, 1, 1, 1, 1, 1, 1, 1, 1, 1, 1, 1, 1, 1, 1, 1, 1, 1, 1, 1, 1, 1, 1, 1, 1, 1, 1, 1, 1, 1, 1, 1, 1, 1, 1, 1, 1, 1, 1, 1, 1, 1, 1, 1, 1, 1, 1, 1, 1, 1, 1, 1, 1, 1, 1, 1, 1, 1, 1, 1, 1, 1, 1, 1, 1, 1, 1, 1, 1, 1, 1, 1, 1, 1, 1, 1, 1, 1, 1, 1, 1, 1, 1, 1, 1, 1, 1, 1, 1, 1, 1, 1, 1, 1, 1, 1, 1, 1, 1, 1, 1, 1, 1, 1, 1, 1, 1, 1, 1, 1, 1, 1, 1, 1, 1, 1, 1, 1, 1, 1, 1, 1, 1, 1, 1, 1, 1, 1, 1, 1, 1, 1, 1, 1, 1, 1, 1, 1, 1, 1, 1, 1, 1, 1, 1, 1, 1, 1, 1, 1, 1, 1, 1, 1, 1, 1, 1, 1, 1, 1, 1, 1, 1, 1, 1, 1, 1, 1, 1, 1, 1, 1, 1, 1, 1, 1, 1, 1, 1, 1, 1, 1, 1, 1, 1, 1, 1, 1, 1, 1, 1, 1, 1, 1, 1, 1, 1, 1, 1, 1, 1, 1, 1, 1, 1, 1, 1, 1, 1, 1, 1, 1, 1, 1, 1, 1, 1, 1, 1, 1, 1, 1, 1, 1, 1, 1, 1, 1, 1, 1, 1, 1, 1, 1, 1, 1, 1, 1, 1, 1, 1, 1, 1, 1, 1, 1, 1, 1, 1, 1, 1, 1, 1, 1, 1, 1, 1, 1, 1, 1, 1, 1, 1, 1, 1, 1, 1, 1, 1, 1, 1, 1, 1, 1, 1, 1, 1, 1, 1, 1, 1, 1, 1, 1, 1, 1, 1, 1, 1, 1, 1, 1, 1, 1, 1, 1, 1, 1, 1, 1, 1, 1, 1, 1, 1, 1, 1, 1, 1, 1, 1, 1, 1, 1, 1, 1, 1, 1, 1, 1, 1, 1, 1, 1, 1, 1, 1, 1, 1, 1, 1, 1, 1, 1, 1, 1, 1, 1, 1, 1, 1, 1, 1, 1, 1, 1, 1, 1, 1, 1, 1, 1, 1, 1, 1, 1, 1, 1, 1, 1, 1, 1, 1, 1, 1, 1, 1, 1, 1, 1, 1, 1, 1, 1, 1, 1, 1, 1, 1, 1, 1, 1, 1, 1, 1, 1, 1, 1, 1, 1, 1, 1, 1, 1, 1, 1, 1, 1, 1, 1, 1, 1, 1, 1, 1, 1, 1, 1, 1, 1, 1, 1, 1, 1, 1, 1, 1, 1, 1, 1, 1, 1, 1, 1, 1, 1, 1, 1, 1, 1, 1, 1, 1, 1, 1, 1, 1, 1, 1, 1, 1, 1, 1, 1, 1, 1, 1, 1, 1, 1, 1, 1, 1, 1, 1, 1, 1, 1, 1, 1, 1, 1, 1, 1, 1, 1, 1, 1, 1, 1, 1, 1, 1, 1, 1, 1, 1, 1, 1, 1, 1, 1, 1, 1, 1, 1, 1, 1, 1, 1, 1, 1, 1, 1, 1, 1, 1, 1, 1, 1, 1, 1, 1, 1, 1, 1, 1, 1, 1, 1, 1, 1, 1, 1, 1, 1, 1, 1, 1, 1, 1, 1, 1, 1, 1, 1, 1, 1, 1, 1, 1, 1, 1, 1, 1, 1, 1, 1, 1, 1, 1, 1, 1, 1, 1, 1, 1, 1, 1, 1, 1, 1, 1, 1, 1, 1, 1, 1, 1, 1, 1, 1, 1, 1, 1, 1, 1, 1, 1, 1, 1, 1, 1, 1, 1, 1, 1, 1, 1, 1, 1, 1, 1, 1, 1, 1, 1, 1, 1, 1, 1, 1, 1, 1, 1, 1, 1, 1, 1, 1, 1, 1, 1, 1, 1, 1, 1, 1, 1, 1, 1, 1, 1, 1, 1, 1, 1, 1, 1, 1, 1, 1, 1, 1, 1, 1, 1, 1, 1, 1, 1, 1, 1, 1, 1, 1, 1, 1, 1, 1, 1, 1, 1, 1, 1, 1, 1, 1, 1, 1, 1, 1, 1, 1, 1, 1, 1, 1, 1, 1, 1, 1, 1, 1, 1, 1, 1, 1, 1, 1, 1, 1, 1, 1, 1, 1, 1, 1, 1, 1, 1, 1, 1, 1, 1, 1, 1, 1, 1, 1, 1, 1, 1, 1, 1, 1, 1, 1, 1, 1, 1, 1, 1, 1, 1, 1, 1, 1, 1, 1, 1, 1, 1, 1, 1, 1, 1, 1, 1, 1, 1, 1, 1, 1, 1, 1, 1, 1, 1, 1, 1, 1, 1, 1, 1, 1, 1, 1, 1, 1, 1, 1, 1, 1, 1, 1, 1, 1, 1, 1, 1, 1, 1, 1, 1, 1, 1, 1, 1, 1, 1, 1, 1, 1, 1, 1, 1, 1, 1, 1, 1, 1, 1, 1, 1, 1, 1, 1, 1, 1, 1, 1, 1, 1, 1, 1, 1, 1, 1, 1, 1, 1, 1, 1, 1, 1, 1, 1, 1, 1, 1, 1, 1, 1, 1, 1, 1, 1, 1, 1, 1, 1, 1, 1, 1, 1, 1, 1, 1, 1, 1, 1, 1, 1, 1, 1, 1, 1, 1, 1, 1, 1, 1, 1, 1, 1, 1, 1, 1, 1, 1, 1, 1, 1, 1, 1, 1, 1, 1, 1, 1, 1, 1, 1, 1, 1, 1, 1, 1, 1, 1, 1, 1, 1, 1, 1, 1, 1, 1, 1, 1, 1, 1, 1, 1, 1, 1, 1, 1, 1, 1, 1, 1, 1, 1, 1, 1, 1, 1, 1, 1, 1, 1, 1, 1, 1, 1, 1, 1, 1, 1, 1, 1, 1, 1, 1, 1, 1, 1, 1, 1, 1, 1, 1, 1, 1, 1, 1, 1, 1, 1, 1, 1, 1, 1, 1, 1, 1, 1, 1, 1, 1, 1, 1, 1, 1, 1, 1, 1, 1, 1, 1, 1, 1, 1, 1, 1, 1, 1, 1, 1, 1, 1, 1, 1, 1, 1, 1, 1, 1, 1, 1, 1, 1, 1, 1, 1, 1, 1, 1, 1, 1, 1, 1, 1, 1, 1, 1, 1, 1, 1, 1, 1, 1, 1, 1, 1, 1, 1, 1, 1, 1, 1, 1, 1, 1, 1, 1, 1, 1, 1, 1, 1, 1, 1, 1, 1, 1, 1, 1, 1, 1, 1, 1, 1, 1, 1, 1, 1, 1, 1, 1, 1, 1, 1, 1, 1, 1, 1, 1, 1, 1, 1, 1, 1, 1, 1, 1, 1, 1, 1, 1, 1, 1, 1, 1, 1, 1, 1, 1, 1, 1, 1, 1, 1, 1, 1, 1, 1, 1, 1, 1, 1, 1, 1, 1, 1, 1, 1, 1, 1, 1, 1, 1, 1, 1, 1, 1, 1, 1, 1, 1, 1, 1, 1, 1, 1, 1, 1, 1, 1, 1, 1, 1, 1, 1, 1, 1, 1, 1, 1, 1, 1, 1, 1, 1, 1, 1, 1, 1, 1, 1, 1, 1, 1, 1, 1, 1, 1, 1, 1, 1, 1, 1, 1, 1, 1, 1, 1, 1, 1, 1, 1, 1, 1, 1, 1, 1, 1, 1, 1, 1, 1, 1, 1, 1, 1, 1, 1, 1, 1, 1, 1, 1, 1, 1, 1, 1, 1, 1, 1, 1, 1, 1, 1, 1, 1, 1, 1, 1, 1, 1, 1, 1, 1, 1, 1, 1, 1, 1, 1, 1, 1, 1, 1, 1, 1, 1, 1, 1, 1, 1, 1, 1, 1, 1, 1, 1, 1, 1, 1, 1, 1, 1, 1, 1, 1, 1, 1, 1, 1, 1, 1, 1, 1, 1, 1, 1, 1, 1, 1, 1, 1, 1, 1, 1, 1, 1]\n"
          ],
          "name": "stdout"
        }
      ]
    },
    {
      "cell_type": "code",
      "metadata": {
        "id": "riFUbip_Azgt",
        "colab_type": "code",
        "colab": {
          "base_uri": "https://localhost:8080/",
          "height": 419
        },
        "outputId": "81161421-c20e-4054-b993-70e58d8b705f"
      },
      "source": [
        "data = pd.DataFrame({'headline': data, 'is_sarcasm': is_sarcasm})\n",
        "data"
      ],
      "execution_count": null,
      "outputs": [
        {
          "output_type": "execute_result",
          "data": {
            "text/html": [
              "<div>\n",
              "<style scoped>\n",
              "    .dataframe tbody tr th:only-of-type {\n",
              "        vertical-align: middle;\n",
              "    }\n",
              "\n",
              "    .dataframe tbody tr th {\n",
              "        vertical-align: top;\n",
              "    }\n",
              "\n",
              "    .dataframe thead th {\n",
              "        text-align: right;\n",
              "    }\n",
              "</style>\n",
              "<table border=\"1\" class=\"dataframe\">\n",
              "  <thead>\n",
              "    <tr style=\"text-align: right;\">\n",
              "      <th></th>\n",
              "      <th>headline</th>\n",
              "      <th>is_sarcasm</th>\n",
              "    </tr>\n",
              "  </thead>\n",
              "  <tbody>\n",
              "    <tr>\n",
              "      <th>0</th>\n",
              "      <td>Mental Health Experts Advise On Best Ways To C...</td>\n",
              "      <td>1</td>\n",
              "    </tr>\n",
              "    <tr>\n",
              "      <th>1</th>\n",
              "      <td>The Onion’s Father’s Day Gift Guide For The Da...</td>\n",
              "      <td>1</td>\n",
              "    </tr>\n",
              "    <tr>\n",
              "      <th>2</th>\n",
              "      <td>Staples Center Employee Realizes He Left Shot ...</td>\n",
              "      <td>1</td>\n",
              "    </tr>\n",
              "    <tr>\n",
              "      <th>3</th>\n",
              "      <td>Father’s Day Gifts That Will Make Your Dad Fee...</td>\n",
              "      <td>1</td>\n",
              "    </tr>\n",
              "    <tr>\n",
              "      <th>4</th>\n",
              "      <td>Huh, Boyfriend’s Ex Just Made Interesting Hair...</td>\n",
              "      <td>1</td>\n",
              "    </tr>\n",
              "    <tr>\n",
              "      <th>...</th>\n",
              "      <td>...</td>\n",
              "      <td>...</td>\n",
              "    </tr>\n",
              "    <tr>\n",
              "      <th>1995</th>\n",
              "      <td>Over 500,000 Americans Sign Petition Demanding...</td>\n",
              "      <td>1</td>\n",
              "    </tr>\n",
              "    <tr>\n",
              "      <th>1996</th>\n",
              "      <td>Jeff Bezos Depressed After Realizing Net Worth...</td>\n",
              "      <td>1</td>\n",
              "    </tr>\n",
              "    <tr>\n",
              "      <th>1997</th>\n",
              "      <td>Birch Tree Pictures Nude 4,000-Year-Old Bristl...</td>\n",
              "      <td>1</td>\n",
              "    </tr>\n",
              "    <tr>\n",
              "      <th>1998</th>\n",
              "      <td>NRA Receives Massive Funding Increase From Don...</td>\n",
              "      <td>1</td>\n",
              "    </tr>\n",
              "    <tr>\n",
              "      <th>1999</th>\n",
              "      <td>Passing Lane</td>\n",
              "      <td>1</td>\n",
              "    </tr>\n",
              "  </tbody>\n",
              "</table>\n",
              "<p>2000 rows × 2 columns</p>\n",
              "</div>"
            ],
            "text/plain": [
              "                                               headline  is_sarcasm\n",
              "0     Mental Health Experts Advise On Best Ways To C...           1\n",
              "1     The Onion’s Father’s Day Gift Guide For The Da...           1\n",
              "2     Staples Center Employee Realizes He Left Shot ...           1\n",
              "3     Father’s Day Gifts That Will Make Your Dad Fee...           1\n",
              "4     Huh, Boyfriend’s Ex Just Made Interesting Hair...           1\n",
              "...                                                 ...         ...\n",
              "1995  Over 500,000 Americans Sign Petition Demanding...           1\n",
              "1996  Jeff Bezos Depressed After Realizing Net Worth...           1\n",
              "1997  Birch Tree Pictures Nude 4,000-Year-Old Bristl...           1\n",
              "1998  NRA Receives Massive Funding Increase From Don...           1\n",
              "1999                                       Passing Lane           1\n",
              "\n",
              "[2000 rows x 2 columns]"
            ]
          },
          "metadata": {
            "tags": []
          },
          "execution_count": 108
        }
      ]
    },
    {
      "cell_type": "code",
      "metadata": {
        "id": "twVGSr0vCOCb",
        "colab_type": "code",
        "colab": {
          "base_uri": "https://localhost:8080/",
          "height": 255
        },
        "outputId": "27909f2a-2b0c-40a5-c8a4-335f4c62e2f8"
      },
      "source": [
        "url = \"https://edition.cnn.com\"\n",
        "themes = ['/world', '/politics', '/business']\n",
        "title = set()\n",
        "for theme in themes:\n",
        "  r1 = requests.get(url+theme)\n",
        "  coverpage = r1.content\n",
        "  soup1 = BeautifulSoup(coverpage, 'html5lib')\n",
        "  coverpage_news = soup1.find_all(\"a\", class_=\"cn__title--link icon\")\n",
        "  for i in coverpage_news:\n",
        "    t = i.get('href')\n",
        "    if t[0]!='/':\n",
        "      if \"https://edition.cnn.com\" in t:\n",
        "        title.add(t)\n",
        "    else:\n",
        "      title.add(\"https://edition.cnn.com\"+t)\n",
        "title"
      ],
      "execution_count": 68,
      "outputs": [
        {
          "output_type": "execute_result",
          "data": {
            "text/plain": [
              "{'https://edition.cnn.com/Africa',\n",
              " 'https://edition.cnn.com/americas',\n",
              " 'https://edition.cnn.com/asia',\n",
              " 'https://edition.cnn.com/business',\n",
              " 'https://edition.cnn.com/business/india',\n",
              " 'https://edition.cnn.com/europe',\n",
              " 'https://edition.cnn.com/middle-east',\n",
              " 'https://edition.cnn.com/specials/business/global-energy-challenge',\n",
              " 'https://edition.cnn.com/specials/cnn-heroes',\n",
              " 'https://edition.cnn.com/specials/health/vital-signs',\n",
              " 'https://edition.cnn.com/specials/tech/business-evolved',\n",
              " 'https://edition.cnn.com/specials/world/goinggreen',\n",
              " 'https://edition.cnn.com/style',\n",
              " 'https://edition.cnn.com/world'}"
            ]
          },
          "metadata": {
            "tags": []
          },
          "execution_count": 68
        }
      ]
    },
    {
      "cell_type": "code",
      "metadata": {
        "id": "mroe8jjMEZ4D",
        "colab_type": "code",
        "colab": {
          "base_uri": "https://localhost:8080/",
          "height": 544
        },
        "outputId": "a9a39a06-8fda-4754-a141-fcf977239346"
      },
      "source": [
        "title1 = set()\n",
        "for url in title:\n",
        "  #url = 'https://edition.cnn.com/Africa'\n",
        "  r1 = requests.get(url)\n",
        "  coverpage = r1.content\n",
        "  soup1 = BeautifulSoup(coverpage, 'html5lib')\n",
        "  coverpage_news = soup1.find_all(\"a\", class_=\"cn__title--link icon\")\n",
        "  for i in coverpage_news:\n",
        "    t = i.get('href')\n",
        "    if t[0]!='/':\n",
        "      if 'https://edition.cnn.com' in t or 'http://edition.cnn.com' in t:\n",
        "        title1.add(t)\n",
        "    else:\n",
        "      title1.add('https://edition.cnn.com'+t)\n",
        "\n",
        "    \n",
        "title1"
      ],
      "execution_count": 52,
      "outputs": [
        {
          "output_type": "execute_result",
          "data": {
            "text/plain": [
              "{'http://edition.cnn.com/specials/africa/african-voices',\n",
              " 'http://edition.cnn.com/specials/africa/inside-africa',\n",
              " 'http://edition.cnn.com/specials/business/marketplace-africa',\n",
              " 'http://edition.cnn.com/specials/health/live-longer',\n",
              " 'http://edition.cnn.com/specials/world/the-modern-explorers',\n",
              " 'http://edition.cnn.com/sport',\n",
              " 'http://edition.cnn.com/travel',\n",
              " 'http://edition.cnn.com/travel/destinations/kenya',\n",
              " 'https://edition.cnn.com/190406071249-03-rwandan-daughters-cnnphotos-restricte.jpg',\n",
              " 'https://edition.cnn.com/Africa',\n",
              " 'https://edition.cnn.com/americas',\n",
              " 'https://edition.cnn.com/asia',\n",
              " 'https://edition.cnn.com/brexit',\n",
              " 'https://edition.cnn.com/business',\n",
              " 'https://edition.cnn.com/business/india',\n",
              " 'https://edition.cnn.com/europe',\n",
              " 'https://edition.cnn.com/middle-east',\n",
              " 'https://edition.cnn.com/specials/business/global-energy-challenge',\n",
              " 'https://edition.cnn.com/specials/cnn-heroes',\n",
              " 'https://edition.cnn.com/specials/health/vital-signs',\n",
              " 'https://edition.cnn.com/specials/tech/business-evolved',\n",
              " 'https://edition.cnn.com/specials/world/goinggreen',\n",
              " 'https://edition.cnn.com/style',\n",
              " 'https://edition.cnn.com/travel',\n",
              " 'https://edition.cnn.com/travel/destinations/azerbaijan',\n",
              " 'https://edition.cnn.com/travel/destinations/budapest',\n",
              " 'https://edition.cnn.com/travel/destinations/japan',\n",
              " 'https://edition.cnn.com/travel/destinations/tokyo',\n",
              " 'https://edition.cnn.com/travel/destinations/vietnam',\n",
              " 'https://edition.cnn.com/uk',\n",
              " 'https://edition.cnn.com/world'}"
            ]
          },
          "metadata": {
            "tags": []
          },
          "execution_count": 52
        }
      ]
    },
    {
      "cell_type": "code",
      "metadata": {
        "id": "vtUBhfA3G-Fd",
        "colab_type": "code",
        "colab": {
          "base_uri": "https://localhost:8080/",
          "height": 731
        },
        "outputId": "20163cb7-9c3c-404d-8346-d6d63f5c2eac"
      },
      "source": [
        "title2 = set()\n",
        "for url in title1:\n",
        "  #url = 'https://edition.cnn.com/Africa'\n",
        "  r1 = requests.get(url)\n",
        "  coverpage = r1.content\n",
        "  soup1 = BeautifulSoup(coverpage, 'html5lib')\n",
        "  coverpage_news = soup1.find_all(\"a\", class_=\"cn__title--link icon\")\n",
        "  for i in coverpage_news:\n",
        "    t = i.get('href')\n",
        "    if t[0]!='/':\n",
        "      if 'https://edition.cnn.com' in t or 'http://edition.cnn.com' in t:\n",
        "        title2.add(t)\n",
        "    else:\n",
        "      title2.add('https://edition.cnn.com'+t)\n",
        "\n",
        "    \n",
        "title2"
      ],
      "execution_count": 53,
      "outputs": [
        {
          "output_type": "execute_result",
          "data": {
            "text/plain": [
              "{'http://edition.cnn.com/specials/africa/african-voices',\n",
              " 'http://edition.cnn.com/specials/africa/inside-africa',\n",
              " 'http://edition.cnn.com/specials/business/marketplace-africa',\n",
              " 'http://edition.cnn.com/specials/health/live-longer',\n",
              " 'http://edition.cnn.com/specials/world/the-modern-explorers',\n",
              " 'http://edition.cnn.com/sport',\n",
              " 'http://edition.cnn.com/sport/equestrian',\n",
              " 'http://edition.cnn.com/sport/golf',\n",
              " 'http://edition.cnn.com/travel',\n",
              " 'http://edition.cnn.com/travel/destinations/kenya',\n",
              " 'https://edition.cnn.com/190406071249-03-rwandan-daughters-cnnphotos-restricte.jpg',\n",
              " 'https://edition.cnn.com/Africa',\n",
              " 'https://edition.cnn.com/americas',\n",
              " 'https://edition.cnn.com/asia',\n",
              " 'https://edition.cnn.com/brexit',\n",
              " 'https://edition.cnn.com/business',\n",
              " 'https://edition.cnn.com/business/india',\n",
              " 'https://edition.cnn.com/europe',\n",
              " 'https://edition.cnn.com/health',\n",
              " 'https://edition.cnn.com/middle-east',\n",
              " 'https://edition.cnn.com/specials/brexit',\n",
              " 'https://edition.cnn.com/specials/business/global-energy-challenge',\n",
              " 'https://edition.cnn.com/specials/cnn-heroes',\n",
              " 'https://edition.cnn.com/specials/health/vital-signs',\n",
              " 'https://edition.cnn.com/specials/sport/formula-e',\n",
              " 'https://edition.cnn.com/specials/tech/business-evolved',\n",
              " 'https://edition.cnn.com/specials/world/goinggreen',\n",
              " 'https://edition.cnn.com/sport',\n",
              " 'https://edition.cnn.com/sport/football',\n",
              " 'https://edition.cnn.com/sport/horse-racing',\n",
              " 'https://edition.cnn.com/sport/sailing',\n",
              " 'https://edition.cnn.com/sport/skiing',\n",
              " 'https://edition.cnn.com/sport/tennis',\n",
              " 'https://edition.cnn.com/style',\n",
              " 'https://edition.cnn.com/travel',\n",
              " 'https://edition.cnn.com/travel/destinations/azerbaijan',\n",
              " 'https://edition.cnn.com/travel/destinations/budapest',\n",
              " 'https://edition.cnn.com/travel/destinations/japan',\n",
              " 'https://edition.cnn.com/travel/destinations/tokyo',\n",
              " 'https://edition.cnn.com/travel/destinations/vietnam',\n",
              " 'https://edition.cnn.com/uk',\n",
              " 'https://edition.cnn.com/world'}"
            ]
          },
          "metadata": {
            "tags": []
          },
          "execution_count": 53
        }
      ]
    },
    {
      "cell_type": "code",
      "metadata": {
        "id": "PtHwXxcnHkYG",
        "colab_type": "code",
        "colab": {
          "base_uri": "https://localhost:8080/",
          "height": 34
        },
        "outputId": "71a6fbda-0119-444d-b7da-7e4cba34ba8c"
      },
      "source": [
        "title3 = set()\n",
        "for url in title2:\n",
        "  #url = 'https://edition.cnn.com/Africa'\n",
        "  r1 = requests.get(url)\n",
        "  coverpage = r1.content\n",
        "  soup1 = BeautifulSoup(coverpage, 'html5lib')\n",
        "  coverpage_news = soup1.find_all(\"a\", class_=\"cn__title--link icon\")\n",
        "  for i in coverpage_news:\n",
        "    t = i.get('href')\n",
        "    if t[0]!='/':\n",
        "      if 'https://edition.cnn.com' in t or 'http://edition.cnn.com' in t:\n",
        "        title3.add(t)\n",
        "    else:\n",
        "      title3.add('https://edition.cnn.com'+t)\n",
        "\n",
        "    \n",
        "print(len(title3))"
      ],
      "execution_count": 56,
      "outputs": [
        {
          "output_type": "stream",
          "text": [
            "43\n"
          ],
          "name": "stdout"
        }
      ]
    },
    {
      "cell_type": "code",
      "metadata": {
        "id": "vfg9VfXWKw5z",
        "colab_type": "code",
        "colab": {
          "base_uri": "https://localhost:8080/",
          "height": 748
        },
        "outputId": "ea58034b-79cf-4b43-f264-d0fcba54f238"
      },
      "source": [
        "title4 = set()\n",
        "for url in title3:\n",
        "  #url = 'https://edition.cnn.com/Africa'\n",
        "  r1 = requests.get(url)\n",
        "  coverpage = r1.content\n",
        "  soup1 = BeautifulSoup(coverpage, 'html5lib')\n",
        "  coverpage_news = soup1.find_all(\"a\", class_=\"cn__title--link icon\")\n",
        "  for i in coverpage_news:\n",
        "    t = i.get('href')\n",
        "    if t[0]!='/':\n",
        "      if 'https://edition.cnn.com' in t or 'http://edition.cnn.com' in t:\n",
        "        title4.add(t)\n",
        "    else:\n",
        "      title4.add('https://edition.cnn.com'+t)\n",
        "\n",
        "    \n",
        "title4"
      ],
      "execution_count": 65,
      "outputs": [
        {
          "output_type": "execute_result",
          "data": {
            "text/plain": [
              "{'http://edition.cnn.com/specials/africa/african-voices',\n",
              " 'http://edition.cnn.com/specials/africa/inside-africa',\n",
              " 'http://edition.cnn.com/specials/business/marketplace-africa',\n",
              " 'http://edition.cnn.com/specials/health/live-longer',\n",
              " 'http://edition.cnn.com/specials/world/the-modern-explorers',\n",
              " 'http://edition.cnn.com/sport',\n",
              " 'http://edition.cnn.com/sport/equestrian',\n",
              " 'http://edition.cnn.com/sport/golf',\n",
              " 'http://edition.cnn.com/travel',\n",
              " 'http://edition.cnn.com/travel/destinations/kenya',\n",
              " 'https://edition.cnn.com/190406071249-03-rwandan-daughters-cnnphotos-restricte.jpg',\n",
              " 'https://edition.cnn.com/Africa',\n",
              " 'https://edition.cnn.com/americas',\n",
              " 'https://edition.cnn.com/asia',\n",
              " 'https://edition.cnn.com/brexit',\n",
              " 'https://edition.cnn.com/business',\n",
              " 'https://edition.cnn.com/business/india',\n",
              " 'https://edition.cnn.com/europe',\n",
              " 'https://edition.cnn.com/health',\n",
              " 'https://edition.cnn.com/middle-east',\n",
              " 'https://edition.cnn.com/specials/brexit',\n",
              " 'https://edition.cnn.com/specials/business/global-energy-challenge',\n",
              " 'https://edition.cnn.com/specials/cnn-heroes',\n",
              " 'https://edition.cnn.com/specials/health/vital-signs',\n",
              " 'https://edition.cnn.com/specials/space-science',\n",
              " 'https://edition.cnn.com/specials/sport/formula-e',\n",
              " 'https://edition.cnn.com/specials/tech/business-evolved',\n",
              " 'https://edition.cnn.com/specials/world/goinggreen',\n",
              " 'https://edition.cnn.com/sport',\n",
              " 'https://edition.cnn.com/sport/football',\n",
              " 'https://edition.cnn.com/sport/horse-racing',\n",
              " 'https://edition.cnn.com/sport/sailing',\n",
              " 'https://edition.cnn.com/sport/skiing',\n",
              " 'https://edition.cnn.com/sport/tennis',\n",
              " 'https://edition.cnn.com/style',\n",
              " 'https://edition.cnn.com/travel',\n",
              " 'https://edition.cnn.com/travel/destinations/azerbaijan',\n",
              " 'https://edition.cnn.com/travel/destinations/budapest',\n",
              " 'https://edition.cnn.com/travel/destinations/japan',\n",
              " 'https://edition.cnn.com/travel/destinations/tokyo',\n",
              " 'https://edition.cnn.com/travel/destinations/vietnam',\n",
              " 'https://edition.cnn.com/uk',\n",
              " 'https://edition.cnn.com/world'}"
            ]
          },
          "metadata": {
            "tags": []
          },
          "execution_count": 65
        }
      ]
    },
    {
      "cell_type": "code",
      "metadata": {
        "id": "T9Wk8QzCIhSd",
        "colab_type": "code",
        "colab": {
          "base_uri": "https://localhost:8080/",
          "height": 85
        },
        "outputId": "1f3a30e5-9771-4700-f6c5-c833f1fc2962"
      },
      "source": [
        "print(len(title))\n",
        "print(len(title1))\n",
        "print(len(title2))\n",
        "print(len(title3))"
      ],
      "execution_count": 57,
      "outputs": [
        {
          "output_type": "stream",
          "text": [
            "11\n",
            "31\n",
            "42\n",
            "43\n"
          ],
          "name": "stdout"
        }
      ]
    },
    {
      "cell_type": "code",
      "metadata": {
        "id": "gyvBphpfOn24",
        "colab_type": "code",
        "colab": {}
      },
      "source": [
        "option_title = set([\n",
        "                    'https://edition.cnn.com/politics',\n",
        "                    'https://edition.cnn.com/business',\n",
        "                    'https://edition.cnn.com/health',\n",
        "                    'https://edition.cnn.com/entertainment',\n",
        "                    'https://edition.cnn.com/style',\n",
        "                    'https://edition.cnn.com/travel',\n",
        "                    'https://edition.cnn.com/sport'\n",
        "])"
      ],
      "execution_count": 73,
      "outputs": []
    },
    {
      "cell_type": "code",
      "metadata": {
        "id": "Xu9PVEenIKFA",
        "colab_type": "code",
        "colab": {}
      },
      "source": [
        "biggest_title = title|title1|title2|title3|title4|option_title"
      ],
      "execution_count": 76,
      "outputs": []
    },
    {
      "cell_type": "code",
      "metadata": {
        "id": "SkNB3xBWKdHU",
        "colab_type": "code",
        "colab": {
          "base_uri": "https://localhost:8080/",
          "height": 34
        },
        "outputId": "3fba129f-4b83-41c9-ead5-b9b4bb8fe5b8"
      },
      "source": [
        "len(biggest_title)"
      ],
      "execution_count": 77,
      "outputs": [
        {
          "output_type": "execute_result",
          "data": {
            "text/plain": [
              "45"
            ]
          },
          "metadata": {
            "tags": []
          },
          "execution_count": 77
        }
      ]
    },
    {
      "cell_type": "code",
      "metadata": {
        "id": "eVJUK4vFIvfH",
        "colab_type": "code",
        "colab": {
          "base_uri": "https://localhost:8080/",
          "height": 1000
        },
        "outputId": "05acc4dc-1989-4369-ddea-4468d082b4ed"
      },
      "source": [
        "data = []\n",
        "for url in biggest_title:\n",
        "  r1 = requests.get(url)\n",
        "  coverpage = r1.content\n",
        "  soup1 = BeautifulSoup(coverpage, 'html5lib')\n",
        "  coverpage_news = soup1.find_all(\"span\", class_=\"cd__headline-text\")\n",
        "  for i in coverpage_news:\n",
        "    data.append(i.get_text())\n",
        "data"
      ],
      "execution_count": 78,
      "outputs": [
        {
          "output_type": "execute_result",
          "data": {
            "text/plain": [
              "['Boris Johnson promises Brexit vote by Christmas as Conservatives launch manifesto',\n",
              " 'Tens of thousands of Britons have died from coronavirus. But Boris Johnson is stoking a culture war.',\n",
              " 'Boris Johnson desperately needs his lockdown gamble to pay off',\n",
              " 'Britain delays border controls to soften Brexit blow to its crashing economy',\n",
              " \"The UK's election debate shows Boris Johnson and Jeremy Corbyn need to get better at politics\",\n",
              " \"Boris Johnson doesn't have Fox News but he can always rely on the Telegraph\",\n",
              " 'Nigel Farage has made a huge Brexit concession',\n",
              " 'Prince Andrew and the Jeffrey Epstein scandal has thrown a fireblanket on Brexit and the UK election',\n",
              " 'UK economy grows at slowest annual rate in a decade as election looms',\n",
              " 'Delivering Brexit has been impossible. Stopping it will be even harder',\n",
              " \"UK parties 'at risk of not surviving' Brexit\",\n",
              " 'Watch chaos in Parliament after Brexit votes fail',\n",
              " 'Theresa May to resign when Brexit is done',\n",
              " 'Parliament votes to seize control of Brexit process',\n",
              " \"What's at stake if a Brexit deal falls through\",\n",
              " 'Brexit could create costly border delays',\n",
              " 'What is the Irish backstop?',\n",
              " 'Divorce process frustrates UK residents',\n",
              " \"Brexit wrecked Britain -- and it hasn't even happened yet\",\n",
              " \"There were never more women in UK Parliament. Now there's an exodus\",\n",
              " 'Facebook will allow UK election candidates to run false ads ',\n",
              " 'Donald Trump weighs in on UK election backing Boris Johnson',\n",
              " \"So what's wrong with UK elections in December? \",\n",
              " 'The looming UK election is one big gamble for investors',\n",
              " 'Britain set for December 12 election after MPs approve snap poll',\n",
              " 'Commemorative coins head for Brexit meltdown after latest delay',\n",
              " \"How Murdoch's many Suns play to both sides of Brexit\",\n",
              " 'EU approves three-month Brexit extension as UK nears election',\n",
              " 'Production of Brexit coin stopped as uncertainty looms ',\n",
              " 'The UK has messed up Brexit. Now Boris Johnson is trapped in hell',\n",
              " 'Brexit could provide the US huge economic opportunity',\n",
              " \"Boris Johnson wants to get Brexit done by Halloween. It's going to be a nightmare\",\n",
              " \"Boris Johnson's Brexit bill passes Parliament but lawmakers reject timetable\",\n",
              " 'Donald Trump weighs in on UK election backing Boris Johnson',\n",
              " 'Donald Trump backs Boris Johnson in UK election',\n",
              " 'North Korea Nuclear Timeline Fast Facts',\n",
              " \"Astronauts are spending Father's Day in space watching the solar eclipse\",\n",
              " 'In pictures: Solar eclipse darkens skies across continents',\n",
              " 'Saharan dust will impact the Southeast this week',\n",
              " \"Solar eclipse 2020: See June's annular eclipse on Sunday\",\n",
              " \"NASA's Perseverance rover will launch to Mars next month with a global tribute to health care workers\",\n",
              " 'Summer solstice 2020: Sensual traditions on the longest day of the year',\n",
              " 'Solar eclipse 2020: How and when to watch the June annular eclipse',\n",
              " 'Brazil tops 1 million Covid-19 cases. It may pass the US next, becoming the worst-hit country on the planet',\n",
              " 'La NASA dará a conocer datos satelitales sobre el impacto del covid-19',\n",
              " 'Trump made 192 false claims from May 4 through June 7',\n",
              " \"Prehistoric 'clutter' on land led to bigger, smarter human brains \",\n",
              " 'Ancient finds',\n",
              " \"Scientists fear deforestation, fires and Covid-19 could create a 'perfect storm' in the Amazon\",\n",
              " 'Earth-like planets and ocean worlds could be common in our galaxy, studies say',\n",
              " 'Florida shows signs as next coronavirus epicenter as cases spike across the country',\n",
              " 'Part 1: Entire CNN coronavirus town hall (June 18)',\n",
              " 'How the pandemic has changed education',\n",
              " 'Here are the areas that are starting to reopen',\n",
              " \"Fauci warns of 'anti-science bias' being a problem in US\",\n",
              " 'Genetically engineered mosquitoes get EPA approval for Florida release despite objections from environmental groups',\n",
              " 'Tuberculosis (TB) Fast Facts',\n",
              " 'Evidence of huge carnivorous dinosaurs discovered in Australia',\n",
              " 'Scientists have grown mini brains containing Neanderthal DNA ',\n",
              " \"Siberia's prolonged unusually warm weather is an 'alarming sign': scientist\",\n",
              " \"Take up to $50 off AncestryDNA® kits for Father's Day\",\n",
              " 'Record heat hits eastern Canada',\n",
              " 'Dreary in the Mid-Atlantic',\n",
              " 'How female scientists are losing out during the pandemic and why it matters',\n",
              " 'Solar eclipse 2020: When and where to see the annular eclipse',\n",
              " \"Trump's Tulsa rally and Biden's social distancing show differences in campaigning amid a pandemic\",\n",
              " 'El perro robot de Boston Dynamics está a la venta por US$ 74.500',\n",
              " \"NASA's space station program manager is retiring during historic astronaut mission\",\n",
              " 'El robot cuadrúpedo de Boston Dynamics ahora está a la venta para empresas y público general ',\n",
              " \"'It's a Little Bit Like Living on Mars': Inside a Covid-19 ICU. Dr. Sanjay Gupta's coronavirus podcast for June 17\",\n",
              " 'Sir Isaac Newton considered curing the plague with toad vomit lozenges, a manuscript reveals',\n",
              " 'Fossil egg discoveries, including one in Antarctica, show dinosaurs and marine reptiles laid soft-shell eggs',\n",
              " 'Saharan Dust from Africa is on its way to the US',\n",
              " 'The psychological benefits of prayer: What science says about the mind-soul connection',\n",
              " \"Human trials expected to start next month for Covid-19 treatment derived from cows' blood \",\n",
              " \"Boston Dynamics' robot dog is now on sale for $74,500\",\n",
              " '43 camp alternatives and online summer camps for preschoolers to teens',\n",
              " 'Extreme heat  pushing into the Midwest',\n",
              " 'There could be 36 communicating intelligent civilizations in our galaxy, study says',\n",
              " 'La sonda Orbiter realiza su primer encuentro cercano con el sol',\n",
              " 'Compañía china dice que su vacuna experimental produce anticuerpos contra el covid-19',\n",
              " \"Archaeologists discovered 'elaborate' details of a complete ancient Roman city without digging\",\n",
              " \"People are cleaning more and that's great news for Roomba maker iRobot\",\n",
              " 'Solar Orbiter makes its first close pass of the sun',\n",
              " 'Flood threat for parts of the Carolinas ',\n",
              " 'Brian Stelter challenges Trump attorney Jenna Ellis',\n",
              " 'The myth Trump is modeling',\n",
              " \"6 reasons why bats aren't enemies: They help make tequila, and other surprising facts you may not know\",\n",
              " 'Heat in the southwest and heavy rain in the northwest and southeast',\n",
              " 'NASA spacecraft sends back images of stars from 4.3 billion miles away',\n",
              " \"Birds aren't all singing the same song. They have dialects, too\",\n",
              " 'The pandemic has stopped my wife and I from taking our baby back to America',\n",
              " 'Tropical Depression Nuri set to strengthen ',\n",
              " 'Mutation could make coronavirus more infectious, study suggests',\n",
              " 'Why are we hoarding toilet paper? It may be your personality type',\n",
              " 'NASA picks new head of human spaceflight as astronaut launches return to US soil',\n",
              " 'New Horizons explores Pluto, Arrokoth',\n",
              " 'El impacto de las partículas de plástico en los ecosistemas',\n",
              " 'Early humans used bows and arrows to hunt in tropical rainforests 48,000 years ago, study says ',\n",
              " 'An existing polio vaccine could help protect against coronavirus, top experts say ',\n",
              " 'Vacuna contra la poliomielitis podría proporcionar protección temporal contra el covid-19',\n",
              " 'Spanish archaeologist gets jail sentence for faking his finds',\n",
              " \"Mark Zuckerberg and Priscilla Chan say they are 'disgusted' by Trump's comments \",\n",
              " \"'Enigmatic' footprints reveal prehistoric crocodile that walked on two legs\",\n",
              " 'Astronomers witness the steadfast beating heart of a black hole',\n",
              " 'Chicago mayor slams lounging cops: Disgraceful and disrespectful',\n",
              " \"Video shows cops lounging in lawmaker's office during protests\",\n",
              " 'This US church with expansion in its DNA wants to open a temple in China ',\n",
              " 'How future generations will remember the coronavirus pandemic',\n",
              " 'Una ciudad marciana en Dubai, así es el ambicioso concepto de una firma de arquitectos',\n",
              " 'Tackling institutional racism',\n",
              " \"This is the company NASA wants to deliver its 'water-hunting' robot to the Moon\",\n",
              " 'Stem Cells Fast Facts',\n",
              " 'Luxury linens that are worth the price ',\n",
              " 'Speed and long battery life put the Moto E atop affordable smartphones market',\n",
              " 'The Moto G Fast is a dependable phone with good cameras and long battery life for $199.99',\n",
              " 'US human trials begin for first antibody cocktail that might treat and prevent Covid-19 ',\n",
              " 'Architects have designed a Martian city for the desert outside Dubai',\n",
              " 'Mars Science City -- designing for another planet',\n",
              " 'They prepared for years for a pandemic. Now the pressure is on to create a therapy that could help control it',\n",
              " 'Why a wellness routine is your top priority amid protests and the pandemic — and how to start',\n",
              " '13,500-year-old bird figurine discovered in China is a game-changer for prehistoric art',\n",
              " 'Why face masks make it so hard for us to express how we feel',\n",
              " \"Archaeologists think they've found London's oldest theater\",\n",
              " 'A Wi-Fi-connected Roomba is on sale at Amazon',\n",
              " 'Former astronaut becomes first person to visit both space and the deepest place in the ocean',\n",
              " 'Former astronaut dives to lowest point on Earth ',\n",
              " 'Severe Storms for the Ohio Valley and Eastern Great Lakes ',\n",
              " \"Saturn's moon Titan is rapidly migrating away from the planet\",\n",
              " \"A woman's eggs choose lucky sperm during last moments of conception, study finds\",\n",
              " \"The world's first Freddie Mercury museum is on an African island\",\n",
              " \"World's first Freddie Mercury museum is on an African island\",\n",
              " 'Spectacular drone footage captures thousands of turtles nesting',\n",
              " 'Flooding, excessive heat, strong winds, and a wildfire threat',\n",
              " 'Wonders of the universe ',\n",
              " 'Another mysterious radio burst in space is repeating a pattern. This one occurs every 157 days',\n",
              " 'Shutdowns through early April prevented about 60 million US coronavirus infections, study says',\n",
              " 'Samsung Galaxy S20+ is at its lowest price ever for one day — and Galaxy Watch Active 2 is on sale, too',\n",
              " 'Elon Musk told CNN in 2004 how he could help NASA',\n",
              " '5 things to know for June 8: George Floyd, police reform, coronavirus, economy, China',\n",
              " 'Cristobal now a depression',\n",
              " 'Our oceans are amazing, but they need our help',\n",
              " 'Tropical Depression Cristobal threatens Louisiana with flooding and storm surge',\n",
              " 'Negative thinking linked to dementia in later life, but you can learn to be more positive',\n",
              " 'Tropical Storm Cristobal makes landfall in Louisiana',\n",
              " \"Scientists backed by Zuckerberg's foundation urge him to change stance on Trump posts \",\n",
              " 'An asteroid the size of six football fields will speed by Earth Saturday night',\n",
              " 'The danger of blaming Covid-19 deaths on our genes',\n",
              " 'Tropical Storm Cristobal strengthens across the Gulf of Mexico ',\n",
              " 'Richard Branson Fast Facts',\n",
              " \"'Operation Warp Speed' is fueling vaccine fears, two top experts worry\",\n",
              " \"CDC woes bring Director Redfield's troubled past as an AIDS researcher to light  \",\n",
              " 'Astronomers may have found an Earth-like exoplanet orbiting a sun-like star',\n",
              " 'Strawberry Moon 2020: Best times to watch',\n",
              " 'Cristobal takes aim at the Gulf Coast this weekend',\n",
              " 'The George Floyd protests are sparking a surprising debate in black America',\n",
              " 'Immerse yourself in the world of Nintendo Labo with these discounted kits',\n",
              " 'Tropical depression Cristobal expected to turn back toward the US coast and re-intensify',\n",
              " 'Laser mapping reveals largest and oldest Mayan temple',\n",
              " 'Laser mapping reveals largest and oldest Mayan temple',\n",
              " \"How to make good decisions when you're paralyzed by the stress of protests and the pandemic\",\n",
              " 'Astronomers confirm Earth-size exoplanet around nearest star and maybe more',\n",
              " 'Los proyectos futuros para la NASA y SpaceX luego de su lanzamiento histórico',\n",
              " 'Robots camareros, los nuevos empleados de un restaurante de Holanda',\n",
              " 'El estómago de un dinosaurio se preservó por 110 millones años',\n",
              " 'Tropical Storm Cristobal makes a first Mexican landfall',\n",
              " 'Severe storms threaten a 1,600-mile stretch of the US. The worst may hit New York City',\n",
              " 'These Black nature lovers are busting stereotypes, one cool bird at a time',\n",
              " 'Cyclone Nisarga Makes Landfall In India',\n",
              " 'Damaging winds to impact areas from Pittsburgh to NYC',\n",
              " \"Mars' moons may hint that the planet once had rings\",\n",
              " 'Scientists say they have found the cleanest air on Earth',\n",
              " \"Two lefties make a right, if you're a rare garden snail \",\n",
              " \"A dinosaur's last meal: A 110 million-year-old dinosaur's stomach contents are revealed\",\n",
              " 'Corporations take to the skies',\n",
              " 'SpaceX lanza con éxito su primer cohete tripulado: te contamos cuáles son los aciertos y desaciertos de la empresa de Elon Musk',\n",
              " 'El arte fuera de este mundo que viaja a bordo del Crew Dragon de SpaceX',\n",
              " 'Volcanoes Fast Facts',\n",
              " 'Earthquakes Fast Facts',\n",
              " 'Animal DNA is helping unlock some Dead Sea Scrolls secrets',\n",
              " 'Human Spaceflight Fast Facts',\n",
              " '5 natural ways to boost your mental health during stressful times',\n",
              " 'NASA-SpaceX launches will boost science research on the space station',\n",
              " 'First human trial of potential antibody treatment for Covid-19 begins',\n",
              " 'Optimismo tras el lanzamiento de Space-X',\n",
              " 'Robots ayudan al control del coronavirus en hospitales de Bélgica',\n",
              " 'The third named storm of the year is brewing on the first day of hurricane season',\n",
              " \"The sixth mass extinction is happening faster than expected. Scientists say it's our fault\",\n",
              " 'Study finds lasting mental health impacts of police killings ',\n",
              " \"Watch the biggest moments in SpaceX's history\",\n",
              " \"NASA astronauts 'capture the flag' on the space station and look ahead after historic launch\",\n",
              " 'To cap off his amazing week, Elon Musk just made $770 million',\n",
              " 'Sewage could hold the key to stopping new coronavirus outbreaks',\n",
              " 'Virgin Galactic stock soars following SpaceX success',\n",
              " \"SpaceX's Crew Dragon took flight in historic mission. What's next?\",\n",
              " \"Should you fly yet? Here's what an epidemiologist and an exposure scientist say\",\n",
              " 'Keep your floors clean with this one-day Roomba deal',\n",
              " \"Listen to Elon Musk's early predictions about space travel \",\n",
              " '5 things to know for June 1: George Floyd, Antifa, coronavirus, WHO, G7 summit',\n",
              " \"Moderna's coronavirus vaccine announcement set off a frenzy on Wall Street. Now some are calling for an investigation\",\n",
              " 'First day of hurricane season brings chance of named storm',\n",
              " 'US astronauts welcomed aboard International Space Station',\n",
              " \"US astronauts disembark SpaceX's Crew Dragon and board the International Space Station\",\n",
              " \"SpaceX's Crew Dragon astronauts enter International Space Station\",\n",
              " 'Elon Musk Fast Facts',\n",
              " 'Astronauts dock at International Space Station from SpaceX craft',\n",
              " 'Trump, Putin and Bolsonaro find their populist playbooks are no match for coronavirus',\n",
              " 'International Space Station Fast Facts',\n",
              " 'Start your Monday smart: George Floyd, coronavirus, NASA, Ahmaud Arbery, jobs',\n",
              " 'NASA Fast Facts',\n",
              " 'Gabrielle Giffords Fast Facts',\n",
              " 'Trump condemns violence in nationwide protests',\n",
              " '2 different asteroids visited by spacecraft may have once been part of 1 larger asteroid',\n",
              " 'SpaceX and NASA make history with launch',\n",
              " ' Astronautas van rumbo a la Estación Espacial Internacional en nave de SpaceX',\n",
              " 'Despega al espacio Crew Dragon de SpaceX con astronautas de la NASA',\n",
              " \"Trump touts America's spirit after successful launch of NASA/SpaceX rocket \",\n",
              " 'SpaceX and NASA complete historic launch successfully',\n",
              " 'In 2004, Elon Musk discussed partnering with NASA for the next era of space travel. This weekend marks a major milestone',\n",
              " \"In pictures: SpaceX's historic launch\",\n",
              " 'NASA, SpaceX launch astronauts from US soil for the first time in a decade',\n",
              " \"SpaceX-NASA launch: What to know ahead of today's scheduled flight\",\n",
              " 'SpaceX and NASA aim for historic launch',\n",
              " 'SpaceX-NASA launch aims to make history',\n",
              " 'The historic SpaceX-NASA launch could once again be scrubbed due to bad weather',\n",
              " 'SpaceX has a 50% chance of launch today',\n",
              " 'How Karen became a meme, and what real-life Karens think about it',\n",
              " 'SpaceX will try again for astronaut launch',\n",
              " 'Fmr. astronaut: Launches have brought the country together before',\n",
              " '¿Podrá despegar el transbordador Crew Dragon este sábado?',\n",
              " \"SpaceX gets ready for a do-over, and 4 other business stories you can't miss today\",\n",
              " 'US missed early chance to slow coronavirus, genetic study indicates',\n",
              " \"Bound by science, bent by politics: Inside the FDA's reversals and walk-backs as it grapples with the coronavirus pandemic\",\n",
              " 'Weather will likely make the historic SpaceX launch come down to the wire, once again',\n",
              " 'Must-watch videos of the week',\n",
              " 'How poop could help warn of the next coronavirus outbreak',\n",
              " 'This app uses science and tradition to warn African farmers of drought',\n",
              " 'Northeast storms threaten your Friday before clearing this weekend',\n",
              " 'Part 1: Entire CNN coronavirus town hall (May 28)',\n",
              " 'In the NY Gilgo Beach killings, remains identified 20 years later',\n",
              " \"Storror, the parkour collective that doesn't let coronavirus stop them\",\n",
              " 'Cannabis was used for religious rites at a biblical site in Israel, study finds ',\n",
              " 'The cutest summer essentials from Target, starting at just $3 ',\n",
              " 'Tres curiosidades del primer intento de lanzamiento de SpaceX',\n",
              " 'In photos: Love during lockdown',\n",
              " 'El lanzamiento de SpaceX y la NASA se aplazó al sábado... pero ¿por qué ese día?',\n",
              " \"Weather is less than ideal for Saturday's SpaceX launch\",\n",
              " 'Boris Johnson adviser Dominic Cummings may have breached lockdown rules, police say',\n",
              " 'Perfectly preserved ancient Roman mosaic floor discovered in Italy',\n",
              " \"Confused by the science behind Covid-19? You're not alone\",\n",
              " 'Severe storms for the east and record heat for the west',\n",
              " 'El espacio, la reapertura de tiendas y un lanzamiento que no fue',\n",
              " 'Conoce las 5 mejores películas de viajes al espacio',\n",
              " 'Doug Liman to direct Tom Cruise in movie shot in space',\n",
              " 'El histórico lanzamiento del cohete de SpaceX se aplazó para el sábado',\n",
              " 'Lo más destacado del miércoles en 40 segundos',\n",
              " 'Meteorologist explains why historic launch was scrubbed',\n",
              " '12 truly amazing Donald Trump quotes on space',\n",
              " 'Historic SpaceX launch postponed due to weather',\n",
              " 'Watney withdraws from Heritage tournament after Covid-19 positive',\n",
              " 'The most-watched golf event in cable TV history ',\n",
              " \"Brady shows he's human as Woods backs up trash talk\",\n",
              " 'Sporting royalty set for $10m charity golf match',\n",
              " \"Trump says sport returning is good for country's 'psyche'\",\n",
              " 'Tiger Woods, Phil Mickelson and NFL superstars to play for Covid-19 relief',\n",
              " \"Golf 'lends itself more to social distancing,' says PGA Tour commissioner\",\n",
              " 'Golf locks in its 2020 major schedule amid postponements and cancellations',\n",
              " 'The Open Championship canceled due to coronavirus ',\n",
              " \"Tiger's Masters defense postponed because of coronavirus\",\n",
              " 'From highs to lows',\n",
              " \"Tiger's career by the numbers\",\n",
              " 'Tiger mulling details of proposed lucrative global golf tour',\n",
              " 'Tiger Woods: A tumultuous 10 years from scandal to redemption',\n",
              " \"Tiger's son is good at golf, but video poses wider questions\",\n",
              " \"How Tony Jacklin hijacked CNN anchor's parents' wedding\",\n",
              " \"Woods' Masters win has Nicklaus 'shaking in my boots'\",\n",
              " 'How art freed an innocent man from a life sentence',\n",
              " 'Shane Lowry wins first major title at British Open',\n",
              " 'Gary Woodland wins U.S. Open at Pebble Beach',\n",
              " 'Pebble Beach: A guide to the historic links',\n",
              " 'Brooks Koepka wins his fourth career major',\n",
              " \"Bubba Watson on Tiger Woods' 2019 Masters win\",\n",
              " 'Tiger Woods wins Masters for fifth time',\n",
              " 'Tiger Woods: Caddyshack and oatmeal',\n",
              " 'Tiger Woods: The rise, fall and comeback',\n",
              " 'Golf star Bubba Watson discusses CBD use',\n",
              " 'Tiger Woods awarded Presidential Medal of Freedom',\n",
              " 'Tiger Woods, Phil Mickelson make $200K side bet (2018) ',\n",
              " 'Golf in the land of fire and ice',\n",
              " 'Videos',\n",
              " \"'Confidence is the 15th and most important club in the bag'\",\n",
              " \"'When you find something you can relate to, that's a step forward'\",\n",
              " \"'I want to be the Federer of women's golf'\",\n",
              " \"Henrik Stenson's favorite course: Muirfield\",\n",
              " \"Anna Nordqvist's favorite course? Kingsbarns\",\n",
              " 'Royal County Down: A classic golf course',\n",
              " 'On the bag with Georgia Hall at the Evian',\n",
              " 'On the bag: Gary Player',\n",
              " 'Fanny Sunesson: Smoothies & Hogan',\n",
              " 'Lexi Thompson: Bolt and pancakes',\n",
              " 'Ariya Jutanugarn: Thai food & Jason Day',\n",
              " \"Thomas Bjorn: Guns N' Roses & coffee\",\n",
              " 'Jason Day: Silverchair and lasagne',\n",
              " 'Boris Johnson promises Brexit vote by Christmas as Conservatives launch manifesto',\n",
              " 'Tens of thousands of Britons have died from coronavirus. But Boris Johnson is stoking a culture war.',\n",
              " 'Boris Johnson desperately needs his lockdown gamble to pay off',\n",
              " 'Britain delays border controls to soften Brexit blow to its crashing economy',\n",
              " \"The UK's election debate shows Boris Johnson and Jeremy Corbyn need to get better at politics\",\n",
              " \"Boris Johnson doesn't have Fox News but he can always rely on the Telegraph\",\n",
              " 'Nigel Farage has made a huge Brexit concession',\n",
              " 'Prince Andrew and the Jeffrey Epstein scandal has thrown a fireblanket on Brexit and the UK election',\n",
              " 'UK economy grows at slowest annual rate in a decade as election looms',\n",
              " 'Delivering Brexit has been impossible. Stopping it will be even harder',\n",
              " \"UK parties 'at risk of not surviving' Brexit\",\n",
              " 'Watch chaos in Parliament after Brexit votes fail',\n",
              " 'Theresa May to resign when Brexit is done',\n",
              " 'Parliament votes to seize control of Brexit process',\n",
              " \"What's at stake if a Brexit deal falls through\",\n",
              " 'Brexit could create costly border delays',\n",
              " 'What is the Irish backstop?',\n",
              " 'Divorce process frustrates UK residents',\n",
              " \"Brexit wrecked Britain -- and it hasn't even happened yet\",\n",
              " \"There were never more women in UK Parliament. Now there's an exodus\",\n",
              " 'Facebook will allow UK election candidates to run false ads ',\n",
              " 'Donald Trump weighs in on UK election backing Boris Johnson',\n",
              " \"So what's wrong with UK elections in December? \",\n",
              " 'The looming UK election is one big gamble for investors',\n",
              " 'Britain set for December 12 election after MPs approve snap poll',\n",
              " 'Commemorative coins head for Brexit meltdown after latest delay',\n",
              " \"How Murdoch's many Suns play to both sides of Brexit\",\n",
              " 'EU approves three-month Brexit extension as UK nears election',\n",
              " 'Production of Brexit coin stopped as uncertainty looms ',\n",
              " 'The UK has messed up Brexit. Now Boris Johnson is trapped in hell',\n",
              " 'Brexit could provide the US huge economic opportunity',\n",
              " \"Boris Johnson wants to get Brexit done by Halloween. It's going to be a nightmare\",\n",
              " \"Boris Johnson's Brexit bill passes Parliament but lawmakers reject timetable\",\n",
              " 'Donald Trump weighs in on UK election backing Boris Johnson',\n",
              " 'Donald Trump backs Boris Johnson in UK election',\n",
              " \"Everton holds up Liverpool's title charge in goalless Merseyside derby\",\n",
              " 'Favorite Tiz the Law scores commanding victory in 152nd Belmont Stakes',\n",
              " 'Sporting legend Alex Zanardi remains in artificial coma after horrific handbike crash ',\n",
              " 'Lewandowski breaks record as Chelsea-bound Werner draws blank',\n",
              " 'PGA Tour star Watney withdraws from Heritage event after positive Covid-19 test',\n",
              " 'The refugee runner who churns out 170km per week in pursuit of Olympic dream',\n",
              " 'Manchester United star Rashford takes a knee and raises his first',\n",
              " 'How billionaire owners changed European football',\n",
              " 'English rugby union bosses reviewing slave-era song used as chant',\n",
              " \"Sterling welcomes 'massive step' after players take a knee before Premier League restart \",\n",
              " 'Daredevil biker swaps mountains for washing machine stunts',\n",
              " \"The death-defying jumps that caught Hollywood's attention\",\n",
              " 'Oscar-winning director on risking it all for the perfect shot',\n",
              " 'The gifted soccer star who became a remarkable activist',\n",
              " 'The scoreline that shook the world',\n",
              " 'Watershed moment for football',\n",
              " \"50 years on: Remembering Brazil's iconic 1970 World Cup-winning team\",\n",
              " 'The boy from the town \"where dreams seem unreachable\" ',\n",
              " \"'I'm the same as everyone else': How albinism empowered a champion\",\n",
              " \"Formula E is 'literally the future,' says Ellie Goulding\",\n",
              " 'Rare electric hyper car to cost $2.9M',\n",
              " \"'Toto Wolff of Formula E' aims to make sparks fly for Mercedes\",\n",
              " 'Kameko wins first classic of season as hot favorite Pinatubo disappoints',\n",
              " 'Welsh raider Potters Corner wins Virtual Grand National ',\n",
              " \"Hong Kong's night races gallop on... but without fans\",\n",
              " 'US Open will be held in New York, but without fans',\n",
              " 'Would Serena play US Open without daughter? Her coach doubts it',\n",
              " 'Federer to miss rest of 2020 season after injury setback ',\n",
              " 'Chelsea agrees to sign highly-rated German striker Werner',\n",
              " 'Premier League players take a knee -- and make a stand',\n",
              " 'Rashford takes on Boris Johnson over feeding hungry kids',\n",
              " 'Showjumping spectacles to be rescheduled due to coronavirus',\n",
              " \"Bill Gates' daughter Jennifer engaged to Egyptian equestrian rider\",\n",
              " \"'Magic' Maher wins $1.4 million Super Grand Prix\",\n",
              " 'The most-watched golf telecast in the history of cable television ',\n",
              " \"Brady shows he's human as Woods backs up trash talk\",\n",
              " \"Golf 'lends itself more to social distancing,' says PGA Tour chief\",\n",
              " 'Crowds, yes crowds, return to watch rugby in New Zealand',\n",
              " 'Bill Beaumont re-elected World Rugby chairman',\n",
              " '\"It\\'s unreal,\\' says rugby star as he tackles Covid-19\\'s frontline',\n",
              " 'Back in the fast lane, Shiffrin wins 65th World Cup race',\n",
              " 'Dual Olympic champion Ester Ledecka wins first World Cup skiing race',\n",
              " 'Shiffrin wins reindeer, names it Ingemar',\n",
              " 'Brady pictured in Buccaneers uniform for the first time',\n",
              " 'Roger Goodell encourages NFL teams to sign Colin Kaepernick',\n",
              " \"Becoming a mother inspired Allyson Felix to fight for 'voiceless'\",\n",
              " \"Liverpool's agonizing wait for English football's biggest prize\",\n",
              " \"The untold story of women climbers trapped on 'the roof of the world'\",\n",
              " 'She stood up to vile trolls and became an Australian icon',\n",
              " \"How one soccer coach is confronting the Holocaust's horrors\",\n",
              " \"The journey to becoming one of the world's best pro gamers\",\n",
              " \"Bittersweet tale of first 'reality TV show'\",\n",
              " 'Has the digital age changed football fans?',\n",
              " 'Can the two-hour marathon barrier be broken?',\n",
              " 'Snubbing the NFL to star in Gay Bowl',\n",
              " \"Storror, the parkour collective that doesn't let coronavirus stop them\",\n",
              " 'Charles Barkley talks about The Match II and about sport in society',\n",
              " 'Former Real Madrid star uses AI company to fight Covid-19 in Spain',\n",
              " 'How I went from 3rd division football to starring in a Netflix hit',\n",
              " '11-year-old skateboarder makes history with 1080-degree turn',\n",
              " 'How Jimmy Chin turned adventuring into an Oscar',\n",
              " \"'The Last Dance' is a look at Michael Jordan at his greatest\",\n",
              " \"Syria's 12-year-old football commentary star\",\n",
              " 'Time Out: Naomi Osaka draws and tries to come out of her shell',\n",
              " 'The NBA 2K League is back',\n",
              " 'Time Out: Marc Marquez learns to cook pizza and snails in lockdown',\n",
              " \"Verona van de Leur's journey from gymnastics to jail and redemption\",\n",
              " 'What a shot! 24 amazing sports photos',\n",
              " '29 amazing sports photos',\n",
              " '26 amazing sports photos',\n",
              " '24 amazing sports photos',\n",
              " '27 amazing sports photos',\n",
              " '27 amazing sports photos',\n",
              " '24 amazing sports photos',\n",
              " '25 amazing sports photos',\n",
              " '28 amazing sports photos',\n",
              " '28 amazing sports photos',\n",
              " \"'I don't think it's appropriate' to play the US national anthem at pro sporting events, says Arena\",\n",
              " \"'That could've been me,' two-time Olympic gold winner reflects on George Floyd's death \",\n",
              " \"You must be heavy boned.' Women sport stars' fight for body acceptance\",\n",
              " \"Serena Williams 'cannot wait' to play at this year's US Open\",\n",
              " \"Florida will ban its 'Gator Bait' cheer due to the phrase's racist history\",\n",
              " \"Dylan Alcott slams 'disgusting discrimination' as US Open omits wheelchair tennis\",\n",
              " 'NFL may not happen at all this year, Fauci warns',\n",
              " 'Marcus Rashford takes a knee and raises his fist, but is denied the perfect ending to a momentous week',\n",
              " \"Sterling welcomes 'massive step' after players take a knee before Premier League restart \",\n",
              " \"Florida will ban its 'Gator Bait' cheer due to the phrase's racist history\",\n",
              " 'Football may not happen at all this year, Fauci warns',\n",
              " \"Dylan Alcott slams 'disgusting discrimination' as US Open omits wheelchair tennis\",\n",
              " 'Premier League players take a knee -- and make a stand',\n",
              " 'Chelsea agrees to sign highly-rated German striker Timo Werner',\n",
              " \"Serena Williams 'cannot wait' to play at this year's US Open\",\n",
              " 'Sprint star Coleman provisionally suspended over missed drug test',\n",
              " 'Rashford takes on Boris Johnson over feeding hungry kids',\n",
              " \"On Father's Day, Cuba's Elian Gonzalez announces he's set to become a dad\",\n",
              " \"Brazilian care home creates 'hug tunnel' so loved ones can embrace elderly relatives\",\n",
              " 'Brazil tops 1 million Covid-19 cases. It may pass the US next, becoming the worst-hit country on the planet',\n",
              " 'Colombian forces rescue kidnapped foreigners -- and their two little dogs',\n",
              " \"Scientists fear deforestation, fires and Covid-19 could create a 'perfect storm' in the Amazon\",\n",
              " \"Venezuela's Maduro tightens grip on power, helped by coronavirus lockdown\",\n",
              " \"'There are two realities.' What is really happening in Nicaragua during the pandemic?\",\n",
              " 'Paulinho Paiakan, Amazon chief and indigenous rainforest protector, dies with coronavirus',\n",
              " 'President of Honduras says he and his wife have coronavirus',\n",
              " 'She walked hundreds of miles with her daughters to the Amazon to escape Covid-19',\n",
              " 'Brazil swipes at FDA, pushes hydroxychloroquine for pregnant women and children',\n",
              " 'Trump made 192 false claims from May 4 through June 7',\n",
              " \"Trump's familiar false claims from May 4 to June 7\",\n",
              " \"National Selfie Day: An expert's guide to taking epic selfies\",\n",
              " 'Paulo Dybala: The boy from the town \"where dreams seem unreachable\" who became a global superstar',\n",
              " 'CNN en Español',\n",
              " 'Brazil passes 1 million coronavirus cases',\n",
              " \"How Rio de Janeiro's favelas are trying to stop coronavirus spread\",\n",
              " \"Images show how coronavirus is overrunning Rio's hospitals\",\n",
              " 'Substandard PPE in Mexico is putting some first responders at risk ',\n",
              " 'George Floyd murals are popping up all over the world',\n",
              " 'In pictures: The coronavirus is surging in Brazil',\n",
              " \"See inside Princess Diana's Bahamas retreat\",\n",
              " 'Nations with two or more capital cities',\n",
              " \"Everton holds up Liverpool's title charge in goalless Merseyside derby\",\n",
              " \"50 years on, 1970 World Cup-winning team remains Brazil's greatest ever\",\n",
              " 'Lewandowski breaks record as Chelsea-bound Werner draws blank',\n",
              " 'Rashford takes a knee and raises his first before Manchester United draw',\n",
              " 'Paulo Dybala: The boy from the town \"where dreams seem unreachable\" who became a global superstar',\n",
              " \"Sterling welcomes 'massive step' after players take a knee\",\n",
              " 'Coveted Germany striker agrees to join Chelsea ',\n",
              " 'Premier League players take a knee -- and make a stand',\n",
              " 'Marcus Rashford, the gifted England star who became a remarkable activist',\n",
              " 'Soccer referees threatened on roadside after game ',\n",
              " \"After 100-day hiatus the Premier League is back, but not everyone's happy\",\n",
              " \"Neuer reveals what it's like to play in football's 'ghost games'\",\n",
              " \"Paulo Dybala: 'Not only people of color should be fighting racism. We all have to'\",\n",
              " \"The Red Room, Finland's Manchester United museum\",\n",
              " 'Former Real Madrid star uses AI company to fight Covid-19 in Spain',\n",
              " 'How I went from 3rd division football to starring in a Netflix hit',\n",
              " \"Germany's Bundesliga is the first major football league to come back in the pandemic\",\n",
              " \"Edwin van der Sar: 'Extremely harsh' if Liverpool don't win Premier League\",\n",
              " \"Syria's 12-year-old football commentary star\",\n",
              " \"Sadio Mane's journey from Senegal to the top of the footballing world\",\n",
              " 'Premier League players \"thrown under a PR bus\" by owners, says Gary Lineker',\n",
              " 'Bernardo Silva: Ronaldo said to donate bonuses to Covid-19 charity',\n",
              " \"Pelé on racism in football: It hasn't changed at all since my time\",\n",
              " 'Euro 2020 postponed to 2021: What happens now?',\n",
              " 'COPA90: Is 1995 Ajax the coolest football team ever?',\n",
              " \"Premier League players urged to take a knee in protest at George Floyd's death\",\n",
              " \"Liverpool's agonizing wait for English football's biggest prize\",\n",
              " \"'I hope your son gets coronavirus': Deeney reveals abuse after speaking out on Premier League restart\",\n",
              " \"It's 'impossible to not be standing for equality,' says Ada Hegerberg\",\n",
              " 'Meet the Man Utd fanatic opening a 33,000-piece museum in Finland',\n",
              " \"Italian soccer league should 'finish properly,' says Alessandro Del Piero\",\n",
              " \"Restart is a battle of 'money vs. health,' says former Premier League club doctor\",\n",
              " 'European soccer prepares for age of austerity',\n",
              " \"'Football without fans is nothing.' Germany is about to test that theory\",\n",
              " 'Footballer, 19, dies after suffering aneurysm',\n",
              " \"'A question of survival': European soccer faces $1 billion decision\",\n",
              " \"Dynamo Dresden's game canceled after positive coronavirus tests \",\n",
              " 'VAR can be scrapped when major leagues restart',\n",
              " 'The ideal gift for Her - Topshop',\n",
              " 'The perfect gift for Him - Mr Porter',\n",
              " 'End of Season Sale - All Saints',\n",
              " 'Buying Great British Pound Sterling?',\n",
              " 'We can help against currency fluctuations',\n",
              " 'With us you can fix an Exchange Rate',\n",
              " 'Find and Fix the best Exchange Rates',\n",
              " 'Fee Free International Payments',\n",
              " 'What our customers say about our service',\n",
              " 'Most Black British people think the Conservative Party is institutionally racist, CNN poll finds',\n",
              " 'Tens of thousands of Britons have died from coronavirus. But Boris Johnson is stoking a culture war.',\n",
              " 'Boris Johnson desperately needs his lockdown gamble to pay off',\n",
              " 'Britain delays border controls to soften Brexit blow to its crashing economy',\n",
              " 'Most Black British people think the Conservative Party is institutionally racist, CNN poll finds',\n",
              " 'Who are the Windrush generation? A British scandal explained',\n",
              " \"Everton holds up Liverpool's title charge in goalless Merseyside derby\",\n",
              " 'UK terror suspect identified as Libyan national -- security source',\n",
              " '3 people killed in stabbing incident in Reading, England',\n",
              " 'China releases blueprint for Hong Kong national security law ',\n",
              " 'Illegal raves are booming in lockdown Britain. Can authorities stop a third Summer of Love?',\n",
              " 'Tens of thousands of Britons have died from coronavirus. But Boris Johnson is stoking a culture war.',\n",
              " 'Tens of thousands of Britons have died from coronavirus. But Boris Johnson is stoking a culture war.',\n",
              " 'Boris Johnson desperately needs his lockdown gamble to pay off',\n",
              " 'Britain delays border controls to soften Brexit blow to its crashing economy',\n",
              " 'Belarus strongman faces mass protests after jailing of his main rivals',\n",
              " 'Russia reopens ahead of Victory Day and Putin referendum -- but coronavirus threat remains',\n",
              " 'Renegade priest occupies Russian convent  ',\n",
              " \"Everton holds up Liverpool's title charge in goalless Merseyside derby\",\n",
              " 'English rugby union bosses reviewing slave-era song used as chant',\n",
              " 'Chelsea agrees to sign highly-rated German striker Timo Werner from RB Leipzig',\n",
              " 'Which international destinations are reopening to tourists?',\n",
              " \"Archaeologists think they've found London's oldest theater\",\n",
              " \"The world's best egg dishes\",\n",
              " 'From Accra to London, how photographer James Barnor captured decades of style',\n",
              " 'From Acrra to London, how photographer James Barnor captured decades of style',\n",
              " \"He spent over $1M on drugs before getting sober. Today, DJ Fat Tony still provides the soundtrack to London's party scene\",\n",
              " 'Mad Cow Disease Fast Facts',\n",
              " 'This drug reduces risk of death in severe Covid-19 patients, trial suggests',\n",
              " 'Commonly used steroid reduces risk of death in sickest coronavirus patients, preliminary study results suggest',\n",
              " 'Showjumping spectacles to be rescheduled amid coronavirus concerns',\n",
              " 'Daniel Deusser king of LGCT Doha with Killer Queen ',\n",
              " 'GC Global Champions: Will Ben Maher do the treble? ',\n",
              " 'Global Champions League teams reveal stellar lineups for new season',\n",
              " 'Longines Global Champions Tour and GCL return with exciting new calendar',\n",
              " 'Shanghai Swans rally to win $7M GCL Super Cup ',\n",
              " \"'Magic' Maher wins $1.4 million Super Grand Prix\",\n",
              " 'Ben Maher doubles up in LGCT with New York win',\n",
              " 'GC Global Champions 2020 season in photos',\n",
              " 'Pieter Devos and the Global Champions League',\n",
              " 'LGCT Doha: Daniel Deusser shines in Qatar',\n",
              " 'GC Global Champions: The stars are back in the saddle',\n",
              " 'The Global Champions Prague Playoffs ',\n",
              " 'Ben Maher triumphs in LGCT Super Grand Prix',\n",
              " 'Shanghai Swans clinch GCL Super Cup',\n",
              " 'LGCT New York: The Ben Maher show',\n",
              " 'LGCT Saint-Tropez: Springsteen triumphs',\n",
              " 'LGCT Rome: Ben Maher leaps to victory',\n",
              " 'LGCT Valkenswaard: Maikel van der Vleuten wins',\n",
              " 'LGCT London: Ben Maher and London Knights triumph',\n",
              " 'LGCT Berlin: Dani G. Waldman takes title',\n",
              " 'LGCT Chantilly: Darragh Kenny jumps to victory',\n",
              " 'LGCT Paris: Take A Chance On Me Z helps Ahlmann clinch win',\n",
              " 'Danielle Goldstein: Secrets of My Success',\n",
              " 'Jessica Springsteen: Secrets of my Success',\n",
              " 'Jennifer Gates juggles her love of horses with academic life',\n",
              " 'The tale of a stunning 2019 season',\n",
              " 'Jessica Springsteen on her love for horses',\n",
              " \"Miami Beach: The secrets behind show jumping's gem\",\n",
              " 'New dad Ahlmann clinches Paris showjumping victory',\n",
              " 'Horse of a lifetime: Hello Sanctos',\n",
              " 'Horse of a lifetime: Don VHP Z',\n",
              " \"'Riding a horse is like flying a plane': Ben Maher\",\n",
              " \"'Details make a big difference': Olivier Philippaerts on secrets of success\",\n",
              " \"'Learn their personality': Laura Kraut on secrets of success\",\n",
              " \"'Have a game plan': Martin Fuchs\",\n",
              " \"'Always want to learn': Daniel Deusser \",\n",
              " \"'It's mutual give and take': Jessica Springsteen\",\n",
              " 'The LGCT: What you need to know',\n",
              " 'The Global Champions League',\n",
              " 'The ideal gift for Her - Topshop',\n",
              " 'The perfect gift for Him - Mr Porter',\n",
              " 'End of Season Sale - All Saints',\n",
              " 'Find and Fix the best Exchange Rates',\n",
              " 'Fee Free International Payments',\n",
              " 'What our customers say about our service',\n",
              " 'Buying Great British Pound Sterling?',\n",
              " 'We can help against currency fluctuations',\n",
              " 'With us you can fix an Exchange Rate',\n",
              " 'New means of doing business emerge in Nigeria ',\n",
              " 'New means of doing business emerge in Nigeria ',\n",
              " 'How African indigenous oil companies stay relevant on a global scale',\n",
              " \"Africa's economic reality during coronavirus, explained\",\n",
              " 'How one company is betting big on the future of waste management in Africa',\n",
              " 'Balancing business, growth and public safety. What does a lockdown mean for Africa?',\n",
              " 'Can volatile oil prices create an opportunity for renewables?',\n",
              " 'Financing the fight to build a robust healthcare system',\n",
              " \"Is Africa the answer to the world's growing food insecurity problems?\",\n",
              " \"Can Africa's fight against Ebola help in the battle against COVID-19? Experts think so\",\n",
              " 'How is the price of a banana broken down?',\n",
              " ' Can the South African supply chain survive during COVID-19?',\n",
              " \"The sugar industry isn't so sweet in Mauritius\",\n",
              " 'How one company is hoping to help small businesses thrive in Africa',\n",
              " \"Kenya's big box grocers are revamping their look\",\n",
              " 'The importance of funding female entrepreneurs in Africa',\n",
              " 'About Marketplace Africa',\n",
              " 'Government, banks and wealthy individuals contribute billions to fight coronavirus in Nigeria',\n",
              " \"Rwanda's Kagame thanks Jack Ma for 'huge shot in the arm' after receiving donation of test kits\",\n",
              " 'African airlines lose $4.4 billion in revenue following the spread of coronavirus on the continent',\n",
              " 'Senegal partners with UK lab to develop a hand-held coronavirus test kit',\n",
              " 'Kenya bans commercial slaughter of donkeys following a rise in animal theft ',\n",
              " 'Senegal launches wind power plant as part of its commitment to renewable energy ',\n",
              " ' International flights to Lagos divert to Ghana due to poor equipment, leaving passengers stranded',\n",
              " \"'A rushed decision': Angry commuters disapprove of controversial Lagos Okada ban\",\n",
              " \"Mapping the future with Africa's first drone academy\",\n",
              " \"Nigeria's commercial hub bans motorcycle taxis, leaving commuters stranded\",\n",
              " 'Britain seeks closer economic ties with Africa following Brexit ',\n",
              " \"Akon created his own city in Senegal called 'Akon City' \",\n",
              " 'This startup is using geo-tagging and blockchain to fight deforestation in Africa',\n",
              " 'France is set to end the use of the 75-year-old controversial CFA franc in West Africa',\n",
              " 'Netflix partners with Nigerian filmmaker in new major deal ',\n",
              " 'Across Africa, the pandemic reveals both inequality and innovation',\n",
              " \"'Choose Your Own Fake News' game wants to tackle misinformation in East Africa\",\n",
              " 'This agricultural enterprise is helping Nigerian farmers expand their business',\n",
              " \"Africa's tourism industry is preparing for a post-coronavirus era\",\n",
              " \"How Flutterwave is helping SMEs in Africa 'keep the lights on' during the pandemic\",\n",
              " 'Rwanda has enlisted anti-epidemic robots in its fight against coronavirus',\n",
              " 'Alcohol ban has South African distilleries pivoting to a new product',\n",
              " 'Sub-Saharan Africa to fall into its first recession in 25 years due to coronavirus, says World Bank',\n",
              " 'Nigerian tailors are hand-making PPE to help fight coronavirus',\n",
              " 'What this sunny, religious town in California teaches us about living longer',\n",
              " \"Breakthrough discovery in plants' DNA may lead to slowing aging process in humans\",\n",
              " 'Urban dwellers who live near green spaces are less likely to die early, a new study says',\n",
              " 'These sports injuries cause the most ER visits among youth, report finds',\n",
              " 'Even a little running cuts risk of premature death, new study shows',\n",
              " 'Being happier will help you live longer, so learn how to be happier',\n",
              " 'Owning a dog tied to lowering your risk of dying early by 24%, says science',\n",
              " 'Want to live longer? You may want to ditch these drinks',\n",
              " 'Erectile dysfunction may predict strokes and heart attacks',\n",
              " 'Intermittent fasting and a new passion helped him lose 95 pounds',\n",
              " 'Eat more plants and less meat to live longer and improve heart health, study suggests',\n",
              " \"South Africa's 'boxing grannies' juke and jab their way to healthier lives \",\n",
              " 'How likely are you live to 90? Depends on your gender and body size',\n",
              " 'Married people walk faster and have stronger grip, new study says',\n",
              " 'Less sitting, more moving tied to living longer',\n",
              " 'High-fiber diet linked to lower risk of death and chronic diseases',\n",
              " 'Just 6 months of walking may reverse cognitive decline, study says',\n",
              " 'About Live Longer',\n",
              " 'Quiz: Are you on track for a long life?',\n",
              " \"Woman turns 107 and shares her secret to longevity: 'I never got married'\",\n",
              " 'Eat the seeds: Why the germs found inside apples may be good for you',\n",
              " 'Death rates climbing among young and middle-age US adults',\n",
              " 'Eat well, exercise more: New global guidelines to reduce risk of dementia',\n",
              " 'Your lifestyle can lower your dementia risk, even if you have high genetic risk, study says',\n",
              " 'Study, work, retire? How to prepare for a 100-year life',\n",
              " 'How to help yourself live longer in 2019',\n",
              " 'The Japanese art of \"forest bathing\"',\n",
              " \"Meet the world's oldest esports team\",\n",
              " 'How to calculate your \"second age\"',\n",
              " 'How a good social life can help your lifespan',\n",
              " 'Promote healing energy by practicing Qigong',\n",
              " \"India's elderly are worried about their social lives\",\n",
              " \"81-year-old runner breaks records, says 'the best is yet to come'\",\n",
              " 'Human longevity might be increasing over time, study says',\n",
              " 'Moderate carb intake best for a healthy lifespan',\n",
              " 'Life expectancy rises in Australia and Japan, new study finds',\n",
              " 'Sleep in this weekend -- you might live longer',\n",
              " 'The meaning(s) of (your) life',\n",
              " 'Mediterranean style diet may prevent dementia',\n",
              " 'Happiness linked to longer life',\n",
              " 'Curbing salt intake could add years to your life',\n",
              " '7 health problems exercise can fix ',\n",
              " 'Cinnamon: Pantry staple -- and medical powerhouse?',\n",
              " 'Is a longer life a happier one?',\n",
              " 'How to beat the stereotypes around aging',\n",
              " 'Do these countries hold the secret to a long and healthy life?',\n",
              " 'Intergenerational care: Where kids help the elderly live longer',\n",
              " 'Is a social life the answer to longevity?',\n",
              " 'Mixing generations -- The key to longevity',\n",
              " 'Is having a social life the answer to longevity?',\n",
              " 'Some European doctors think Chinese medicine should come with a health warning',\n",
              " 'About Vital Signs',\n",
              " 'Meat that starts in a lab petri dish may be the next giant leap in food development',\n",
              " '\"It\\'s not the cow, it\\'s the how.\"',\n",
              " \"Dubai's oldest running club\",\n",
              " \"The nuns devoted to understanding Alzheimer's\",\n",
              " 'Showtimes',\n",
              " 'Two people just got the plague in China — yes, the Black Death plague',\n",
              " 'Explosive growth in screen use by toddlers, studies say',\n",
              " 'Spaceflight alters human heart cells but they return to (mostly) normal on Earth',\n",
              " 'How France is persuading its citizens to get vaccinated',\n",
              " 'Malaria-fighting soup? On a lark, a school experiment leads to findings about homemade cures',\n",
              " 'The man whose duvet nearly killed him: How this medical mystery was solved ',\n",
              " 'Only children are more likely to be obese, study says',\n",
              " \"China approves seaweed-based Alzheimer's drug. It's the first new one in 17 years\",\n",
              " \"Meet Belfast's 'dementia-friendly barber' \",\n",
              " 'Why Thailand is putting its Buddhist monks on a diet',\n",
              " 'Read: You can train yourself to be happy',\n",
              " \"Meet the smoking-free, carbon-negative country that passes no law unless it improves citizens' well-being\",\n",
              " 'The wearable cyborgs that use brain waves to power up your muscles',\n",
              " 'Read: Do you eat too much meat?',\n",
              " 'Could fake meat burgers make cows obsolete? ',\n",
              " 'Dr. Sanjay Gupta: The epidemic of gun violence is treatable',\n",
              " 'Evolution may be why humans are prone to heart attacks',\n",
              " 'Women with paying jobs see slower memory loss later in life',\n",
              " 'Scientists have found that anorexia is linked to metabolism',\n",
              " 'Your health before age 40 is tied to heart risks later in life',\n",
              " 'Owning a dog tied to lowering your risk of dying early by 24%, says science',\n",
              " 'Cutting about 300 calories a day might benefit your heart',\n",
              " \"It's not just college kids. A new study says older adults binge drink, too\",\n",
              " 'A small glass of juice or soda a day is linked to increased risk of cancer',\n",
              " 'Climate crisis might be behind the rise of mysterious superbug C. auris',\n",
              " 'More people try drugs for the first time in the summer, study says',\n",
              " 'What makes ice cream so addictive? ',\n",
              " 'Broken heart syndrome and cancer are connected, scientists say',\n",
              " 'The people who feel no pain',\n",
              " \"Mind-controlled prosthetics: the next wave of 'smart arms'\",\n",
              " 'Is it possible to map the entire nervous system?',\n",
              " 'Game shows that ability to navigate declines at young age',\n",
              " 'Do brain-training exercises really work?',\n",
              " 'How to stop city life from stressing you out',\n",
              " 'How language is processed by your brain',\n",
              " 'How a blinded soldier won gold at the Paralympics',\n",
              " \"How prosthetics can help a boy's dream come true\",\n",
              " 'Run, swim and cycle with prosthetics',\n",
              " \"Derrick Coleman makes 'No Excuses'\",\n",
              " 'Deaf Super Bowl champion who broke the sound barrier',\n",
              " \"Neuroscientist's quest to understand language\",\n",
              " 'Next generation hearing implants for kids',\n",
              " \"Onboard the world's largest floating hospital\",\n",
              " \"Saving lives on the world's biggest hospital ship\",\n",
              " 'U.S. navy brings critical health care to Jamaica',\n",
              " \"What it's like to operate on a navy ship\",\n",
              " 'The secrets that make Sherpas superhuman hikers',\n",
              " 'The man with the golden arm',\n",
              " 'Donors make a difference',\n",
              " 'Woman meets donor who saved her life',\n",
              " 'Overcoming sleep apnea',\n",
              " 'Tired all of the time? ',\n",
              " 'Why sleep matters',\n",
              " 'Quiz: The science of sleep',\n",
              " 'The woman who slept, but got no rest',\n",
              " \"The 'snoring sickness' that leaves you gasping for breath\",\n",
              " 'How a luxury lifestyle can lead to obestiy issues',\n",
              " \"Kuwait's healthy food awareness\",\n",
              " 'Kuwait joins the crossfit craze',\n",
              " 'Middle East obesity epidemic',\n",
              " 'The art of aging',\n",
              " 'The secrets of centenarians',\n",
              " 'The principles of living longer',\n",
              " 'Does this place hold the secret to long life?',\n",
              " 'Five ways to eat yourself healthier',\n",
              " 'A laboratory that is out of this world',\n",
              " 'Robot surgeon inspired by space tech',\n",
              " 'Diet and exercise in space',\n",
              " \"The NASA diet: It's food, but not as we know it\",\n",
              " 'Search for next-generation antibiotics',\n",
              " 'How does antibiotic resistance work?',\n",
              " 'Icy waters could hold key to global crisis',\n",
              " 'Arctic waters could hold secret to creating life-saving drugs',\n",
              " \"Living with 'Childhood Alzheimer's'\",\n",
              " 'Parents fight to cure rare disease',\n",
              " \"Family's crusade reaches milestone\",\n",
              " 'A treatment for deadly Niemann-Pick disease?',\n",
              " 'A perfect feast: the healthy way to celebrate Eid ',\n",
              " 'Are we ready for the next global epidemic?',\n",
              " 'Should we worry about gene editing?',\n",
              " '6 fitness goals for 2016 - and how to achieve them',\n",
              " 'Waiting for a new face: The transplants giving people back their lives  ',\n",
              " 'The contact lens with a built-in telescope',\n",
              " 'The battle to eliminate elephantiasis',\n",
              " 'The worms that invade your brain',\n",
              " \"The air pollution that's choking Asia\",\n",
              " \"Hunting the 'fiery serpent'\",\n",
              " 'On the road to an HIV vaccine?',\n",
              " 'These 8 whiz kids are the future of medicine',\n",
              " 'Belarus strongman faces mass protests after jailing of his main rivals',\n",
              " 'Three activists say they were abducted by security forces after protesting. The government says they faked it, and put them in jail',\n",
              " 'Russia reopens ahead of Victory Day and Putin referendum -- but coronavirus threat remains',\n",
              " 'Fatal UK stabbing declared terror incident by police',\n",
              " 'Belarus strongman faces mass protests after jailing of his main rivals',\n",
              " 'Russia reopens ahead of Victory Day and Putin referendum -- but coronavirus threat remains',\n",
              " 'Pope Francis warns society against reverting to individualism after the pandemic ',\n",
              " 'Nationwide protests grip Lebanon as currency tanks',\n",
              " 'UN says at least eight mass graves have been reported found in Libya',\n",
              " \"Coronavirus death rates in Yemen's Aden could exceed its wartime fatalities\",\n",
              " 'Three activists say they were abducted by security forces after protesting. The government says they faked it, and put them in jail',\n",
              " \"South Africa has the continent's highest Covid-19 cases. Now it has another pandemic on its hands\",\n",
              " \"She didn't want her neighbors to go hungry during lockdown. Now she is feeding thousands daily \",\n",
              " \"On Father's Day, Cuba's Elian Gonzalez announces he's set to become a dad\",\n",
              " \"Brazilian care home creates 'hug tunnel' so loved ones can embrace elderly relatives\",\n",
              " 'Brazil tops 1 million Covid-19 cases. It may pass the US next, becoming the worst-hit country on the planet',\n",
              " 'Vote in Japan to change status of disputed islands threatens to raises tensions with China',\n",
              " \"Why this Japan-China island dispute could be Asia's next military flashpoint\",\n",
              " 'Two Canadians held in China have officially been charged with spying',\n",
              " 'China and India need each other. Just look at technology',\n",
              " 'Europe is building defenses against Chinese takeovers of key industries',\n",
              " \"Ford's electric Mustang will offer hands-free driving technology\",\n",
              " 'Energy drink? A UK startup is turning coffee into fuel',\n",
              " 'The tiny islands quietly mastering hydrogen power',\n",
              " \"US cities are losing 36 million trees a year. Here's why it matters \",\n",
              " \"Miami's Little Haiti wasn't a target for developers. Until the seas started to rise\",\n",
              " 'How rich people could help save the planet from the climate crisis',\n",
              " \"People are seeing through the fashion industry's stand against racism\",\n",
              " 'Understanding the dress codes of Orthodox Jewish women',\n",
              " 'The striking portraits that speak to humanity now ',\n",
              " \"The forgotten stars of Malian photography's Golden Age\",\n",
              " 'Why do so many Egyptian statues have broken noses?',\n",
              " 'Wooden skyscrapers climb to new heights',\n",
              " \"World's most expensive city for expats revealed\",\n",
              " 'Secret Cold War past of a Spanish tourist hotspot ',\n",
              " 'The Greek airport that was left to fall apart',\n",
              " 'Expats buy Japanese country house for a song and get way more than they bargained for',\n",
              " 'Which countries are reopening to tourists?',\n",
              " 'How to lower your coronavirus risk while eating out',\n",
              " 'Earth Hour founder to conduct Great Barrier Reef census',\n",
              " 'Ancient air con to beat the Indian heat',\n",
              " 'Waterless toilet takes the energy out of waste disposal',\n",
              " \"Jupiter as you've never seen it before\",\n",
              " 'The world through the eyes of one photographer',\n",
              " \"The mission to drill through Earth's crust\",\n",
              " \"'It's the most hostile place': Life at the North Pole\",\n",
              " 'Wearable limbs help paralyzed walk again',\n",
              " \"Meet the smoking-free, carbon-negative country that passes no law unless it improves citizens' well-being\",\n",
              " 'Using hand sanitizer may be giving you a false sense of security',\n",
              " \"Noose found in NASCAR driver's garage\",\n",
              " 'Sports stars call for racial justice at ESPYs',\n",
              " 'The legend of Ken Griffey Jr. ',\n",
              " 'Plays and moments that defined Ken Griffey Jr. ',\n",
              " \"Ranking MLBers whose fathers' played pro ball\",\n",
              " \"Vanessa Bryant posts Father's Day message to Kobe\",\n",
              " 'A teen who spent 10 hours cleaning up after a protest is rewarded',\n",
              " 'As food banks struggle, these CNN Heroes are getting meals to those in need',\n",
              " 'This newspaper deliveryman has made more than 500 shopping trips for senior citizens',\n",
              " 'Ask about your COVID-19 symptoms',\n",
              " 'Do you have a legal case from layoffs?',\n",
              " 'Fix your spotty WiFi fast before your next Zoom call',\n",
              " 'Refi rates at 2.53% APR (15 yr). Do you qualify?',\n",
              " 'Hack your mortgage by refinancing to a 15yr fixed',\n",
              " \"Now's the time to refi. Rates as low as 2.6% APR (15 yr fixed)\",\n",
              " 'Pay 0% interest until 2021 with a better card',\n",
              " 'Spend $500, get $150 fast with this top card',\n",
              " 'An extremely brilliant way to pay off your card',\n",
              " 'My Black Life Matters',\n",
              " 'Gourmet restaurants scramble to reopen in France ',\n",
              " 'Belarus strongman faces mass protests after jailing of his main rivals',\n",
              " 'Coronavirus pandemic: Updates from around the world',\n",
              " 'In pictures: Solar eclipse darkens skies across continents',\n",
              " 'Fatal UK stabbing declared terror incident by police',\n",
              " 'Three activists say they were abducted by security forces after protesting. The government says they faked it, and put them in jail',\n",
              " 'China releases blueprint for Hong Kong national security law ',\n",
              " 'Russia reopens ahead of Victory Day and Putin referendum -- but coronavirus threat remains',\n",
              " 'June 20 coronavirus news ',\n",
              " 'Pope Francis warns society against reverting to individualism after the pandemic ',\n",
              " \"Solar eclipse 2020: See June's annular eclipse on Sunday\",\n",
              " 'In pictures: The novel coronavirus outbreak',\n",
              " 'Saif al-Islam Gadhafi Fast Facts',\n",
              " 'Nuri al-Maliki Fast Facts',\n",
              " 'Malala Yousafzai Fast Facts',\n",
              " 'Julian Assange Fast Facts',\n",
              " \"Greta Thunberg says Covid-19 response shows world can 'suddenly act with necessary force'\",\n",
              " 'Coronavirus diverting funds for traumatized refugees',\n",
              " 'June 19 coronavirus news',\n",
              " \"NASA's Perseverance rover will launch to Mars next month with a global tribute to health care workers\",\n",
              " 'June 20 is World Refugee Day. Here are ways you can show support ',\n",
              " \"Brazilian care home creates 'hug tunnel' so loved ones can embrace elderly relatives\",\n",
              " 'Solar eclipse 2020: How and when to watch the June annular eclipse',\n",
              " 'Brazil tops 1 million Covid-19 cases. It may pass the US next, becoming the worst-hit country on the planet',\n",
              " 'Brazil passes 1 million coronavirus cases',\n",
              " 'Colombian forces rescue kidnapped foreigners -- and their two little dogs',\n",
              " 'Colombian forces rescue kidnapped foreigners and their two dogs',\n",
              " 'Romance and love -- the summer solstice',\n",
              " \"Prehistoric 'clutter' on land led to bigger, smarter human brains \",\n",
              " 'Greek police arrest man posing as a doctor -- they allege he caused 3 deaths, including those of 2 children',\n",
              " \"Scientists fear deforestation, fires and Covid-19 could create a 'perfect storm' in the Amazon\",\n",
              " 'Earth-like planets and ocean worlds could be common in our galaxy, studies say',\n",
              " 'What you need to know about coronavirus on Friday, June 19',\n",
              " \"Malala Yousafzai finishes Oxford University, says now is time for 'Netflix, reading and sleep'\",\n",
              " 'Malala Yousafzai is going to Oxford University (2017)',\n",
              " \"This drug may be the secret behind Portugal's low Covid-19 death rate\",\n",
              " \"South Africa has the continent's highest Covid-19 cases. Now it has another pandemic on its hands\",\n",
              " 'Two Canadians held in China have officially been charged with spying',\n",
              " \"What's been happening in China's Xinjiang, home to 11 million Uyghurs?\",\n",
              " \"Venezuela's Maduro tightens grip on power, helped by coronavirus lockdown\",\n",
              " \"Beijing's new outbreak is a reminder to the world that coronavirus can return at anytime\",\n",
              " 'New Zealand police officer shot dead in routine traffic stop',\n",
              " 'New coronavirus outbreak in Beijing linked to market',\n",
              " \"China on Bolton book allegations: We don't interfere\",\n",
              " 'The week in 37 photos',\n",
              " 'Part 3: Entire CNN coronavirus town hall (June 18)',\n",
              " 'Part 4: Entire CNN coronavirus town hall (June 18)',\n",
              " 'Electric vehicles could break through the coronavirus crisis',\n",
              " 'Renewable energy growth stalled by coronavirus',\n",
              " 'Why oil rich UAE is developing nuclear power',\n",
              " 'Shipping industry adapts to stricter fuel regulations ',\n",
              " 'How plants grown in saltwater are turned into biofuel',\n",
              " 'A sustainable solution for refrigerated trucks',\n",
              " 'What is carbon capture?',\n",
              " 'This small island chain is leading the way on hydrogen power',\n",
              " 'These tiny islands have been quietly mastering hydrogen power',\n",
              " 'A clean energy solution for rural communities',\n",
              " 'Why cement has a huge carbon footprint',\n",
              " 'The UK just gave the car industry 15 years to ditch fossil fuels',\n",
              " 'Can oil and gas companies help the transition to clean energy?',\n",
              " \"Gas heating is the biggest threat to Britain's climate goal\",\n",
              " 'New lithium-sulfur battery could charge your phone for five days',\n",
              " 'Why this Apple executive says the US needs a new energy system',\n",
              " \"America is now the world's top oil producer, but cracks are emerging\",\n",
              " \"This company's captured CO2 is used in soda\",\n",
              " 'Solar, wind and hydro power could soon surpass coal',\n",
              " \"California's sustainable aviation effort: Biofuel\",\n",
              " \"Midland, Texas: America's ultimate boomtown\",\n",
              " \"The UK once hoped for an American-style fracking boom. It's not happening \",\n",
              " \"Renewable energy is booming. But it's not growing fast enough to fight climate change\",\n",
              " \"The world's largest offshore wind farm is nearly complete. It can power 1 million homes\",\n",
              " 'Making an old home healthier for you and the environment',\n",
              " 'Toyota is pushing ahead with hydrogen-powered cars',\n",
              " \"London's buses are moving toward zero emissions\",\n",
              " \"Harnessing Australia's tides for energy\",\n",
              " \"Japan's untapped geothermal hot springs\",\n",
              " 'These logs are made from recycled coffee grounds',\n",
              " 'How Saudi Aramco is working toward climate targets',\n",
              " 'These households are bringing energy awareness home',\n",
              " 'Saudi Aramco CEO on oil prices, US shale and Hormuz security',\n",
              " \"The world's largest offshore wind farm is nearly complete. It can power 1 million homes\",\n",
              " 'Turning sunlight into renewable aviation fuel',\n",
              " \"New York City's buildings are becoming energy efficient\",\n",
              " 'Why natural gas has a role in the energy transition',\n",
              " \"This pump reduces your home's energy demand\",\n",
              " \"Company aims to produce world's first fossil fuel-free steel\",\n",
              " 'Solar power is now cheaper than the grid in hundreds of Chinese cities',\n",
              " 'Liquid sunlight creates heat on demand',\n",
              " 'Offshore wind could power the world ',\n",
              " 'Malaysia is fighting the climate crisis with better buildings',\n",
              " 'China can go carbon neutral by 2050 while still growing its economy: report',\n",
              " 'How captured CO2 can be turned back into solid product',\n",
              " 'Company recycles tires to be reused elsewhere',\n",
              " \"No wind? No sun? This power plant solves renewable energy's biggest problem\",\n",
              " 'How the dirtiest power station in western Europe switched to renewable energy',\n",
              " 'The UK company turning waste plastic into fuel for hydrogen cars',\n",
              " 'Daimler is building electric trucks to make online shopping greener',\n",
              " 'Electric planes herald new era for aviation ',\n",
              " \"South Korea's plan to triple renewable energy\",\n",
              " 'Can India kick its coal addiction?',\n",
              " 'UPS has new hybrid trucks with a neat trick',\n",
              " 'See new hybrid cruise ships',\n",
              " 'Coal demand is plunging',\n",
              " 'How a 500-year-old German brewery started an eco-friendly beer trend ',\n",
              " \"Shipping is one of the dirtiest industries. Now it's trying to clean up its act\",\n",
              " 'The US has its first gas station that is fully electric',\n",
              " \"China's gambling on a nuclear future, but is it destined to lose?\",\n",
              " 'Why switching to renewables is proving a slow burn ',\n",
              " 'How Amsterdam plans to power a city of electric cars',\n",
              " 'Your electric car could become a mini power station',\n",
              " 'The Global Energy Challenge: United Kingdom',\n",
              " 'The Global Energy Challenge: United States',\n",
              " 'The Global Energy Challenge: India',\n",
              " \"The public is helping us see Jupiter like it's never been seen before\",\n",
              " \"The mission to drill through the Earth's crust\",\n",
              " 'The world through the eyes of one photographer',\n",
              " \"'It's the most hostile place': Life at the North Pole with Inge Solheim\",\n",
              " 'To Antarctica and beyond',\n",
              " 'About The Modern Explorers',\n",
              " 'Double amputee Hari Budha Magar aims for Everest first ',\n",
              " 'Nick Butter runs marathon in every country in the world',\n",
              " \"'It's all quite devastating': Documenting the rapid loss of Arctic sea ice\",\n",
              " 'Trailer: The Modern Explorers',\n",
              " \"David de Rothschild: Has 'Spaceship Earth' found its navigator? \",\n",
              " 'Mostafa Salameh on completing the Explorers Grand Slam',\n",
              " \"Dispatches from the bottom of Belize's Blue Hole\",\n",
              " \"Chaos in the Koreas sees Kim Jong Un's sister emerge stronger than ever\",\n",
              " 'Vote in Japan to change status of disputed islands threatens to raises tensions with China',\n",
              " \"Why this Japan-China island dispute could be Asia's next military flashpoint\",\n",
              " 'Two Canadians held in China have officially been charged with spying',\n",
              " \"What's been happening in China's Xinjiang, home to 11 million Uyghurs?\",\n",
              " \"Beijing's new outbreak is a reminder to the world that coronavirus can return at anytime\",\n",
              " 'New Zealand police officer shot dead in routine traffic stop',\n",
              " 'Why are China and India fighting over an inhospitable strip of the Himalayas? ',\n",
              " 'Evidence of huge carnivorous dinosaurs discovered in Australia',\n",
              " \"Tencent is building a Monaco-sized 'city of the future' in Shenzhen\",\n",
              " '13,500-year-old bird figurine discovered in China is a game-changer for prehistoric art',\n",
              " \"No taller than 500M, no plagiarism: China signals 'new era' for architecture\",\n",
              " 'Which international destinations are reopening to tourists?',\n",
              " \"From chow mein to udon: A beginner's guide to Asia's best noodles\",\n",
              " 'I moved to Asia, got cancer, and then coronavirus happened',\n",
              " 'Intermittent fasting and a new passion helped him lose 95 pounds',\n",
              " 'Eat more plants and less meat to live longer and improve heart health',\n",
              " \"South Africa's 'boxing grannies' juke and jab their way to healthier lives \",\n",
              " '5 dishes every Hanoi visitor needs to try',\n",
              " \"Where to try bia hoi, Hanoi's 25 cent beer \",\n",
              " \"Hanoi's best boutique hotels\",\n",
              " '16 Japan experiences every traveler needs to enjoy',\n",
              " \"Wakayama rafting: It's on logs -- and standing up!\",\n",
              " 'Tohoku: A Japan destination for all seasons ',\n",
              " \"Preserving Macao's handmade signs in the digital age\",\n",
              " \"'Like the tart, I never change': The secret behind Macao's most famous dessert\",\n",
              " \"Preserving Macao's bamboo tradition through sculptural works\",\n",
              " \"The master shipbuilder keeping Macao's maritime past alive\",\n",
              " 'How Tokyo is readying for the global spotlight',\n",
              " \"Welcome to the world's wildest intersection  \",\n",
              " \"Hoshinoya Tokyo: Japan's most luxurious urban ryokan \",\n",
              " \"The story behind Vietnam's 'Crazy House' \",\n",
              " '7 reasons to visit gorgeous Hoi An',\n",
              " \"30 of Vietnam's most beautiful places\",\n",
              " \"Coronavirus death rates in Yemen's Aden could exceed its wartime fatalities\",\n",
              " 'How one gay Egyptian woman stood up to homophobia and paid the ultimate price ',\n",
              " 'Nationwide protests grip Lebanon as currency tanks',\n",
              " ...]"
            ]
          },
          "metadata": {
            "tags": []
          },
          "execution_count": 78
        }
      ]
    },
    {
      "cell_type": "code",
      "metadata": {
        "id": "qCrCGdSNJHTW",
        "colab_type": "code",
        "colab": {
          "base_uri": "https://localhost:8080/",
          "height": 34
        },
        "outputId": "547e1bee-31a0-4d3a-962d-9f30796472b7"
      },
      "source": [
        "len(set(data))"
      ],
      "execution_count": 79,
      "outputs": [
        {
          "output_type": "execute_result",
          "data": {
            "text/plain": [
              "1508"
            ]
          },
          "metadata": {
            "tags": []
          },
          "execution_count": 79
        }
      ]
    }
  ]
}
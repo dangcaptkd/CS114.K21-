{
  "nbformat": 4,
  "nbformat_minor": 0,
  "metadata": {
    "colab": {
      "name": "sarcasm detection.ipynb",
      "provenance": [],
      "toc_visible": true,
      "authorship_tag": "ABX9TyMLgTN2fpbt4oXM3zlT7g0W",
      "include_colab_link": true
    },
    "kernelspec": {
      "name": "python3",
      "display_name": "Python 3"
    },
    "accelerator": "GPU"
  },
  "cells": [
    {
      "cell_type": "markdown",
      "metadata": {
        "id": "view-in-github",
        "colab_type": "text"
      },
      "source": [
        "<a href=\"https://colab.research.google.com/github/dangcaptkd/CS114.K21-/blob/master/sarcasm_detection.ipynb\" target=\"_parent\"><img src=\"https://colab.research.google.com/assets/colab-badge.svg\" alt=\"Open In Colab\"/></a>"
      ]
    },
    {
      "cell_type": "markdown",
      "metadata": {
        "id": "KX_2DDpenlIY",
        "colab_type": "text"
      },
      "source": [
        "**Sarcasm detection**\n",
        "\n",
        "**Data**\n",
        "  *   Data train được lấy từ kaggle: News Headlines Dataset For Sarcasm Detection\n",
        "  *   Dataset-train gồm:\n",
        "    *   is_sarcastic: là 1 nếu là sarcasm ngược lại là 0\n",
        "    *   headline: tiêu đề\n",
        "    *   article_link: link của article\n",
        "\n",
        "\n",
        "**Các kĩ thuật xử lý data**\n",
        "\n",
        "  * Regular Expression: loại bỏ các kí tự không cần thiết. Ex: don't ---> don t\n",
        "  * Stemming data: đưa các từ về hình thức gốc của nó. Ex: loved---> love\n",
        "  * TF-IDF (Term frequency-Document term frequency): \n",
        "    * TF: là số lần xuất hiện của từ đó trong văn bản\n",
        "    * IDF: Tần số nghịch của 1 từ trong tập văn bản \n",
        "    * tfidf = TF*IDF, những từ có tần số ifidf cao là những từ xuất hiện nhiều trong văn bản này, và xuất hiện ít trong các văn bản khác. Việc này giúp lọc ra những từ phổ biến và giữ lại những từ có giá trị cao (từ khoá của văn bản đó).\n",
        "\n",
        "\n",
        "\n",
        "\n",
        "\n",
        "\n",
        "\n",
        "\n"
      ]
    },
    {
      "cell_type": "markdown",
      "metadata": {
        "id": "hAL1RKfd5j15",
        "colab_type": "text"
      },
      "source": [
        "Lấy data từ kaggle!\n",
        "\n"
      ]
    },
    {
      "cell_type": "code",
      "metadata": {
        "id": "Y03UP2vU0N4u",
        "colab_type": "code",
        "colab": {
          "resources": {
            "http://localhost:8080/nbextensions/google.colab/files.js": {
              "data": "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",
              "ok": true,
              "headers": [
                [
                  "content-type",
                  "application/javascript"
                ]
              ],
              "status": 200,
              "status_text": ""
            }
          },
          "base_uri": "https://localhost:8080/",
          "height": 89
        },
        "outputId": "56057131-4762-440b-9d06-8dee32cf1728"
      },
      "source": [
        "from google.colab import files\n",
        "files.upload()"
      ],
      "execution_count": 1,
      "outputs": [
        {
          "output_type": "display_data",
          "data": {
            "text/html": [
              "\n",
              "     <input type=\"file\" id=\"files-24777f77-19ff-4971-a2f5-06d00ae831ac\" name=\"files[]\" multiple disabled\n",
              "        style=\"border:none\" />\n",
              "     <output id=\"result-24777f77-19ff-4971-a2f5-06d00ae831ac\">\n",
              "      Upload widget is only available when the cell has been executed in the\n",
              "      current browser session. Please rerun this cell to enable.\n",
              "      </output>\n",
              "      <script src=\"/nbextensions/google.colab/files.js\"></script> "
            ],
            "text/plain": [
              "<IPython.core.display.HTML object>"
            ]
          },
          "metadata": {
            "tags": []
          }
        },
        {
          "output_type": "stream",
          "text": [
            "Saving kaggle.json to kaggle.json\n"
          ],
          "name": "stdout"
        },
        {
          "output_type": "execute_result",
          "data": {
            "text/plain": [
              "{'kaggle.json': b'{\"username\":\"quyennguyenthinh\",\"key\":\"52c200c7cee98c6a1dd7c6433c61afd8\"}'}"
            ]
          },
          "metadata": {
            "tags": []
          },
          "execution_count": 1
        }
      ]
    },
    {
      "cell_type": "code",
      "metadata": {
        "id": "EuH8QBhq1Rd3",
        "colab_type": "code",
        "colab": {}
      },
      "source": [
        "#!ls -lha kaggle.json\n",
        "!pip install -q kaggle\n",
        "!mkdir -p ~/.kaggle\n",
        "!cp kaggle.json ~/.kaggle/\n",
        "!chmod 600 ~/.kaggle/kaggle.json"
      ],
      "execution_count": 2,
      "outputs": []
    },
    {
      "cell_type": "code",
      "metadata": {
        "id": "5-y8b1oh1ixW",
        "colab_type": "code",
        "colab": {
          "base_uri": "https://localhost:8080/",
          "height": 68
        },
        "outputId": "9e8e67f2-c640-4944-ce21-d7466acb5000"
      },
      "source": [
        "!kaggle datasets download -d rmisra/news-headlines-dataset-for-sarcasm-detection"
      ],
      "execution_count": 3,
      "outputs": [
        {
          "output_type": "stream",
          "text": [
            "Downloading news-headlines-dataset-for-sarcasm-detection.zip to /content\n",
            "\r  0% 0.00/3.30M [00:00<?, ?B/s]\n",
            "\r100% 3.30M/3.30M [00:00<00:00, 111MB/s]\n"
          ],
          "name": "stdout"
        }
      ]
    },
    {
      "cell_type": "code",
      "metadata": {
        "id": "DeGFLsYL2Jb4",
        "colab_type": "code",
        "colab": {
          "base_uri": "https://localhost:8080/",
          "height": 68
        },
        "outputId": "e8f49f85-b860-43ae-d6a6-bc2f90952128"
      },
      "source": [
        "!unzip news-headlines-dataset-for-sarcasm-detection"
      ],
      "execution_count": 4,
      "outputs": [
        {
          "output_type": "stream",
          "text": [
            "Archive:  news-headlines-dataset-for-sarcasm-detection.zip\n",
            "  inflating: Sarcasm_Headlines_Dataset.json  \n",
            "  inflating: Sarcasm_Headlines_Dataset_v2.json  \n"
          ],
          "name": "stdout"
        }
      ]
    },
    {
      "cell_type": "markdown",
      "metadata": {
        "id": "n6tsgE_R6PgV",
        "colab_type": "text"
      },
      "source": [
        "# Load,show, check, pre-processing, training and testing data\n",
        "#(regular expression, steming, TF-IDF Vectorizer)"
      ]
    },
    {
      "cell_type": "code",
      "metadata": {
        "id": "GlZtMitl2VES",
        "colab_type": "code",
        "colab": {}
      },
      "source": [
        "import pandas as pd\n",
        "import numpy as np\n",
        "import re\n",
        "from nltk.stem.porter import PorterStemmer\n",
        "from sklearn.feature_extraction.text import TfidfVectorizer"
      ],
      "execution_count": 5,
      "outputs": []
    },
    {
      "cell_type": "markdown",
      "metadata": {
        "id": "53PN0dBQ7zl_",
        "colab_type": "text"
      },
      "source": [
        "load data from jason file"
      ]
    },
    {
      "cell_type": "code",
      "metadata": {
        "id": "ixAGsowx2lyl",
        "colab_type": "code",
        "colab": {}
      },
      "source": [
        "data = pd.read_json('Sarcasm_Headlines_Dataset.json', lines = True)"
      ],
      "execution_count": 6,
      "outputs": []
    },
    {
      "cell_type": "markdown",
      "metadata": {
        "id": "YE6e02-u76iA",
        "colab_type": "text"
      },
      "source": [
        "show data"
      ]
    },
    {
      "cell_type": "code",
      "metadata": {
        "id": "DTEVqLRw2_Fy",
        "colab_type": "code",
        "colab": {
          "base_uri": "https://localhost:8080/",
          "height": 419
        },
        "outputId": "c0ae4e7d-322f-4271-ef3f-342afbd789c9"
      },
      "source": [
        "data"
      ],
      "execution_count": 7,
      "outputs": [
        {
          "output_type": "execute_result",
          "data": {
            "text/html": [
              "<div>\n",
              "<style scoped>\n",
              "    .dataframe tbody tr th:only-of-type {\n",
              "        vertical-align: middle;\n",
              "    }\n",
              "\n",
              "    .dataframe tbody tr th {\n",
              "        vertical-align: top;\n",
              "    }\n",
              "\n",
              "    .dataframe thead th {\n",
              "        text-align: right;\n",
              "    }\n",
              "</style>\n",
              "<table border=\"1\" class=\"dataframe\">\n",
              "  <thead>\n",
              "    <tr style=\"text-align: right;\">\n",
              "      <th></th>\n",
              "      <th>article_link</th>\n",
              "      <th>headline</th>\n",
              "      <th>is_sarcastic</th>\n",
              "    </tr>\n",
              "  </thead>\n",
              "  <tbody>\n",
              "    <tr>\n",
              "      <th>0</th>\n",
              "      <td>https://www.huffingtonpost.com/entry/versace-b...</td>\n",
              "      <td>former versace store clerk sues over secret 'b...</td>\n",
              "      <td>0</td>\n",
              "    </tr>\n",
              "    <tr>\n",
              "      <th>1</th>\n",
              "      <td>https://www.huffingtonpost.com/entry/roseanne-...</td>\n",
              "      <td>the 'roseanne' revival catches up to our thorn...</td>\n",
              "      <td>0</td>\n",
              "    </tr>\n",
              "    <tr>\n",
              "      <th>2</th>\n",
              "      <td>https://local.theonion.com/mom-starting-to-fea...</td>\n",
              "      <td>mom starting to fear son's web series closest ...</td>\n",
              "      <td>1</td>\n",
              "    </tr>\n",
              "    <tr>\n",
              "      <th>3</th>\n",
              "      <td>https://politics.theonion.com/boehner-just-wan...</td>\n",
              "      <td>boehner just wants wife to listen, not come up...</td>\n",
              "      <td>1</td>\n",
              "    </tr>\n",
              "    <tr>\n",
              "      <th>4</th>\n",
              "      <td>https://www.huffingtonpost.com/entry/jk-rowlin...</td>\n",
              "      <td>j.k. rowling wishes snape happy birthday in th...</td>\n",
              "      <td>0</td>\n",
              "    </tr>\n",
              "    <tr>\n",
              "      <th>...</th>\n",
              "      <td>...</td>\n",
              "      <td>...</td>\n",
              "      <td>...</td>\n",
              "    </tr>\n",
              "    <tr>\n",
              "      <th>26704</th>\n",
              "      <td>https://www.huffingtonpost.com/entry/american-...</td>\n",
              "      <td>american politics in moral free-fall</td>\n",
              "      <td>0</td>\n",
              "    </tr>\n",
              "    <tr>\n",
              "      <th>26705</th>\n",
              "      <td>https://www.huffingtonpost.com/entry/americas-...</td>\n",
              "      <td>america's best 20 hikes</td>\n",
              "      <td>0</td>\n",
              "    </tr>\n",
              "    <tr>\n",
              "      <th>26706</th>\n",
              "      <td>https://www.huffingtonpost.com/entry/reparatio...</td>\n",
              "      <td>reparations and obama</td>\n",
              "      <td>0</td>\n",
              "    </tr>\n",
              "    <tr>\n",
              "      <th>26707</th>\n",
              "      <td>https://www.huffingtonpost.com/entry/israeli-b...</td>\n",
              "      <td>israeli ban targeting boycott supporters raise...</td>\n",
              "      <td>0</td>\n",
              "    </tr>\n",
              "    <tr>\n",
              "      <th>26708</th>\n",
              "      <td>https://www.huffingtonpost.com/entry/gourmet-g...</td>\n",
              "      <td>gourmet gifts for the foodie 2014</td>\n",
              "      <td>0</td>\n",
              "    </tr>\n",
              "  </tbody>\n",
              "</table>\n",
              "<p>26709 rows × 3 columns</p>\n",
              "</div>"
            ],
            "text/plain": [
              "                                            article_link  ... is_sarcastic\n",
              "0      https://www.huffingtonpost.com/entry/versace-b...  ...            0\n",
              "1      https://www.huffingtonpost.com/entry/roseanne-...  ...            0\n",
              "2      https://local.theonion.com/mom-starting-to-fea...  ...            1\n",
              "3      https://politics.theonion.com/boehner-just-wan...  ...            1\n",
              "4      https://www.huffingtonpost.com/entry/jk-rowlin...  ...            0\n",
              "...                                                  ...  ...          ...\n",
              "26704  https://www.huffingtonpost.com/entry/american-...  ...            0\n",
              "26705  https://www.huffingtonpost.com/entry/americas-...  ...            0\n",
              "26706  https://www.huffingtonpost.com/entry/reparatio...  ...            0\n",
              "26707  https://www.huffingtonpost.com/entry/israeli-b...  ...            0\n",
              "26708  https://www.huffingtonpost.com/entry/gourmet-g...  ...            0\n",
              "\n",
              "[26709 rows x 3 columns]"
            ]
          },
          "metadata": {
            "tags": []
          },
          "execution_count": 7
        }
      ]
    },
    {
      "cell_type": "markdown",
      "metadata": {
        "id": "r6HJWVKO6EFp",
        "colab_type": "text"
      },
      "source": [
        "Check the null value"
      ]
    },
    {
      "cell_type": "code",
      "metadata": {
        "id": "92tlnOzQ3Pb-",
        "colab_type": "code",
        "colab": {
          "base_uri": "https://localhost:8080/",
          "height": 85
        },
        "outputId": "72262262-b305-4a66-a111-8107b47153d4"
      },
      "source": [
        "print(data.isnull().any(axis = 0))"
      ],
      "execution_count": 8,
      "outputs": [
        {
          "output_type": "stream",
          "text": [
            "article_link    False\n",
            "headline        False\n",
            "is_sarcastic    False\n",
            "dtype: bool\n"
          ],
          "name": "stdout"
        }
      ]
    },
    {
      "cell_type": "markdown",
      "metadata": {
        "id": "_m10y4KGclZG",
        "colab_type": "text"
      },
      "source": [
        "**pre-processing data**"
      ]
    },
    {
      "cell_type": "markdown",
      "metadata": {
        "id": "dkmM6kES9H8K",
        "colab_type": "text"
      },
      "source": [
        "Ở cột headline sẽ có 1 vài kí tự cần được loại bỏ('?.+-=\"/...), dùng regular expression để loại bỏ các kí tự này"
      ]
    },
    {
      "cell_type": "code",
      "metadata": {
        "id": "ivSbhUgI3SVw",
        "colab_type": "code",
        "colab": {
          "base_uri": "https://localhost:8080/",
          "height": 68
        },
        "outputId": "1540fa0a-25d4-4974-c801-eb34e7373a12"
      },
      "source": [
        "print('Example')\n",
        "print('before:',data['headline'][0])\n",
        "data['headline'] = data['headline'].apply(lambda s : re.sub('[^a-zA-Z]', ' ', s))\n",
        "print('after: {}'.format(data['headline'][0]))"
      ],
      "execution_count": 9,
      "outputs": [
        {
          "output_type": "stream",
          "text": [
            "Example\n",
            "before: former versace store clerk sues over secret 'black code' for minority shoppers\n",
            "after: former versace store clerk sues over secret  black code  for minority shoppers\n"
          ],
          "name": "stdout"
        }
      ]
    },
    {
      "cell_type": "markdown",
      "metadata": {
        "id": "jyCLvGEB9iqP",
        "colab_type": "text"
      },
      "source": [
        "Gán feature và label "
      ]
    },
    {
      "cell_type": "code",
      "metadata": {
        "id": "_GIcJ4hv3gcb",
        "colab_type": "code",
        "colab": {}
      },
      "source": [
        "features = data['headline']\n",
        "labels = data['is_sarcastic']"
      ],
      "execution_count": 10,
      "outputs": []
    },
    {
      "cell_type": "markdown",
      "metadata": {
        "id": "odl24x9S-BrX",
        "colab_type": "text"
      },
      "source": [
        "**Stemming**"
      ]
    },
    {
      "cell_type": "markdown",
      "metadata": {
        "id": "NbPCT5_1-bvb",
        "colab_type": "text"
      },
      "source": [
        "Stemming là 1 kĩ thuật đưa các từ về hình thức gốc của nó, ex: loved-->love"
      ]
    },
    {
      "cell_type": "code",
      "metadata": {
        "id": "rVfkF6hE3o3b",
        "colab_type": "code",
        "colab": {
          "base_uri": "https://localhost:8080/",
          "height": 68
        },
        "outputId": "7ab23974-f75b-4e3e-de08-df1e6bd12215"
      },
      "source": [
        "print('Example')\n",
        "print('before steaming:', features[0])\n",
        "ps = PorterStemmer()\n",
        "features = features.apply(lambda x: x.split())\n",
        "features = features.apply(lambda x : ' '.join([ps.stem(word) for word in x]))\n",
        "print('after steaming:', features[0])"
      ],
      "execution_count": 11,
      "outputs": [
        {
          "output_type": "stream",
          "text": [
            "Example\n",
            "before steaming: former versace store clerk sues over secret  black code  for minority shoppers\n",
            "after steaming: former versac store clerk sue over secret black code for minor shopper\n"
          ],
          "name": "stdout"
        }
      ]
    },
    {
      "cell_type": "markdown",
      "metadata": {
        "id": "zrj1Xk9G-_9D",
        "colab_type": "text"
      },
      "source": [
        "**TF-IDF Vectorizer**"
      ]
    },
    {
      "cell_type": "markdown",
      "metadata": {
        "id": "tcuQXcE3gUqO",
        "colab_type": "text"
      },
      "source": [
        "*   TfidfVectorizer(): \"Convert a collection of raw documents to a matrix of TF-IDF features.\"\n",
        "*   TfidfVectorizer.fit_transform(): \"Learn vocabulary and idf, return **document-term matrix**\"\n",
        "\n",
        "Document-term matrix là ma trận có các hàng tương ứng với văn bản, các cột tương ứng với từng từ\n",
        "\n",
        "Ex:\n",
        " \n",
        "![alt text](https://www.researchgate.net/profile/Khawar_Mehmood/publication/342027900/figure/tbl2/AS:900374928031745@1591677519266/Example-of-document-term-matrix-Unigram.png)\n",
        "\n",
        "\n",
        "\n",
        "\n"
      ]
    },
    {
      "cell_type": "code",
      "metadata": {
        "id": "iMolIrPc6RH3",
        "colab_type": "code",
        "colab": {}
      },
      "source": [
        "tv = TfidfVectorizer(max_features = 5000)\n",
        "features = list(features)\n",
        "features = tv.fit_transform(features).toarray()"
      ],
      "execution_count": 12,
      "outputs": []
    },
    {
      "cell_type": "markdown",
      "metadata": {
        "id": "7ljFSvC1KBzR",
        "colab_type": "text"
      },
      "source": [
        "Import thư viện cần thiết"
      ]
    },
    {
      "cell_type": "code",
      "metadata": {
        "id": "_cNH7YDg2hHI",
        "colab_type": "code",
        "colab": {}
      },
      "source": [
        "from sklearn.model_selection import train_test_split\n",
        "from sklearn.model_selection import cross_val_score\n",
        "from sklearn.metrics import confusion_matrix\n",
        "\n",
        "from sklearn.svm import LinearSVC\n",
        "from sklearn.naive_bayes import GaussianNB\n",
        "from sklearn.linear_model import LogisticRegression\n",
        "from sklearn.ensemble import RandomForestClassifier\n",
        "from sklearn.tree import DecisionTreeClassifier\n",
        "from sklearn.neighbors import KNeighborsClassifier"
      ],
      "execution_count": 13,
      "outputs": []
    },
    {
      "cell_type": "markdown",
      "metadata": {
        "id": "OcX4aTFZKG73",
        "colab_type": "text"
      },
      "source": [
        "split và show shape data"
      ]
    },
    {
      "cell_type": "code",
      "metadata": {
        "id": "kGtW3h1c6aOv",
        "colab_type": "code",
        "colab": {
          "base_uri": "https://localhost:8080/",
          "height": 85
        },
        "outputId": "c8ce86b9-bb88-4d34-a3e8-7ee3e61855cf"
      },
      "source": [
        "features_train, features_test, labels_train, labels_test = train_test_split(features, labels, test_size = 0.1, random_state = 0)\n",
        "print('features_train:', features_train.shape)\n",
        "print('labels_train:', labels_train.shape)\n",
        "print('features_test', features_test.shape)\n",
        "print('labels_test:', labels_test.shape)"
      ],
      "execution_count": 14,
      "outputs": [
        {
          "output_type": "stream",
          "text": [
            "features_train: (24038, 5000)\n",
            "labels_train: (24038,)\n",
            "features_test (2671, 5000)\n",
            "labels_test: (2671,)\n"
          ],
          "name": "stdout"
        }
      ]
    },
    {
      "cell_type": "markdown",
      "metadata": {
        "id": "-9ZsmOEvdgaY",
        "colab_type": "text"
      },
      "source": [
        "**training and testing data**"
      ]
    },
    {
      "cell_type": "markdown",
      "metadata": {
        "id": "ARv7KP2lKOev",
        "colab_type": "text"
      },
      "source": [
        "Sử dụng các model để train: LinearSVC, GausinanNB, LogisticRegression, DecisionTreeClassifier, RandomForestClassifier"
      ]
    },
    {
      "cell_type": "code",
      "metadata": {
        "id": "jAA9FDTT3DM2",
        "colab_type": "code",
        "colab": {}
      },
      "source": [
        "models = []\n",
        "models.append(('LinearSVC', LinearSVC()))\n",
        "models.append(('GaussianNB', GaussianNB()))\n",
        "models.append(('LogisticRegression', LogisticRegression()))\n",
        "models.append(('DecisionTreeClassifier', DecisionTreeClassifier()))\n",
        "models.append(('RandomForestClassifier', RandomForestClassifier()))"
      ],
      "execution_count": 15,
      "outputs": []
    },
    {
      "cell_type": "code",
      "metadata": {
        "id": "BO2nwl4231DN",
        "colab_type": "code",
        "colab": {
          "base_uri": "https://localhost:8080/",
          "height": 272
        },
        "outputId": "7f4902d7-795b-4800-bdf1-9984232f3562"
      },
      "source": [
        "for name, model in models:\n",
        "  model.fit(features_train, labels_train)\n",
        "  print(name)\n",
        "  print('\\tscore train:', model.score(features_train, labels_train))\n",
        "  print('\\tscore test:', model.score(features_test, labels_test))"
      ],
      "execution_count": 17,
      "outputs": [
        {
          "output_type": "stream",
          "text": [
            "LinearSVC\n",
            "\tscore train: 0.9110574923038522\n",
            "\tscore test: 0.8360164732309996\n",
            "GaussianNB\n",
            "\tscore train: 0.7826358266078709\n",
            "\tscore test: 0.7162111568700861\n",
            "LogisticRegression\n",
            "\tscore train: 0.8824777435726766\n",
            "\tscore test: 0.8375140396855111\n",
            "DecisionTreeClassifier\n",
            "\tscore train: 0.999875197603794\n",
            "\tscore test: 0.7487832272557094\n",
            "RandomForestClassifier\n",
            "\tscore train: 0.999875197603794\n",
            "\tscore test: 0.8124298015724448\n"
          ],
          "name": "stdout"
        }
      ]
    },
    {
      "cell_type": "markdown",
      "metadata": {
        "id": "fu_w7ZGYvNoO",
        "colab_type": "text"
      },
      "source": [
        "# Crawl data"
      ]
    },
    {
      "cell_type": "code",
      "metadata": {
        "id": "xlJXmn-vvWCC",
        "colab_type": "code",
        "colab": {}
      },
      "source": [
        "import requests\n",
        "from bs4 import BeautifulSoup\n",
        "import numpy as np"
      ],
      "execution_count": 18,
      "outputs": []
    },
    {
      "cell_type": "code",
      "metadata": {
        "id": "-EpEdIUi6voy",
        "colab_type": "code",
        "colab": {}
      },
      "source": [
        "def crawl(url, data):\n",
        "  r1 = requests.get(url)\n",
        "  coverpage = r1.content\n",
        "  soup1 = BeautifulSoup(coverpage, 'html5lib')\n",
        "  coverpage_news = soup1.find_all(\"h2\", class_=\"sc-759qgu-0 cYlVdn cw4lnv-6 eXwNRE\")\n",
        "  for i in coverpage_news:\n",
        "    data.append(i.get_text())\n",
        "  "
      ],
      "execution_count": 70,
      "outputs": []
    },
    {
      "cell_type": "code",
      "metadata": {
        "id": "WDKf9jXF8ckU",
        "colab_type": "code",
        "colab": {}
      },
      "source": [
        "url = \"https://www.theonion.com/latest\"\n",
        "more_stories = ''\n",
        "data= []\n",
        "while len(data)<2000:\n",
        "  crawl(url+more_stories, data)\n",
        "  r1 = requests.get(url)\n",
        "  coverpage = r1.content\n",
        "  soup1 = BeautifulSoup(coverpage, 'html5lib')\n",
        "  t = soup1.find_all(\"a\", class_=\"sc-1out364-0 hMndXN js_link\")\n",
        "  more_stories = t[-1].get('href')\n"
      ],
      "execution_count": 103,
      "outputs": []
    },
    {
      "cell_type": "code",
      "metadata": {
        "id": "ywpPxb00-ILK",
        "colab_type": "code",
        "colab": {
          "base_uri": "https://localhost:8080/",
          "height": 34
        },
        "outputId": "f1953da7-6475-48c8-a4b3-a68326bd220f"
      },
      "source": [
        "len(data)"
      ],
      "execution_count": 104,
      "outputs": [
        {
          "output_type": "execute_result",
          "data": {
            "text/plain": [
              "2000"
            ]
          },
          "metadata": {
            "tags": []
          },
          "execution_count": 104
        }
      ]
    },
    {
      "cell_type": "code",
      "metadata": {
        "id": "SGjhjfzV_Fi0",
        "colab_type": "code",
        "colab": {
          "base_uri": "https://localhost:8080/",
          "height": 1000
        },
        "outputId": "855a0853-7b75-49e1-f75a-529fba0ec56e"
      },
      "source": [
        "data"
      ],
      "execution_count": 105,
      "outputs": [
        {
          "output_type": "execute_result",
          "data": {
            "text/plain": [
              "['Mental Health Experts Advise On Best Ways To Combat Intrusive Thoughts Of Your Father Naked',\n",
              " 'The Onion’s Father’s Day Gift Guide For The Dad Who Has It All',\n",
              " 'Staples Center Employee Realizes He Left Shot Clock Buzzer On This Whole Time',\n",
              " 'Father’s Day Gifts That Will Make Your Dad Feel Exactly The Way He Already Feels',\n",
              " 'Huh, Boyfriend’s Ex Just Made Interesting Hair Choice',\n",
              " 'Mom Comes Back From Long Call With Friend Looking Real Sad',\n",
              " '‘It’s Perfect Outside,’ Announces Sweating Woman Slowly Losing Consciousness In Middle Of Heatstroke',\n",
              " 'Man Hates How Hot Dog-Eating Contests Reduce Art Of Eating Hot Dogs To A Competition',\n",
              " 'Kristen Stewart To Play Princess Diana In Upcoming Biopic',\n",
              " 'Resigned Pew Research Study Has No Fucking Clue What’s Going On With 15% Of Americans',\n",
              " 'Aunt Jemima, Mrs. Butterworth, Uncle Ben’s Brands To Be Overhauled',\n",
              " 'Traveling Contortionist Excited To Get Off The Road And Finally Stop Living Inside Suitcase',\n",
              " 'White House Toilet Doesn’t Know If It Can Handle Another 4 Years Of Trump',\n",
              " 'Kentucky Attorney General So Starstruck By Letter From Beyoncé He Unable To Even Read What It’s About',\n",
              " 'Researchers Find Crows Smart Enough Not To Let On How Smart They Really Are',\n",
              " 'Sony Reveals PS5 Fully Customizable With Different Little Hats',\n",
              " '‘And What Do We Want To Do About This Nest Full Of Baby Sparrows?’ Asks Barber Giving Man His First Haircut In 6 Months',\n",
              " 'Report: This A Goddamn Walk In The Park Compared To What’s Coming In 2027',\n",
              " 'Jimmy Carter Checks Into Rehab For Debilitating House-Building Addiction',\n",
              " 'American Airlines Suspends Alcohol Service For Economy Class',\n",
              " 'Heavily Armed Fans Guard Statue Of Yogi Bear In Case It Turns Out He Supported Confederacy',\n",
              " '7-Eleven Cancels Free Slurpee Day',\n",
              " 'William Howard Taft Historian Confident Solution To Nation’s Troubles Can Be Found In Storied Career Of William Howard Taft',\n",
              " 'NASA Launches Paparazzo Rover In Beverly Hills To Search For Signs Of Salacious Celebrity Life',\n",
              " 'Sweat-Soaked Mattress Praying This The Year Couple Invests In Air Conditioner',\n",
              " 'Manipulative Stepmom Only Married Dad So She Could Take Care Of Him Into Old Age',\n",
              " 'Report: There Already 5 Million Players Who Are Better Than You’ll Ever Be At ‘Valorant’',\n",
              " 'Congress Moving Toward Safer Vote-By-Paper-Airplane Option',\n",
              " 'Disgusted Patio Diner Pretty Sure She Just Saw Coronavirus Scurry Into Bushes',\n",
              " '2021 Oscars Postponed 2 Months',\n",
              " 'Entire Oklahoma State Team To Boycott Season After Mike Gundy Seen In NCAA Shirt',\n",
              " 'Scientists Discover Mysterious Radio Transmission From Space That Repeats 50-Minute Intervals Of Nonstop Classic Rock Blocks',\n",
              " '42-Year-Old Man Still Unsure What His Interests Are',\n",
              " 'Supreme Court Rules Federal Law Protects LGBT Workers',\n",
              " '‘More Tranquil Dammit!’ Screams Perfectionist Ambient Sound Producer Demanding Another Take From Babbling Creek',\n",
              " 'Over 500,000 Americans Sign Petition Demanding End To Coronavirus',\n",
              " 'Jeff Bezos Depressed After Realizing Net Worth Still Just Number Known To Man',\n",
              " 'Birch Tree Pictures Nude 4,000-Year-Old Bristlecone Pine To Delay Pollen Release',\n",
              " 'NRA Receives Massive Funding Increase From Donors Held At Gunpoint',\n",
              " 'Passing Lane',\n",
              " 'Heavily Armed Fans Guard Statue Of Yogi Bear In Case It Turns Out He Supported Confederacy',\n",
              " '7-Eleven Cancels Free Slurpee Day',\n",
              " 'William Howard Taft Historian Confident Solution To Nation’s Troubles Can Be Found In Storied Career Of William Howard Taft',\n",
              " 'NASA Launches Paparazzo Rover In Beverly Hills To Search For Signs Of Salacious Celebrity Life',\n",
              " 'Sweat-Soaked Mattress Praying This The Year Couple Invests In Air Conditioner',\n",
              " 'Manipulative Stepmom Only Married Dad So She Could Take Care Of Him Into Old Age',\n",
              " 'Report: There Already 5 Million Players Who Are Better Than You’ll Ever Be At ‘Valorant’',\n",
              " 'Congress Moving Toward Safer Vote-By-Paper-Airplane Option',\n",
              " 'Disgusted Patio Diner Pretty Sure She Just Saw Coronavirus Scurry Into Bushes',\n",
              " '2021 Oscars Postponed 2 Months',\n",
              " 'Entire Oklahoma State Team To Boycott Season After Mike Gundy Seen In NCAA Shirt',\n",
              " 'Scientists Discover Mysterious Radio Transmission From Space That Repeats 50-Minute Intervals Of Nonstop Classic Rock Blocks',\n",
              " '42-Year-Old Man Still Unsure What His Interests Are',\n",
              " 'Supreme Court Rules Federal Law Protects LGBT Workers',\n",
              " '‘More Tranquil Dammit!’ Screams Perfectionist Ambient Sound Producer Demanding Another Take From Babbling Creek',\n",
              " 'Over 500,000 Americans Sign Petition Demanding End To Coronavirus',\n",
              " 'Jeff Bezos Depressed After Realizing Net Worth Still Just Number Known To Man',\n",
              " 'Birch Tree Pictures Nude 4,000-Year-Old Bristlecone Pine To Delay Pollen Release',\n",
              " 'NRA Receives Massive Funding Increase From Donors Held At Gunpoint',\n",
              " 'Passing Lane',\n",
              " 'Heavily Armed Fans Guard Statue Of Yogi Bear In Case It Turns Out He Supported Confederacy',\n",
              " '7-Eleven Cancels Free Slurpee Day',\n",
              " 'William Howard Taft Historian Confident Solution To Nation’s Troubles Can Be Found In Storied Career Of William Howard Taft',\n",
              " 'NASA Launches Paparazzo Rover In Beverly Hills To Search For Signs Of Salacious Celebrity Life',\n",
              " 'Sweat-Soaked Mattress Praying This The Year Couple Invests In Air Conditioner',\n",
              " 'Manipulative Stepmom Only Married Dad So She Could Take Care Of Him Into Old Age',\n",
              " 'Report: There Already 5 Million Players Who Are Better Than You’ll Ever Be At ‘Valorant’',\n",
              " 'Congress Moving Toward Safer Vote-By-Paper-Airplane Option',\n",
              " 'Disgusted Patio Diner Pretty Sure She Just Saw Coronavirus Scurry Into Bushes',\n",
              " '2021 Oscars Postponed 2 Months',\n",
              " 'Entire Oklahoma State Team To Boycott Season After Mike Gundy Seen In NCAA Shirt',\n",
              " 'Scientists Discover Mysterious Radio Transmission From Space That Repeats 50-Minute Intervals Of Nonstop Classic Rock Blocks',\n",
              " '42-Year-Old Man Still Unsure What His Interests Are',\n",
              " 'Supreme Court Rules Federal Law Protects LGBT Workers',\n",
              " '‘More Tranquil Dammit!’ Screams Perfectionist Ambient Sound Producer Demanding Another Take From Babbling Creek',\n",
              " 'Over 500,000 Americans Sign Petition Demanding End To Coronavirus',\n",
              " 'Jeff Bezos Depressed After Realizing Net Worth Still Just Number Known To Man',\n",
              " 'Birch Tree Pictures Nude 4,000-Year-Old Bristlecone Pine To Delay Pollen Release',\n",
              " 'NRA Receives Massive Funding Increase From Donors Held At Gunpoint',\n",
              " 'Passing Lane',\n",
              " 'Heavily Armed Fans Guard Statue Of Yogi Bear In Case It Turns Out He Supported Confederacy',\n",
              " '7-Eleven Cancels Free Slurpee Day',\n",
              " 'William Howard Taft Historian Confident Solution To Nation’s Troubles Can Be Found In Storied Career Of William Howard Taft',\n",
              " 'NASA Launches Paparazzo Rover In Beverly Hills To Search For Signs Of Salacious Celebrity Life',\n",
              " 'Sweat-Soaked Mattress Praying This The Year Couple Invests In Air Conditioner',\n",
              " 'Manipulative Stepmom Only Married Dad So She Could Take Care Of Him Into Old Age',\n",
              " 'Report: There Already 5 Million Players Who Are Better Than You’ll Ever Be At ‘Valorant’',\n",
              " 'Congress Moving Toward Safer Vote-By-Paper-Airplane Option',\n",
              " 'Disgusted Patio Diner Pretty Sure She Just Saw Coronavirus Scurry Into Bushes',\n",
              " '2021 Oscars Postponed 2 Months',\n",
              " 'Entire Oklahoma State Team To Boycott Season After Mike Gundy Seen In NCAA Shirt',\n",
              " 'Scientists Discover Mysterious Radio Transmission From Space That Repeats 50-Minute Intervals Of Nonstop Classic Rock Blocks',\n",
              " '42-Year-Old Man Still Unsure What His Interests Are',\n",
              " 'Supreme Court Rules Federal Law Protects LGBT Workers',\n",
              " '‘More Tranquil Dammit!’ Screams Perfectionist Ambient Sound Producer Demanding Another Take From Babbling Creek',\n",
              " 'Over 500,000 Americans Sign Petition Demanding End To Coronavirus',\n",
              " 'Jeff Bezos Depressed After Realizing Net Worth Still Just Number Known To Man',\n",
              " 'Birch Tree Pictures Nude 4,000-Year-Old Bristlecone Pine To Delay Pollen Release',\n",
              " 'NRA Receives Massive Funding Increase From Donors Held At Gunpoint',\n",
              " 'Passing Lane',\n",
              " 'Heavily Armed Fans Guard Statue Of Yogi Bear In Case It Turns Out He Supported Confederacy',\n",
              " '7-Eleven Cancels Free Slurpee Day',\n",
              " 'William Howard Taft Historian Confident Solution To Nation’s Troubles Can Be Found In Storied Career Of William Howard Taft',\n",
              " 'NASA Launches Paparazzo Rover In Beverly Hills To Search For Signs Of Salacious Celebrity Life',\n",
              " 'Sweat-Soaked Mattress Praying This The Year Couple Invests In Air Conditioner',\n",
              " 'Manipulative Stepmom Only Married Dad So She Could Take Care Of Him Into Old Age',\n",
              " 'Report: There Already 5 Million Players Who Are Better Than You’ll Ever Be At ‘Valorant’',\n",
              " 'Congress Moving Toward Safer Vote-By-Paper-Airplane Option',\n",
              " 'Disgusted Patio Diner Pretty Sure She Just Saw Coronavirus Scurry Into Bushes',\n",
              " '2021 Oscars Postponed 2 Months',\n",
              " 'Entire Oklahoma State Team To Boycott Season After Mike Gundy Seen In NCAA Shirt',\n",
              " 'Scientists Discover Mysterious Radio Transmission From Space That Repeats 50-Minute Intervals Of Nonstop Classic Rock Blocks',\n",
              " '42-Year-Old Man Still Unsure What His Interests Are',\n",
              " 'Supreme Court Rules Federal Law Protects LGBT Workers',\n",
              " '‘More Tranquil Dammit!’ Screams Perfectionist Ambient Sound Producer Demanding Another Take From Babbling Creek',\n",
              " 'Over 500,000 Americans Sign Petition Demanding End To Coronavirus',\n",
              " 'Jeff Bezos Depressed After Realizing Net Worth Still Just Number Known To Man',\n",
              " 'Birch Tree Pictures Nude 4,000-Year-Old Bristlecone Pine To Delay Pollen Release',\n",
              " 'NRA Receives Massive Funding Increase From Donors Held At Gunpoint',\n",
              " 'Passing Lane',\n",
              " 'Heavily Armed Fans Guard Statue Of Yogi Bear In Case It Turns Out He Supported Confederacy',\n",
              " '7-Eleven Cancels Free Slurpee Day',\n",
              " 'William Howard Taft Historian Confident Solution To Nation’s Troubles Can Be Found In Storied Career Of William Howard Taft',\n",
              " 'NASA Launches Paparazzo Rover In Beverly Hills To Search For Signs Of Salacious Celebrity Life',\n",
              " 'Sweat-Soaked Mattress Praying This The Year Couple Invests In Air Conditioner',\n",
              " 'Manipulative Stepmom Only Married Dad So She Could Take Care Of Him Into Old Age',\n",
              " 'Report: There Already 5 Million Players Who Are Better Than You’ll Ever Be At ‘Valorant’',\n",
              " 'Congress Moving Toward Safer Vote-By-Paper-Airplane Option',\n",
              " 'Disgusted Patio Diner Pretty Sure She Just Saw Coronavirus Scurry Into Bushes',\n",
              " '2021 Oscars Postponed 2 Months',\n",
              " 'Entire Oklahoma State Team To Boycott Season After Mike Gundy Seen In NCAA Shirt',\n",
              " 'Scientists Discover Mysterious Radio Transmission From Space That Repeats 50-Minute Intervals Of Nonstop Classic Rock Blocks',\n",
              " '42-Year-Old Man Still Unsure What His Interests Are',\n",
              " 'Supreme Court Rules Federal Law Protects LGBT Workers',\n",
              " '‘More Tranquil Dammit!’ Screams Perfectionist Ambient Sound Producer Demanding Another Take From Babbling Creek',\n",
              " 'Over 500,000 Americans Sign Petition Demanding End To Coronavirus',\n",
              " 'Jeff Bezos Depressed After Realizing Net Worth Still Just Number Known To Man',\n",
              " 'Birch Tree Pictures Nude 4,000-Year-Old Bristlecone Pine To Delay Pollen Release',\n",
              " 'NRA Receives Massive Funding Increase From Donors Held At Gunpoint',\n",
              " 'Passing Lane',\n",
              " 'Heavily Armed Fans Guard Statue Of Yogi Bear In Case It Turns Out He Supported Confederacy',\n",
              " '7-Eleven Cancels Free Slurpee Day',\n",
              " 'William Howard Taft Historian Confident Solution To Nation’s Troubles Can Be Found In Storied Career Of William Howard Taft',\n",
              " 'NASA Launches Paparazzo Rover In Beverly Hills To Search For Signs Of Salacious Celebrity Life',\n",
              " 'Sweat-Soaked Mattress Praying This The Year Couple Invests In Air Conditioner',\n",
              " 'Manipulative Stepmom Only Married Dad So She Could Take Care Of Him Into Old Age',\n",
              " 'Report: There Already 5 Million Players Who Are Better Than You’ll Ever Be At ‘Valorant’',\n",
              " 'Congress Moving Toward Safer Vote-By-Paper-Airplane Option',\n",
              " 'Disgusted Patio Diner Pretty Sure She Just Saw Coronavirus Scurry Into Bushes',\n",
              " '2021 Oscars Postponed 2 Months',\n",
              " 'Entire Oklahoma State Team To Boycott Season After Mike Gundy Seen In NCAA Shirt',\n",
              " 'Scientists Discover Mysterious Radio Transmission From Space That Repeats 50-Minute Intervals Of Nonstop Classic Rock Blocks',\n",
              " '42-Year-Old Man Still Unsure What His Interests Are',\n",
              " 'Supreme Court Rules Federal Law Protects LGBT Workers',\n",
              " '‘More Tranquil Dammit!’ Screams Perfectionist Ambient Sound Producer Demanding Another Take From Babbling Creek',\n",
              " 'Over 500,000 Americans Sign Petition Demanding End To Coronavirus',\n",
              " 'Jeff Bezos Depressed After Realizing Net Worth Still Just Number Known To Man',\n",
              " 'Birch Tree Pictures Nude 4,000-Year-Old Bristlecone Pine To Delay Pollen Release',\n",
              " 'NRA Receives Massive Funding Increase From Donors Held At Gunpoint',\n",
              " 'Passing Lane',\n",
              " 'Heavily Armed Fans Guard Statue Of Yogi Bear In Case It Turns Out He Supported Confederacy',\n",
              " '7-Eleven Cancels Free Slurpee Day',\n",
              " 'William Howard Taft Historian Confident Solution To Nation’s Troubles Can Be Found In Storied Career Of William Howard Taft',\n",
              " 'NASA Launches Paparazzo Rover In Beverly Hills To Search For Signs Of Salacious Celebrity Life',\n",
              " 'Sweat-Soaked Mattress Praying This The Year Couple Invests In Air Conditioner',\n",
              " 'Manipulative Stepmom Only Married Dad So She Could Take Care Of Him Into Old Age',\n",
              " 'Report: There Already 5 Million Players Who Are Better Than You’ll Ever Be At ‘Valorant’',\n",
              " 'Congress Moving Toward Safer Vote-By-Paper-Airplane Option',\n",
              " 'Disgusted Patio Diner Pretty Sure She Just Saw Coronavirus Scurry Into Bushes',\n",
              " '2021 Oscars Postponed 2 Months',\n",
              " 'Entire Oklahoma State Team To Boycott Season After Mike Gundy Seen In NCAA Shirt',\n",
              " 'Scientists Discover Mysterious Radio Transmission From Space That Repeats 50-Minute Intervals Of Nonstop Classic Rock Blocks',\n",
              " '42-Year-Old Man Still Unsure What His Interests Are',\n",
              " 'Supreme Court Rules Federal Law Protects LGBT Workers',\n",
              " '‘More Tranquil Dammit!’ Screams Perfectionist Ambient Sound Producer Demanding Another Take From Babbling Creek',\n",
              " 'Over 500,000 Americans Sign Petition Demanding End To Coronavirus',\n",
              " 'Jeff Bezos Depressed After Realizing Net Worth Still Just Number Known To Man',\n",
              " 'Birch Tree Pictures Nude 4,000-Year-Old Bristlecone Pine To Delay Pollen Release',\n",
              " 'NRA Receives Massive Funding Increase From Donors Held At Gunpoint',\n",
              " 'Passing Lane',\n",
              " 'Heavily Armed Fans Guard Statue Of Yogi Bear In Case It Turns Out He Supported Confederacy',\n",
              " '7-Eleven Cancels Free Slurpee Day',\n",
              " 'William Howard Taft Historian Confident Solution To Nation’s Troubles Can Be Found In Storied Career Of William Howard Taft',\n",
              " 'NASA Launches Paparazzo Rover In Beverly Hills To Search For Signs Of Salacious Celebrity Life',\n",
              " 'Sweat-Soaked Mattress Praying This The Year Couple Invests In Air Conditioner',\n",
              " 'Manipulative Stepmom Only Married Dad So She Could Take Care Of Him Into Old Age',\n",
              " 'Report: There Already 5 Million Players Who Are Better Than You’ll Ever Be At ‘Valorant’',\n",
              " 'Congress Moving Toward Safer Vote-By-Paper-Airplane Option',\n",
              " 'Disgusted Patio Diner Pretty Sure She Just Saw Coronavirus Scurry Into Bushes',\n",
              " '2021 Oscars Postponed 2 Months',\n",
              " 'Entire Oklahoma State Team To Boycott Season After Mike Gundy Seen In NCAA Shirt',\n",
              " 'Scientists Discover Mysterious Radio Transmission From Space That Repeats 50-Minute Intervals Of Nonstop Classic Rock Blocks',\n",
              " '42-Year-Old Man Still Unsure What His Interests Are',\n",
              " 'Supreme Court Rules Federal Law Protects LGBT Workers',\n",
              " '‘More Tranquil Dammit!’ Screams Perfectionist Ambient Sound Producer Demanding Another Take From Babbling Creek',\n",
              " 'Over 500,000 Americans Sign Petition Demanding End To Coronavirus',\n",
              " 'Jeff Bezos Depressed After Realizing Net Worth Still Just Number Known To Man',\n",
              " 'Birch Tree Pictures Nude 4,000-Year-Old Bristlecone Pine To Delay Pollen Release',\n",
              " 'NRA Receives Massive Funding Increase From Donors Held At Gunpoint',\n",
              " 'Passing Lane',\n",
              " 'Heavily Armed Fans Guard Statue Of Yogi Bear In Case It Turns Out He Supported Confederacy',\n",
              " '7-Eleven Cancels Free Slurpee Day',\n",
              " 'William Howard Taft Historian Confident Solution To Nation’s Troubles Can Be Found In Storied Career Of William Howard Taft',\n",
              " 'NASA Launches Paparazzo Rover In Beverly Hills To Search For Signs Of Salacious Celebrity Life',\n",
              " 'Sweat-Soaked Mattress Praying This The Year Couple Invests In Air Conditioner',\n",
              " 'Manipulative Stepmom Only Married Dad So She Could Take Care Of Him Into Old Age',\n",
              " 'Report: There Already 5 Million Players Who Are Better Than You’ll Ever Be At ‘Valorant’',\n",
              " 'Congress Moving Toward Safer Vote-By-Paper-Airplane Option',\n",
              " 'Disgusted Patio Diner Pretty Sure She Just Saw Coronavirus Scurry Into Bushes',\n",
              " '2021 Oscars Postponed 2 Months',\n",
              " 'Entire Oklahoma State Team To Boycott Season After Mike Gundy Seen In NCAA Shirt',\n",
              " 'Scientists Discover Mysterious Radio Transmission From Space That Repeats 50-Minute Intervals Of Nonstop Classic Rock Blocks',\n",
              " '42-Year-Old Man Still Unsure What His Interests Are',\n",
              " 'Supreme Court Rules Federal Law Protects LGBT Workers',\n",
              " '‘More Tranquil Dammit!’ Screams Perfectionist Ambient Sound Producer Demanding Another Take From Babbling Creek',\n",
              " 'Over 500,000 Americans Sign Petition Demanding End To Coronavirus',\n",
              " 'Jeff Bezos Depressed After Realizing Net Worth Still Just Number Known To Man',\n",
              " 'Birch Tree Pictures Nude 4,000-Year-Old Bristlecone Pine To Delay Pollen Release',\n",
              " 'NRA Receives Massive Funding Increase From Donors Held At Gunpoint',\n",
              " 'Passing Lane',\n",
              " 'Heavily Armed Fans Guard Statue Of Yogi Bear In Case It Turns Out He Supported Confederacy',\n",
              " '7-Eleven Cancels Free Slurpee Day',\n",
              " 'William Howard Taft Historian Confident Solution To Nation’s Troubles Can Be Found In Storied Career Of William Howard Taft',\n",
              " 'NASA Launches Paparazzo Rover In Beverly Hills To Search For Signs Of Salacious Celebrity Life',\n",
              " 'Sweat-Soaked Mattress Praying This The Year Couple Invests In Air Conditioner',\n",
              " 'Manipulative Stepmom Only Married Dad So She Could Take Care Of Him Into Old Age',\n",
              " 'Report: There Already 5 Million Players Who Are Better Than You’ll Ever Be At ‘Valorant’',\n",
              " 'Congress Moving Toward Safer Vote-By-Paper-Airplane Option',\n",
              " 'Disgusted Patio Diner Pretty Sure She Just Saw Coronavirus Scurry Into Bushes',\n",
              " '2021 Oscars Postponed 2 Months',\n",
              " 'Entire Oklahoma State Team To Boycott Season After Mike Gundy Seen In NCAA Shirt',\n",
              " 'Scientists Discover Mysterious Radio Transmission From Space That Repeats 50-Minute Intervals Of Nonstop Classic Rock Blocks',\n",
              " '42-Year-Old Man Still Unsure What His Interests Are',\n",
              " 'Supreme Court Rules Federal Law Protects LGBT Workers',\n",
              " '‘More Tranquil Dammit!’ Screams Perfectionist Ambient Sound Producer Demanding Another Take From Babbling Creek',\n",
              " 'Over 500,000 Americans Sign Petition Demanding End To Coronavirus',\n",
              " 'Jeff Bezos Depressed After Realizing Net Worth Still Just Number Known To Man',\n",
              " 'Birch Tree Pictures Nude 4,000-Year-Old Bristlecone Pine To Delay Pollen Release',\n",
              " 'NRA Receives Massive Funding Increase From Donors Held At Gunpoint',\n",
              " 'Passing Lane',\n",
              " 'Heavily Armed Fans Guard Statue Of Yogi Bear In Case It Turns Out He Supported Confederacy',\n",
              " '7-Eleven Cancels Free Slurpee Day',\n",
              " 'William Howard Taft Historian Confident Solution To Nation’s Troubles Can Be Found In Storied Career Of William Howard Taft',\n",
              " 'NASA Launches Paparazzo Rover In Beverly Hills To Search For Signs Of Salacious Celebrity Life',\n",
              " 'Sweat-Soaked Mattress Praying This The Year Couple Invests In Air Conditioner',\n",
              " 'Manipulative Stepmom Only Married Dad So She Could Take Care Of Him Into Old Age',\n",
              " 'Report: There Already 5 Million Players Who Are Better Than You’ll Ever Be At ‘Valorant’',\n",
              " 'Congress Moving Toward Safer Vote-By-Paper-Airplane Option',\n",
              " 'Disgusted Patio Diner Pretty Sure She Just Saw Coronavirus Scurry Into Bushes',\n",
              " '2021 Oscars Postponed 2 Months',\n",
              " 'Entire Oklahoma State Team To Boycott Season After Mike Gundy Seen In NCAA Shirt',\n",
              " 'Scientists Discover Mysterious Radio Transmission From Space That Repeats 50-Minute Intervals Of Nonstop Classic Rock Blocks',\n",
              " '42-Year-Old Man Still Unsure What His Interests Are',\n",
              " 'Supreme Court Rules Federal Law Protects LGBT Workers',\n",
              " '‘More Tranquil Dammit!’ Screams Perfectionist Ambient Sound Producer Demanding Another Take From Babbling Creek',\n",
              " 'Over 500,000 Americans Sign Petition Demanding End To Coronavirus',\n",
              " 'Jeff Bezos Depressed After Realizing Net Worth Still Just Number Known To Man',\n",
              " 'Birch Tree Pictures Nude 4,000-Year-Old Bristlecone Pine To Delay Pollen Release',\n",
              " 'NRA Receives Massive Funding Increase From Donors Held At Gunpoint',\n",
              " 'Passing Lane',\n",
              " 'Heavily Armed Fans Guard Statue Of Yogi Bear In Case It Turns Out He Supported Confederacy',\n",
              " '7-Eleven Cancels Free Slurpee Day',\n",
              " 'William Howard Taft Historian Confident Solution To Nation’s Troubles Can Be Found In Storied Career Of William Howard Taft',\n",
              " 'NASA Launches Paparazzo Rover In Beverly Hills To Search For Signs Of Salacious Celebrity Life',\n",
              " 'Sweat-Soaked Mattress Praying This The Year Couple Invests In Air Conditioner',\n",
              " 'Manipulative Stepmom Only Married Dad So She Could Take Care Of Him Into Old Age',\n",
              " 'Report: There Already 5 Million Players Who Are Better Than You’ll Ever Be At ‘Valorant’',\n",
              " 'Congress Moving Toward Safer Vote-By-Paper-Airplane Option',\n",
              " 'Disgusted Patio Diner Pretty Sure She Just Saw Coronavirus Scurry Into Bushes',\n",
              " '2021 Oscars Postponed 2 Months',\n",
              " 'Entire Oklahoma State Team To Boycott Season After Mike Gundy Seen In NCAA Shirt',\n",
              " 'Scientists Discover Mysterious Radio Transmission From Space That Repeats 50-Minute Intervals Of Nonstop Classic Rock Blocks',\n",
              " '42-Year-Old Man Still Unsure What His Interests Are',\n",
              " 'Supreme Court Rules Federal Law Protects LGBT Workers',\n",
              " '‘More Tranquil Dammit!’ Screams Perfectionist Ambient Sound Producer Demanding Another Take From Babbling Creek',\n",
              " 'Over 500,000 Americans Sign Petition Demanding End To Coronavirus',\n",
              " 'Jeff Bezos Depressed After Realizing Net Worth Still Just Number Known To Man',\n",
              " 'Birch Tree Pictures Nude 4,000-Year-Old Bristlecone Pine To Delay Pollen Release',\n",
              " 'NRA Receives Massive Funding Increase From Donors Held At Gunpoint',\n",
              " 'Passing Lane',\n",
              " 'Heavily Armed Fans Guard Statue Of Yogi Bear In Case It Turns Out He Supported Confederacy',\n",
              " '7-Eleven Cancels Free Slurpee Day',\n",
              " 'William Howard Taft Historian Confident Solution To Nation’s Troubles Can Be Found In Storied Career Of William Howard Taft',\n",
              " 'NASA Launches Paparazzo Rover In Beverly Hills To Search For Signs Of Salacious Celebrity Life',\n",
              " 'Sweat-Soaked Mattress Praying This The Year Couple Invests In Air Conditioner',\n",
              " 'Manipulative Stepmom Only Married Dad So She Could Take Care Of Him Into Old Age',\n",
              " 'Report: There Already 5 Million Players Who Are Better Than You’ll Ever Be At ‘Valorant’',\n",
              " 'Congress Moving Toward Safer Vote-By-Paper-Airplane Option',\n",
              " 'Disgusted Patio Diner Pretty Sure She Just Saw Coronavirus Scurry Into Bushes',\n",
              " '2021 Oscars Postponed 2 Months',\n",
              " 'Entire Oklahoma State Team To Boycott Season After Mike Gundy Seen In NCAA Shirt',\n",
              " 'Scientists Discover Mysterious Radio Transmission From Space That Repeats 50-Minute Intervals Of Nonstop Classic Rock Blocks',\n",
              " '42-Year-Old Man Still Unsure What His Interests Are',\n",
              " 'Supreme Court Rules Federal Law Protects LGBT Workers',\n",
              " '‘More Tranquil Dammit!’ Screams Perfectionist Ambient Sound Producer Demanding Another Take From Babbling Creek',\n",
              " 'Over 500,000 Americans Sign Petition Demanding End To Coronavirus',\n",
              " 'Jeff Bezos Depressed After Realizing Net Worth Still Just Number Known To Man',\n",
              " 'Birch Tree Pictures Nude 4,000-Year-Old Bristlecone Pine To Delay Pollen Release',\n",
              " 'NRA Receives Massive Funding Increase From Donors Held At Gunpoint',\n",
              " 'Passing Lane',\n",
              " 'Heavily Armed Fans Guard Statue Of Yogi Bear In Case It Turns Out He Supported Confederacy',\n",
              " '7-Eleven Cancels Free Slurpee Day',\n",
              " 'William Howard Taft Historian Confident Solution To Nation’s Troubles Can Be Found In Storied Career Of William Howard Taft',\n",
              " 'NASA Launches Paparazzo Rover In Beverly Hills To Search For Signs Of Salacious Celebrity Life',\n",
              " 'Sweat-Soaked Mattress Praying This The Year Couple Invests In Air Conditioner',\n",
              " 'Manipulative Stepmom Only Married Dad So She Could Take Care Of Him Into Old Age',\n",
              " 'Report: There Already 5 Million Players Who Are Better Than You’ll Ever Be At ‘Valorant’',\n",
              " 'Congress Moving Toward Safer Vote-By-Paper-Airplane Option',\n",
              " 'Disgusted Patio Diner Pretty Sure She Just Saw Coronavirus Scurry Into Bushes',\n",
              " '2021 Oscars Postponed 2 Months',\n",
              " 'Entire Oklahoma State Team To Boycott Season After Mike Gundy Seen In NCAA Shirt',\n",
              " 'Scientists Discover Mysterious Radio Transmission From Space That Repeats 50-Minute Intervals Of Nonstop Classic Rock Blocks',\n",
              " '42-Year-Old Man Still Unsure What His Interests Are',\n",
              " 'Supreme Court Rules Federal Law Protects LGBT Workers',\n",
              " '‘More Tranquil Dammit!’ Screams Perfectionist Ambient Sound Producer Demanding Another Take From Babbling Creek',\n",
              " 'Over 500,000 Americans Sign Petition Demanding End To Coronavirus',\n",
              " 'Jeff Bezos Depressed After Realizing Net Worth Still Just Number Known To Man',\n",
              " 'Birch Tree Pictures Nude 4,000-Year-Old Bristlecone Pine To Delay Pollen Release',\n",
              " 'NRA Receives Massive Funding Increase From Donors Held At Gunpoint',\n",
              " 'Passing Lane',\n",
              " 'Heavily Armed Fans Guard Statue Of Yogi Bear In Case It Turns Out He Supported Confederacy',\n",
              " '7-Eleven Cancels Free Slurpee Day',\n",
              " 'William Howard Taft Historian Confident Solution To Nation’s Troubles Can Be Found In Storied Career Of William Howard Taft',\n",
              " 'NASA Launches Paparazzo Rover In Beverly Hills To Search For Signs Of Salacious Celebrity Life',\n",
              " 'Sweat-Soaked Mattress Praying This The Year Couple Invests In Air Conditioner',\n",
              " 'Manipulative Stepmom Only Married Dad So She Could Take Care Of Him Into Old Age',\n",
              " 'Report: There Already 5 Million Players Who Are Better Than You’ll Ever Be At ‘Valorant’',\n",
              " 'Congress Moving Toward Safer Vote-By-Paper-Airplane Option',\n",
              " 'Disgusted Patio Diner Pretty Sure She Just Saw Coronavirus Scurry Into Bushes',\n",
              " '2021 Oscars Postponed 2 Months',\n",
              " 'Entire Oklahoma State Team To Boycott Season After Mike Gundy Seen In NCAA Shirt',\n",
              " 'Scientists Discover Mysterious Radio Transmission From Space That Repeats 50-Minute Intervals Of Nonstop Classic Rock Blocks',\n",
              " '42-Year-Old Man Still Unsure What His Interests Are',\n",
              " 'Supreme Court Rules Federal Law Protects LGBT Workers',\n",
              " '‘More Tranquil Dammit!’ Screams Perfectionist Ambient Sound Producer Demanding Another Take From Babbling Creek',\n",
              " 'Over 500,000 Americans Sign Petition Demanding End To Coronavirus',\n",
              " 'Jeff Bezos Depressed After Realizing Net Worth Still Just Number Known To Man',\n",
              " 'Birch Tree Pictures Nude 4,000-Year-Old Bristlecone Pine To Delay Pollen Release',\n",
              " 'NRA Receives Massive Funding Increase From Donors Held At Gunpoint',\n",
              " 'Passing Lane',\n",
              " 'Heavily Armed Fans Guard Statue Of Yogi Bear In Case It Turns Out He Supported Confederacy',\n",
              " '7-Eleven Cancels Free Slurpee Day',\n",
              " 'William Howard Taft Historian Confident Solution To Nation’s Troubles Can Be Found In Storied Career Of William Howard Taft',\n",
              " 'NASA Launches Paparazzo Rover In Beverly Hills To Search For Signs Of Salacious Celebrity Life',\n",
              " 'Sweat-Soaked Mattress Praying This The Year Couple Invests In Air Conditioner',\n",
              " 'Manipulative Stepmom Only Married Dad So She Could Take Care Of Him Into Old Age',\n",
              " 'Report: There Already 5 Million Players Who Are Better Than You’ll Ever Be At ‘Valorant’',\n",
              " 'Congress Moving Toward Safer Vote-By-Paper-Airplane Option',\n",
              " 'Disgusted Patio Diner Pretty Sure She Just Saw Coronavirus Scurry Into Bushes',\n",
              " '2021 Oscars Postponed 2 Months',\n",
              " 'Entire Oklahoma State Team To Boycott Season After Mike Gundy Seen In NCAA Shirt',\n",
              " 'Scientists Discover Mysterious Radio Transmission From Space That Repeats 50-Minute Intervals Of Nonstop Classic Rock Blocks',\n",
              " '42-Year-Old Man Still Unsure What His Interests Are',\n",
              " 'Supreme Court Rules Federal Law Protects LGBT Workers',\n",
              " '‘More Tranquil Dammit!’ Screams Perfectionist Ambient Sound Producer Demanding Another Take From Babbling Creek',\n",
              " 'Over 500,000 Americans Sign Petition Demanding End To Coronavirus',\n",
              " 'Jeff Bezos Depressed After Realizing Net Worth Still Just Number Known To Man',\n",
              " 'Birch Tree Pictures Nude 4,000-Year-Old Bristlecone Pine To Delay Pollen Release',\n",
              " 'NRA Receives Massive Funding Increase From Donors Held At Gunpoint',\n",
              " 'Passing Lane',\n",
              " 'Heavily Armed Fans Guard Statue Of Yogi Bear In Case It Turns Out He Supported Confederacy',\n",
              " '7-Eleven Cancels Free Slurpee Day',\n",
              " 'William Howard Taft Historian Confident Solution To Nation’s Troubles Can Be Found In Storied Career Of William Howard Taft',\n",
              " 'NASA Launches Paparazzo Rover In Beverly Hills To Search For Signs Of Salacious Celebrity Life',\n",
              " 'Sweat-Soaked Mattress Praying This The Year Couple Invests In Air Conditioner',\n",
              " 'Manipulative Stepmom Only Married Dad So She Could Take Care Of Him Into Old Age',\n",
              " 'Report: There Already 5 Million Players Who Are Better Than You’ll Ever Be At ‘Valorant’',\n",
              " 'Congress Moving Toward Safer Vote-By-Paper-Airplane Option',\n",
              " 'Disgusted Patio Diner Pretty Sure She Just Saw Coronavirus Scurry Into Bushes',\n",
              " '2021 Oscars Postponed 2 Months',\n",
              " 'Entire Oklahoma State Team To Boycott Season After Mike Gundy Seen In NCAA Shirt',\n",
              " 'Scientists Discover Mysterious Radio Transmission From Space That Repeats 50-Minute Intervals Of Nonstop Classic Rock Blocks',\n",
              " '42-Year-Old Man Still Unsure What His Interests Are',\n",
              " 'Supreme Court Rules Federal Law Protects LGBT Workers',\n",
              " '‘More Tranquil Dammit!’ Screams Perfectionist Ambient Sound Producer Demanding Another Take From Babbling Creek',\n",
              " 'Over 500,000 Americans Sign Petition Demanding End To Coronavirus',\n",
              " 'Jeff Bezos Depressed After Realizing Net Worth Still Just Number Known To Man',\n",
              " 'Birch Tree Pictures Nude 4,000-Year-Old Bristlecone Pine To Delay Pollen Release',\n",
              " 'NRA Receives Massive Funding Increase From Donors Held At Gunpoint',\n",
              " 'Passing Lane',\n",
              " 'Heavily Armed Fans Guard Statue Of Yogi Bear In Case It Turns Out He Supported Confederacy',\n",
              " '7-Eleven Cancels Free Slurpee Day',\n",
              " 'William Howard Taft Historian Confident Solution To Nation’s Troubles Can Be Found In Storied Career Of William Howard Taft',\n",
              " 'NASA Launches Paparazzo Rover In Beverly Hills To Search For Signs Of Salacious Celebrity Life',\n",
              " 'Sweat-Soaked Mattress Praying This The Year Couple Invests In Air Conditioner',\n",
              " 'Manipulative Stepmom Only Married Dad So She Could Take Care Of Him Into Old Age',\n",
              " 'Report: There Already 5 Million Players Who Are Better Than You’ll Ever Be At ‘Valorant’',\n",
              " 'Congress Moving Toward Safer Vote-By-Paper-Airplane Option',\n",
              " 'Disgusted Patio Diner Pretty Sure She Just Saw Coronavirus Scurry Into Bushes',\n",
              " '2021 Oscars Postponed 2 Months',\n",
              " 'Entire Oklahoma State Team To Boycott Season After Mike Gundy Seen In NCAA Shirt',\n",
              " 'Scientists Discover Mysterious Radio Transmission From Space That Repeats 50-Minute Intervals Of Nonstop Classic Rock Blocks',\n",
              " '42-Year-Old Man Still Unsure What His Interests Are',\n",
              " 'Supreme Court Rules Federal Law Protects LGBT Workers',\n",
              " '‘More Tranquil Dammit!’ Screams Perfectionist Ambient Sound Producer Demanding Another Take From Babbling Creek',\n",
              " 'Over 500,000 Americans Sign Petition Demanding End To Coronavirus',\n",
              " 'Jeff Bezos Depressed After Realizing Net Worth Still Just Number Known To Man',\n",
              " 'Birch Tree Pictures Nude 4,000-Year-Old Bristlecone Pine To Delay Pollen Release',\n",
              " 'NRA Receives Massive Funding Increase From Donors Held At Gunpoint',\n",
              " 'Passing Lane',\n",
              " 'Heavily Armed Fans Guard Statue Of Yogi Bear In Case It Turns Out He Supported Confederacy',\n",
              " '7-Eleven Cancels Free Slurpee Day',\n",
              " 'William Howard Taft Historian Confident Solution To Nation’s Troubles Can Be Found In Storied Career Of William Howard Taft',\n",
              " 'NASA Launches Paparazzo Rover In Beverly Hills To Search For Signs Of Salacious Celebrity Life',\n",
              " 'Sweat-Soaked Mattress Praying This The Year Couple Invests In Air Conditioner',\n",
              " 'Manipulative Stepmom Only Married Dad So She Could Take Care Of Him Into Old Age',\n",
              " 'Report: There Already 5 Million Players Who Are Better Than You’ll Ever Be At ‘Valorant’',\n",
              " 'Congress Moving Toward Safer Vote-By-Paper-Airplane Option',\n",
              " 'Disgusted Patio Diner Pretty Sure She Just Saw Coronavirus Scurry Into Bushes',\n",
              " '2021 Oscars Postponed 2 Months',\n",
              " 'Entire Oklahoma State Team To Boycott Season After Mike Gundy Seen In NCAA Shirt',\n",
              " 'Scientists Discover Mysterious Radio Transmission From Space That Repeats 50-Minute Intervals Of Nonstop Classic Rock Blocks',\n",
              " '42-Year-Old Man Still Unsure What His Interests Are',\n",
              " 'Supreme Court Rules Federal Law Protects LGBT Workers',\n",
              " '‘More Tranquil Dammit!’ Screams Perfectionist Ambient Sound Producer Demanding Another Take From Babbling Creek',\n",
              " 'Over 500,000 Americans Sign Petition Demanding End To Coronavirus',\n",
              " 'Jeff Bezos Depressed After Realizing Net Worth Still Just Number Known To Man',\n",
              " 'Birch Tree Pictures Nude 4,000-Year-Old Bristlecone Pine To Delay Pollen Release',\n",
              " 'NRA Receives Massive Funding Increase From Donors Held At Gunpoint',\n",
              " 'Passing Lane',\n",
              " 'Heavily Armed Fans Guard Statue Of Yogi Bear In Case It Turns Out He Supported Confederacy',\n",
              " '7-Eleven Cancels Free Slurpee Day',\n",
              " 'William Howard Taft Historian Confident Solution To Nation’s Troubles Can Be Found In Storied Career Of William Howard Taft',\n",
              " 'NASA Launches Paparazzo Rover In Beverly Hills To Search For Signs Of Salacious Celebrity Life',\n",
              " 'Sweat-Soaked Mattress Praying This The Year Couple Invests In Air Conditioner',\n",
              " 'Manipulative Stepmom Only Married Dad So She Could Take Care Of Him Into Old Age',\n",
              " 'Report: There Already 5 Million Players Who Are Better Than You’ll Ever Be At ‘Valorant’',\n",
              " 'Congress Moving Toward Safer Vote-By-Paper-Airplane Option',\n",
              " 'Disgusted Patio Diner Pretty Sure She Just Saw Coronavirus Scurry Into Bushes',\n",
              " '2021 Oscars Postponed 2 Months',\n",
              " 'Entire Oklahoma State Team To Boycott Season After Mike Gundy Seen In NCAA Shirt',\n",
              " 'Scientists Discover Mysterious Radio Transmission From Space That Repeats 50-Minute Intervals Of Nonstop Classic Rock Blocks',\n",
              " '42-Year-Old Man Still Unsure What His Interests Are',\n",
              " 'Supreme Court Rules Federal Law Protects LGBT Workers',\n",
              " '‘More Tranquil Dammit!’ Screams Perfectionist Ambient Sound Producer Demanding Another Take From Babbling Creek',\n",
              " 'Over 500,000 Americans Sign Petition Demanding End To Coronavirus',\n",
              " 'Jeff Bezos Depressed After Realizing Net Worth Still Just Number Known To Man',\n",
              " 'Birch Tree Pictures Nude 4,000-Year-Old Bristlecone Pine To Delay Pollen Release',\n",
              " 'NRA Receives Massive Funding Increase From Donors Held At Gunpoint',\n",
              " 'Passing Lane',\n",
              " 'Heavily Armed Fans Guard Statue Of Yogi Bear In Case It Turns Out He Supported Confederacy',\n",
              " '7-Eleven Cancels Free Slurpee Day',\n",
              " 'William Howard Taft Historian Confident Solution To Nation’s Troubles Can Be Found In Storied Career Of William Howard Taft',\n",
              " 'NASA Launches Paparazzo Rover In Beverly Hills To Search For Signs Of Salacious Celebrity Life',\n",
              " 'Sweat-Soaked Mattress Praying This The Year Couple Invests In Air Conditioner',\n",
              " 'Manipulative Stepmom Only Married Dad So She Could Take Care Of Him Into Old Age',\n",
              " 'Report: There Already 5 Million Players Who Are Better Than You’ll Ever Be At ‘Valorant’',\n",
              " 'Congress Moving Toward Safer Vote-By-Paper-Airplane Option',\n",
              " 'Disgusted Patio Diner Pretty Sure She Just Saw Coronavirus Scurry Into Bushes',\n",
              " '2021 Oscars Postponed 2 Months',\n",
              " 'Entire Oklahoma State Team To Boycott Season After Mike Gundy Seen In NCAA Shirt',\n",
              " 'Scientists Discover Mysterious Radio Transmission From Space That Repeats 50-Minute Intervals Of Nonstop Classic Rock Blocks',\n",
              " '42-Year-Old Man Still Unsure What His Interests Are',\n",
              " 'Supreme Court Rules Federal Law Protects LGBT Workers',\n",
              " '‘More Tranquil Dammit!’ Screams Perfectionist Ambient Sound Producer Demanding Another Take From Babbling Creek',\n",
              " 'Over 500,000 Americans Sign Petition Demanding End To Coronavirus',\n",
              " 'Jeff Bezos Depressed After Realizing Net Worth Still Just Number Known To Man',\n",
              " 'Birch Tree Pictures Nude 4,000-Year-Old Bristlecone Pine To Delay Pollen Release',\n",
              " 'NRA Receives Massive Funding Increase From Donors Held At Gunpoint',\n",
              " 'Passing Lane',\n",
              " 'Heavily Armed Fans Guard Statue Of Yogi Bear In Case It Turns Out He Supported Confederacy',\n",
              " '7-Eleven Cancels Free Slurpee Day',\n",
              " 'William Howard Taft Historian Confident Solution To Nation’s Troubles Can Be Found In Storied Career Of William Howard Taft',\n",
              " 'NASA Launches Paparazzo Rover In Beverly Hills To Search For Signs Of Salacious Celebrity Life',\n",
              " 'Sweat-Soaked Mattress Praying This The Year Couple Invests In Air Conditioner',\n",
              " 'Manipulative Stepmom Only Married Dad So She Could Take Care Of Him Into Old Age',\n",
              " 'Report: There Already 5 Million Players Who Are Better Than You’ll Ever Be At ‘Valorant’',\n",
              " 'Congress Moving Toward Safer Vote-By-Paper-Airplane Option',\n",
              " 'Disgusted Patio Diner Pretty Sure She Just Saw Coronavirus Scurry Into Bushes',\n",
              " '2021 Oscars Postponed 2 Months',\n",
              " 'Entire Oklahoma State Team To Boycott Season After Mike Gundy Seen In NCAA Shirt',\n",
              " 'Scientists Discover Mysterious Radio Transmission From Space That Repeats 50-Minute Intervals Of Nonstop Classic Rock Blocks',\n",
              " '42-Year-Old Man Still Unsure What His Interests Are',\n",
              " 'Supreme Court Rules Federal Law Protects LGBT Workers',\n",
              " '‘More Tranquil Dammit!’ Screams Perfectionist Ambient Sound Producer Demanding Another Take From Babbling Creek',\n",
              " 'Over 500,000 Americans Sign Petition Demanding End To Coronavirus',\n",
              " 'Jeff Bezos Depressed After Realizing Net Worth Still Just Number Known To Man',\n",
              " 'Birch Tree Pictures Nude 4,000-Year-Old Bristlecone Pine To Delay Pollen Release',\n",
              " 'NRA Receives Massive Funding Increase From Donors Held At Gunpoint',\n",
              " 'Passing Lane',\n",
              " 'Heavily Armed Fans Guard Statue Of Yogi Bear In Case It Turns Out He Supported Confederacy',\n",
              " '7-Eleven Cancels Free Slurpee Day',\n",
              " 'William Howard Taft Historian Confident Solution To Nation’s Troubles Can Be Found In Storied Career Of William Howard Taft',\n",
              " 'NASA Launches Paparazzo Rover In Beverly Hills To Search For Signs Of Salacious Celebrity Life',\n",
              " 'Sweat-Soaked Mattress Praying This The Year Couple Invests In Air Conditioner',\n",
              " 'Manipulative Stepmom Only Married Dad So She Could Take Care Of Him Into Old Age',\n",
              " 'Report: There Already 5 Million Players Who Are Better Than You’ll Ever Be At ‘Valorant’',\n",
              " 'Congress Moving Toward Safer Vote-By-Paper-Airplane Option',\n",
              " 'Disgusted Patio Diner Pretty Sure She Just Saw Coronavirus Scurry Into Bushes',\n",
              " '2021 Oscars Postponed 2 Months',\n",
              " 'Entire Oklahoma State Team To Boycott Season After Mike Gundy Seen In NCAA Shirt',\n",
              " 'Scientists Discover Mysterious Radio Transmission From Space That Repeats 50-Minute Intervals Of Nonstop Classic Rock Blocks',\n",
              " '42-Year-Old Man Still Unsure What His Interests Are',\n",
              " 'Supreme Court Rules Federal Law Protects LGBT Workers',\n",
              " '‘More Tranquil Dammit!’ Screams Perfectionist Ambient Sound Producer Demanding Another Take From Babbling Creek',\n",
              " 'Over 500,000 Americans Sign Petition Demanding End To Coronavirus',\n",
              " 'Jeff Bezos Depressed After Realizing Net Worth Still Just Number Known To Man',\n",
              " 'Birch Tree Pictures Nude 4,000-Year-Old Bristlecone Pine To Delay Pollen Release',\n",
              " 'NRA Receives Massive Funding Increase From Donors Held At Gunpoint',\n",
              " 'Passing Lane',\n",
              " 'Heavily Armed Fans Guard Statue Of Yogi Bear In Case It Turns Out He Supported Confederacy',\n",
              " '7-Eleven Cancels Free Slurpee Day',\n",
              " 'William Howard Taft Historian Confident Solution To Nation’s Troubles Can Be Found In Storied Career Of William Howard Taft',\n",
              " 'NASA Launches Paparazzo Rover In Beverly Hills To Search For Signs Of Salacious Celebrity Life',\n",
              " 'Sweat-Soaked Mattress Praying This The Year Couple Invests In Air Conditioner',\n",
              " 'Manipulative Stepmom Only Married Dad So She Could Take Care Of Him Into Old Age',\n",
              " 'Report: There Already 5 Million Players Who Are Better Than You’ll Ever Be At ‘Valorant’',\n",
              " 'Congress Moving Toward Safer Vote-By-Paper-Airplane Option',\n",
              " 'Disgusted Patio Diner Pretty Sure She Just Saw Coronavirus Scurry Into Bushes',\n",
              " '2021 Oscars Postponed 2 Months',\n",
              " 'Entire Oklahoma State Team To Boycott Season After Mike Gundy Seen In NCAA Shirt',\n",
              " 'Scientists Discover Mysterious Radio Transmission From Space That Repeats 50-Minute Intervals Of Nonstop Classic Rock Blocks',\n",
              " '42-Year-Old Man Still Unsure What His Interests Are',\n",
              " 'Supreme Court Rules Federal Law Protects LGBT Workers',\n",
              " '‘More Tranquil Dammit!’ Screams Perfectionist Ambient Sound Producer Demanding Another Take From Babbling Creek',\n",
              " 'Over 500,000 Americans Sign Petition Demanding End To Coronavirus',\n",
              " 'Jeff Bezos Depressed After Realizing Net Worth Still Just Number Known To Man',\n",
              " 'Birch Tree Pictures Nude 4,000-Year-Old Bristlecone Pine To Delay Pollen Release',\n",
              " 'NRA Receives Massive Funding Increase From Donors Held At Gunpoint',\n",
              " 'Passing Lane',\n",
              " 'Heavily Armed Fans Guard Statue Of Yogi Bear In Case It Turns Out He Supported Confederacy',\n",
              " '7-Eleven Cancels Free Slurpee Day',\n",
              " 'William Howard Taft Historian Confident Solution To Nation’s Troubles Can Be Found In Storied Career Of William Howard Taft',\n",
              " 'NASA Launches Paparazzo Rover In Beverly Hills To Search For Signs Of Salacious Celebrity Life',\n",
              " 'Sweat-Soaked Mattress Praying This The Year Couple Invests In Air Conditioner',\n",
              " 'Manipulative Stepmom Only Married Dad So She Could Take Care Of Him Into Old Age',\n",
              " 'Report: There Already 5 Million Players Who Are Better Than You’ll Ever Be At ‘Valorant’',\n",
              " 'Congress Moving Toward Safer Vote-By-Paper-Airplane Option',\n",
              " 'Disgusted Patio Diner Pretty Sure She Just Saw Coronavirus Scurry Into Bushes',\n",
              " '2021 Oscars Postponed 2 Months',\n",
              " 'Entire Oklahoma State Team To Boycott Season After Mike Gundy Seen In NCAA Shirt',\n",
              " 'Scientists Discover Mysterious Radio Transmission From Space That Repeats 50-Minute Intervals Of Nonstop Classic Rock Blocks',\n",
              " '42-Year-Old Man Still Unsure What His Interests Are',\n",
              " 'Supreme Court Rules Federal Law Protects LGBT Workers',\n",
              " '‘More Tranquil Dammit!’ Screams Perfectionist Ambient Sound Producer Demanding Another Take From Babbling Creek',\n",
              " 'Over 500,000 Americans Sign Petition Demanding End To Coronavirus',\n",
              " 'Jeff Bezos Depressed After Realizing Net Worth Still Just Number Known To Man',\n",
              " 'Birch Tree Pictures Nude 4,000-Year-Old Bristlecone Pine To Delay Pollen Release',\n",
              " 'NRA Receives Massive Funding Increase From Donors Held At Gunpoint',\n",
              " 'Passing Lane',\n",
              " 'Heavily Armed Fans Guard Statue Of Yogi Bear In Case It Turns Out He Supported Confederacy',\n",
              " '7-Eleven Cancels Free Slurpee Day',\n",
              " 'William Howard Taft Historian Confident Solution To Nation’s Troubles Can Be Found In Storied Career Of William Howard Taft',\n",
              " 'NASA Launches Paparazzo Rover In Beverly Hills To Search For Signs Of Salacious Celebrity Life',\n",
              " 'Sweat-Soaked Mattress Praying This The Year Couple Invests In Air Conditioner',\n",
              " 'Manipulative Stepmom Only Married Dad So She Could Take Care Of Him Into Old Age',\n",
              " 'Report: There Already 5 Million Players Who Are Better Than You’ll Ever Be At ‘Valorant’',\n",
              " 'Congress Moving Toward Safer Vote-By-Paper-Airplane Option',\n",
              " 'Disgusted Patio Diner Pretty Sure She Just Saw Coronavirus Scurry Into Bushes',\n",
              " '2021 Oscars Postponed 2 Months',\n",
              " 'Entire Oklahoma State Team To Boycott Season After Mike Gundy Seen In NCAA Shirt',\n",
              " 'Scientists Discover Mysterious Radio Transmission From Space That Repeats 50-Minute Intervals Of Nonstop Classic Rock Blocks',\n",
              " '42-Year-Old Man Still Unsure What His Interests Are',\n",
              " 'Supreme Court Rules Federal Law Protects LGBT Workers',\n",
              " '‘More Tranquil Dammit!’ Screams Perfectionist Ambient Sound Producer Demanding Another Take From Babbling Creek',\n",
              " 'Over 500,000 Americans Sign Petition Demanding End To Coronavirus',\n",
              " 'Jeff Bezos Depressed After Realizing Net Worth Still Just Number Known To Man',\n",
              " 'Birch Tree Pictures Nude 4,000-Year-Old Bristlecone Pine To Delay Pollen Release',\n",
              " 'NRA Receives Massive Funding Increase From Donors Held At Gunpoint',\n",
              " 'Passing Lane',\n",
              " 'Heavily Armed Fans Guard Statue Of Yogi Bear In Case It Turns Out He Supported Confederacy',\n",
              " '7-Eleven Cancels Free Slurpee Day',\n",
              " 'William Howard Taft Historian Confident Solution To Nation’s Troubles Can Be Found In Storied Career Of William Howard Taft',\n",
              " 'NASA Launches Paparazzo Rover In Beverly Hills To Search For Signs Of Salacious Celebrity Life',\n",
              " 'Sweat-Soaked Mattress Praying This The Year Couple Invests In Air Conditioner',\n",
              " 'Manipulative Stepmom Only Married Dad So She Could Take Care Of Him Into Old Age',\n",
              " 'Report: There Already 5 Million Players Who Are Better Than You’ll Ever Be At ‘Valorant’',\n",
              " 'Congress Moving Toward Safer Vote-By-Paper-Airplane Option',\n",
              " 'Disgusted Patio Diner Pretty Sure She Just Saw Coronavirus Scurry Into Bushes',\n",
              " '2021 Oscars Postponed 2 Months',\n",
              " 'Entire Oklahoma State Team To Boycott Season After Mike Gundy Seen In NCAA Shirt',\n",
              " 'Scientists Discover Mysterious Radio Transmission From Space That Repeats 50-Minute Intervals Of Nonstop Classic Rock Blocks',\n",
              " '42-Year-Old Man Still Unsure What His Interests Are',\n",
              " 'Supreme Court Rules Federal Law Protects LGBT Workers',\n",
              " '‘More Tranquil Dammit!’ Screams Perfectionist Ambient Sound Producer Demanding Another Take From Babbling Creek',\n",
              " 'Over 500,000 Americans Sign Petition Demanding End To Coronavirus',\n",
              " 'Jeff Bezos Depressed After Realizing Net Worth Still Just Number Known To Man',\n",
              " 'Birch Tree Pictures Nude 4,000-Year-Old Bristlecone Pine To Delay Pollen Release',\n",
              " 'NRA Receives Massive Funding Increase From Donors Held At Gunpoint',\n",
              " 'Passing Lane',\n",
              " 'Heavily Armed Fans Guard Statue Of Yogi Bear In Case It Turns Out He Supported Confederacy',\n",
              " '7-Eleven Cancels Free Slurpee Day',\n",
              " 'William Howard Taft Historian Confident Solution To Nation’s Troubles Can Be Found In Storied Career Of William Howard Taft',\n",
              " 'NASA Launches Paparazzo Rover In Beverly Hills To Search For Signs Of Salacious Celebrity Life',\n",
              " 'Sweat-Soaked Mattress Praying This The Year Couple Invests In Air Conditioner',\n",
              " 'Manipulative Stepmom Only Married Dad So She Could Take Care Of Him Into Old Age',\n",
              " 'Report: There Already 5 Million Players Who Are Better Than You’ll Ever Be At ‘Valorant’',\n",
              " 'Congress Moving Toward Safer Vote-By-Paper-Airplane Option',\n",
              " 'Disgusted Patio Diner Pretty Sure She Just Saw Coronavirus Scurry Into Bushes',\n",
              " '2021 Oscars Postponed 2 Months',\n",
              " 'Entire Oklahoma State Team To Boycott Season After Mike Gundy Seen In NCAA Shirt',\n",
              " 'Scientists Discover Mysterious Radio Transmission From Space That Repeats 50-Minute Intervals Of Nonstop Classic Rock Blocks',\n",
              " '42-Year-Old Man Still Unsure What His Interests Are',\n",
              " 'Supreme Court Rules Federal Law Protects LGBT Workers',\n",
              " '‘More Tranquil Dammit!’ Screams Perfectionist Ambient Sound Producer Demanding Another Take From Babbling Creek',\n",
              " 'Over 500,000 Americans Sign Petition Demanding End To Coronavirus',\n",
              " 'Jeff Bezos Depressed After Realizing Net Worth Still Just Number Known To Man',\n",
              " 'Birch Tree Pictures Nude 4,000-Year-Old Bristlecone Pine To Delay Pollen Release',\n",
              " 'NRA Receives Massive Funding Increase From Donors Held At Gunpoint',\n",
              " 'Passing Lane',\n",
              " 'Heavily Armed Fans Guard Statue Of Yogi Bear In Case It Turns Out He Supported Confederacy',\n",
              " '7-Eleven Cancels Free Slurpee Day',\n",
              " 'William Howard Taft Historian Confident Solution To Nation’s Troubles Can Be Found In Storied Career Of William Howard Taft',\n",
              " 'NASA Launches Paparazzo Rover In Beverly Hills To Search For Signs Of Salacious Celebrity Life',\n",
              " 'Sweat-Soaked Mattress Praying This The Year Couple Invests In Air Conditioner',\n",
              " 'Manipulative Stepmom Only Married Dad So She Could Take Care Of Him Into Old Age',\n",
              " 'Report: There Already 5 Million Players Who Are Better Than You’ll Ever Be At ‘Valorant’',\n",
              " 'Congress Moving Toward Safer Vote-By-Paper-Airplane Option',\n",
              " 'Disgusted Patio Diner Pretty Sure She Just Saw Coronavirus Scurry Into Bushes',\n",
              " '2021 Oscars Postponed 2 Months',\n",
              " 'Entire Oklahoma State Team To Boycott Season After Mike Gundy Seen In NCAA Shirt',\n",
              " 'Scientists Discover Mysterious Radio Transmission From Space That Repeats 50-Minute Intervals Of Nonstop Classic Rock Blocks',\n",
              " '42-Year-Old Man Still Unsure What His Interests Are',\n",
              " 'Supreme Court Rules Federal Law Protects LGBT Workers',\n",
              " '‘More Tranquil Dammit!’ Screams Perfectionist Ambient Sound Producer Demanding Another Take From Babbling Creek',\n",
              " 'Over 500,000 Americans Sign Petition Demanding End To Coronavirus',\n",
              " 'Jeff Bezos Depressed After Realizing Net Worth Still Just Number Known To Man',\n",
              " 'Birch Tree Pictures Nude 4,000-Year-Old Bristlecone Pine To Delay Pollen Release',\n",
              " 'NRA Receives Massive Funding Increase From Donors Held At Gunpoint',\n",
              " 'Passing Lane',\n",
              " 'Heavily Armed Fans Guard Statue Of Yogi Bear In Case It Turns Out He Supported Confederacy',\n",
              " '7-Eleven Cancels Free Slurpee Day',\n",
              " 'William Howard Taft Historian Confident Solution To Nation’s Troubles Can Be Found In Storied Career Of William Howard Taft',\n",
              " 'NASA Launches Paparazzo Rover In Beverly Hills To Search For Signs Of Salacious Celebrity Life',\n",
              " 'Sweat-Soaked Mattress Praying This The Year Couple Invests In Air Conditioner',\n",
              " 'Manipulative Stepmom Only Married Dad So She Could Take Care Of Him Into Old Age',\n",
              " 'Report: There Already 5 Million Players Who Are Better Than You’ll Ever Be At ‘Valorant’',\n",
              " 'Congress Moving Toward Safer Vote-By-Paper-Airplane Option',\n",
              " 'Disgusted Patio Diner Pretty Sure She Just Saw Coronavirus Scurry Into Bushes',\n",
              " '2021 Oscars Postponed 2 Months',\n",
              " 'Entire Oklahoma State Team To Boycott Season After Mike Gundy Seen In NCAA Shirt',\n",
              " 'Scientists Discover Mysterious Radio Transmission From Space That Repeats 50-Minute Intervals Of Nonstop Classic Rock Blocks',\n",
              " '42-Year-Old Man Still Unsure What His Interests Are',\n",
              " 'Supreme Court Rules Federal Law Protects LGBT Workers',\n",
              " '‘More Tranquil Dammit!’ Screams Perfectionist Ambient Sound Producer Demanding Another Take From Babbling Creek',\n",
              " 'Over 500,000 Americans Sign Petition Demanding End To Coronavirus',\n",
              " 'Jeff Bezos Depressed After Realizing Net Worth Still Just Number Known To Man',\n",
              " 'Birch Tree Pictures Nude 4,000-Year-Old Bristlecone Pine To Delay Pollen Release',\n",
              " 'NRA Receives Massive Funding Increase From Donors Held At Gunpoint',\n",
              " 'Passing Lane',\n",
              " 'Heavily Armed Fans Guard Statue Of Yogi Bear In Case It Turns Out He Supported Confederacy',\n",
              " '7-Eleven Cancels Free Slurpee Day',\n",
              " 'William Howard Taft Historian Confident Solution To Nation’s Troubles Can Be Found In Storied Career Of William Howard Taft',\n",
              " 'NASA Launches Paparazzo Rover In Beverly Hills To Search For Signs Of Salacious Celebrity Life',\n",
              " 'Sweat-Soaked Mattress Praying This The Year Couple Invests In Air Conditioner',\n",
              " 'Manipulative Stepmom Only Married Dad So She Could Take Care Of Him Into Old Age',\n",
              " 'Report: There Already 5 Million Players Who Are Better Than You’ll Ever Be At ‘Valorant’',\n",
              " 'Congress Moving Toward Safer Vote-By-Paper-Airplane Option',\n",
              " 'Disgusted Patio Diner Pretty Sure She Just Saw Coronavirus Scurry Into Bushes',\n",
              " '2021 Oscars Postponed 2 Months',\n",
              " 'Entire Oklahoma State Team To Boycott Season After Mike Gundy Seen In NCAA Shirt',\n",
              " 'Scientists Discover Mysterious Radio Transmission From Space That Repeats 50-Minute Intervals Of Nonstop Classic Rock Blocks',\n",
              " '42-Year-Old Man Still Unsure What His Interests Are',\n",
              " 'Supreme Court Rules Federal Law Protects LGBT Workers',\n",
              " '‘More Tranquil Dammit!’ Screams Perfectionist Ambient Sound Producer Demanding Another Take From Babbling Creek',\n",
              " 'Over 500,000 Americans Sign Petition Demanding End To Coronavirus',\n",
              " 'Jeff Bezos Depressed After Realizing Net Worth Still Just Number Known To Man',\n",
              " 'Birch Tree Pictures Nude 4,000-Year-Old Bristlecone Pine To Delay Pollen Release',\n",
              " 'NRA Receives Massive Funding Increase From Donors Held At Gunpoint',\n",
              " 'Passing Lane',\n",
              " 'Heavily Armed Fans Guard Statue Of Yogi Bear In Case It Turns Out He Supported Confederacy',\n",
              " '7-Eleven Cancels Free Slurpee Day',\n",
              " 'William Howard Taft Historian Confident Solution To Nation’s Troubles Can Be Found In Storied Career Of William Howard Taft',\n",
              " 'NASA Launches Paparazzo Rover In Beverly Hills To Search For Signs Of Salacious Celebrity Life',\n",
              " 'Sweat-Soaked Mattress Praying This The Year Couple Invests In Air Conditioner',\n",
              " 'Manipulative Stepmom Only Married Dad So She Could Take Care Of Him Into Old Age',\n",
              " 'Report: There Already 5 Million Players Who Are Better Than You’ll Ever Be At ‘Valorant’',\n",
              " 'Congress Moving Toward Safer Vote-By-Paper-Airplane Option',\n",
              " 'Disgusted Patio Diner Pretty Sure She Just Saw Coronavirus Scurry Into Bushes',\n",
              " '2021 Oscars Postponed 2 Months',\n",
              " 'Entire Oklahoma State Team To Boycott Season After Mike Gundy Seen In NCAA Shirt',\n",
              " 'Scientists Discover Mysterious Radio Transmission From Space That Repeats 50-Minute Intervals Of Nonstop Classic Rock Blocks',\n",
              " '42-Year-Old Man Still Unsure What His Interests Are',\n",
              " 'Supreme Court Rules Federal Law Protects LGBT Workers',\n",
              " '‘More Tranquil Dammit!’ Screams Perfectionist Ambient Sound Producer Demanding Another Take From Babbling Creek',\n",
              " 'Over 500,000 Americans Sign Petition Demanding End To Coronavirus',\n",
              " 'Jeff Bezos Depressed After Realizing Net Worth Still Just Number Known To Man',\n",
              " 'Birch Tree Pictures Nude 4,000-Year-Old Bristlecone Pine To Delay Pollen Release',\n",
              " 'NRA Receives Massive Funding Increase From Donors Held At Gunpoint',\n",
              " 'Passing Lane',\n",
              " 'Heavily Armed Fans Guard Statue Of Yogi Bear In Case It Turns Out He Supported Confederacy',\n",
              " '7-Eleven Cancels Free Slurpee Day',\n",
              " 'William Howard Taft Historian Confident Solution To Nation’s Troubles Can Be Found In Storied Career Of William Howard Taft',\n",
              " 'NASA Launches Paparazzo Rover In Beverly Hills To Search For Signs Of Salacious Celebrity Life',\n",
              " 'Sweat-Soaked Mattress Praying This The Year Couple Invests In Air Conditioner',\n",
              " 'Manipulative Stepmom Only Married Dad So She Could Take Care Of Him Into Old Age',\n",
              " 'Report: There Already 5 Million Players Who Are Better Than You’ll Ever Be At ‘Valorant’',\n",
              " 'Congress Moving Toward Safer Vote-By-Paper-Airplane Option',\n",
              " 'Disgusted Patio Diner Pretty Sure She Just Saw Coronavirus Scurry Into Bushes',\n",
              " '2021 Oscars Postponed 2 Months',\n",
              " 'Entire Oklahoma State Team To Boycott Season After Mike Gundy Seen In NCAA Shirt',\n",
              " 'Scientists Discover Mysterious Radio Transmission From Space That Repeats 50-Minute Intervals Of Nonstop Classic Rock Blocks',\n",
              " '42-Year-Old Man Still Unsure What His Interests Are',\n",
              " 'Supreme Court Rules Federal Law Protects LGBT Workers',\n",
              " '‘More Tranquil Dammit!’ Screams Perfectionist Ambient Sound Producer Demanding Another Take From Babbling Creek',\n",
              " 'Over 500,000 Americans Sign Petition Demanding End To Coronavirus',\n",
              " 'Jeff Bezos Depressed After Realizing Net Worth Still Just Number Known To Man',\n",
              " 'Birch Tree Pictures Nude 4,000-Year-Old Bristlecone Pine To Delay Pollen Release',\n",
              " 'NRA Receives Massive Funding Increase From Donors Held At Gunpoint',\n",
              " 'Passing Lane',\n",
              " 'Heavily Armed Fans Guard Statue Of Yogi Bear In Case It Turns Out He Supported Confederacy',\n",
              " '7-Eleven Cancels Free Slurpee Day',\n",
              " 'William Howard Taft Historian Confident Solution To Nation’s Troubles Can Be Found In Storied Career Of William Howard Taft',\n",
              " 'NASA Launches Paparazzo Rover In Beverly Hills To Search For Signs Of Salacious Celebrity Life',\n",
              " 'Sweat-Soaked Mattress Praying This The Year Couple Invests In Air Conditioner',\n",
              " 'Manipulative Stepmom Only Married Dad So She Could Take Care Of Him Into Old Age',\n",
              " 'Report: There Already 5 Million Players Who Are Better Than You’ll Ever Be At ‘Valorant’',\n",
              " 'Congress Moving Toward Safer Vote-By-Paper-Airplane Option',\n",
              " 'Disgusted Patio Diner Pretty Sure She Just Saw Coronavirus Scurry Into Bushes',\n",
              " '2021 Oscars Postponed 2 Months',\n",
              " 'Entire Oklahoma State Team To Boycott Season After Mike Gundy Seen In NCAA Shirt',\n",
              " 'Scientists Discover Mysterious Radio Transmission From Space That Repeats 50-Minute Intervals Of Nonstop Classic Rock Blocks',\n",
              " '42-Year-Old Man Still Unsure What His Interests Are',\n",
              " 'Supreme Court Rules Federal Law Protects LGBT Workers',\n",
              " '‘More Tranquil Dammit!’ Screams Perfectionist Ambient Sound Producer Demanding Another Take From Babbling Creek',\n",
              " 'Over 500,000 Americans Sign Petition Demanding End To Coronavirus',\n",
              " 'Jeff Bezos Depressed After Realizing Net Worth Still Just Number Known To Man',\n",
              " 'Birch Tree Pictures Nude 4,000-Year-Old Bristlecone Pine To Delay Pollen Release',\n",
              " 'NRA Receives Massive Funding Increase From Donors Held At Gunpoint',\n",
              " 'Passing Lane',\n",
              " 'Heavily Armed Fans Guard Statue Of Yogi Bear In Case It Turns Out He Supported Confederacy',\n",
              " '7-Eleven Cancels Free Slurpee Day',\n",
              " 'William Howard Taft Historian Confident Solution To Nation’s Troubles Can Be Found In Storied Career Of William Howard Taft',\n",
              " 'NASA Launches Paparazzo Rover In Beverly Hills To Search For Signs Of Salacious Celebrity Life',\n",
              " 'Sweat-Soaked Mattress Praying This The Year Couple Invests In Air Conditioner',\n",
              " 'Manipulative Stepmom Only Married Dad So She Could Take Care Of Him Into Old Age',\n",
              " 'Report: There Already 5 Million Players Who Are Better Than You’ll Ever Be At ‘Valorant’',\n",
              " 'Congress Moving Toward Safer Vote-By-Paper-Airplane Option',\n",
              " 'Disgusted Patio Diner Pretty Sure She Just Saw Coronavirus Scurry Into Bushes',\n",
              " '2021 Oscars Postponed 2 Months',\n",
              " 'Entire Oklahoma State Team To Boycott Season After Mike Gundy Seen In NCAA Shirt',\n",
              " 'Scientists Discover Mysterious Radio Transmission From Space That Repeats 50-Minute Intervals Of Nonstop Classic Rock Blocks',\n",
              " '42-Year-Old Man Still Unsure What His Interests Are',\n",
              " 'Supreme Court Rules Federal Law Protects LGBT Workers',\n",
              " '‘More Tranquil Dammit!’ Screams Perfectionist Ambient Sound Producer Demanding Another Take From Babbling Creek',\n",
              " 'Over 500,000 Americans Sign Petition Demanding End To Coronavirus',\n",
              " 'Jeff Bezos Depressed After Realizing Net Worth Still Just Number Known To Man',\n",
              " 'Birch Tree Pictures Nude 4,000-Year-Old Bristlecone Pine To Delay Pollen Release',\n",
              " 'NRA Receives Massive Funding Increase From Donors Held At Gunpoint',\n",
              " 'Passing Lane',\n",
              " 'Heavily Armed Fans Guard Statue Of Yogi Bear In Case It Turns Out He Supported Confederacy',\n",
              " '7-Eleven Cancels Free Slurpee Day',\n",
              " 'William Howard Taft Historian Confident Solution To Nation’s Troubles Can Be Found In Storied Career Of William Howard Taft',\n",
              " 'NASA Launches Paparazzo Rover In Beverly Hills To Search For Signs Of Salacious Celebrity Life',\n",
              " 'Sweat-Soaked Mattress Praying This The Year Couple Invests In Air Conditioner',\n",
              " 'Manipulative Stepmom Only Married Dad So She Could Take Care Of Him Into Old Age',\n",
              " 'Report: There Already 5 Million Players Who Are Better Than You’ll Ever Be At ‘Valorant’',\n",
              " 'Congress Moving Toward Safer Vote-By-Paper-Airplane Option',\n",
              " 'Disgusted Patio Diner Pretty Sure She Just Saw Coronavirus Scurry Into Bushes',\n",
              " '2021 Oscars Postponed 2 Months',\n",
              " 'Entire Oklahoma State Team To Boycott Season After Mike Gundy Seen In NCAA Shirt',\n",
              " 'Scientists Discover Mysterious Radio Transmission From Space That Repeats 50-Minute Intervals Of Nonstop Classic Rock Blocks',\n",
              " '42-Year-Old Man Still Unsure What His Interests Are',\n",
              " 'Supreme Court Rules Federal Law Protects LGBT Workers',\n",
              " '‘More Tranquil Dammit!’ Screams Perfectionist Ambient Sound Producer Demanding Another Take From Babbling Creek',\n",
              " 'Over 500,000 Americans Sign Petition Demanding End To Coronavirus',\n",
              " 'Jeff Bezos Depressed After Realizing Net Worth Still Just Number Known To Man',\n",
              " 'Birch Tree Pictures Nude 4,000-Year-Old Bristlecone Pine To Delay Pollen Release',\n",
              " 'NRA Receives Massive Funding Increase From Donors Held At Gunpoint',\n",
              " 'Passing Lane',\n",
              " 'Heavily Armed Fans Guard Statue Of Yogi Bear In Case It Turns Out He Supported Confederacy',\n",
              " '7-Eleven Cancels Free Slurpee Day',\n",
              " 'William Howard Taft Historian Confident Solution To Nation’s Troubles Can Be Found In Storied Career Of William Howard Taft',\n",
              " 'NASA Launches Paparazzo Rover In Beverly Hills To Search For Signs Of Salacious Celebrity Life',\n",
              " 'Sweat-Soaked Mattress Praying This The Year Couple Invests In Air Conditioner',\n",
              " 'Manipulative Stepmom Only Married Dad So She Could Take Care Of Him Into Old Age',\n",
              " 'Report: There Already 5 Million Players Who Are Better Than You’ll Ever Be At ‘Valorant’',\n",
              " 'Congress Moving Toward Safer Vote-By-Paper-Airplane Option',\n",
              " 'Disgusted Patio Diner Pretty Sure She Just Saw Coronavirus Scurry Into Bushes',\n",
              " '2021 Oscars Postponed 2 Months',\n",
              " 'Entire Oklahoma State Team To Boycott Season After Mike Gundy Seen In NCAA Shirt',\n",
              " 'Scientists Discover Mysterious Radio Transmission From Space That Repeats 50-Minute Intervals Of Nonstop Classic Rock Blocks',\n",
              " '42-Year-Old Man Still Unsure What His Interests Are',\n",
              " 'Supreme Court Rules Federal Law Protects LGBT Workers',\n",
              " '‘More Tranquil Dammit!’ Screams Perfectionist Ambient Sound Producer Demanding Another Take From Babbling Creek',\n",
              " 'Over 500,000 Americans Sign Petition Demanding End To Coronavirus',\n",
              " 'Jeff Bezos Depressed After Realizing Net Worth Still Just Number Known To Man',\n",
              " 'Birch Tree Pictures Nude 4,000-Year-Old Bristlecone Pine To Delay Pollen Release',\n",
              " 'NRA Receives Massive Funding Increase From Donors Held At Gunpoint',\n",
              " 'Passing Lane',\n",
              " 'Heavily Armed Fans Guard Statue Of Yogi Bear In Case It Turns Out He Supported Confederacy',\n",
              " '7-Eleven Cancels Free Slurpee Day',\n",
              " 'William Howard Taft Historian Confident Solution To Nation’s Troubles Can Be Found In Storied Career Of William Howard Taft',\n",
              " 'NASA Launches Paparazzo Rover In Beverly Hills To Search For Signs Of Salacious Celebrity Life',\n",
              " 'Sweat-Soaked Mattress Praying This The Year Couple Invests In Air Conditioner',\n",
              " 'Manipulative Stepmom Only Married Dad So She Could Take Care Of Him Into Old Age',\n",
              " 'Report: There Already 5 Million Players Who Are Better Than You’ll Ever Be At ‘Valorant’',\n",
              " 'Congress Moving Toward Safer Vote-By-Paper-Airplane Option',\n",
              " 'Disgusted Patio Diner Pretty Sure She Just Saw Coronavirus Scurry Into Bushes',\n",
              " '2021 Oscars Postponed 2 Months',\n",
              " 'Entire Oklahoma State Team To Boycott Season After Mike Gundy Seen In NCAA Shirt',\n",
              " 'Scientists Discover Mysterious Radio Transmission From Space That Repeats 50-Minute Intervals Of Nonstop Classic Rock Blocks',\n",
              " '42-Year-Old Man Still Unsure What His Interests Are',\n",
              " 'Supreme Court Rules Federal Law Protects LGBT Workers',\n",
              " '‘More Tranquil Dammit!’ Screams Perfectionist Ambient Sound Producer Demanding Another Take From Babbling Creek',\n",
              " 'Over 500,000 Americans Sign Petition Demanding End To Coronavirus',\n",
              " 'Jeff Bezos Depressed After Realizing Net Worth Still Just Number Known To Man',\n",
              " 'Birch Tree Pictures Nude 4,000-Year-Old Bristlecone Pine To Delay Pollen Release',\n",
              " 'NRA Receives Massive Funding Increase From Donors Held At Gunpoint',\n",
              " 'Passing Lane',\n",
              " 'Heavily Armed Fans Guard Statue Of Yogi Bear In Case It Turns Out He Supported Confederacy',\n",
              " '7-Eleven Cancels Free Slurpee Day',\n",
              " 'William Howard Taft Historian Confident Solution To Nation’s Troubles Can Be Found In Storied Career Of William Howard Taft',\n",
              " 'NASA Launches Paparazzo Rover In Beverly Hills To Search For Signs Of Salacious Celebrity Life',\n",
              " 'Sweat-Soaked Mattress Praying This The Year Couple Invests In Air Conditioner',\n",
              " 'Manipulative Stepmom Only Married Dad So She Could Take Care Of Him Into Old Age',\n",
              " 'Report: There Already 5 Million Players Who Are Better Than You’ll Ever Be At ‘Valorant’',\n",
              " 'Congress Moving Toward Safer Vote-By-Paper-Airplane Option',\n",
              " 'Disgusted Patio Diner Pretty Sure She Just Saw Coronavirus Scurry Into Bushes',\n",
              " '2021 Oscars Postponed 2 Months',\n",
              " 'Entire Oklahoma State Team To Boycott Season After Mike Gundy Seen In NCAA Shirt',\n",
              " 'Scientists Discover Mysterious Radio Transmission From Space That Repeats 50-Minute Intervals Of Nonstop Classic Rock Blocks',\n",
              " '42-Year-Old Man Still Unsure What His Interests Are',\n",
              " 'Supreme Court Rules Federal Law Protects LGBT Workers',\n",
              " '‘More Tranquil Dammit!’ Screams Perfectionist Ambient Sound Producer Demanding Another Take From Babbling Creek',\n",
              " 'Over 500,000 Americans Sign Petition Demanding End To Coronavirus',\n",
              " 'Jeff Bezos Depressed After Realizing Net Worth Still Just Number Known To Man',\n",
              " 'Birch Tree Pictures Nude 4,000-Year-Old Bristlecone Pine To Delay Pollen Release',\n",
              " 'NRA Receives Massive Funding Increase From Donors Held At Gunpoint',\n",
              " 'Passing Lane',\n",
              " 'Heavily Armed Fans Guard Statue Of Yogi Bear In Case It Turns Out He Supported Confederacy',\n",
              " '7-Eleven Cancels Free Slurpee Day',\n",
              " 'William Howard Taft Historian Confident Solution To Nation’s Troubles Can Be Found In Storied Career Of William Howard Taft',\n",
              " 'NASA Launches Paparazzo Rover In Beverly Hills To Search For Signs Of Salacious Celebrity Life',\n",
              " 'Sweat-Soaked Mattress Praying This The Year Couple Invests In Air Conditioner',\n",
              " 'Manipulative Stepmom Only Married Dad So She Could Take Care Of Him Into Old Age',\n",
              " 'Report: There Already 5 Million Players Who Are Better Than You’ll Ever Be At ‘Valorant’',\n",
              " 'Congress Moving Toward Safer Vote-By-Paper-Airplane Option',\n",
              " 'Disgusted Patio Diner Pretty Sure She Just Saw Coronavirus Scurry Into Bushes',\n",
              " '2021 Oscars Postponed 2 Months',\n",
              " 'Entire Oklahoma State Team To Boycott Season After Mike Gundy Seen In NCAA Shirt',\n",
              " 'Scientists Discover Mysterious Radio Transmission From Space That Repeats 50-Minute Intervals Of Nonstop Classic Rock Blocks',\n",
              " '42-Year-Old Man Still Unsure What His Interests Are',\n",
              " 'Supreme Court Rules Federal Law Protects LGBT Workers',\n",
              " '‘More Tranquil Dammit!’ Screams Perfectionist Ambient Sound Producer Demanding Another Take From Babbling Creek',\n",
              " 'Over 500,000 Americans Sign Petition Demanding End To Coronavirus',\n",
              " 'Jeff Bezos Depressed After Realizing Net Worth Still Just Number Known To Man',\n",
              " 'Birch Tree Pictures Nude 4,000-Year-Old Bristlecone Pine To Delay Pollen Release',\n",
              " 'NRA Receives Massive Funding Increase From Donors Held At Gunpoint',\n",
              " 'Passing Lane',\n",
              " 'Heavily Armed Fans Guard Statue Of Yogi Bear In Case It Turns Out He Supported Confederacy',\n",
              " '7-Eleven Cancels Free Slurpee Day',\n",
              " 'William Howard Taft Historian Confident Solution To Nation’s Troubles Can Be Found In Storied Career Of William Howard Taft',\n",
              " 'NASA Launches Paparazzo Rover In Beverly Hills To Search For Signs Of Salacious Celebrity Life',\n",
              " 'Sweat-Soaked Mattress Praying This The Year Couple Invests In Air Conditioner',\n",
              " 'Manipulative Stepmom Only Married Dad So She Could Take Care Of Him Into Old Age',\n",
              " 'Report: There Already 5 Million Players Who Are Better Than You’ll Ever Be At ‘Valorant’',\n",
              " 'Congress Moving Toward Safer Vote-By-Paper-Airplane Option',\n",
              " 'Disgusted Patio Diner Pretty Sure She Just Saw Coronavirus Scurry Into Bushes',\n",
              " '2021 Oscars Postponed 2 Months',\n",
              " 'Entire Oklahoma State Team To Boycott Season After Mike Gundy Seen In NCAA Shirt',\n",
              " 'Scientists Discover Mysterious Radio Transmission From Space That Repeats 50-Minute Intervals Of Nonstop Classic Rock Blocks',\n",
              " '42-Year-Old Man Still Unsure What His Interests Are',\n",
              " 'Supreme Court Rules Federal Law Protects LGBT Workers',\n",
              " '‘More Tranquil Dammit!’ Screams Perfectionist Ambient Sound Producer Demanding Another Take From Babbling Creek',\n",
              " 'Over 500,000 Americans Sign Petition Demanding End To Coronavirus',\n",
              " 'Jeff Bezos Depressed After Realizing Net Worth Still Just Number Known To Man',\n",
              " 'Birch Tree Pictures Nude 4,000-Year-Old Bristlecone Pine To Delay Pollen Release',\n",
              " 'NRA Receives Massive Funding Increase From Donors Held At Gunpoint',\n",
              " 'Passing Lane',\n",
              " 'Heavily Armed Fans Guard Statue Of Yogi Bear In Case It Turns Out He Supported Confederacy',\n",
              " '7-Eleven Cancels Free Slurpee Day',\n",
              " 'William Howard Taft Historian Confident Solution To Nation’s Troubles Can Be Found In Storied Career Of William Howard Taft',\n",
              " 'NASA Launches Paparazzo Rover In Beverly Hills To Search For Signs Of Salacious Celebrity Life',\n",
              " 'Sweat-Soaked Mattress Praying This The Year Couple Invests In Air Conditioner',\n",
              " 'Manipulative Stepmom Only Married Dad So She Could Take Care Of Him Into Old Age',\n",
              " 'Report: There Already 5 Million Players Who Are Better Than You’ll Ever Be At ‘Valorant’',\n",
              " 'Congress Moving Toward Safer Vote-By-Paper-Airplane Option',\n",
              " 'Disgusted Patio Diner Pretty Sure She Just Saw Coronavirus Scurry Into Bushes',\n",
              " '2021 Oscars Postponed 2 Months',\n",
              " 'Entire Oklahoma State Team To Boycott Season After Mike Gundy Seen In NCAA Shirt',\n",
              " 'Scientists Discover Mysterious Radio Transmission From Space That Repeats 50-Minute Intervals Of Nonstop Classic Rock Blocks',\n",
              " '42-Year-Old Man Still Unsure What His Interests Are',\n",
              " 'Supreme Court Rules Federal Law Protects LGBT Workers',\n",
              " '‘More Tranquil Dammit!’ Screams Perfectionist Ambient Sound Producer Demanding Another Take From Babbling Creek',\n",
              " 'Over 500,000 Americans Sign Petition Demanding End To Coronavirus',\n",
              " 'Jeff Bezos Depressed After Realizing Net Worth Still Just Number Known To Man',\n",
              " 'Birch Tree Pictures Nude 4,000-Year-Old Bristlecone Pine To Delay Pollen Release',\n",
              " 'NRA Receives Massive Funding Increase From Donors Held At Gunpoint',\n",
              " 'Passing Lane',\n",
              " 'Heavily Armed Fans Guard Statue Of Yogi Bear In Case It Turns Out He Supported Confederacy',\n",
              " '7-Eleven Cancels Free Slurpee Day',\n",
              " 'William Howard Taft Historian Confident Solution To Nation’s Troubles Can Be Found In Storied Career Of William Howard Taft',\n",
              " 'NASA Launches Paparazzo Rover In Beverly Hills To Search For Signs Of Salacious Celebrity Life',\n",
              " 'Sweat-Soaked Mattress Praying This The Year Couple Invests In Air Conditioner',\n",
              " 'Manipulative Stepmom Only Married Dad So She Could Take Care Of Him Into Old Age',\n",
              " 'Report: There Already 5 Million Players Who Are Better Than You’ll Ever Be At ‘Valorant’',\n",
              " 'Congress Moving Toward Safer Vote-By-Paper-Airplane Option',\n",
              " 'Disgusted Patio Diner Pretty Sure She Just Saw Coronavirus Scurry Into Bushes',\n",
              " '2021 Oscars Postponed 2 Months',\n",
              " 'Entire Oklahoma State Team To Boycott Season After Mike Gundy Seen In NCAA Shirt',\n",
              " 'Scientists Discover Mysterious Radio Transmission From Space That Repeats 50-Minute Intervals Of Nonstop Classic Rock Blocks',\n",
              " '42-Year-Old Man Still Unsure What His Interests Are',\n",
              " 'Supreme Court Rules Federal Law Protects LGBT Workers',\n",
              " '‘More Tranquil Dammit!’ Screams Perfectionist Ambient Sound Producer Demanding Another Take From Babbling Creek',\n",
              " 'Over 500,000 Americans Sign Petition Demanding End To Coronavirus',\n",
              " 'Jeff Bezos Depressed After Realizing Net Worth Still Just Number Known To Man',\n",
              " 'Birch Tree Pictures Nude 4,000-Year-Old Bristlecone Pine To Delay Pollen Release',\n",
              " 'NRA Receives Massive Funding Increase From Donors Held At Gunpoint',\n",
              " 'Passing Lane',\n",
              " 'Heavily Armed Fans Guard Statue Of Yogi Bear In Case It Turns Out He Supported Confederacy',\n",
              " '7-Eleven Cancels Free Slurpee Day',\n",
              " 'William Howard Taft Historian Confident Solution To Nation’s Troubles Can Be Found In Storied Career Of William Howard Taft',\n",
              " 'NASA Launches Paparazzo Rover In Beverly Hills To Search For Signs Of Salacious Celebrity Life',\n",
              " 'Sweat-Soaked Mattress Praying This The Year Couple Invests In Air Conditioner',\n",
              " 'Manipulative Stepmom Only Married Dad So She Could Take Care Of Him Into Old Age',\n",
              " 'Report: There Already 5 Million Players Who Are Better Than You’ll Ever Be At ‘Valorant’',\n",
              " 'Congress Moving Toward Safer Vote-By-Paper-Airplane Option',\n",
              " 'Disgusted Patio Diner Pretty Sure She Just Saw Coronavirus Scurry Into Bushes',\n",
              " '2021 Oscars Postponed 2 Months',\n",
              " 'Entire Oklahoma State Team To Boycott Season After Mike Gundy Seen In NCAA Shirt',\n",
              " 'Scientists Discover Mysterious Radio Transmission From Space That Repeats 50-Minute Intervals Of Nonstop Classic Rock Blocks',\n",
              " '42-Year-Old Man Still Unsure What His Interests Are',\n",
              " 'Supreme Court Rules Federal Law Protects LGBT Workers',\n",
              " '‘More Tranquil Dammit!’ Screams Perfectionist Ambient Sound Producer Demanding Another Take From Babbling Creek',\n",
              " 'Over 500,000 Americans Sign Petition Demanding End To Coronavirus',\n",
              " 'Jeff Bezos Depressed After Realizing Net Worth Still Just Number Known To Man',\n",
              " 'Birch Tree Pictures Nude 4,000-Year-Old Bristlecone Pine To Delay Pollen Release',\n",
              " 'NRA Receives Massive Funding Increase From Donors Held At Gunpoint',\n",
              " 'Passing Lane',\n",
              " 'Heavily Armed Fans Guard Statue Of Yogi Bear In Case It Turns Out He Supported Confederacy',\n",
              " '7-Eleven Cancels Free Slurpee Day',\n",
              " 'William Howard Taft Historian Confident Solution To Nation’s Troubles Can Be Found In Storied Career Of William Howard Taft',\n",
              " 'NASA Launches Paparazzo Rover In Beverly Hills To Search For Signs Of Salacious Celebrity Life',\n",
              " 'Sweat-Soaked Mattress Praying This The Year Couple Invests In Air Conditioner',\n",
              " 'Manipulative Stepmom Only Married Dad So She Could Take Care Of Him Into Old Age',\n",
              " 'Report: There Already 5 Million Players Who Are Better Than You’ll Ever Be At ‘Valorant’',\n",
              " 'Congress Moving Toward Safer Vote-By-Paper-Airplane Option',\n",
              " 'Disgusted Patio Diner Pretty Sure She Just Saw Coronavirus Scurry Into Bushes',\n",
              " '2021 Oscars Postponed 2 Months',\n",
              " 'Entire Oklahoma State Team To Boycott Season After Mike Gundy Seen In NCAA Shirt',\n",
              " 'Scientists Discover Mysterious Radio Transmission From Space That Repeats 50-Minute Intervals Of Nonstop Classic Rock Blocks',\n",
              " '42-Year-Old Man Still Unsure What His Interests Are',\n",
              " 'Supreme Court Rules Federal Law Protects LGBT Workers',\n",
              " '‘More Tranquil Dammit!’ Screams Perfectionist Ambient Sound Producer Demanding Another Take From Babbling Creek',\n",
              " 'Over 500,000 Americans Sign Petition Demanding End To Coronavirus',\n",
              " 'Jeff Bezos Depressed After Realizing Net Worth Still Just Number Known To Man',\n",
              " 'Birch Tree Pictures Nude 4,000-Year-Old Bristlecone Pine To Delay Pollen Release',\n",
              " 'NRA Receives Massive Funding Increase From Donors Held At Gunpoint',\n",
              " 'Passing Lane',\n",
              " 'Heavily Armed Fans Guard Statue Of Yogi Bear In Case It Turns Out He Supported Confederacy',\n",
              " '7-Eleven Cancels Free Slurpee Day',\n",
              " 'William Howard Taft Historian Confident Solution To Nation’s Troubles Can Be Found In Storied Career Of William Howard Taft',\n",
              " 'NASA Launches Paparazzo Rover In Beverly Hills To Search For Signs Of Salacious Celebrity Life',\n",
              " 'Sweat-Soaked Mattress Praying This The Year Couple Invests In Air Conditioner',\n",
              " 'Manipulative Stepmom Only Married Dad So She Could Take Care Of Him Into Old Age',\n",
              " 'Report: There Already 5 Million Players Who Are Better Than You’ll Ever Be At ‘Valorant’',\n",
              " 'Congress Moving Toward Safer Vote-By-Paper-Airplane Option',\n",
              " 'Disgusted Patio Diner Pretty Sure She Just Saw Coronavirus Scurry Into Bushes',\n",
              " '2021 Oscars Postponed 2 Months',\n",
              " 'Entire Oklahoma State Team To Boycott Season After Mike Gundy Seen In NCAA Shirt',\n",
              " 'Scientists Discover Mysterious Radio Transmission From Space That Repeats 50-Minute Intervals Of Nonstop Classic Rock Blocks',\n",
              " '42-Year-Old Man Still Unsure What His Interests Are',\n",
              " 'Supreme Court Rules Federal Law Protects LGBT Workers',\n",
              " '‘More Tranquil Dammit!’ Screams Perfectionist Ambient Sound Producer Demanding Another Take From Babbling Creek',\n",
              " 'Over 500,000 Americans Sign Petition Demanding End To Coronavirus',\n",
              " 'Jeff Bezos Depressed After Realizing Net Worth Still Just Number Known To Man',\n",
              " 'Birch Tree Pictures Nude 4,000-Year-Old Bristlecone Pine To Delay Pollen Release',\n",
              " 'NRA Receives Massive Funding Increase From Donors Held At Gunpoint',\n",
              " 'Passing Lane',\n",
              " 'Heavily Armed Fans Guard Statue Of Yogi Bear In Case It Turns Out He Supported Confederacy',\n",
              " '7-Eleven Cancels Free Slurpee Day',\n",
              " 'William Howard Taft Historian Confident Solution To Nation’s Troubles Can Be Found In Storied Career Of William Howard Taft',\n",
              " 'NASA Launches Paparazzo Rover In Beverly Hills To Search For Signs Of Salacious Celebrity Life',\n",
              " 'Sweat-Soaked Mattress Praying This The Year Couple Invests In Air Conditioner',\n",
              " 'Manipulative Stepmom Only Married Dad So She Could Take Care Of Him Into Old Age',\n",
              " 'Report: There Already 5 Million Players Who Are Better Than You’ll Ever Be At ‘Valorant’',\n",
              " 'Congress Moving Toward Safer Vote-By-Paper-Airplane Option',\n",
              " 'Disgusted Patio Diner Pretty Sure She Just Saw Coronavirus Scurry Into Bushes',\n",
              " '2021 Oscars Postponed 2 Months',\n",
              " 'Entire Oklahoma State Team To Boycott Season After Mike Gundy Seen In NCAA Shirt',\n",
              " 'Scientists Discover Mysterious Radio Transmission From Space That Repeats 50-Minute Intervals Of Nonstop Classic Rock Blocks',\n",
              " '42-Year-Old Man Still Unsure What His Interests Are',\n",
              " 'Supreme Court Rules Federal Law Protects LGBT Workers',\n",
              " '‘More Tranquil Dammit!’ Screams Perfectionist Ambient Sound Producer Demanding Another Take From Babbling Creek',\n",
              " 'Over 500,000 Americans Sign Petition Demanding End To Coronavirus',\n",
              " 'Jeff Bezos Depressed After Realizing Net Worth Still Just Number Known To Man',\n",
              " 'Birch Tree Pictures Nude 4,000-Year-Old Bristlecone Pine To Delay Pollen Release',\n",
              " 'NRA Receives Massive Funding Increase From Donors Held At Gunpoint',\n",
              " 'Passing Lane',\n",
              " 'Heavily Armed Fans Guard Statue Of Yogi Bear In Case It Turns Out He Supported Confederacy',\n",
              " '7-Eleven Cancels Free Slurpee Day',\n",
              " 'William Howard Taft Historian Confident Solution To Nation’s Troubles Can Be Found In Storied Career Of William Howard Taft',\n",
              " 'NASA Launches Paparazzo Rover In Beverly Hills To Search For Signs Of Salacious Celebrity Life',\n",
              " 'Sweat-Soaked Mattress Praying This The Year Couple Invests In Air Conditioner',\n",
              " 'Manipulative Stepmom Only Married Dad So She Could Take Care Of Him Into Old Age',\n",
              " 'Report: There Already 5 Million Players Who Are Better Than You’ll Ever Be At ‘Valorant’',\n",
              " 'Congress Moving Toward Safer Vote-By-Paper-Airplane Option',\n",
              " 'Disgusted Patio Diner Pretty Sure She Just Saw Coronavirus Scurry Into Bushes',\n",
              " '2021 Oscars Postponed 2 Months',\n",
              " 'Entire Oklahoma State Team To Boycott Season After Mike Gundy Seen In NCAA Shirt',\n",
              " 'Scientists Discover Mysterious Radio Transmission From Space That Repeats 50-Minute Intervals Of Nonstop Classic Rock Blocks',\n",
              " '42-Year-Old Man Still Unsure What His Interests Are',\n",
              " 'Supreme Court Rules Federal Law Protects LGBT Workers',\n",
              " '‘More Tranquil Dammit!’ Screams Perfectionist Ambient Sound Producer Demanding Another Take From Babbling Creek',\n",
              " 'Over 500,000 Americans Sign Petition Demanding End To Coronavirus',\n",
              " 'Jeff Bezos Depressed After Realizing Net Worth Still Just Number Known To Man',\n",
              " 'Birch Tree Pictures Nude 4,000-Year-Old Bristlecone Pine To Delay Pollen Release',\n",
              " 'NRA Receives Massive Funding Increase From Donors Held At Gunpoint',\n",
              " 'Passing Lane',\n",
              " ...]"
            ]
          },
          "metadata": {
            "tags": []
          },
          "execution_count": 105
        }
      ]
    },
    {
      "cell_type": "code",
      "metadata": {
        "id": "7-3sr9jFAsc6",
        "colab_type": "code",
        "colab": {
          "base_uri": "https://localhost:8080/",
          "height": 54
        },
        "outputId": "5b2dc378-3730-42e5-ffed-363c2e8e7ba9"
      },
      "source": [
        "is_sarcasm = [1]*2000\n",
        "print(is_sarcasm)"
      ],
      "execution_count": 107,
      "outputs": [
        {
          "output_type": "stream",
          "text": [
            "[1, 1, 1, 1, 1, 1, 1, 1, 1, 1, 1, 1, 1, 1, 1, 1, 1, 1, 1, 1, 1, 1, 1, 1, 1, 1, 1, 1, 1, 1, 1, 1, 1, 1, 1, 1, 1, 1, 1, 1, 1, 1, 1, 1, 1, 1, 1, 1, 1, 1, 1, 1, 1, 1, 1, 1, 1, 1, 1, 1, 1, 1, 1, 1, 1, 1, 1, 1, 1, 1, 1, 1, 1, 1, 1, 1, 1, 1, 1, 1, 1, 1, 1, 1, 1, 1, 1, 1, 1, 1, 1, 1, 1, 1, 1, 1, 1, 1, 1, 1, 1, 1, 1, 1, 1, 1, 1, 1, 1, 1, 1, 1, 1, 1, 1, 1, 1, 1, 1, 1, 1, 1, 1, 1, 1, 1, 1, 1, 1, 1, 1, 1, 1, 1, 1, 1, 1, 1, 1, 1, 1, 1, 1, 1, 1, 1, 1, 1, 1, 1, 1, 1, 1, 1, 1, 1, 1, 1, 1, 1, 1, 1, 1, 1, 1, 1, 1, 1, 1, 1, 1, 1, 1, 1, 1, 1, 1, 1, 1, 1, 1, 1, 1, 1, 1, 1, 1, 1, 1, 1, 1, 1, 1, 1, 1, 1, 1, 1, 1, 1, 1, 1, 1, 1, 1, 1, 1, 1, 1, 1, 1, 1, 1, 1, 1, 1, 1, 1, 1, 1, 1, 1, 1, 1, 1, 1, 1, 1, 1, 1, 1, 1, 1, 1, 1, 1, 1, 1, 1, 1, 1, 1, 1, 1, 1, 1, 1, 1, 1, 1, 1, 1, 1, 1, 1, 1, 1, 1, 1, 1, 1, 1, 1, 1, 1, 1, 1, 1, 1, 1, 1, 1, 1, 1, 1, 1, 1, 1, 1, 1, 1, 1, 1, 1, 1, 1, 1, 1, 1, 1, 1, 1, 1, 1, 1, 1, 1, 1, 1, 1, 1, 1, 1, 1, 1, 1, 1, 1, 1, 1, 1, 1, 1, 1, 1, 1, 1, 1, 1, 1, 1, 1, 1, 1, 1, 1, 1, 1, 1, 1, 1, 1, 1, 1, 1, 1, 1, 1, 1, 1, 1, 1, 1, 1, 1, 1, 1, 1, 1, 1, 1, 1, 1, 1, 1, 1, 1, 1, 1, 1, 1, 1, 1, 1, 1, 1, 1, 1, 1, 1, 1, 1, 1, 1, 1, 1, 1, 1, 1, 1, 1, 1, 1, 1, 1, 1, 1, 1, 1, 1, 1, 1, 1, 1, 1, 1, 1, 1, 1, 1, 1, 1, 1, 1, 1, 1, 1, 1, 1, 1, 1, 1, 1, 1, 1, 1, 1, 1, 1, 1, 1, 1, 1, 1, 1, 1, 1, 1, 1, 1, 1, 1, 1, 1, 1, 1, 1, 1, 1, 1, 1, 1, 1, 1, 1, 1, 1, 1, 1, 1, 1, 1, 1, 1, 1, 1, 1, 1, 1, 1, 1, 1, 1, 1, 1, 1, 1, 1, 1, 1, 1, 1, 1, 1, 1, 1, 1, 1, 1, 1, 1, 1, 1, 1, 1, 1, 1, 1, 1, 1, 1, 1, 1, 1, 1, 1, 1, 1, 1, 1, 1, 1, 1, 1, 1, 1, 1, 1, 1, 1, 1, 1, 1, 1, 1, 1, 1, 1, 1, 1, 1, 1, 1, 1, 1, 1, 1, 1, 1, 1, 1, 1, 1, 1, 1, 1, 1, 1, 1, 1, 1, 1, 1, 1, 1, 1, 1, 1, 1, 1, 1, 1, 1, 1, 1, 1, 1, 1, 1, 1, 1, 1, 1, 1, 1, 1, 1, 1, 1, 1, 1, 1, 1, 1, 1, 1, 1, 1, 1, 1, 1, 1, 1, 1, 1, 1, 1, 1, 1, 1, 1, 1, 1, 1, 1, 1, 1, 1, 1, 1, 1, 1, 1, 1, 1, 1, 1, 1, 1, 1, 1, 1, 1, 1, 1, 1, 1, 1, 1, 1, 1, 1, 1, 1, 1, 1, 1, 1, 1, 1, 1, 1, 1, 1, 1, 1, 1, 1, 1, 1, 1, 1, 1, 1, 1, 1, 1, 1, 1, 1, 1, 1, 1, 1, 1, 1, 1, 1, 1, 1, 1, 1, 1, 1, 1, 1, 1, 1, 1, 1, 1, 1, 1, 1, 1, 1, 1, 1, 1, 1, 1, 1, 1, 1, 1, 1, 1, 1, 1, 1, 1, 1, 1, 1, 1, 1, 1, 1, 1, 1, 1, 1, 1, 1, 1, 1, 1, 1, 1, 1, 1, 1, 1, 1, 1, 1, 1, 1, 1, 1, 1, 1, 1, 1, 1, 1, 1, 1, 1, 1, 1, 1, 1, 1, 1, 1, 1, 1, 1, 1, 1, 1, 1, 1, 1, 1, 1, 1, 1, 1, 1, 1, 1, 1, 1, 1, 1, 1, 1, 1, 1, 1, 1, 1, 1, 1, 1, 1, 1, 1, 1, 1, 1, 1, 1, 1, 1, 1, 1, 1, 1, 1, 1, 1, 1, 1, 1, 1, 1, 1, 1, 1, 1, 1, 1, 1, 1, 1, 1, 1, 1, 1, 1, 1, 1, 1, 1, 1, 1, 1, 1, 1, 1, 1, 1, 1, 1, 1, 1, 1, 1, 1, 1, 1, 1, 1, 1, 1, 1, 1, 1, 1, 1, 1, 1, 1, 1, 1, 1, 1, 1, 1, 1, 1, 1, 1, 1, 1, 1, 1, 1, 1, 1, 1, 1, 1, 1, 1, 1, 1, 1, 1, 1, 1, 1, 1, 1, 1, 1, 1, 1, 1, 1, 1, 1, 1, 1, 1, 1, 1, 1, 1, 1, 1, 1, 1, 1, 1, 1, 1, 1, 1, 1, 1, 1, 1, 1, 1, 1, 1, 1, 1, 1, 1, 1, 1, 1, 1, 1, 1, 1, 1, 1, 1, 1, 1, 1, 1, 1, 1, 1, 1, 1, 1, 1, 1, 1, 1, 1, 1, 1, 1, 1, 1, 1, 1, 1, 1, 1, 1, 1, 1, 1, 1, 1, 1, 1, 1, 1, 1, 1, 1, 1, 1, 1, 1, 1, 1, 1, 1, 1, 1, 1, 1, 1, 1, 1, 1, 1, 1, 1, 1, 1, 1, 1, 1, 1, 1, 1, 1, 1, 1, 1, 1, 1, 1, 1, 1, 1, 1, 1, 1, 1, 1, 1, 1, 1, 1, 1, 1, 1, 1, 1, 1, 1, 1, 1, 1, 1, 1, 1, 1, 1, 1, 1, 1, 1, 1, 1, 1, 1, 1, 1, 1, 1, 1, 1, 1, 1, 1, 1, 1, 1, 1, 1, 1, 1, 1, 1, 1, 1, 1, 1, 1, 1, 1, 1, 1, 1, 1, 1, 1, 1, 1, 1, 1, 1, 1, 1, 1, 1, 1, 1, 1, 1, 1, 1, 1, 1, 1, 1, 1, 1, 1, 1, 1, 1, 1, 1, 1, 1, 1, 1, 1, 1, 1, 1, 1, 1, 1, 1, 1, 1, 1, 1, 1, 1, 1, 1, 1, 1, 1, 1, 1, 1, 1, 1, 1, 1, 1, 1, 1, 1, 1, 1, 1, 1, 1, 1, 1, 1, 1, 1, 1, 1, 1, 1, 1, 1, 1, 1, 1, 1, 1, 1, 1, 1, 1, 1, 1, 1, 1, 1, 1, 1, 1, 1, 1, 1, 1, 1, 1, 1, 1, 1, 1, 1, 1, 1, 1, 1, 1, 1, 1, 1, 1, 1, 1, 1, 1, 1, 1, 1, 1, 1, 1, 1, 1, 1, 1, 1, 1, 1, 1, 1, 1, 1, 1, 1, 1, 1, 1, 1, 1, 1, 1, 1, 1, 1, 1, 1, 1, 1, 1, 1, 1, 1, 1, 1, 1, 1, 1, 1, 1, 1, 1, 1, 1, 1, 1, 1, 1, 1, 1, 1, 1, 1, 1, 1, 1, 1, 1, 1, 1, 1, 1, 1, 1, 1, 1, 1, 1, 1, 1, 1, 1, 1, 1, 1, 1, 1, 1, 1, 1, 1, 1, 1, 1, 1, 1, 1, 1, 1, 1, 1, 1, 1, 1, 1, 1, 1, 1, 1, 1, 1, 1, 1, 1, 1, 1, 1, 1, 1, 1, 1, 1, 1, 1, 1, 1, 1, 1, 1, 1, 1, 1, 1, 1, 1, 1, 1, 1, 1, 1, 1, 1, 1, 1, 1, 1, 1, 1, 1, 1, 1, 1, 1, 1, 1, 1, 1, 1, 1, 1, 1, 1, 1, 1, 1, 1, 1, 1, 1, 1, 1, 1, 1, 1, 1, 1, 1, 1, 1, 1, 1, 1, 1, 1, 1, 1, 1, 1, 1, 1, 1, 1, 1, 1, 1, 1, 1, 1, 1, 1, 1, 1, 1, 1, 1, 1, 1, 1, 1, 1, 1, 1, 1, 1, 1, 1, 1, 1, 1, 1, 1, 1, 1, 1, 1, 1, 1, 1, 1, 1, 1, 1, 1, 1, 1, 1, 1, 1, 1, 1, 1, 1, 1, 1, 1, 1, 1, 1, 1, 1, 1, 1, 1, 1, 1, 1, 1, 1, 1, 1, 1, 1, 1, 1, 1, 1, 1, 1, 1, 1, 1, 1, 1, 1, 1, 1, 1, 1, 1, 1, 1, 1, 1, 1, 1, 1, 1, 1, 1, 1, 1, 1, 1, 1, 1, 1, 1, 1, 1, 1, 1, 1, 1, 1, 1, 1, 1, 1, 1, 1, 1, 1, 1, 1, 1, 1, 1, 1, 1, 1, 1, 1, 1, 1, 1, 1, 1, 1, 1, 1, 1, 1, 1, 1, 1, 1, 1, 1, 1, 1, 1, 1, 1, 1, 1, 1, 1, 1, 1, 1, 1, 1, 1, 1, 1, 1, 1, 1, 1, 1, 1, 1, 1, 1, 1, 1, 1, 1, 1, 1, 1, 1, 1, 1, 1, 1, 1, 1, 1, 1, 1, 1, 1, 1, 1, 1, 1, 1, 1, 1, 1, 1, 1, 1, 1, 1, 1, 1, 1, 1, 1, 1, 1, 1, 1, 1, 1, 1, 1, 1, 1, 1, 1, 1, 1, 1, 1, 1, 1, 1, 1, 1, 1, 1, 1, 1, 1, 1, 1, 1, 1, 1, 1, 1, 1, 1, 1, 1, 1, 1, 1, 1, 1, 1, 1, 1, 1, 1, 1, 1, 1, 1, 1, 1, 1, 1, 1, 1, 1, 1, 1, 1, 1, 1, 1, 1, 1, 1, 1, 1, 1, 1, 1, 1, 1, 1, 1, 1, 1, 1, 1, 1, 1, 1, 1, 1, 1, 1, 1, 1, 1, 1, 1, 1, 1, 1, 1, 1, 1, 1, 1, 1, 1, 1, 1, 1, 1, 1, 1, 1, 1, 1, 1, 1, 1, 1, 1, 1, 1, 1, 1, 1, 1, 1, 1, 1, 1, 1, 1, 1, 1, 1, 1, 1, 1, 1, 1, 1, 1, 1, 1, 1, 1, 1, 1, 1, 1, 1, 1, 1, 1, 1, 1, 1, 1, 1, 1, 1, 1, 1, 1, 1, 1, 1, 1, 1, 1, 1, 1, 1, 1, 1, 1, 1, 1, 1, 1, 1, 1, 1, 1, 1, 1, 1, 1, 1, 1, 1, 1, 1, 1, 1, 1, 1, 1, 1, 1, 1, 1, 1, 1, 1, 1, 1, 1, 1, 1, 1, 1, 1, 1, 1, 1, 1, 1, 1, 1, 1, 1, 1, 1, 1, 1, 1, 1, 1, 1, 1, 1, 1, 1, 1, 1, 1, 1, 1, 1, 1, 1, 1, 1, 1, 1, 1, 1, 1, 1, 1, 1, 1, 1, 1, 1, 1, 1, 1, 1, 1, 1, 1, 1, 1, 1, 1, 1, 1, 1, 1, 1, 1, 1, 1, 1, 1, 1, 1, 1, 1, 1, 1, 1, 1, 1, 1, 1, 1, 1, 1, 1, 1, 1, 1, 1, 1, 1, 1, 1, 1, 1, 1, 1, 1, 1, 1, 1, 1, 1, 1, 1, 1, 1, 1, 1, 1, 1, 1, 1, 1, 1, 1, 1, 1, 1, 1, 1, 1, 1, 1, 1, 1, 1, 1, 1, 1, 1, 1, 1, 1, 1, 1, 1, 1, 1, 1, 1, 1, 1, 1, 1, 1, 1, 1, 1, 1, 1, 1, 1, 1, 1, 1, 1, 1, 1, 1, 1, 1, 1, 1, 1, 1, 1, 1, 1, 1, 1, 1, 1, 1, 1, 1, 1, 1, 1, 1, 1, 1, 1, 1, 1, 1, 1, 1, 1, 1, 1, 1, 1, 1, 1, 1, 1, 1, 1, 1, 1, 1, 1, 1, 1, 1, 1, 1, 1, 1, 1, 1, 1, 1, 1, 1, 1, 1, 1, 1, 1, 1, 1, 1, 1, 1, 1, 1, 1, 1, 1, 1]\n"
          ],
          "name": "stdout"
        }
      ]
    },
    {
      "cell_type": "code",
      "metadata": {
        "id": "riFUbip_Azgt",
        "colab_type": "code",
        "colab": {
          "base_uri": "https://localhost:8080/",
          "height": 419
        },
        "outputId": "81161421-c20e-4054-b993-70e58d8b705f"
      },
      "source": [
        "data = pd.DataFrame({'headline': data, 'is_sarcasm': is_sarcasm})\n",
        "data"
      ],
      "execution_count": 108,
      "outputs": [
        {
          "output_type": "execute_result",
          "data": {
            "text/html": [
              "<div>\n",
              "<style scoped>\n",
              "    .dataframe tbody tr th:only-of-type {\n",
              "        vertical-align: middle;\n",
              "    }\n",
              "\n",
              "    .dataframe tbody tr th {\n",
              "        vertical-align: top;\n",
              "    }\n",
              "\n",
              "    .dataframe thead th {\n",
              "        text-align: right;\n",
              "    }\n",
              "</style>\n",
              "<table border=\"1\" class=\"dataframe\">\n",
              "  <thead>\n",
              "    <tr style=\"text-align: right;\">\n",
              "      <th></th>\n",
              "      <th>headline</th>\n",
              "      <th>is_sarcasm</th>\n",
              "    </tr>\n",
              "  </thead>\n",
              "  <tbody>\n",
              "    <tr>\n",
              "      <th>0</th>\n",
              "      <td>Mental Health Experts Advise On Best Ways To C...</td>\n",
              "      <td>1</td>\n",
              "    </tr>\n",
              "    <tr>\n",
              "      <th>1</th>\n",
              "      <td>The Onion’s Father’s Day Gift Guide For The Da...</td>\n",
              "      <td>1</td>\n",
              "    </tr>\n",
              "    <tr>\n",
              "      <th>2</th>\n",
              "      <td>Staples Center Employee Realizes He Left Shot ...</td>\n",
              "      <td>1</td>\n",
              "    </tr>\n",
              "    <tr>\n",
              "      <th>3</th>\n",
              "      <td>Father’s Day Gifts That Will Make Your Dad Fee...</td>\n",
              "      <td>1</td>\n",
              "    </tr>\n",
              "    <tr>\n",
              "      <th>4</th>\n",
              "      <td>Huh, Boyfriend’s Ex Just Made Interesting Hair...</td>\n",
              "      <td>1</td>\n",
              "    </tr>\n",
              "    <tr>\n",
              "      <th>...</th>\n",
              "      <td>...</td>\n",
              "      <td>...</td>\n",
              "    </tr>\n",
              "    <tr>\n",
              "      <th>1995</th>\n",
              "      <td>Over 500,000 Americans Sign Petition Demanding...</td>\n",
              "      <td>1</td>\n",
              "    </tr>\n",
              "    <tr>\n",
              "      <th>1996</th>\n",
              "      <td>Jeff Bezos Depressed After Realizing Net Worth...</td>\n",
              "      <td>1</td>\n",
              "    </tr>\n",
              "    <tr>\n",
              "      <th>1997</th>\n",
              "      <td>Birch Tree Pictures Nude 4,000-Year-Old Bristl...</td>\n",
              "      <td>1</td>\n",
              "    </tr>\n",
              "    <tr>\n",
              "      <th>1998</th>\n",
              "      <td>NRA Receives Massive Funding Increase From Don...</td>\n",
              "      <td>1</td>\n",
              "    </tr>\n",
              "    <tr>\n",
              "      <th>1999</th>\n",
              "      <td>Passing Lane</td>\n",
              "      <td>1</td>\n",
              "    </tr>\n",
              "  </tbody>\n",
              "</table>\n",
              "<p>2000 rows × 2 columns</p>\n",
              "</div>"
            ],
            "text/plain": [
              "                                               headline  is_sarcasm\n",
              "0     Mental Health Experts Advise On Best Ways To C...           1\n",
              "1     The Onion’s Father’s Day Gift Guide For The Da...           1\n",
              "2     Staples Center Employee Realizes He Left Shot ...           1\n",
              "3     Father’s Day Gifts That Will Make Your Dad Fee...           1\n",
              "4     Huh, Boyfriend’s Ex Just Made Interesting Hair...           1\n",
              "...                                                 ...         ...\n",
              "1995  Over 500,000 Americans Sign Petition Demanding...           1\n",
              "1996  Jeff Bezos Depressed After Realizing Net Worth...           1\n",
              "1997  Birch Tree Pictures Nude 4,000-Year-Old Bristl...           1\n",
              "1998  NRA Receives Massive Funding Increase From Don...           1\n",
              "1999                                       Passing Lane           1\n",
              "\n",
              "[2000 rows x 2 columns]"
            ]
          },
          "metadata": {
            "tags": []
          },
          "execution_count": 108
        }
      ]
    }
  ]
}
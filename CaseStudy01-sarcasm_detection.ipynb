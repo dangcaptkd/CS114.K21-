{
  "nbformat": 4,
  "nbformat_minor": 0,
  "metadata": {
    "colab": {
      "name": "sarcasm detection.ipynb",
      "provenance": [],
      "toc_visible": true,
      "authorship_tag": "ABX9TyOC217FaTxwfx5UycHg0+xC",
      "include_colab_link": true
    },
    "kernelspec": {
      "name": "python3",
      "display_name": "Python 3"
    },
    "accelerator": "GPU"
  },
  "cells": [
    {
      "cell_type": "markdown",
      "metadata": {
        "id": "view-in-github",
        "colab_type": "text"
      },
      "source": [
        "<a href=\"https://colab.research.google.com/github/dangcaptkd/CS114.K21-/blob/master/CaseStudy01-sarcasm_detection.ipynb\" target=\"_parent\"><img src=\"https://colab.research.google.com/assets/colab-badge.svg\" alt=\"Open In Colab\"/></a>"
      ]
    },
    {
      "cell_type": "markdown",
      "metadata": {
        "id": "KX_2DDpenlIY",
        "colab_type": "text"
      },
      "source": [
        "**Sarcasm detection**\n",
        "\n",
        "**Nhóm**\n",
        "1.   Nguyễn Thịnh Quyền - 18521322\n",
        "2.   Lê Đoàn Nhật Minh - 18521011\n",
        "3.   Võ Huy Khôi - 18520949\n",
        "\n",
        "**Bài toán**\n",
        "\n",
        "Dự đoán 1 headline có phải là tin chấm biếm hay không?\n",
        "\n",
        "Bài toàn thuộc dạng Binary-Classification\n",
        "\n",
        "**Data train**\n",
        "  *   Data train được lấy từ kaggle: News Headlines Dataset For Sarcasm Detection\n",
        "  *   Dataset-train gồm:\n",
        "    *   is_sarcastic: là 1 nếu là sarcasm ngược lại là 0\n",
        "    *   headline: tiêu đề\n",
        "    *   article_link: link của article\n",
        "  *   Chia data train test theo tỉ lệ 9/1 (2670 headline để test, 24039 headline để train)\n",
        "\n",
        "\n",
        "**Các kĩ thuật xử lý data**\n",
        "\n",
        "  * Regular Expression: loại bỏ các kí tự không cần thiết. Ex: don't ---> don t\n",
        "  * Stemming data: đưa các từ về hình thức gốc của nó. Ex: loved---> love\n",
        "  * TF-IDF (Term frequency-Inverse document frequency): \n",
        "    * TF: là số lần xuất hiện của từ đó trong văn bản\n",
        "    * IDF: Tần số nghịch của 1 từ trong tập văn bản \n",
        "    * tfidf = TF*IDF, những từ có tần số ifidf cao là những từ xuất hiện nhiều trong văn bản này, và xuất hiện ít trong các văn bản khác. Việc này giúp lọc ra những từ phổ biến và giữ lại những từ có giá trị cao (từ khoá của văn bản đó).\n",
        "\n",
        "**Sử dụng model**\n",
        "\n",
        "1.   LinearSVC\n",
        "2.   GausinanNB\n",
        "3.   LogisticRegression\n",
        "4.   DecisionTreeClassifier\n",
        "5.   RandomForestClassifier\n",
        "\n",
        "\n",
        "\n",
        "**Data test**\n",
        "\n",
        "\n",
        "*   Sử dụng thư viện BeautifulSoup để crawl data từ 2 trang web: the Onion và CNN\n",
        "*   1500 headlines cho mỗi label\n",
        "\n",
        "\n",
        "\n",
        "\n",
        "\n",
        "\n",
        "\n",
        "\n",
        "\n",
        "\n"
      ]
    },
    {
      "cell_type": "markdown",
      "metadata": {
        "id": "hAL1RKfd5j15",
        "colab_type": "text"
      },
      "source": [
        "Lấy data từ kaggle!\n",
        "\n"
      ]
    },
    {
      "cell_type": "code",
      "metadata": {
        "id": "Y03UP2vU0N4u",
        "colab_type": "code",
        "colab": {
          "resources": {
            "http://localhost:8080/nbextensions/google.colab/files.js": {
              "data": "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",
              "ok": true,
              "headers": [
                [
                  "content-type",
                  "application/javascript"
                ]
              ],
              "status": 200,
              "status_text": ""
            }
          },
          "base_uri": "https://localhost:8080/",
          "height": 89
        },
        "outputId": "da6ef83a-b778-4071-b07c-e68e939a3ee5"
      },
      "source": [
        "from google.colab import files\n",
        "files.upload()"
      ],
      "execution_count": 1,
      "outputs": [
        {
          "output_type": "display_data",
          "data": {
            "text/html": [
              "\n",
              "     <input type=\"file\" id=\"files-66d7d0e5-073e-4a4f-831a-ab9c6b80df5a\" name=\"files[]\" multiple disabled\n",
              "        style=\"border:none\" />\n",
              "     <output id=\"result-66d7d0e5-073e-4a4f-831a-ab9c6b80df5a\">\n",
              "      Upload widget is only available when the cell has been executed in the\n",
              "      current browser session. Please rerun this cell to enable.\n",
              "      </output>\n",
              "      <script src=\"/nbextensions/google.colab/files.js\"></script> "
            ],
            "text/plain": [
              "<IPython.core.display.HTML object>"
            ]
          },
          "metadata": {
            "tags": []
          }
        },
        {
          "output_type": "stream",
          "text": [
            "Saving kaggle.json to kaggle.json\n"
          ],
          "name": "stdout"
        },
        {
          "output_type": "execute_result",
          "data": {
            "text/plain": [
              "{'kaggle.json': b'{\"username\":\"quyennguyenthinh\",\"key\":\"52c200c7cee98c6a1dd7c6433c61afd8\"}'}"
            ]
          },
          "metadata": {
            "tags": []
          },
          "execution_count": 1
        }
      ]
    },
    {
      "cell_type": "code",
      "metadata": {
        "id": "EuH8QBhq1Rd3",
        "colab_type": "code",
        "colab": {}
      },
      "source": [
        "#!ls -lha kaggle.json\n",
        "!pip install -q kaggle\n",
        "!mkdir -p ~/.kaggle\n",
        "!cp kaggle.json ~/.kaggle/\n",
        "!chmod 600 ~/.kaggle/kaggle.json"
      ],
      "execution_count": 2,
      "outputs": []
    },
    {
      "cell_type": "code",
      "metadata": {
        "id": "5-y8b1oh1ixW",
        "colab_type": "code",
        "colab": {
          "base_uri": "https://localhost:8080/",
          "height": 68
        },
        "outputId": "ced164c6-757b-449f-d7ce-aa085f949403"
      },
      "source": [
        "!kaggle datasets download -d rmisra/news-headlines-dataset-for-sarcasm-detection"
      ],
      "execution_count": 3,
      "outputs": [
        {
          "output_type": "stream",
          "text": [
            "Downloading news-headlines-dataset-for-sarcasm-detection.zip to /content\n",
            "\r  0% 0.00/3.30M [00:00<?, ?B/s]\n",
            "\r100% 3.30M/3.30M [00:00<00:00, 112MB/s]\n"
          ],
          "name": "stdout"
        }
      ]
    },
    {
      "cell_type": "code",
      "metadata": {
        "id": "DeGFLsYL2Jb4",
        "colab_type": "code",
        "colab": {
          "base_uri": "https://localhost:8080/",
          "height": 68
        },
        "outputId": "8779cc0d-cf01-4d43-fc05-c24710e5057f"
      },
      "source": [
        "!unzip news-headlines-dataset-for-sarcasm-detection"
      ],
      "execution_count": 4,
      "outputs": [
        {
          "output_type": "stream",
          "text": [
            "Archive:  news-headlines-dataset-for-sarcasm-detection.zip\n",
            "  inflating: Sarcasm_Headlines_Dataset.json  \n",
            "  inflating: Sarcasm_Headlines_Dataset_v2.json  \n"
          ],
          "name": "stdout"
        }
      ]
    },
    {
      "cell_type": "markdown",
      "metadata": {
        "id": "n6tsgE_R6PgV",
        "colab_type": "text"
      },
      "source": [
        "# Load,show, check, pre-processing, training and testing data\n",
        "#(regular expression, steming, TF-IDF Vectorizer)"
      ]
    },
    {
      "cell_type": "code",
      "metadata": {
        "id": "GlZtMitl2VES",
        "colab_type": "code",
        "colab": {}
      },
      "source": [
        "import pandas as pd\n",
        "import numpy as np\n",
        "import re\n",
        "from nltk.stem.porter import PorterStemmer\n",
        "from sklearn.feature_extraction.text import TfidfVectorizer"
      ],
      "execution_count": 5,
      "outputs": []
    },
    {
      "cell_type": "markdown",
      "metadata": {
        "id": "53PN0dBQ7zl_",
        "colab_type": "text"
      },
      "source": [
        "load data from jason file"
      ]
    },
    {
      "cell_type": "code",
      "metadata": {
        "id": "ixAGsowx2lyl",
        "colab_type": "code",
        "colab": {}
      },
      "source": [
        "data = pd.read_json('Sarcasm_Headlines_Dataset.json', lines = True)"
      ],
      "execution_count": 6,
      "outputs": []
    },
    {
      "cell_type": "markdown",
      "metadata": {
        "id": "YE6e02-u76iA",
        "colab_type": "text"
      },
      "source": [
        "show data"
      ]
    },
    {
      "cell_type": "code",
      "metadata": {
        "id": "DTEVqLRw2_Fy",
        "colab_type": "code",
        "colab": {
          "base_uri": "https://localhost:8080/",
          "height": 419
        },
        "outputId": "ae5e62e7-66dd-4d4d-bf3f-ca8cdf554dcc"
      },
      "source": [
        "data"
      ],
      "execution_count": 7,
      "outputs": [
        {
          "output_type": "execute_result",
          "data": {
            "text/html": [
              "<div>\n",
              "<style scoped>\n",
              "    .dataframe tbody tr th:only-of-type {\n",
              "        vertical-align: middle;\n",
              "    }\n",
              "\n",
              "    .dataframe tbody tr th {\n",
              "        vertical-align: top;\n",
              "    }\n",
              "\n",
              "    .dataframe thead th {\n",
              "        text-align: right;\n",
              "    }\n",
              "</style>\n",
              "<table border=\"1\" class=\"dataframe\">\n",
              "  <thead>\n",
              "    <tr style=\"text-align: right;\">\n",
              "      <th></th>\n",
              "      <th>article_link</th>\n",
              "      <th>headline</th>\n",
              "      <th>is_sarcastic</th>\n",
              "    </tr>\n",
              "  </thead>\n",
              "  <tbody>\n",
              "    <tr>\n",
              "      <th>0</th>\n",
              "      <td>https://www.huffingtonpost.com/entry/versace-b...</td>\n",
              "      <td>former versace store clerk sues over secret 'b...</td>\n",
              "      <td>0</td>\n",
              "    </tr>\n",
              "    <tr>\n",
              "      <th>1</th>\n",
              "      <td>https://www.huffingtonpost.com/entry/roseanne-...</td>\n",
              "      <td>the 'roseanne' revival catches up to our thorn...</td>\n",
              "      <td>0</td>\n",
              "    </tr>\n",
              "    <tr>\n",
              "      <th>2</th>\n",
              "      <td>https://local.theonion.com/mom-starting-to-fea...</td>\n",
              "      <td>mom starting to fear son's web series closest ...</td>\n",
              "      <td>1</td>\n",
              "    </tr>\n",
              "    <tr>\n",
              "      <th>3</th>\n",
              "      <td>https://politics.theonion.com/boehner-just-wan...</td>\n",
              "      <td>boehner just wants wife to listen, not come up...</td>\n",
              "      <td>1</td>\n",
              "    </tr>\n",
              "    <tr>\n",
              "      <th>4</th>\n",
              "      <td>https://www.huffingtonpost.com/entry/jk-rowlin...</td>\n",
              "      <td>j.k. rowling wishes snape happy birthday in th...</td>\n",
              "      <td>0</td>\n",
              "    </tr>\n",
              "    <tr>\n",
              "      <th>...</th>\n",
              "      <td>...</td>\n",
              "      <td>...</td>\n",
              "      <td>...</td>\n",
              "    </tr>\n",
              "    <tr>\n",
              "      <th>26704</th>\n",
              "      <td>https://www.huffingtonpost.com/entry/american-...</td>\n",
              "      <td>american politics in moral free-fall</td>\n",
              "      <td>0</td>\n",
              "    </tr>\n",
              "    <tr>\n",
              "      <th>26705</th>\n",
              "      <td>https://www.huffingtonpost.com/entry/americas-...</td>\n",
              "      <td>america's best 20 hikes</td>\n",
              "      <td>0</td>\n",
              "    </tr>\n",
              "    <tr>\n",
              "      <th>26706</th>\n",
              "      <td>https://www.huffingtonpost.com/entry/reparatio...</td>\n",
              "      <td>reparations and obama</td>\n",
              "      <td>0</td>\n",
              "    </tr>\n",
              "    <tr>\n",
              "      <th>26707</th>\n",
              "      <td>https://www.huffingtonpost.com/entry/israeli-b...</td>\n",
              "      <td>israeli ban targeting boycott supporters raise...</td>\n",
              "      <td>0</td>\n",
              "    </tr>\n",
              "    <tr>\n",
              "      <th>26708</th>\n",
              "      <td>https://www.huffingtonpost.com/entry/gourmet-g...</td>\n",
              "      <td>gourmet gifts for the foodie 2014</td>\n",
              "      <td>0</td>\n",
              "    </tr>\n",
              "  </tbody>\n",
              "</table>\n",
              "<p>26709 rows × 3 columns</p>\n",
              "</div>"
            ],
            "text/plain": [
              "                                            article_link  ... is_sarcastic\n",
              "0      https://www.huffingtonpost.com/entry/versace-b...  ...            0\n",
              "1      https://www.huffingtonpost.com/entry/roseanne-...  ...            0\n",
              "2      https://local.theonion.com/mom-starting-to-fea...  ...            1\n",
              "3      https://politics.theonion.com/boehner-just-wan...  ...            1\n",
              "4      https://www.huffingtonpost.com/entry/jk-rowlin...  ...            0\n",
              "...                                                  ...  ...          ...\n",
              "26704  https://www.huffingtonpost.com/entry/american-...  ...            0\n",
              "26705  https://www.huffingtonpost.com/entry/americas-...  ...            0\n",
              "26706  https://www.huffingtonpost.com/entry/reparatio...  ...            0\n",
              "26707  https://www.huffingtonpost.com/entry/israeli-b...  ...            0\n",
              "26708  https://www.huffingtonpost.com/entry/gourmet-g...  ...            0\n",
              "\n",
              "[26709 rows x 3 columns]"
            ]
          },
          "metadata": {
            "tags": []
          },
          "execution_count": 7
        }
      ]
    },
    {
      "cell_type": "markdown",
      "metadata": {
        "id": "r6HJWVKO6EFp",
        "colab_type": "text"
      },
      "source": [
        "Check the null value"
      ]
    },
    {
      "cell_type": "code",
      "metadata": {
        "id": "92tlnOzQ3Pb-",
        "colab_type": "code",
        "colab": {
          "base_uri": "https://localhost:8080/",
          "height": 85
        },
        "outputId": "8db5db0a-2127-431b-9aaa-0dd99aeb1f53"
      },
      "source": [
        "print(data.isnull().any(axis = 0))"
      ],
      "execution_count": 8,
      "outputs": [
        {
          "output_type": "stream",
          "text": [
            "article_link    False\n",
            "headline        False\n",
            "is_sarcastic    False\n",
            "dtype: bool\n"
          ],
          "name": "stdout"
        }
      ]
    },
    {
      "cell_type": "markdown",
      "metadata": {
        "id": "DAoADr0gsRyI",
        "colab_type": "text"
      },
      "source": [
        "**So sánh số lượng headline sarcasm và non-sarcasm**"
      ]
    },
    {
      "cell_type": "code",
      "metadata": {
        "id": "K3mjxd77kvUL",
        "colab_type": "code",
        "colab": {
          "base_uri": "https://localhost:8080/",
          "height": 282
        },
        "outputId": "704d706c-e327-4226-adad-a476314f118c"
      },
      "source": [
        "import matplotlib.pyplot as plt\n",
        "\n",
        "names = ['non-sarcasm', 'sarcasm']\n",
        "temp = data['is_sarcastic'].value_counts()\n",
        "d = pd.DataFrame({\n",
        "    \"c\" : [temp[0], temp[1]]},\n",
        "    index = names)\n",
        "d.plot(kind='bar')\n",
        "plt.xticks(rotation =0, horizontalalignment = \"center\")"
      ],
      "execution_count": 51,
      "outputs": [
        {
          "output_type": "execute_result",
          "data": {
            "text/plain": [
              "(array([0, 1]), <a list of 2 Text major ticklabel objects>)"
            ]
          },
          "metadata": {
            "tags": []
          },
          "execution_count": 51
        },
        {
          "output_type": "display_data",
          "data": {
            "image/png": "[encoded data removed]",
            "text/plain": [
              "<Figure size 432x288 with 1 Axes>"
            ]
          },
          "metadata": {
            "tags": [],
            "needs_background": "light"
          }
        }
      ]
    },
    {
      "cell_type": "markdown",
      "metadata": {
        "id": "_m10y4KGclZG",
        "colab_type": "text"
      },
      "source": [
        "**pre-processing data**"
      ]
    },
    {
      "cell_type": "markdown",
      "metadata": {
        "id": "dkmM6kES9H8K",
        "colab_type": "text"
      },
      "source": [
        "Ở cột headline sẽ có 1 vài kí tự cần được loại bỏ('?.+-=\"/...), dùng regular expression để loại bỏ các kí tự này"
      ]
    },
    {
      "cell_type": "code",
      "metadata": {
        "id": "ivSbhUgI3SVw",
        "colab_type": "code",
        "colab": {
          "base_uri": "https://localhost:8080/",
          "height": 68
        },
        "outputId": "76df0b0b-6d0c-43ff-ec98-7e56a2c3402b"
      },
      "source": [
        "print('Example')\n",
        "print('before:',data['headline'][0])\n",
        "data['headline'] = data['headline'].apply(lambda s : re.sub('[^a-zA-Z]', ' ', s))\n",
        "print('after: {}'.format(data['headline'][0]))"
      ],
      "execution_count": null,
      "outputs": [
        {
          "output_type": "stream",
          "text": [
            "Example\n",
            "before: former versace store clerk sues over secret 'black code' for minority shoppers\n",
            "after: former versace store clerk sues over secret  black code  for minority shoppers\n"
          ],
          "name": "stdout"
        }
      ]
    },
    {
      "cell_type": "markdown",
      "metadata": {
        "id": "jyCLvGEB9iqP",
        "colab_type": "text"
      },
      "source": [
        "Gán feature và label "
      ]
    },
    {
      "cell_type": "code",
      "metadata": {
        "id": "_GIcJ4hv3gcb",
        "colab_type": "code",
        "colab": {}
      },
      "source": [
        "features = data['headline']\n",
        "labels = data['is_sarcastic']"
      ],
      "execution_count": null,
      "outputs": []
    },
    {
      "cell_type": "markdown",
      "metadata": {
        "id": "odl24x9S-BrX",
        "colab_type": "text"
      },
      "source": [
        "**Stemming**"
      ]
    },
    {
      "cell_type": "markdown",
      "metadata": {
        "id": "NbPCT5_1-bvb",
        "colab_type": "text"
      },
      "source": [
        "Stemming là 1 kĩ thuật đưa các từ về hình thức gốc của nó, ex: loved-->love"
      ]
    },
    {
      "cell_type": "code",
      "metadata": {
        "id": "rVfkF6hE3o3b",
        "colab_type": "code",
        "colab": {
          "base_uri": "https://localhost:8080/",
          "height": 68
        },
        "outputId": "54d01d72-10d6-4649-8101-aefac4010af4"
      },
      "source": [
        "print('Example')\n",
        "print('before stemstming:', features[0])\n",
        "ps = PorterStemmer()\n",
        "features = features.apply(lambda x: x.split())\n",
        "features = features.apply(lambda x : ' '.join([ps.stem(word) for word in x]))\n",
        "print('after stemming:', features[0])"
      ],
      "execution_count": null,
      "outputs": [
        {
          "output_type": "stream",
          "text": [
            "Example\n",
            "before stemstming: former versace store clerk sues over secret  black code  for minority shoppers\n",
            "after stemming: former versac store clerk sue over secret black code for minor shopper\n"
          ],
          "name": "stdout"
        }
      ]
    },
    {
      "cell_type": "markdown",
      "metadata": {
        "id": "zrj1Xk9G-_9D",
        "colab_type": "text"
      },
      "source": [
        "**TF-IDF Vectorizer**"
      ]
    },
    {
      "cell_type": "markdown",
      "metadata": {
        "id": "tcuQXcE3gUqO",
        "colab_type": "text"
      },
      "source": [
        "*   TfidfVectorizer(): \"Convert a collection of raw documents to a matrix of TF-IDF features.\"\n",
        "*   TfidfVectorizer.fit_transform(): \"Learn vocabulary and idf, return **document-term matrix**\"\n",
        "\n",
        "Document-term matrix là ma trận có các hàng tương ứng với văn bản, các cột tương ứng với từng từ\n",
        "\n",
        "Ex:\n",
        " \n",
        "![alt text](https://www.researchgate.net/profile/Khawar_Mehmood/publication/342027900/figure/tbl2/AS:900374928031745@1591677519266/Example-of-document-term-matrix-Unigram.png)\n",
        "\n",
        "\n",
        "\n",
        "\n"
      ]
    },
    {
      "cell_type": "code",
      "metadata": {
        "id": "iMolIrPc6RH3",
        "colab_type": "code",
        "colab": {}
      },
      "source": [
        "tv = TfidfVectorizer(max_features = 5000)\n",
        "features = list(features)\n",
        "features = tv.fit_transform(features).toarray()"
      ],
      "execution_count": null,
      "outputs": []
    },
    {
      "cell_type": "markdown",
      "metadata": {
        "id": "7ljFSvC1KBzR",
        "colab_type": "text"
      },
      "source": [
        "Import thư viện cần thiết"
      ]
    },
    {
      "cell_type": "code",
      "metadata": {
        "id": "_cNH7YDg2hHI",
        "colab_type": "code",
        "colab": {}
      },
      "source": [
        "from sklearn.model_selection import train_test_split\n",
        "\n",
        "from sklearn.svm import LinearSVC\n",
        "from sklearn.naive_bayes import GaussianNB\n",
        "from sklearn.linear_model import LogisticRegression\n",
        "from sklearn.ensemble import RandomForestClassifier\n",
        "from sklearn.tree import DecisionTreeClassifier\n",
        "from sklearn.neighbors import KNeighborsClassifier"
      ],
      "execution_count": null,
      "outputs": []
    },
    {
      "cell_type": "markdown",
      "metadata": {
        "id": "OcX4aTFZKG73",
        "colab_type": "text"
      },
      "source": [
        "split và show shape data"
      ]
    },
    {
      "cell_type": "code",
      "metadata": {
        "id": "kGtW3h1c6aOv",
        "colab_type": "code",
        "colab": {}
      },
      "source": [
        "features_train, features_test, labels_train, labels_test = train_test_split(features, labels, test_size = 0.1, random_state = 0)"
      ],
      "execution_count": null,
      "outputs": []
    },
    {
      "cell_type": "markdown",
      "metadata": {
        "id": "-9ZsmOEvdgaY",
        "colab_type": "text"
      },
      "source": [
        "**training and testing data**"
      ]
    },
    {
      "cell_type": "markdown",
      "metadata": {
        "id": "ARv7KP2lKOev",
        "colab_type": "text"
      },
      "source": [
        "Sử dụng các model để train: LinearSVC, GausinanNB, LogisticRegression, DecisionTreeClassifier, RandomForestClassifier"
      ]
    },
    {
      "cell_type": "code",
      "metadata": {
        "id": "jAA9FDTT3DM2",
        "colab_type": "code",
        "colab": {}
      },
      "source": [
        "models = []\n",
        "models.append(('LinearSVC', LinearSVC()))\n",
        "models.append(('GaussianNB', GaussianNB()))\n",
        "models.append(('LogisticRegression', LogisticRegression()))\n",
        "models.append(('DecisionTreeClassifier', DecisionTreeClassifier()))\n",
        "models.append(('RandomForestClassifier', RandomForestClassifier()))"
      ],
      "execution_count": null,
      "outputs": []
    },
    {
      "cell_type": "code",
      "metadata": {
        "id": "BO2nwl4231DN",
        "colab_type": "code",
        "colab": {
          "base_uri": "https://localhost:8080/",
          "height": 272
        },
        "outputId": "780f6512-3050-4ed2-eb6b-4d38a31c2374"
      },
      "source": [
        "for name, model in models:\n",
        "  model.fit(features_train, labels_train)\n",
        "  print(name)\n",
        "  print('\\tscore train:', model.score(features_train, labels_train))\n",
        "  print('\\tscore test:', model.score(features_test, labels_test))"
      ],
      "execution_count": null,
      "outputs": [
        {
          "output_type": "stream",
          "text": [
            "LinearSVC\n",
            "\tscore train: 0.9110574923038522\n",
            "\tscore test: 0.8360164732309996\n",
            "GaussianNB\n",
            "\tscore train: 0.7826358266078709\n",
            "\tscore test: 0.7162111568700861\n",
            "LogisticRegression\n",
            "\tscore train: 0.8824777435726766\n",
            "\tscore test: 0.8375140396855111\n",
            "DecisionTreeClassifier\n",
            "\tscore train: 0.999875197603794\n",
            "\tscore test: 0.7540247098464994\n",
            "RandomForestClassifier\n",
            "\tscore train: 0.999875197603794\n",
            "\tscore test: 0.8199176338450018\n"
          ],
          "name": "stdout"
        }
      ]
    },
    {
      "cell_type": "markdown",
      "metadata": {
        "id": "XvbuXTZdBezb",
        "colab_type": "text"
      },
      "source": [
        "**Nhận xét**\n",
        "\n",
        "So với các kernel trong kaggle thì kết quả này cho ra khá tương đồng nên em nghỉ số điểm này là số điểm chấp nhận được.\n",
        "\n",
        "Em nghĩ có thể cải thiện score bằng deeplearning "
      ]
    },
    {
      "cell_type": "markdown",
      "metadata": {
        "id": "fu_w7ZGYvNoO",
        "colab_type": "text"
      },
      "source": [
        "# Crawl data"
      ]
    },
    {
      "cell_type": "markdown",
      "metadata": {
        "id": "YUxbkDtqjjd_",
        "colab_type": "text"
      },
      "source": [
        "*   **output là 1 dataframe tên là df có 3000 headline gồm 1500 sarcasm và 1500 non-sarcasm**\n",
        "\n"
      ]
    },
    {
      "cell_type": "code",
      "metadata": {
        "id": "xlJXmn-vvWCC",
        "colab_type": "code",
        "colab": {}
      },
      "source": [
        "import requests\n",
        "from bs4 import BeautifulSoup\n",
        "import numpy as np"
      ],
      "execution_count": null,
      "outputs": []
    },
    {
      "cell_type": "markdown",
      "metadata": {
        "id": "wcgiFAqIoEwH",
        "colab_type": "text"
      },
      "source": [
        "**The onion**"
      ]
    },
    {
      "cell_type": "code",
      "metadata": {
        "id": "HWlaiacCTRZ6",
        "colab_type": "code",
        "colab": {}
      },
      "source": [
        "url = \"https://www.theonion.com/latest\"\n",
        "more_stories = ''\n",
        "data_sarcasm = []\n",
        "while len(data_sarcasm)<2000:\n",
        "  r1 = requests.get(url+more_stories)\n",
        "  coverpage = r1.content\n",
        "  soup1 = BeautifulSoup(coverpage, 'html5lib')\n",
        "  coverpage_news = soup1.find_all(\"h2\", class_=\"sc-759qgu-0 cYlVdn cw4lnv-6 eXwNRE\")\n",
        "  for i in coverpage_news:\n",
        "    data_sarcasm.append(i.get_text())\n",
        "  \n",
        "  t = soup1.find_all(\"a\", class_=\"sc-1out364-0 hMndXN js_link\")\n",
        "  more_stories = t[-1].get('href')"
      ],
      "execution_count": null,
      "outputs": []
    },
    {
      "cell_type": "code",
      "metadata": {
        "id": "ywpPxb00-ILK",
        "colab_type": "code",
        "colab": {
          "base_uri": "https://localhost:8080/",
          "height": 34
        },
        "outputId": "7ba7d121-db06-43a1-afff-535ced438fc6"
      },
      "source": [
        "data_sarcasm = list(set(data_sarcasm))\n",
        "len(data_sarcasm)"
      ],
      "execution_count": null,
      "outputs": [
        {
          "output_type": "execute_result",
          "data": {
            "text/plain": [
              "1999"
            ]
          },
          "metadata": {
            "tags": []
          },
          "execution_count": 4
        }
      ]
    },
    {
      "cell_type": "code",
      "metadata": {
        "id": "7-3sr9jFAsc6",
        "colab_type": "code",
        "colab": {}
      },
      "source": [
        "is_sarcasm_sarcasm = [1]*len(data_sarcasm)"
      ],
      "execution_count": null,
      "outputs": []
    },
    {
      "cell_type": "markdown",
      "metadata": {
        "id": "i7DBra-joI00",
        "colab_type": "text"
      },
      "source": [
        "**CNN**"
      ]
    },
    {
      "cell_type": "code",
      "metadata": {
        "id": "2pykYOu1ovNH",
        "colab_type": "code",
        "colab": {}
      },
      "source": [
        "def get_href(url, title):\n",
        "  r1 = requests.get(url)\n",
        "  coverpage = r1.content\n",
        "  soup1 = BeautifulSoup(coverpage, 'html5lib')\n",
        "\n",
        "  coverpage_news = soup1.find_all(\"a\", class_=\"cn__title--link icon\")\n",
        "  for i in coverpage_news:\n",
        "    t = i.get('href')\n",
        "    if t[0]!='/':\n",
        "      if \"https://edition.cnn.com\" in t or 'http://edition.cnn.com' in t:\n",
        "        title.add(t)\n",
        "    else:\n",
        "      title.add(\"https://edition.cnn.com\"+t)\n",
        "    "
      ],
      "execution_count": null,
      "outputs": []
    },
    {
      "cell_type": "code",
      "metadata": {
        "id": "twVGSr0vCOCb",
        "colab_type": "code",
        "colab": {}
      },
      "source": [
        "url = \"https://edition.cnn.com/world\"\n",
        "## title \n",
        "title = set()\n",
        "get_href(url, title)\n",
        "\n",
        "# title1\n",
        "title1 = set()\n",
        "for url in title:\n",
        "  get_href(url, title1)\n",
        "\n",
        "# title2\n",
        "title2 = set()\n",
        "for url in title1:\n",
        "  get_href(url, title2)\n",
        "\n",
        "#title3\n",
        "title3 = set()\n",
        "for url in title2:\n",
        "  get_href(url, title3)\n",
        "\n",
        "title4 = set()\n",
        "for url in title3:\n",
        "  get_href(url, title4)\n",
        "\n",
        "#option_title\n",
        "option_title = set([\n",
        "                    'https://edition.cnn.com/politics',\n",
        "                    'https://edition.cnn.com/business',\n",
        "                    'https://edition.cnn.com/health',\n",
        "                    'https://edition.cnn.com/entertainment',\n",
        "                    'https://edition.cnn.com/style',\n",
        "                    'https://edition.cnn.com/travel',\n",
        "                    'https://edition.cnn.com/sport'\n",
        "])"
      ],
      "execution_count": null,
      "outputs": []
    },
    {
      "cell_type": "code",
      "metadata": {
        "id": "T9Wk8QzCIhSd",
        "colab_type": "code",
        "colab": {
          "base_uri": "https://localhost:8080/",
          "height": 85
        },
        "outputId": "1ec7b67d-4ff6-4429-dcaf-64760b2c6e9d"
      },
      "source": [
        "print(len(title))\n",
        "print(len(title1))\n",
        "print(len(title2))\n",
        "print(len(title3))"
      ],
      "execution_count": null,
      "outputs": [
        {
          "output_type": "stream",
          "text": [
            "13\n",
            "31\n",
            "42\n",
            "43\n"
          ],
          "name": "stdout"
        }
      ]
    },
    {
      "cell_type": "code",
      "metadata": {
        "id": "Xu9PVEenIKFA",
        "colab_type": "code",
        "colab": {
          "base_uri": "https://localhost:8080/",
          "height": 782
        },
        "outputId": "2f2edc64-113a-4d31-b4c3-fbf7640b525d"
      },
      "source": [
        "biggest_title = title|title1|title2|title3|title4|option_title\n",
        "biggest_title"
      ],
      "execution_count": null,
      "outputs": [
        {
          "output_type": "execute_result",
          "data": {
            "text/plain": [
              "{'http://edition.cnn.com/specials/africa/african-voices',\n",
              " 'http://edition.cnn.com/specials/africa/inside-africa',\n",
              " 'http://edition.cnn.com/specials/business/marketplace-africa',\n",
              " 'http://edition.cnn.com/specials/health/live-longer',\n",
              " 'http://edition.cnn.com/specials/world/the-modern-explorers',\n",
              " 'http://edition.cnn.com/sport',\n",
              " 'http://edition.cnn.com/sport/equestrian',\n",
              " 'http://edition.cnn.com/sport/golf',\n",
              " 'http://edition.cnn.com/travel',\n",
              " 'http://edition.cnn.com/travel/destinations/kenya',\n",
              " 'https://edition.cnn.com/190406071249-03-rwandan-daughters-cnnphotos-restricte.jpg',\n",
              " 'https://edition.cnn.com/Africa',\n",
              " 'https://edition.cnn.com/americas',\n",
              " 'https://edition.cnn.com/asia',\n",
              " 'https://edition.cnn.com/brexit',\n",
              " 'https://edition.cnn.com/business',\n",
              " 'https://edition.cnn.com/business/india',\n",
              " 'https://edition.cnn.com/entertainment',\n",
              " 'https://edition.cnn.com/europe',\n",
              " 'https://edition.cnn.com/health',\n",
              " 'https://edition.cnn.com/middle-east',\n",
              " 'https://edition.cnn.com/politics',\n",
              " 'https://edition.cnn.com/specials/brexit',\n",
              " 'https://edition.cnn.com/specials/business/global-energy-challenge',\n",
              " 'https://edition.cnn.com/specials/cnn-heroes',\n",
              " 'https://edition.cnn.com/specials/health/vital-signs',\n",
              " 'https://edition.cnn.com/specials/space-science',\n",
              " 'https://edition.cnn.com/specials/sport/formula-e',\n",
              " 'https://edition.cnn.com/specials/tech/business-evolved',\n",
              " 'https://edition.cnn.com/specials/world/goinggreen',\n",
              " 'https://edition.cnn.com/sport',\n",
              " 'https://edition.cnn.com/sport/football',\n",
              " 'https://edition.cnn.com/sport/horse-racing',\n",
              " 'https://edition.cnn.com/sport/sailing',\n",
              " 'https://edition.cnn.com/sport/skiing',\n",
              " 'https://edition.cnn.com/sport/tennis',\n",
              " 'https://edition.cnn.com/style',\n",
              " 'https://edition.cnn.com/travel',\n",
              " 'https://edition.cnn.com/travel/destinations/azerbaijan',\n",
              " 'https://edition.cnn.com/travel/destinations/budapest',\n",
              " 'https://edition.cnn.com/travel/destinations/japan',\n",
              " 'https://edition.cnn.com/travel/destinations/tokyo',\n",
              " 'https://edition.cnn.com/travel/destinations/vietnam',\n",
              " 'https://edition.cnn.com/uk',\n",
              " 'https://edition.cnn.com/world'}"
            ]
          },
          "metadata": {
            "tags": []
          },
          "execution_count": 9
        }
      ]
    },
    {
      "cell_type": "code",
      "metadata": {
        "id": "SkNB3xBWKdHU",
        "colab_type": "code",
        "colab": {
          "base_uri": "https://localhost:8080/",
          "height": 34
        },
        "outputId": "d7ce295e-f5e0-41f1-d3cd-c0dfb3bc06fd"
      },
      "source": [
        "len(biggest_title)"
      ],
      "execution_count": null,
      "outputs": [
        {
          "output_type": "execute_result",
          "data": {
            "text/plain": [
              "45"
            ]
          },
          "metadata": {
            "tags": []
          },
          "execution_count": 10
        }
      ]
    },
    {
      "cell_type": "code",
      "metadata": {
        "id": "eVJUK4vFIvfH",
        "colab_type": "code",
        "colab": {}
      },
      "source": [
        "data_non_sarcasm = []\n",
        "for url in biggest_title:\n",
        "\n",
        "  r1 = requests.get(url)\n",
        "  coverpage = r1.content\n",
        "  soup1 = BeautifulSoup(coverpage, 'html5lib')\n",
        "  \n",
        "  coverpage_news = soup1.find_all(\"span\", class_=\"cd__headline-text\")\n",
        "  for i in coverpage_news:\n",
        "    data_non_sarcasm.append(i.get_text())"
      ],
      "execution_count": null,
      "outputs": []
    },
    {
      "cell_type": "code",
      "metadata": {
        "id": "qCrCGdSNJHTW",
        "colab_type": "code",
        "colab": {
          "base_uri": "https://localhost:8080/",
          "height": 34
        },
        "outputId": "cfcaff43-e04d-44a0-c94e-99d456bf41c7"
      },
      "source": [
        "data_non_sarcasm = list(set(data_non_sarcasm))\n",
        "print(len(data_non_sarcasm))"
      ],
      "execution_count": null,
      "outputs": [
        {
          "output_type": "stream",
          "text": [
            "1516\n"
          ],
          "name": "stdout"
        }
      ]
    },
    {
      "cell_type": "code",
      "metadata": {
        "id": "grSIylT0QlYY",
        "colab_type": "code",
        "colab": {}
      },
      "source": [
        "is_sarcasm_non_sarcasm = [0]*len(data_non_sarcasm)"
      ],
      "execution_count": null,
      "outputs": []
    },
    {
      "cell_type": "markdown",
      "metadata": {
        "id": "-7oCliSWnKa-",
        "colab_type": "text"
      },
      "source": [
        "**Hoàn thành dataset test**"
      ]
    },
    {
      "cell_type": "code",
      "metadata": {
        "id": "VIVd9M6pcRLW",
        "colab_type": "code",
        "colab": {
          "base_uri": "https://localhost:8080/",
          "height": 51
        },
        "outputId": "b675a6e9-79ee-4dac-a064-d68d2710a4d5"
      },
      "source": [
        "headline = data_sarcasm[:1500] + data_non_sarcasm[:1500] \n",
        "is_sarcasm = is_sarcasm_sarcasm[:1500] + is_sarcasm_non_sarcasm[:1500]\n",
        "print(len(headline))\n",
        "print(len(is_sarcasm))"
      ],
      "execution_count": null,
      "outputs": [
        {
          "output_type": "stream",
          "text": [
            "3000\n",
            "3000\n"
          ],
          "name": "stdout"
        }
      ]
    },
    {
      "cell_type": "code",
      "metadata": {
        "id": "P5zajvIwdAtc",
        "colab_type": "code",
        "colab": {}
      },
      "source": [
        "data_test = pd.DataFrame({\n",
        "    'headline': headline,\n",
        "    'is_sarcasm': is_sarcasm\n",
        "})"
      ],
      "execution_count": null,
      "outputs": []
    },
    {
      "cell_type": "code",
      "metadata": {
        "id": "xkuvt0TldvGM",
        "colab_type": "code",
        "colab": {
          "base_uri": "https://localhost:8080/",
          "height": 419
        },
        "outputId": "4558157d-bd35-45f5-c351-712087b6629a"
      },
      "source": [
        "from sklearn.utils import shuffle\n",
        "df = shuffle(data_test).reset_index(drop=True)\n",
        "df"
      ],
      "execution_count": null,
      "outputs": [
        {
          "output_type": "execute_result",
          "data": {
            "text/html": [
              "<div>\n",
              "<style scoped>\n",
              "    .dataframe tbody tr th:only-of-type {\n",
              "        vertical-align: middle;\n",
              "    }\n",
              "\n",
              "    .dataframe tbody tr th {\n",
              "        vertical-align: top;\n",
              "    }\n",
              "\n",
              "    .dataframe thead th {\n",
              "        text-align: right;\n",
              "    }\n",
              "</style>\n",
              "<table border=\"1\" class=\"dataframe\">\n",
              "  <thead>\n",
              "    <tr style=\"text-align: right;\">\n",
              "      <th></th>\n",
              "      <th>headline</th>\n",
              "      <th>is_sarcasm</th>\n",
              "    </tr>\n",
              "  </thead>\n",
              "  <tbody>\n",
              "    <tr>\n",
              "      <th>0</th>\n",
              "      <td>Jennifer Gates juggles her love of horses with...</td>\n",
              "      <td>0</td>\n",
              "    </tr>\n",
              "    <tr>\n",
              "      <th>1</th>\n",
              "      <td>How female scientists are losing out during th...</td>\n",
              "      <td>0</td>\n",
              "    </tr>\n",
              "    <tr>\n",
              "      <th>2</th>\n",
              "      <td>All The Substitute Teachers We Absolutely Wrec...</td>\n",
              "      <td>1</td>\n",
              "    </tr>\n",
              "    <tr>\n",
              "      <th>3</th>\n",
              "      <td>God Stumbles On Old, Beat-Up Planet That He Ca...</td>\n",
              "      <td>1</td>\n",
              "    </tr>\n",
              "    <tr>\n",
              "      <th>4</th>\n",
              "      <td>The Onion’s Guide To The 2020 Oscars: Best Dir...</td>\n",
              "      <td>1</td>\n",
              "    </tr>\n",
              "    <tr>\n",
              "      <th>...</th>\n",
              "      <td>...</td>\n",
              "      <td>...</td>\n",
              "    </tr>\n",
              "    <tr>\n",
              "      <th>2995</th>\n",
              "      <td>Mom Changes Words Of Prayer To Be More Cheerful</td>\n",
              "      <td>1</td>\n",
              "    </tr>\n",
              "    <tr>\n",
              "      <th>2996</th>\n",
              "      <td>The ideal gift for Her - Topshop</td>\n",
              "      <td>0</td>\n",
              "    </tr>\n",
              "    <tr>\n",
              "      <th>2997</th>\n",
              "      <td>Computer Not Looking Forward To Having To Repl...</td>\n",
              "      <td>1</td>\n",
              "    </tr>\n",
              "    <tr>\n",
              "      <th>2998</th>\n",
              "      <td>Premier League players take a knee -- and make...</td>\n",
              "      <td>0</td>\n",
              "    </tr>\n",
              "    <tr>\n",
              "      <th>2999</th>\n",
              "      <td>NYPD Officer Hopes Black Teen Only Coughing Be...</td>\n",
              "      <td>1</td>\n",
              "    </tr>\n",
              "  </tbody>\n",
              "</table>\n",
              "<p>3000 rows × 2 columns</p>\n",
              "</div>"
            ],
            "text/plain": [
              "                                               headline  is_sarcasm\n",
              "0     Jennifer Gates juggles her love of horses with...           0\n",
              "1     How female scientists are losing out during th...           0\n",
              "2     All The Substitute Teachers We Absolutely Wrec...           1\n",
              "3     God Stumbles On Old, Beat-Up Planet That He Ca...           1\n",
              "4     The Onion’s Guide To The 2020 Oscars: Best Dir...           1\n",
              "...                                                 ...         ...\n",
              "2995    Mom Changes Words Of Prayer To Be More Cheerful           1\n",
              "2996                   The ideal gift for Her - Topshop           0\n",
              "2997  Computer Not Looking Forward To Having To Repl...           1\n",
              "2998  Premier League players take a knee -- and make...           0\n",
              "2999  NYPD Officer Hopes Black Teen Only Coughing Be...           1\n",
              "\n",
              "[3000 rows x 2 columns]"
            ]
          },
          "metadata": {
            "tags": []
          },
          "execution_count": 16
        }
      ]
    },
    {
      "cell_type": "markdown",
      "metadata": {
        "id": "9fg6oNrcgXR5",
        "colab_type": "text"
      },
      "source": [
        "# Test "
      ]
    },
    {
      "cell_type": "markdown",
      "metadata": {
        "id": "sqixY1igiVNX",
        "colab_type": "text"
      },
      "source": [
        "**Xử lý data như tập train**"
      ]
    },
    {
      "cell_type": "code",
      "metadata": {
        "id": "geKbYlnZhRa_",
        "colab_type": "code",
        "colab": {}
      },
      "source": [
        "df['headline'] = df['headline'].apply(lambda s : re.sub('[^a-zA-Z]', ' ', s))"
      ],
      "execution_count": null,
      "outputs": []
    },
    {
      "cell_type": "code",
      "metadata": {
        "id": "R1lLD5_ggWG5",
        "colab_type": "code",
        "colab": {}
      },
      "source": [
        "x_valid = df['headline']\n",
        "y_valid = df['is_sarcasm']"
      ],
      "execution_count": null,
      "outputs": []
    },
    {
      "cell_type": "code",
      "metadata": {
        "id": "nwj0g8ohhaxa",
        "colab_type": "code",
        "colab": {}
      },
      "source": [
        "ps = PorterStemmer()\n",
        "x_valid = x_valid.apply(lambda x: x.split())\n",
        "x_valid = x_valid.apply(lambda x : ' '.join([ps.stem(word) for word in x]))"
      ],
      "execution_count": null,
      "outputs": []
    },
    {
      "cell_type": "code",
      "metadata": {
        "id": "BwkLEauuhrYC",
        "colab_type": "code",
        "colab": {
          "base_uri": "https://localhost:8080/",
          "height": 34
        },
        "outputId": "b908ce0e-e7cc-4a18-a32f-ac675b3694ce"
      },
      "source": [
        "x_valid = list(x_valid)\n",
        "x_valid = tv.transform(x_valid).toarray()\n",
        "x_valid.shape"
      ],
      "execution_count": null,
      "outputs": [
        {
          "output_type": "execute_result",
          "data": {
            "text/plain": [
              "(3000, 5000)"
            ]
          },
          "metadata": {
            "tags": []
          },
          "execution_count": 39
        }
      ]
    },
    {
      "cell_type": "markdown",
      "metadata": {
        "id": "SeN7aW1zigRk",
        "colab_type": "text"
      },
      "source": [
        "**Đưa ra dự đoán**"
      ]
    },
    {
      "cell_type": "code",
      "metadata": {
        "id": "jcNgcb_RhSXl",
        "colab_type": "code",
        "colab": {
          "base_uri": "https://localhost:8080/",
          "height": 187
        },
        "outputId": "95ca8bfa-7855-42e0-f277-93e77b4a01a1"
      },
      "source": [
        "from sklearn.metrics import accuracy_score\n",
        "for name, model in models:\n",
        "  print(name)\n",
        "  pred = model.predict(x_valid)\n",
        "  print('\\tscore: {}'.format(accuracy_score(pred, \n",
        "                                         y_valid)))"
      ],
      "execution_count": null,
      "outputs": [
        {
          "output_type": "stream",
          "text": [
            "LinearSVC\n",
            "\tscore: 0.6953333333333334\n",
            "GaussianNB\n",
            "\tscore: 0.597\n",
            "LogisticRegression\n",
            "\tscore: 0.6886666666666666\n",
            "DecisionTreeClassifier\n",
            "\tscore: 0.6156666666666667\n",
            "RandomForestClassifier\n",
            "\tscore: 0.6676666666666666\n"
          ],
          "name": "stdout"
        }
      ]
    },
    {
      "cell_type": "markdown",
      "metadata": {
        "id": "PpiWO-rACGSj",
        "colab_type": "text"
      },
      "source": [
        "**Nhận xét**\n",
        "\n",
        "Các điểm accuracy ở test này thấp hơn so với phần valid, có thể là do phạm vi word trong tập train chưa đủ lớn để dự đoàn các headline trên bất kì phạm vi nào. \n",
        "\n",
        "Giải pháp: em nghĩ cần tập train lớn hơn và đc lấy về từ nhiều nguồn trang web hơn."
      ]
    },
    {
      "cell_type": "markdown",
      "metadata": {
        "id": "8SOW6Maexin4",
        "colab_type": "text"
      },
      "source": [
        "# Test by user"
      ]
    },
    {
      "cell_type": "code",
      "metadata": {
        "id": "o2lVcuQcxm6t",
        "colab_type": "code",
        "colab": {
          "base_uri": "https://localhost:8080/",
          "height": 34
        },
        "outputId": "ab15c660-d6f6-4b6d-8c39-57e920ea8c16"
      },
      "source": [
        "user = pd.DataFrame({'headline': [input()], 'sarcasm': '?'})"
      ],
      "execution_count": null,
      "outputs": [
        {
          "output_type": "stream",
          "text": [
            "Trump is the \"greatest\" president\n"
          ],
          "name": "stdout"
        }
      ]
    },
    {
      "cell_type": "code",
      "metadata": {
        "id": "kznI8CYOzy8v",
        "colab_type": "code",
        "colab": {
          "base_uri": "https://localhost:8080/",
          "height": 80
        },
        "outputId": "8a4ff20e-e93d-463b-9a49-a75eac3b5a73"
      },
      "source": [
        "user"
      ],
      "execution_count": null,
      "outputs": [
        {
          "output_type": "execute_result",
          "data": {
            "text/html": [
              "<div>\n",
              "<style scoped>\n",
              "    .dataframe tbody tr th:only-of-type {\n",
              "        vertical-align: middle;\n",
              "    }\n",
              "\n",
              "    .dataframe tbody tr th {\n",
              "        vertical-align: top;\n",
              "    }\n",
              "\n",
              "    .dataframe thead th {\n",
              "        text-align: right;\n",
              "    }\n",
              "</style>\n",
              "<table border=\"1\" class=\"dataframe\">\n",
              "  <thead>\n",
              "    <tr style=\"text-align: right;\">\n",
              "      <th></th>\n",
              "      <th>headline</th>\n",
              "      <th>sarcasm</th>\n",
              "    </tr>\n",
              "  </thead>\n",
              "  <tbody>\n",
              "    <tr>\n",
              "      <th>0</th>\n",
              "      <td>Trump is the \"greatest\" president</td>\n",
              "      <td>?</td>\n",
              "    </tr>\n",
              "  </tbody>\n",
              "</table>\n",
              "</div>"
            ],
            "text/plain": [
              "                            headline sarcasm\n",
              "0  Trump is the \"greatest\" president       ?"
            ]
          },
          "metadata": {
            "tags": []
          },
          "execution_count": 128
        }
      ]
    },
    {
      "cell_type": "markdown",
      "metadata": {
        "id": "k6lnNv15ikbO",
        "colab_type": "text"
      },
      "source": [
        "**Xử lý data như tập train**"
      ]
    },
    {
      "cell_type": "code",
      "metadata": {
        "id": "ta0T0ovyxqvI",
        "colab_type": "code",
        "colab": {}
      },
      "source": [
        "user['headline'] = user['headline'].apply(lambda s : re.sub('[^a-zA-Z]', ' ', s))"
      ],
      "execution_count": null,
      "outputs": []
    },
    {
      "cell_type": "code",
      "metadata": {
        "id": "I5sQ3_rG0tjg",
        "colab_type": "code",
        "colab": {}
      },
      "source": [
        "s = user['headline']"
      ],
      "execution_count": null,
      "outputs": []
    },
    {
      "cell_type": "code",
      "metadata": {
        "id": "4Kxz_D6eyLY6",
        "colab_type": "code",
        "colab": {}
      },
      "source": [
        "ps = PorterStemmer()\n",
        "s = s.apply(lambda x: x.split())\n",
        "s = s.apply(lambda x : ' '.join([ps.stem(word) for word in x]))"
      ],
      "execution_count": null,
      "outputs": []
    },
    {
      "cell_type": "code",
      "metadata": {
        "id": "hZGSJLioy2as",
        "colab_type": "code",
        "colab": {}
      },
      "source": [
        "s = list(s)\n",
        "s = tv.transform(s).toarray()"
      ],
      "execution_count": null,
      "outputs": []
    },
    {
      "cell_type": "code",
      "metadata": {
        "id": "Z59OYnhz0_9-",
        "colab_type": "code",
        "colab": {
          "base_uri": "https://localhost:8080/",
          "height": 187
        },
        "outputId": "1d027bdb-0a70-4401-8936-bd1d7c545ac6"
      },
      "source": [
        "for name, model in models:\n",
        "  print(name)\n",
        "  print(model.predict(s))"
      ],
      "execution_count": null,
      "outputs": [
        {
          "output_type": "stream",
          "text": [
            "LinearSVC\n",
            "[0]\n",
            "GaussianNB\n",
            "[1]\n",
            "LogisticRegression\n",
            "[0]\n",
            "DecisionTreeClassifier\n",
            "[0]\n",
            "RandomForestClassifier\n",
            "[0]\n"
          ],
          "name": "stdout"
        }
      ]
    },
    {
      "cell_type": "markdown",
      "metadata": {
        "id": "03HK52gEDUyC",
        "colab_type": "text"
      },
      "source": [
        "**Nhận xét**\n",
        "\n",
        "Qua input đầu vào này, thấy được độ chính xác thật sự là chưa cao, mặc dù model GausianNB có điểm accuracy train, test thấp nhất, nhưng lại dự đoàn đúng :>\n",
        "\n"
      ]
    },
    {
      "cell_type": "markdown",
      "metadata": {
        "id": "H1EMLcWiiKpZ",
        "colab_type": "text"
      },
      "source": [
        "**Thanks For Reading**"
      ]
    }
  ]
}